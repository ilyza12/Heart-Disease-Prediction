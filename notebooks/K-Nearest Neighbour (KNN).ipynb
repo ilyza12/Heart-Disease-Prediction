{
 "cells": [
  {
   "cell_type": "markdown",
   "id": "c8a5b9f0",
   "metadata": {},
   "source": [
    "\n",
    "**Model:** K-Nearest Neighbor (KNN)\n",
    "***"
   ]
  },
  {
   "cell_type": "markdown",
   "id": "8cb76adc",
   "metadata": {},
   "source": [
    "# Step 1 - Import Libraries and Dataset"
   ]
  },
  {
   "cell_type": "markdown",
   "id": "cb212228",
   "metadata": {},
   "source": [
    "### 1. Import libraries."
   ]
  },
  {
   "cell_type": "code",
   "execution_count": 2698,
   "id": "8e85e7bd",
   "metadata": {},
   "outputs": [],
   "source": [
    "import numpy as np\n",
    "import pandas as pd"
   ]
  },
  {
   "cell_type": "markdown",
   "id": "f34d520b",
   "metadata": {},
   "source": [
    "### 2. Access file."
   ]
  },
  {
   "cell_type": "code",
   "execution_count": 2699,
   "id": "db2044a4",
   "metadata": {},
   "outputs": [
    {
     "name": "stdout",
     "output_type": "stream",
     "text": [
      "C:\\Users\\User\n"
     ]
    }
   ],
   "source": [
    "cd C:\\Users\\User"
   ]
  },
  {
   "cell_type": "markdown",
   "id": "6b5561ee",
   "metadata": {},
   "source": [
    "### 3. Reading cvs file."
   ]
  },
  {
   "cell_type": "code",
   "execution_count": 2700,
   "id": "639bf434",
   "metadata": {},
   "outputs": [
    {
     "data": {
      "text/html": [
       "<div>\n",
       "<style scoped>\n",
       "    .dataframe tbody tr th:only-of-type {\n",
       "        vertical-align: middle;\n",
       "    }\n",
       "\n",
       "    .dataframe tbody tr th {\n",
       "        vertical-align: top;\n",
       "    }\n",
       "\n",
       "    .dataframe thead th {\n",
       "        text-align: right;\n",
       "    }\n",
       "</style>\n",
       "<table border=\"1\" class=\"dataframe\">\n",
       "  <thead>\n",
       "    <tr style=\"text-align: right;\">\n",
       "      <th></th>\n",
       "      <th>age</th>\n",
       "      <th>sex</th>\n",
       "      <th>cp</th>\n",
       "      <th>trestbps</th>\n",
       "      <th>chol</th>\n",
       "      <th>fbs</th>\n",
       "      <th>restecg</th>\n",
       "      <th>thalach</th>\n",
       "      <th>exang</th>\n",
       "      <th>oldpeak</th>\n",
       "      <th>slope</th>\n",
       "      <th>ca</th>\n",
       "      <th>thal</th>\n",
       "      <th>target</th>\n",
       "    </tr>\n",
       "  </thead>\n",
       "  <tbody>\n",
       "    <tr>\n",
       "      <th>0</th>\n",
       "      <td>63</td>\n",
       "      <td>1</td>\n",
       "      <td>3</td>\n",
       "      <td>145</td>\n",
       "      <td>233</td>\n",
       "      <td>1</td>\n",
       "      <td>0</td>\n",
       "      <td>150</td>\n",
       "      <td>0</td>\n",
       "      <td>2.3</td>\n",
       "      <td>0</td>\n",
       "      <td>0</td>\n",
       "      <td>1</td>\n",
       "      <td>1</td>\n",
       "    </tr>\n",
       "    <tr>\n",
       "      <th>1</th>\n",
       "      <td>37</td>\n",
       "      <td>1</td>\n",
       "      <td>2</td>\n",
       "      <td>130</td>\n",
       "      <td>250</td>\n",
       "      <td>0</td>\n",
       "      <td>1</td>\n",
       "      <td>187</td>\n",
       "      <td>0</td>\n",
       "      <td>3.5</td>\n",
       "      <td>0</td>\n",
       "      <td>0</td>\n",
       "      <td>2</td>\n",
       "      <td>1</td>\n",
       "    </tr>\n",
       "    <tr>\n",
       "      <th>2</th>\n",
       "      <td>41</td>\n",
       "      <td>0</td>\n",
       "      <td>1</td>\n",
       "      <td>130</td>\n",
       "      <td>204</td>\n",
       "      <td>0</td>\n",
       "      <td>0</td>\n",
       "      <td>172</td>\n",
       "      <td>0</td>\n",
       "      <td>1.4</td>\n",
       "      <td>2</td>\n",
       "      <td>0</td>\n",
       "      <td>2</td>\n",
       "      <td>1</td>\n",
       "    </tr>\n",
       "    <tr>\n",
       "      <th>3</th>\n",
       "      <td>56</td>\n",
       "      <td>1</td>\n",
       "      <td>1</td>\n",
       "      <td>120</td>\n",
       "      <td>236</td>\n",
       "      <td>0</td>\n",
       "      <td>1</td>\n",
       "      <td>178</td>\n",
       "      <td>0</td>\n",
       "      <td>0.8</td>\n",
       "      <td>2</td>\n",
       "      <td>0</td>\n",
       "      <td>2</td>\n",
       "      <td>1</td>\n",
       "    </tr>\n",
       "    <tr>\n",
       "      <th>4</th>\n",
       "      <td>57</td>\n",
       "      <td>0</td>\n",
       "      <td>0</td>\n",
       "      <td>120</td>\n",
       "      <td>354</td>\n",
       "      <td>0</td>\n",
       "      <td>1</td>\n",
       "      <td>163</td>\n",
       "      <td>1</td>\n",
       "      <td>0.6</td>\n",
       "      <td>2</td>\n",
       "      <td>0</td>\n",
       "      <td>2</td>\n",
       "      <td>1</td>\n",
       "    </tr>\n",
       "    <tr>\n",
       "      <th>...</th>\n",
       "      <td>...</td>\n",
       "      <td>...</td>\n",
       "      <td>...</td>\n",
       "      <td>...</td>\n",
       "      <td>...</td>\n",
       "      <td>...</td>\n",
       "      <td>...</td>\n",
       "      <td>...</td>\n",
       "      <td>...</td>\n",
       "      <td>...</td>\n",
       "      <td>...</td>\n",
       "      <td>...</td>\n",
       "      <td>...</td>\n",
       "      <td>...</td>\n",
       "    </tr>\n",
       "    <tr>\n",
       "      <th>298</th>\n",
       "      <td>57</td>\n",
       "      <td>0</td>\n",
       "      <td>0</td>\n",
       "      <td>140</td>\n",
       "      <td>241</td>\n",
       "      <td>0</td>\n",
       "      <td>1</td>\n",
       "      <td>123</td>\n",
       "      <td>1</td>\n",
       "      <td>0.2</td>\n",
       "      <td>1</td>\n",
       "      <td>0</td>\n",
       "      <td>3</td>\n",
       "      <td>0</td>\n",
       "    </tr>\n",
       "    <tr>\n",
       "      <th>299</th>\n",
       "      <td>45</td>\n",
       "      <td>1</td>\n",
       "      <td>3</td>\n",
       "      <td>110</td>\n",
       "      <td>264</td>\n",
       "      <td>0</td>\n",
       "      <td>1</td>\n",
       "      <td>132</td>\n",
       "      <td>0</td>\n",
       "      <td>1.2</td>\n",
       "      <td>1</td>\n",
       "      <td>0</td>\n",
       "      <td>3</td>\n",
       "      <td>0</td>\n",
       "    </tr>\n",
       "    <tr>\n",
       "      <th>300</th>\n",
       "      <td>68</td>\n",
       "      <td>1</td>\n",
       "      <td>0</td>\n",
       "      <td>144</td>\n",
       "      <td>193</td>\n",
       "      <td>1</td>\n",
       "      <td>1</td>\n",
       "      <td>141</td>\n",
       "      <td>0</td>\n",
       "      <td>3.4</td>\n",
       "      <td>1</td>\n",
       "      <td>2</td>\n",
       "      <td>3</td>\n",
       "      <td>0</td>\n",
       "    </tr>\n",
       "    <tr>\n",
       "      <th>301</th>\n",
       "      <td>57</td>\n",
       "      <td>1</td>\n",
       "      <td>0</td>\n",
       "      <td>130</td>\n",
       "      <td>131</td>\n",
       "      <td>0</td>\n",
       "      <td>1</td>\n",
       "      <td>115</td>\n",
       "      <td>1</td>\n",
       "      <td>1.2</td>\n",
       "      <td>1</td>\n",
       "      <td>1</td>\n",
       "      <td>3</td>\n",
       "      <td>0</td>\n",
       "    </tr>\n",
       "    <tr>\n",
       "      <th>302</th>\n",
       "      <td>57</td>\n",
       "      <td>0</td>\n",
       "      <td>1</td>\n",
       "      <td>130</td>\n",
       "      <td>236</td>\n",
       "      <td>0</td>\n",
       "      <td>0</td>\n",
       "      <td>174</td>\n",
       "      <td>0</td>\n",
       "      <td>0.0</td>\n",
       "      <td>1</td>\n",
       "      <td>1</td>\n",
       "      <td>2</td>\n",
       "      <td>0</td>\n",
       "    </tr>\n",
       "  </tbody>\n",
       "</table>\n",
       "<p>303 rows × 14 columns</p>\n",
       "</div>"
      ],
      "text/plain": [
       "     age  sex  cp  trestbps  chol  fbs  restecg  thalach  exang  oldpeak  \\\n",
       "0     63    1   3       145   233    1        0      150      0      2.3   \n",
       "1     37    1   2       130   250    0        1      187      0      3.5   \n",
       "2     41    0   1       130   204    0        0      172      0      1.4   \n",
       "3     56    1   1       120   236    0        1      178      0      0.8   \n",
       "4     57    0   0       120   354    0        1      163      1      0.6   \n",
       "..   ...  ...  ..       ...   ...  ...      ...      ...    ...      ...   \n",
       "298   57    0   0       140   241    0        1      123      1      0.2   \n",
       "299   45    1   3       110   264    0        1      132      0      1.2   \n",
       "300   68    1   0       144   193    1        1      141      0      3.4   \n",
       "301   57    1   0       130   131    0        1      115      1      1.2   \n",
       "302   57    0   1       130   236    0        0      174      0      0.0   \n",
       "\n",
       "     slope  ca  thal  target  \n",
       "0        0   0     1       1  \n",
       "1        0   0     2       1  \n",
       "2        2   0     2       1  \n",
       "3        2   0     2       1  \n",
       "4        2   0     2       1  \n",
       "..     ...  ..   ...     ...  \n",
       "298      1   0     3       0  \n",
       "299      1   0     3       0  \n",
       "300      1   2     3       0  \n",
       "301      1   1     3       0  \n",
       "302      1   1     2       0  \n",
       "\n",
       "[303 rows x 14 columns]"
      ]
     },
     "execution_count": 2700,
     "metadata": {},
     "output_type": "execute_result"
    }
   ],
   "source": [
    "heartDisease = pd.read_csv('heart_disease.csv')\n",
    "heartDisease"
   ]
  },
  {
   "cell_type": "markdown",
   "id": "ef8280f1",
   "metadata": {},
   "source": [
    "# Step 2 - Data Analysis"
   ]
  },
  {
   "cell_type": "markdown",
   "id": "40abc7ab",
   "metadata": {},
   "source": [
    "### 1. Display first 8 rows of the dataset."
   ]
  },
  {
   "cell_type": "code",
   "execution_count": 2701,
   "id": "e418eaa5",
   "metadata": {},
   "outputs": [
    {
     "data": {
      "text/html": [
       "<div>\n",
       "<style scoped>\n",
       "    .dataframe tbody tr th:only-of-type {\n",
       "        vertical-align: middle;\n",
       "    }\n",
       "\n",
       "    .dataframe tbody tr th {\n",
       "        vertical-align: top;\n",
       "    }\n",
       "\n",
       "    .dataframe thead th {\n",
       "        text-align: right;\n",
       "    }\n",
       "</style>\n",
       "<table border=\"1\" class=\"dataframe\">\n",
       "  <thead>\n",
       "    <tr style=\"text-align: right;\">\n",
       "      <th></th>\n",
       "      <th>age</th>\n",
       "      <th>sex</th>\n",
       "      <th>cp</th>\n",
       "      <th>trestbps</th>\n",
       "      <th>chol</th>\n",
       "      <th>fbs</th>\n",
       "      <th>restecg</th>\n",
       "      <th>thalach</th>\n",
       "      <th>exang</th>\n",
       "      <th>oldpeak</th>\n",
       "      <th>slope</th>\n",
       "      <th>ca</th>\n",
       "      <th>thal</th>\n",
       "      <th>target</th>\n",
       "    </tr>\n",
       "  </thead>\n",
       "  <tbody>\n",
       "    <tr>\n",
       "      <th>0</th>\n",
       "      <td>63</td>\n",
       "      <td>1</td>\n",
       "      <td>3</td>\n",
       "      <td>145</td>\n",
       "      <td>233</td>\n",
       "      <td>1</td>\n",
       "      <td>0</td>\n",
       "      <td>150</td>\n",
       "      <td>0</td>\n",
       "      <td>2.3</td>\n",
       "      <td>0</td>\n",
       "      <td>0</td>\n",
       "      <td>1</td>\n",
       "      <td>1</td>\n",
       "    </tr>\n",
       "    <tr>\n",
       "      <th>1</th>\n",
       "      <td>37</td>\n",
       "      <td>1</td>\n",
       "      <td>2</td>\n",
       "      <td>130</td>\n",
       "      <td>250</td>\n",
       "      <td>0</td>\n",
       "      <td>1</td>\n",
       "      <td>187</td>\n",
       "      <td>0</td>\n",
       "      <td>3.5</td>\n",
       "      <td>0</td>\n",
       "      <td>0</td>\n",
       "      <td>2</td>\n",
       "      <td>1</td>\n",
       "    </tr>\n",
       "    <tr>\n",
       "      <th>2</th>\n",
       "      <td>41</td>\n",
       "      <td>0</td>\n",
       "      <td>1</td>\n",
       "      <td>130</td>\n",
       "      <td>204</td>\n",
       "      <td>0</td>\n",
       "      <td>0</td>\n",
       "      <td>172</td>\n",
       "      <td>0</td>\n",
       "      <td>1.4</td>\n",
       "      <td>2</td>\n",
       "      <td>0</td>\n",
       "      <td>2</td>\n",
       "      <td>1</td>\n",
       "    </tr>\n",
       "    <tr>\n",
       "      <th>3</th>\n",
       "      <td>56</td>\n",
       "      <td>1</td>\n",
       "      <td>1</td>\n",
       "      <td>120</td>\n",
       "      <td>236</td>\n",
       "      <td>0</td>\n",
       "      <td>1</td>\n",
       "      <td>178</td>\n",
       "      <td>0</td>\n",
       "      <td>0.8</td>\n",
       "      <td>2</td>\n",
       "      <td>0</td>\n",
       "      <td>2</td>\n",
       "      <td>1</td>\n",
       "    </tr>\n",
       "    <tr>\n",
       "      <th>4</th>\n",
       "      <td>57</td>\n",
       "      <td>0</td>\n",
       "      <td>0</td>\n",
       "      <td>120</td>\n",
       "      <td>354</td>\n",
       "      <td>0</td>\n",
       "      <td>1</td>\n",
       "      <td>163</td>\n",
       "      <td>1</td>\n",
       "      <td>0.6</td>\n",
       "      <td>2</td>\n",
       "      <td>0</td>\n",
       "      <td>2</td>\n",
       "      <td>1</td>\n",
       "    </tr>\n",
       "    <tr>\n",
       "      <th>5</th>\n",
       "      <td>57</td>\n",
       "      <td>1</td>\n",
       "      <td>0</td>\n",
       "      <td>140</td>\n",
       "      <td>192</td>\n",
       "      <td>0</td>\n",
       "      <td>1</td>\n",
       "      <td>148</td>\n",
       "      <td>0</td>\n",
       "      <td>0.4</td>\n",
       "      <td>1</td>\n",
       "      <td>0</td>\n",
       "      <td>1</td>\n",
       "      <td>1</td>\n",
       "    </tr>\n",
       "    <tr>\n",
       "      <th>6</th>\n",
       "      <td>56</td>\n",
       "      <td>0</td>\n",
       "      <td>1</td>\n",
       "      <td>140</td>\n",
       "      <td>294</td>\n",
       "      <td>0</td>\n",
       "      <td>0</td>\n",
       "      <td>153</td>\n",
       "      <td>0</td>\n",
       "      <td>1.3</td>\n",
       "      <td>1</td>\n",
       "      <td>0</td>\n",
       "      <td>2</td>\n",
       "      <td>1</td>\n",
       "    </tr>\n",
       "    <tr>\n",
       "      <th>7</th>\n",
       "      <td>44</td>\n",
       "      <td>1</td>\n",
       "      <td>1</td>\n",
       "      <td>120</td>\n",
       "      <td>263</td>\n",
       "      <td>0</td>\n",
       "      <td>1</td>\n",
       "      <td>173</td>\n",
       "      <td>0</td>\n",
       "      <td>0.0</td>\n",
       "      <td>2</td>\n",
       "      <td>0</td>\n",
       "      <td>3</td>\n",
       "      <td>1</td>\n",
       "    </tr>\n",
       "  </tbody>\n",
       "</table>\n",
       "</div>"
      ],
      "text/plain": [
       "   age  sex  cp  trestbps  chol  fbs  restecg  thalach  exang  oldpeak  slope  \\\n",
       "0   63    1   3       145   233    1        0      150      0      2.3      0   \n",
       "1   37    1   2       130   250    0        1      187      0      3.5      0   \n",
       "2   41    0   1       130   204    0        0      172      0      1.4      2   \n",
       "3   56    1   1       120   236    0        1      178      0      0.8      2   \n",
       "4   57    0   0       120   354    0        1      163      1      0.6      2   \n",
       "5   57    1   0       140   192    0        1      148      0      0.4      1   \n",
       "6   56    0   1       140   294    0        0      153      0      1.3      1   \n",
       "7   44    1   1       120   263    0        1      173      0      0.0      2   \n",
       "\n",
       "   ca  thal  target  \n",
       "0   0     1       1  \n",
       "1   0     2       1  \n",
       "2   0     2       1  \n",
       "3   0     2       1  \n",
       "4   0     2       1  \n",
       "5   0     1       1  \n",
       "6   0     2       1  \n",
       "7   0     3       1  "
      ]
     },
     "execution_count": 2701,
     "metadata": {},
     "output_type": "execute_result"
    }
   ],
   "source": [
    "heartDisease.head(8)"
   ]
  },
  {
   "cell_type": "markdown",
   "id": "f7401c93",
   "metadata": {},
   "source": [
    "### 2. Display the information of the dataset."
   ]
  },
  {
   "cell_type": "code",
   "execution_count": 2702,
   "id": "314c369d",
   "metadata": {},
   "outputs": [
    {
     "data": {
      "text/html": [
       "<div>\n",
       "<style scoped>\n",
       "    .dataframe tbody tr th:only-of-type {\n",
       "        vertical-align: middle;\n",
       "    }\n",
       "\n",
       "    .dataframe tbody tr th {\n",
       "        vertical-align: top;\n",
       "    }\n",
       "\n",
       "    .dataframe thead th {\n",
       "        text-align: right;\n",
       "    }\n",
       "</style>\n",
       "<table border=\"1\" class=\"dataframe\">\n",
       "  <thead>\n",
       "    <tr style=\"text-align: right;\">\n",
       "      <th></th>\n",
       "      <th>age</th>\n",
       "      <th>sex</th>\n",
       "      <th>cp</th>\n",
       "      <th>trestbps</th>\n",
       "      <th>chol</th>\n",
       "      <th>fbs</th>\n",
       "      <th>restecg</th>\n",
       "      <th>thalach</th>\n",
       "      <th>exang</th>\n",
       "      <th>oldpeak</th>\n",
       "      <th>slope</th>\n",
       "      <th>ca</th>\n",
       "      <th>thal</th>\n",
       "      <th>target</th>\n",
       "    </tr>\n",
       "  </thead>\n",
       "  <tbody>\n",
       "    <tr>\n",
       "      <th>count</th>\n",
       "      <td>303.000000</td>\n",
       "      <td>303.000000</td>\n",
       "      <td>303.000000</td>\n",
       "      <td>303.000000</td>\n",
       "      <td>303.000000</td>\n",
       "      <td>303.000000</td>\n",
       "      <td>303.000000</td>\n",
       "      <td>303.000000</td>\n",
       "      <td>303.000000</td>\n",
       "      <td>303.000000</td>\n",
       "      <td>303.000000</td>\n",
       "      <td>303.000000</td>\n",
       "      <td>303.000000</td>\n",
       "      <td>303.000000</td>\n",
       "    </tr>\n",
       "    <tr>\n",
       "      <th>mean</th>\n",
       "      <td>54.366337</td>\n",
       "      <td>0.683168</td>\n",
       "      <td>0.966997</td>\n",
       "      <td>131.623762</td>\n",
       "      <td>246.264026</td>\n",
       "      <td>0.148515</td>\n",
       "      <td>0.528053</td>\n",
       "      <td>149.646865</td>\n",
       "      <td>0.326733</td>\n",
       "      <td>1.039604</td>\n",
       "      <td>1.399340</td>\n",
       "      <td>0.729373</td>\n",
       "      <td>2.313531</td>\n",
       "      <td>0.544554</td>\n",
       "    </tr>\n",
       "    <tr>\n",
       "      <th>std</th>\n",
       "      <td>9.082101</td>\n",
       "      <td>0.466011</td>\n",
       "      <td>1.032052</td>\n",
       "      <td>17.538143</td>\n",
       "      <td>51.830751</td>\n",
       "      <td>0.356198</td>\n",
       "      <td>0.525860</td>\n",
       "      <td>22.905161</td>\n",
       "      <td>0.469794</td>\n",
       "      <td>1.161075</td>\n",
       "      <td>0.616226</td>\n",
       "      <td>1.022606</td>\n",
       "      <td>0.612277</td>\n",
       "      <td>0.498835</td>\n",
       "    </tr>\n",
       "    <tr>\n",
       "      <th>min</th>\n",
       "      <td>29.000000</td>\n",
       "      <td>0.000000</td>\n",
       "      <td>0.000000</td>\n",
       "      <td>94.000000</td>\n",
       "      <td>126.000000</td>\n",
       "      <td>0.000000</td>\n",
       "      <td>0.000000</td>\n",
       "      <td>71.000000</td>\n",
       "      <td>0.000000</td>\n",
       "      <td>0.000000</td>\n",
       "      <td>0.000000</td>\n",
       "      <td>0.000000</td>\n",
       "      <td>0.000000</td>\n",
       "      <td>0.000000</td>\n",
       "    </tr>\n",
       "    <tr>\n",
       "      <th>25%</th>\n",
       "      <td>47.500000</td>\n",
       "      <td>0.000000</td>\n",
       "      <td>0.000000</td>\n",
       "      <td>120.000000</td>\n",
       "      <td>211.000000</td>\n",
       "      <td>0.000000</td>\n",
       "      <td>0.000000</td>\n",
       "      <td>133.500000</td>\n",
       "      <td>0.000000</td>\n",
       "      <td>0.000000</td>\n",
       "      <td>1.000000</td>\n",
       "      <td>0.000000</td>\n",
       "      <td>2.000000</td>\n",
       "      <td>0.000000</td>\n",
       "    </tr>\n",
       "    <tr>\n",
       "      <th>50%</th>\n",
       "      <td>55.000000</td>\n",
       "      <td>1.000000</td>\n",
       "      <td>1.000000</td>\n",
       "      <td>130.000000</td>\n",
       "      <td>240.000000</td>\n",
       "      <td>0.000000</td>\n",
       "      <td>1.000000</td>\n",
       "      <td>153.000000</td>\n",
       "      <td>0.000000</td>\n",
       "      <td>0.800000</td>\n",
       "      <td>1.000000</td>\n",
       "      <td>0.000000</td>\n",
       "      <td>2.000000</td>\n",
       "      <td>1.000000</td>\n",
       "    </tr>\n",
       "    <tr>\n",
       "      <th>75%</th>\n",
       "      <td>61.000000</td>\n",
       "      <td>1.000000</td>\n",
       "      <td>2.000000</td>\n",
       "      <td>140.000000</td>\n",
       "      <td>274.500000</td>\n",
       "      <td>0.000000</td>\n",
       "      <td>1.000000</td>\n",
       "      <td>166.000000</td>\n",
       "      <td>1.000000</td>\n",
       "      <td>1.600000</td>\n",
       "      <td>2.000000</td>\n",
       "      <td>1.000000</td>\n",
       "      <td>3.000000</td>\n",
       "      <td>1.000000</td>\n",
       "    </tr>\n",
       "    <tr>\n",
       "      <th>max</th>\n",
       "      <td>77.000000</td>\n",
       "      <td>1.000000</td>\n",
       "      <td>3.000000</td>\n",
       "      <td>200.000000</td>\n",
       "      <td>564.000000</td>\n",
       "      <td>1.000000</td>\n",
       "      <td>2.000000</td>\n",
       "      <td>202.000000</td>\n",
       "      <td>1.000000</td>\n",
       "      <td>6.200000</td>\n",
       "      <td>2.000000</td>\n",
       "      <td>4.000000</td>\n",
       "      <td>3.000000</td>\n",
       "      <td>1.000000</td>\n",
       "    </tr>\n",
       "  </tbody>\n",
       "</table>\n",
       "</div>"
      ],
      "text/plain": [
       "              age         sex          cp    trestbps        chol         fbs  \\\n",
       "count  303.000000  303.000000  303.000000  303.000000  303.000000  303.000000   \n",
       "mean    54.366337    0.683168    0.966997  131.623762  246.264026    0.148515   \n",
       "std      9.082101    0.466011    1.032052   17.538143   51.830751    0.356198   \n",
       "min     29.000000    0.000000    0.000000   94.000000  126.000000    0.000000   \n",
       "25%     47.500000    0.000000    0.000000  120.000000  211.000000    0.000000   \n",
       "50%     55.000000    1.000000    1.000000  130.000000  240.000000    0.000000   \n",
       "75%     61.000000    1.000000    2.000000  140.000000  274.500000    0.000000   \n",
       "max     77.000000    1.000000    3.000000  200.000000  564.000000    1.000000   \n",
       "\n",
       "          restecg     thalach       exang     oldpeak       slope          ca  \\\n",
       "count  303.000000  303.000000  303.000000  303.000000  303.000000  303.000000   \n",
       "mean     0.528053  149.646865    0.326733    1.039604    1.399340    0.729373   \n",
       "std      0.525860   22.905161    0.469794    1.161075    0.616226    1.022606   \n",
       "min      0.000000   71.000000    0.000000    0.000000    0.000000    0.000000   \n",
       "25%      0.000000  133.500000    0.000000    0.000000    1.000000    0.000000   \n",
       "50%      1.000000  153.000000    0.000000    0.800000    1.000000    0.000000   \n",
       "75%      1.000000  166.000000    1.000000    1.600000    2.000000    1.000000   \n",
       "max      2.000000  202.000000    1.000000    6.200000    2.000000    4.000000   \n",
       "\n",
       "             thal      target  \n",
       "count  303.000000  303.000000  \n",
       "mean     2.313531    0.544554  \n",
       "std      0.612277    0.498835  \n",
       "min      0.000000    0.000000  \n",
       "25%      2.000000    0.000000  \n",
       "50%      2.000000    1.000000  \n",
       "75%      3.000000    1.000000  \n",
       "max      3.000000    1.000000  "
      ]
     },
     "execution_count": 2702,
     "metadata": {},
     "output_type": "execute_result"
    }
   ],
   "source": [
    "heartDisease.describe()"
   ]
  },
  {
   "cell_type": "markdown",
   "id": "f1795a3a",
   "metadata": {},
   "source": [
    "### 3. List all the columns of the dataset."
   ]
  },
  {
   "cell_type": "code",
   "execution_count": 2703,
   "id": "9b6095f1",
   "metadata": {},
   "outputs": [
    {
     "data": {
      "text/html": [
       "<div>\n",
       "<style scoped>\n",
       "    .dataframe tbody tr th:only-of-type {\n",
       "        vertical-align: middle;\n",
       "    }\n",
       "\n",
       "    .dataframe tbody tr th {\n",
       "        vertical-align: top;\n",
       "    }\n",
       "\n",
       "    .dataframe thead th {\n",
       "        text-align: right;\n",
       "    }\n",
       "</style>\n",
       "<table border=\"1\" class=\"dataframe\">\n",
       "  <thead>\n",
       "    <tr style=\"text-align: right;\">\n",
       "      <th></th>\n",
       "      <th>features</th>\n",
       "    </tr>\n",
       "  </thead>\n",
       "  <tbody>\n",
       "    <tr>\n",
       "      <th>0</th>\n",
       "      <td>age</td>\n",
       "    </tr>\n",
       "    <tr>\n",
       "      <th>1</th>\n",
       "      <td>sex</td>\n",
       "    </tr>\n",
       "    <tr>\n",
       "      <th>2</th>\n",
       "      <td>cp</td>\n",
       "    </tr>\n",
       "    <tr>\n",
       "      <th>3</th>\n",
       "      <td>trestbps</td>\n",
       "    </tr>\n",
       "    <tr>\n",
       "      <th>4</th>\n",
       "      <td>chol</td>\n",
       "    </tr>\n",
       "    <tr>\n",
       "      <th>5</th>\n",
       "      <td>fbs</td>\n",
       "    </tr>\n",
       "    <tr>\n",
       "      <th>6</th>\n",
       "      <td>restecg</td>\n",
       "    </tr>\n",
       "    <tr>\n",
       "      <th>7</th>\n",
       "      <td>thalach</td>\n",
       "    </tr>\n",
       "    <tr>\n",
       "      <th>8</th>\n",
       "      <td>exang</td>\n",
       "    </tr>\n",
       "    <tr>\n",
       "      <th>9</th>\n",
       "      <td>oldpeak</td>\n",
       "    </tr>\n",
       "    <tr>\n",
       "      <th>10</th>\n",
       "      <td>slope</td>\n",
       "    </tr>\n",
       "    <tr>\n",
       "      <th>11</th>\n",
       "      <td>ca</td>\n",
       "    </tr>\n",
       "    <tr>\n",
       "      <th>12</th>\n",
       "      <td>thal</td>\n",
       "    </tr>\n",
       "    <tr>\n",
       "      <th>13</th>\n",
       "      <td>target</td>\n",
       "    </tr>\n",
       "  </tbody>\n",
       "</table>\n",
       "</div>"
      ],
      "text/plain": [
       "    features\n",
       "0        age\n",
       "1        sex\n",
       "2         cp\n",
       "3   trestbps\n",
       "4       chol\n",
       "5        fbs\n",
       "6    restecg\n",
       "7    thalach\n",
       "8      exang\n",
       "9    oldpeak\n",
       "10     slope\n",
       "11        ca\n",
       "12      thal\n",
       "13    target"
      ]
     },
     "execution_count": 2703,
     "metadata": {},
     "output_type": "execute_result"
    }
   ],
   "source": [
    "# Show with applying dataframe for better visualization\n",
    "df1 = pd.DataFrame(heartDisease.columns)\n",
    "df1.columns = ['features']\n",
    "df1"
   ]
  },
  {
   "cell_type": "markdown",
   "id": "9758b883",
   "metadata": {},
   "source": [
    "### 4. List al the values of 'target'."
   ]
  },
  {
   "cell_type": "code",
   "execution_count": 2704,
   "id": "581d2d33",
   "metadata": {},
   "outputs": [
    {
     "data": {
      "text/plain": [
       "array([1, 1, 1, 1, 1, 1, 1, 1, 1, 1, 1, 1, 1, 1, 1, 1, 1, 1, 1, 1, 1, 1,\n",
       "       1, 1, 1, 1, 1, 1, 1, 1, 1, 1, 1, 1, 1, 1, 1, 1, 1, 1, 1, 1, 1, 1,\n",
       "       1, 1, 1, 1, 1, 1, 1, 1, 1, 1, 1, 1, 1, 1, 1, 1, 1, 1, 1, 1, 1, 1,\n",
       "       1, 1, 1, 1, 1, 1, 1, 1, 1, 1, 1, 1, 1, 1, 1, 1, 1, 1, 1, 1, 1, 1,\n",
       "       1, 1, 1, 1, 1, 1, 1, 1, 1, 1, 1, 1, 1, 1, 1, 1, 1, 1, 1, 1, 1, 1,\n",
       "       1, 1, 1, 1, 1, 1, 1, 1, 1, 1, 1, 1, 1, 1, 1, 1, 1, 1, 1, 1, 1, 1,\n",
       "       1, 1, 1, 1, 1, 1, 1, 1, 1, 1, 1, 1, 1, 1, 1, 1, 1, 1, 1, 1, 1, 1,\n",
       "       1, 1, 1, 1, 1, 1, 1, 1, 1, 1, 1, 0, 0, 0, 0, 0, 0, 0, 0, 0, 0, 0,\n",
       "       0, 0, 0, 0, 0, 0, 0, 0, 0, 0, 0, 0, 0, 0, 0, 0, 0, 0, 0, 0, 0, 0,\n",
       "       0, 0, 0, 0, 0, 0, 0, 0, 0, 0, 0, 0, 0, 0, 0, 0, 0, 0, 0, 0, 0, 0,\n",
       "       0, 0, 0, 0, 0, 0, 0, 0, 0, 0, 0, 0, 0, 0, 0, 0, 0, 0, 0, 0, 0, 0,\n",
       "       0, 0, 0, 0, 0, 0, 0, 0, 0, 0, 0, 0, 0, 0, 0, 0, 0, 0, 0, 0, 0, 0,\n",
       "       0, 0, 0, 0, 0, 0, 0, 0, 0, 0, 0, 0, 0, 0, 0, 0, 0, 0, 0, 0, 0, 0,\n",
       "       0, 0, 0, 0, 0, 0, 0, 0, 0, 0, 0, 0, 0, 0, 0, 0, 0], dtype=int64)"
      ]
     },
     "execution_count": 2704,
     "metadata": {},
     "output_type": "execute_result"
    }
   ],
   "source": [
    "heartDisease['target'].values"
   ]
  },
  {
   "cell_type": "markdown",
   "id": "c5231cd1",
   "metadata": {},
   "source": [
    "# Step 3 - Data processing"
   ]
  },
  {
   "cell_type": "markdown",
   "id": "f97982d7",
   "metadata": {},
   "source": [
    "### 1. Checking is there any null values."
   ]
  },
  {
   "cell_type": "code",
   "execution_count": 2705,
   "id": "10c90617",
   "metadata": {},
   "outputs": [
    {
     "data": {
      "text/plain": [
       "age         0\n",
       "sex         0\n",
       "cp          0\n",
       "trestbps    0\n",
       "chol        0\n",
       "fbs         0\n",
       "restecg     0\n",
       "thalach     0\n",
       "exang       0\n",
       "oldpeak     0\n",
       "slope       0\n",
       "ca          0\n",
       "thal        0\n",
       "target      0\n",
       "dtype: int64"
      ]
     },
     "execution_count": 2705,
     "metadata": {},
     "output_type": "execute_result"
    }
   ],
   "source": [
    "heartDisease.apply(lambda x: sum (x.isnull()), axis = 0)"
   ]
  },
  {
   "cell_type": "markdown",
   "id": "f41bf63d",
   "metadata": {},
   "source": [
    "### 2. Remove duplicates from dataset."
   ]
  },
  {
   "cell_type": "code",
   "execution_count": 2706,
   "id": "2bd69e13",
   "metadata": {},
   "outputs": [],
   "source": [
    "heartDisease = heartDisease.drop_duplicates()"
   ]
  },
  {
   "cell_type": "markdown",
   "id": "3c25c291",
   "metadata": {},
   "source": [
    "### 3. Display the dataset again after data processing."
   ]
  },
  {
   "cell_type": "code",
   "execution_count": 2707,
   "id": "987089fd",
   "metadata": {},
   "outputs": [
    {
     "data": {
      "text/html": [
       "<div>\n",
       "<style scoped>\n",
       "    .dataframe tbody tr th:only-of-type {\n",
       "        vertical-align: middle;\n",
       "    }\n",
       "\n",
       "    .dataframe tbody tr th {\n",
       "        vertical-align: top;\n",
       "    }\n",
       "\n",
       "    .dataframe thead th {\n",
       "        text-align: right;\n",
       "    }\n",
       "</style>\n",
       "<table border=\"1\" class=\"dataframe\">\n",
       "  <thead>\n",
       "    <tr style=\"text-align: right;\">\n",
       "      <th></th>\n",
       "      <th>age</th>\n",
       "      <th>sex</th>\n",
       "      <th>cp</th>\n",
       "      <th>trestbps</th>\n",
       "      <th>chol</th>\n",
       "      <th>fbs</th>\n",
       "      <th>restecg</th>\n",
       "      <th>thalach</th>\n",
       "      <th>exang</th>\n",
       "      <th>oldpeak</th>\n",
       "      <th>slope</th>\n",
       "      <th>ca</th>\n",
       "      <th>thal</th>\n",
       "      <th>target</th>\n",
       "    </tr>\n",
       "  </thead>\n",
       "  <tbody>\n",
       "    <tr>\n",
       "      <th>0</th>\n",
       "      <td>63</td>\n",
       "      <td>1</td>\n",
       "      <td>3</td>\n",
       "      <td>145</td>\n",
       "      <td>233</td>\n",
       "      <td>1</td>\n",
       "      <td>0</td>\n",
       "      <td>150</td>\n",
       "      <td>0</td>\n",
       "      <td>2.3</td>\n",
       "      <td>0</td>\n",
       "      <td>0</td>\n",
       "      <td>1</td>\n",
       "      <td>1</td>\n",
       "    </tr>\n",
       "    <tr>\n",
       "      <th>1</th>\n",
       "      <td>37</td>\n",
       "      <td>1</td>\n",
       "      <td>2</td>\n",
       "      <td>130</td>\n",
       "      <td>250</td>\n",
       "      <td>0</td>\n",
       "      <td>1</td>\n",
       "      <td>187</td>\n",
       "      <td>0</td>\n",
       "      <td>3.5</td>\n",
       "      <td>0</td>\n",
       "      <td>0</td>\n",
       "      <td>2</td>\n",
       "      <td>1</td>\n",
       "    </tr>\n",
       "    <tr>\n",
       "      <th>2</th>\n",
       "      <td>41</td>\n",
       "      <td>0</td>\n",
       "      <td>1</td>\n",
       "      <td>130</td>\n",
       "      <td>204</td>\n",
       "      <td>0</td>\n",
       "      <td>0</td>\n",
       "      <td>172</td>\n",
       "      <td>0</td>\n",
       "      <td>1.4</td>\n",
       "      <td>2</td>\n",
       "      <td>0</td>\n",
       "      <td>2</td>\n",
       "      <td>1</td>\n",
       "    </tr>\n",
       "    <tr>\n",
       "      <th>3</th>\n",
       "      <td>56</td>\n",
       "      <td>1</td>\n",
       "      <td>1</td>\n",
       "      <td>120</td>\n",
       "      <td>236</td>\n",
       "      <td>0</td>\n",
       "      <td>1</td>\n",
       "      <td>178</td>\n",
       "      <td>0</td>\n",
       "      <td>0.8</td>\n",
       "      <td>2</td>\n",
       "      <td>0</td>\n",
       "      <td>2</td>\n",
       "      <td>1</td>\n",
       "    </tr>\n",
       "    <tr>\n",
       "      <th>4</th>\n",
       "      <td>57</td>\n",
       "      <td>0</td>\n",
       "      <td>0</td>\n",
       "      <td>120</td>\n",
       "      <td>354</td>\n",
       "      <td>0</td>\n",
       "      <td>1</td>\n",
       "      <td>163</td>\n",
       "      <td>1</td>\n",
       "      <td>0.6</td>\n",
       "      <td>2</td>\n",
       "      <td>0</td>\n",
       "      <td>2</td>\n",
       "      <td>1</td>\n",
       "    </tr>\n",
       "    <tr>\n",
       "      <th>...</th>\n",
       "      <td>...</td>\n",
       "      <td>...</td>\n",
       "      <td>...</td>\n",
       "      <td>...</td>\n",
       "      <td>...</td>\n",
       "      <td>...</td>\n",
       "      <td>...</td>\n",
       "      <td>...</td>\n",
       "      <td>...</td>\n",
       "      <td>...</td>\n",
       "      <td>...</td>\n",
       "      <td>...</td>\n",
       "      <td>...</td>\n",
       "      <td>...</td>\n",
       "    </tr>\n",
       "    <tr>\n",
       "      <th>298</th>\n",
       "      <td>57</td>\n",
       "      <td>0</td>\n",
       "      <td>0</td>\n",
       "      <td>140</td>\n",
       "      <td>241</td>\n",
       "      <td>0</td>\n",
       "      <td>1</td>\n",
       "      <td>123</td>\n",
       "      <td>1</td>\n",
       "      <td>0.2</td>\n",
       "      <td>1</td>\n",
       "      <td>0</td>\n",
       "      <td>3</td>\n",
       "      <td>0</td>\n",
       "    </tr>\n",
       "    <tr>\n",
       "      <th>299</th>\n",
       "      <td>45</td>\n",
       "      <td>1</td>\n",
       "      <td>3</td>\n",
       "      <td>110</td>\n",
       "      <td>264</td>\n",
       "      <td>0</td>\n",
       "      <td>1</td>\n",
       "      <td>132</td>\n",
       "      <td>0</td>\n",
       "      <td>1.2</td>\n",
       "      <td>1</td>\n",
       "      <td>0</td>\n",
       "      <td>3</td>\n",
       "      <td>0</td>\n",
       "    </tr>\n",
       "    <tr>\n",
       "      <th>300</th>\n",
       "      <td>68</td>\n",
       "      <td>1</td>\n",
       "      <td>0</td>\n",
       "      <td>144</td>\n",
       "      <td>193</td>\n",
       "      <td>1</td>\n",
       "      <td>1</td>\n",
       "      <td>141</td>\n",
       "      <td>0</td>\n",
       "      <td>3.4</td>\n",
       "      <td>1</td>\n",
       "      <td>2</td>\n",
       "      <td>3</td>\n",
       "      <td>0</td>\n",
       "    </tr>\n",
       "    <tr>\n",
       "      <th>301</th>\n",
       "      <td>57</td>\n",
       "      <td>1</td>\n",
       "      <td>0</td>\n",
       "      <td>130</td>\n",
       "      <td>131</td>\n",
       "      <td>0</td>\n",
       "      <td>1</td>\n",
       "      <td>115</td>\n",
       "      <td>1</td>\n",
       "      <td>1.2</td>\n",
       "      <td>1</td>\n",
       "      <td>1</td>\n",
       "      <td>3</td>\n",
       "      <td>0</td>\n",
       "    </tr>\n",
       "    <tr>\n",
       "      <th>302</th>\n",
       "      <td>57</td>\n",
       "      <td>0</td>\n",
       "      <td>1</td>\n",
       "      <td>130</td>\n",
       "      <td>236</td>\n",
       "      <td>0</td>\n",
       "      <td>0</td>\n",
       "      <td>174</td>\n",
       "      <td>0</td>\n",
       "      <td>0.0</td>\n",
       "      <td>1</td>\n",
       "      <td>1</td>\n",
       "      <td>2</td>\n",
       "      <td>0</td>\n",
       "    </tr>\n",
       "  </tbody>\n",
       "</table>\n",
       "<p>302 rows × 14 columns</p>\n",
       "</div>"
      ],
      "text/plain": [
       "     age  sex  cp  trestbps  chol  fbs  restecg  thalach  exang  oldpeak  \\\n",
       "0     63    1   3       145   233    1        0      150      0      2.3   \n",
       "1     37    1   2       130   250    0        1      187      0      3.5   \n",
       "2     41    0   1       130   204    0        0      172      0      1.4   \n",
       "3     56    1   1       120   236    0        1      178      0      0.8   \n",
       "4     57    0   0       120   354    0        1      163      1      0.6   \n",
       "..   ...  ...  ..       ...   ...  ...      ...      ...    ...      ...   \n",
       "298   57    0   0       140   241    0        1      123      1      0.2   \n",
       "299   45    1   3       110   264    0        1      132      0      1.2   \n",
       "300   68    1   0       144   193    1        1      141      0      3.4   \n",
       "301   57    1   0       130   131    0        1      115      1      1.2   \n",
       "302   57    0   1       130   236    0        0      174      0      0.0   \n",
       "\n",
       "     slope  ca  thal  target  \n",
       "0        0   0     1       1  \n",
       "1        0   0     2       1  \n",
       "2        2   0     2       1  \n",
       "3        2   0     2       1  \n",
       "4        2   0     2       1  \n",
       "..     ...  ..   ...     ...  \n",
       "298      1   0     3       0  \n",
       "299      1   0     3       0  \n",
       "300      1   2     3       0  \n",
       "301      1   1     3       0  \n",
       "302      1   1     2       0  \n",
       "\n",
       "[302 rows x 14 columns]"
      ]
     },
     "execution_count": 2707,
     "metadata": {},
     "output_type": "execute_result"
    }
   ],
   "source": [
    "heartDisease"
   ]
  },
  {
   "cell_type": "markdown",
   "id": "b15bfd8d",
   "metadata": {},
   "source": [
    "# Step 4 - Split data"
   ]
  },
  {
   "cell_type": "markdown",
   "id": "0e8b8ff1",
   "metadata": {},
   "source": [
    "### 1. Allocate feature and target column."
   ]
  },
  {
   "cell_type": "code",
   "execution_count": 2708,
   "id": "4ba5ebd5",
   "metadata": {},
   "outputs": [],
   "source": [
    "feature = heartDisease.iloc[:, 0:13]\n",
    "target = heartDisease.iloc[:, -1]"
   ]
  },
  {
   "cell_type": "markdown",
   "id": "2c0f9246",
   "metadata": {},
   "source": [
    "### 2. Show the shape of feature and target."
   ]
  },
  {
   "cell_type": "code",
   "execution_count": 2709,
   "id": "d995d658",
   "metadata": {},
   "outputs": [
    {
     "name": "stdout",
     "output_type": "stream",
     "text": [
      "After allocating feature and target columns ... \n",
      "Shape of feature:  (302, 13)\n",
      "Shape of target:  (302,)\n"
     ]
    }
   ],
   "source": [
    "print(\"After allocating feature and target columns ... \")\n",
    "print(\"Shape of feature: \", feature.shape)\n",
    "print(\"Shape of target: \", target.shape)"
   ]
  },
  {
   "cell_type": "markdown",
   "id": "18f1bbd3",
   "metadata": {},
   "source": [
    "### 3. Check all the feature columns."
   ]
  },
  {
   "cell_type": "code",
   "execution_count": 2710,
   "id": "8cc97d89",
   "metadata": {},
   "outputs": [
    {
     "data": {
      "text/html": [
       "<div>\n",
       "<style scoped>\n",
       "    .dataframe tbody tr th:only-of-type {\n",
       "        vertical-align: middle;\n",
       "    }\n",
       "\n",
       "    .dataframe tbody tr th {\n",
       "        vertical-align: top;\n",
       "    }\n",
       "\n",
       "    .dataframe thead th {\n",
       "        text-align: right;\n",
       "    }\n",
       "</style>\n",
       "<table border=\"1\" class=\"dataframe\">\n",
       "  <thead>\n",
       "    <tr style=\"text-align: right;\">\n",
       "      <th></th>\n",
       "      <th>age</th>\n",
       "      <th>sex</th>\n",
       "      <th>cp</th>\n",
       "      <th>trestbps</th>\n",
       "      <th>chol</th>\n",
       "      <th>fbs</th>\n",
       "      <th>restecg</th>\n",
       "      <th>thalach</th>\n",
       "      <th>exang</th>\n",
       "      <th>oldpeak</th>\n",
       "      <th>slope</th>\n",
       "      <th>ca</th>\n",
       "      <th>thal</th>\n",
       "    </tr>\n",
       "  </thead>\n",
       "  <tbody>\n",
       "    <tr>\n",
       "      <th>0</th>\n",
       "      <td>63</td>\n",
       "      <td>1</td>\n",
       "      <td>3</td>\n",
       "      <td>145</td>\n",
       "      <td>233</td>\n",
       "      <td>1</td>\n",
       "      <td>0</td>\n",
       "      <td>150</td>\n",
       "      <td>0</td>\n",
       "      <td>2.3</td>\n",
       "      <td>0</td>\n",
       "      <td>0</td>\n",
       "      <td>1</td>\n",
       "    </tr>\n",
       "    <tr>\n",
       "      <th>1</th>\n",
       "      <td>37</td>\n",
       "      <td>1</td>\n",
       "      <td>2</td>\n",
       "      <td>130</td>\n",
       "      <td>250</td>\n",
       "      <td>0</td>\n",
       "      <td>1</td>\n",
       "      <td>187</td>\n",
       "      <td>0</td>\n",
       "      <td>3.5</td>\n",
       "      <td>0</td>\n",
       "      <td>0</td>\n",
       "      <td>2</td>\n",
       "    </tr>\n",
       "    <tr>\n",
       "      <th>2</th>\n",
       "      <td>41</td>\n",
       "      <td>0</td>\n",
       "      <td>1</td>\n",
       "      <td>130</td>\n",
       "      <td>204</td>\n",
       "      <td>0</td>\n",
       "      <td>0</td>\n",
       "      <td>172</td>\n",
       "      <td>0</td>\n",
       "      <td>1.4</td>\n",
       "      <td>2</td>\n",
       "      <td>0</td>\n",
       "      <td>2</td>\n",
       "    </tr>\n",
       "    <tr>\n",
       "      <th>3</th>\n",
       "      <td>56</td>\n",
       "      <td>1</td>\n",
       "      <td>1</td>\n",
       "      <td>120</td>\n",
       "      <td>236</td>\n",
       "      <td>0</td>\n",
       "      <td>1</td>\n",
       "      <td>178</td>\n",
       "      <td>0</td>\n",
       "      <td>0.8</td>\n",
       "      <td>2</td>\n",
       "      <td>0</td>\n",
       "      <td>2</td>\n",
       "    </tr>\n",
       "    <tr>\n",
       "      <th>4</th>\n",
       "      <td>57</td>\n",
       "      <td>0</td>\n",
       "      <td>0</td>\n",
       "      <td>120</td>\n",
       "      <td>354</td>\n",
       "      <td>0</td>\n",
       "      <td>1</td>\n",
       "      <td>163</td>\n",
       "      <td>1</td>\n",
       "      <td>0.6</td>\n",
       "      <td>2</td>\n",
       "      <td>0</td>\n",
       "      <td>2</td>\n",
       "    </tr>\n",
       "    <tr>\n",
       "      <th>...</th>\n",
       "      <td>...</td>\n",
       "      <td>...</td>\n",
       "      <td>...</td>\n",
       "      <td>...</td>\n",
       "      <td>...</td>\n",
       "      <td>...</td>\n",
       "      <td>...</td>\n",
       "      <td>...</td>\n",
       "      <td>...</td>\n",
       "      <td>...</td>\n",
       "      <td>...</td>\n",
       "      <td>...</td>\n",
       "      <td>...</td>\n",
       "    </tr>\n",
       "    <tr>\n",
       "      <th>298</th>\n",
       "      <td>57</td>\n",
       "      <td>0</td>\n",
       "      <td>0</td>\n",
       "      <td>140</td>\n",
       "      <td>241</td>\n",
       "      <td>0</td>\n",
       "      <td>1</td>\n",
       "      <td>123</td>\n",
       "      <td>1</td>\n",
       "      <td>0.2</td>\n",
       "      <td>1</td>\n",
       "      <td>0</td>\n",
       "      <td>3</td>\n",
       "    </tr>\n",
       "    <tr>\n",
       "      <th>299</th>\n",
       "      <td>45</td>\n",
       "      <td>1</td>\n",
       "      <td>3</td>\n",
       "      <td>110</td>\n",
       "      <td>264</td>\n",
       "      <td>0</td>\n",
       "      <td>1</td>\n",
       "      <td>132</td>\n",
       "      <td>0</td>\n",
       "      <td>1.2</td>\n",
       "      <td>1</td>\n",
       "      <td>0</td>\n",
       "      <td>3</td>\n",
       "    </tr>\n",
       "    <tr>\n",
       "      <th>300</th>\n",
       "      <td>68</td>\n",
       "      <td>1</td>\n",
       "      <td>0</td>\n",
       "      <td>144</td>\n",
       "      <td>193</td>\n",
       "      <td>1</td>\n",
       "      <td>1</td>\n",
       "      <td>141</td>\n",
       "      <td>0</td>\n",
       "      <td>3.4</td>\n",
       "      <td>1</td>\n",
       "      <td>2</td>\n",
       "      <td>3</td>\n",
       "    </tr>\n",
       "    <tr>\n",
       "      <th>301</th>\n",
       "      <td>57</td>\n",
       "      <td>1</td>\n",
       "      <td>0</td>\n",
       "      <td>130</td>\n",
       "      <td>131</td>\n",
       "      <td>0</td>\n",
       "      <td>1</td>\n",
       "      <td>115</td>\n",
       "      <td>1</td>\n",
       "      <td>1.2</td>\n",
       "      <td>1</td>\n",
       "      <td>1</td>\n",
       "      <td>3</td>\n",
       "    </tr>\n",
       "    <tr>\n",
       "      <th>302</th>\n",
       "      <td>57</td>\n",
       "      <td>0</td>\n",
       "      <td>1</td>\n",
       "      <td>130</td>\n",
       "      <td>236</td>\n",
       "      <td>0</td>\n",
       "      <td>0</td>\n",
       "      <td>174</td>\n",
       "      <td>0</td>\n",
       "      <td>0.0</td>\n",
       "      <td>1</td>\n",
       "      <td>1</td>\n",
       "      <td>2</td>\n",
       "    </tr>\n",
       "  </tbody>\n",
       "</table>\n",
       "<p>302 rows × 13 columns</p>\n",
       "</div>"
      ],
      "text/plain": [
       "     age  sex  cp  trestbps  chol  fbs  restecg  thalach  exang  oldpeak  \\\n",
       "0     63    1   3       145   233    1        0      150      0      2.3   \n",
       "1     37    1   2       130   250    0        1      187      0      3.5   \n",
       "2     41    0   1       130   204    0        0      172      0      1.4   \n",
       "3     56    1   1       120   236    0        1      178      0      0.8   \n",
       "4     57    0   0       120   354    0        1      163      1      0.6   \n",
       "..   ...  ...  ..       ...   ...  ...      ...      ...    ...      ...   \n",
       "298   57    0   0       140   241    0        1      123      1      0.2   \n",
       "299   45    1   3       110   264    0        1      132      0      1.2   \n",
       "300   68    1   0       144   193    1        1      141      0      3.4   \n",
       "301   57    1   0       130   131    0        1      115      1      1.2   \n",
       "302   57    0   1       130   236    0        0      174      0      0.0   \n",
       "\n",
       "     slope  ca  thal  \n",
       "0        0   0     1  \n",
       "1        0   0     2  \n",
       "2        2   0     2  \n",
       "3        2   0     2  \n",
       "4        2   0     2  \n",
       "..     ...  ..   ...  \n",
       "298      1   0     3  \n",
       "299      1   0     3  \n",
       "300      1   2     3  \n",
       "301      1   1     3  \n",
       "302      1   1     2  \n",
       "\n",
       "[302 rows x 13 columns]"
      ]
     },
     "execution_count": 2710,
     "metadata": {},
     "output_type": "execute_result"
    }
   ],
   "source": [
    "feature"
   ]
  },
  {
   "cell_type": "markdown",
   "id": "3be6e7f9",
   "metadata": {},
   "source": [
    "### 4. Check the target column."
   ]
  },
  {
   "cell_type": "code",
   "execution_count": 2711,
   "id": "b5220604",
   "metadata": {
    "scrolled": true
   },
   "outputs": [
    {
     "data": {
      "text/html": [
       "<div>\n",
       "<style scoped>\n",
       "    .dataframe tbody tr th:only-of-type {\n",
       "        vertical-align: middle;\n",
       "    }\n",
       "\n",
       "    .dataframe tbody tr th {\n",
       "        vertical-align: top;\n",
       "    }\n",
       "\n",
       "    .dataframe thead th {\n",
       "        text-align: right;\n",
       "    }\n",
       "</style>\n",
       "<table border=\"1\" class=\"dataframe\">\n",
       "  <thead>\n",
       "    <tr style=\"text-align: right;\">\n",
       "      <th></th>\n",
       "      <th>target</th>\n",
       "    </tr>\n",
       "  </thead>\n",
       "  <tbody>\n",
       "    <tr>\n",
       "      <th>0</th>\n",
       "      <td>1</td>\n",
       "    </tr>\n",
       "    <tr>\n",
       "      <th>1</th>\n",
       "      <td>1</td>\n",
       "    </tr>\n",
       "    <tr>\n",
       "      <th>2</th>\n",
       "      <td>1</td>\n",
       "    </tr>\n",
       "    <tr>\n",
       "      <th>3</th>\n",
       "      <td>1</td>\n",
       "    </tr>\n",
       "    <tr>\n",
       "      <th>4</th>\n",
       "      <td>1</td>\n",
       "    </tr>\n",
       "    <tr>\n",
       "      <th>...</th>\n",
       "      <td>...</td>\n",
       "    </tr>\n",
       "    <tr>\n",
       "      <th>298</th>\n",
       "      <td>0</td>\n",
       "    </tr>\n",
       "    <tr>\n",
       "      <th>299</th>\n",
       "      <td>0</td>\n",
       "    </tr>\n",
       "    <tr>\n",
       "      <th>300</th>\n",
       "      <td>0</td>\n",
       "    </tr>\n",
       "    <tr>\n",
       "      <th>301</th>\n",
       "      <td>0</td>\n",
       "    </tr>\n",
       "    <tr>\n",
       "      <th>302</th>\n",
       "      <td>0</td>\n",
       "    </tr>\n",
       "  </tbody>\n",
       "</table>\n",
       "<p>302 rows × 1 columns</p>\n",
       "</div>"
      ],
      "text/plain": [
       "     target\n",
       "0         1\n",
       "1         1\n",
       "2         1\n",
       "3         1\n",
       "4         1\n",
       "..      ...\n",
       "298       0\n",
       "299       0\n",
       "300       0\n",
       "301       0\n",
       "302       0\n",
       "\n",
       "[302 rows x 1 columns]"
      ]
     },
     "execution_count": 2711,
     "metadata": {},
     "output_type": "execute_result"
    }
   ],
   "source": [
    "# Show with applying dataframe for better visualization\n",
    "pd.DataFrame (target)"
   ]
  },
  {
   "cell_type": "markdown",
   "id": "158bbd34",
   "metadata": {},
   "source": [
    "### 5. Import library."
   ]
  },
  {
   "cell_type": "code",
   "execution_count": 2712,
   "id": "915c61f6",
   "metadata": {},
   "outputs": [],
   "source": [
    "from sklearn.model_selection import train_test_split"
   ]
  },
  {
   "cell_type": "markdown",
   "id": "1c3b1545",
   "metadata": {},
   "source": [
    "## 1st Train Dataset: Ratio (80:20)"
   ]
  },
  {
   "cell_type": "markdown",
   "id": "2c98ca89",
   "metadata": {},
   "source": [
    "### 1. Split the data into 80:20 ratio."
   ]
  },
  {
   "cell_type": "code",
   "execution_count": 2713,
   "id": "e7b95f30",
   "metadata": {},
   "outputs": [
    {
     "name": "stdout",
     "output_type": "stream",
     "text": [
      "Shape of X1_train:  (241, 13)\n",
      "Shape of X1_test:  (61, 13)\n",
      "\n",
      "\n",
      "Shape of y1_train:  (241,)\n",
      "Shape of y1_test:  (61,)\n"
     ]
    }
   ],
   "source": [
    "# Split the data into training and testing sets\n",
    "X1_train, X1_test, y1_train, y1_test = train_test_split(feature, target, test_size = 0.2, random_state = 42)\n",
    "\n",
    "print(\"Shape of X1_train: \", X1_train.shape)\n",
    "print(\"Shape of X1_test: \", X1_test.shape)\n",
    "print(\"\\n\")\n",
    "print(\"Shape of y1_train: \", y1_train.shape)\n",
    "print(\"Shape of y1_test: \", y1_test.shape)"
   ]
  },
  {
   "cell_type": "markdown",
   "id": "155b6ba3",
   "metadata": {},
   "source": [
    "### 2. Show the first 5 rows of X1_train set."
   ]
  },
  {
   "cell_type": "code",
   "execution_count": 2714,
   "id": "93045142",
   "metadata": {},
   "outputs": [
    {
     "data": {
      "text/html": [
       "<div>\n",
       "<style scoped>\n",
       "    .dataframe tbody tr th:only-of-type {\n",
       "        vertical-align: middle;\n",
       "    }\n",
       "\n",
       "    .dataframe tbody tr th {\n",
       "        vertical-align: top;\n",
       "    }\n",
       "\n",
       "    .dataframe thead th {\n",
       "        text-align: right;\n",
       "    }\n",
       "</style>\n",
       "<table border=\"1\" class=\"dataframe\">\n",
       "  <thead>\n",
       "    <tr style=\"text-align: right;\">\n",
       "      <th></th>\n",
       "      <th>age</th>\n",
       "      <th>sex</th>\n",
       "      <th>cp</th>\n",
       "      <th>trestbps</th>\n",
       "      <th>chol</th>\n",
       "      <th>fbs</th>\n",
       "      <th>restecg</th>\n",
       "      <th>thalach</th>\n",
       "      <th>exang</th>\n",
       "      <th>oldpeak</th>\n",
       "      <th>slope</th>\n",
       "      <th>ca</th>\n",
       "      <th>thal</th>\n",
       "    </tr>\n",
       "  </thead>\n",
       "  <tbody>\n",
       "    <tr>\n",
       "      <th>132</th>\n",
       "      <td>42</td>\n",
       "      <td>1</td>\n",
       "      <td>1</td>\n",
       "      <td>120</td>\n",
       "      <td>295</td>\n",
       "      <td>0</td>\n",
       "      <td>1</td>\n",
       "      <td>162</td>\n",
       "      <td>0</td>\n",
       "      <td>0.0</td>\n",
       "      <td>2</td>\n",
       "      <td>0</td>\n",
       "      <td>2</td>\n",
       "    </tr>\n",
       "    <tr>\n",
       "      <th>203</th>\n",
       "      <td>68</td>\n",
       "      <td>1</td>\n",
       "      <td>2</td>\n",
       "      <td>180</td>\n",
       "      <td>274</td>\n",
       "      <td>1</td>\n",
       "      <td>0</td>\n",
       "      <td>150</td>\n",
       "      <td>1</td>\n",
       "      <td>1.6</td>\n",
       "      <td>1</td>\n",
       "      <td>0</td>\n",
       "      <td>3</td>\n",
       "    </tr>\n",
       "    <tr>\n",
       "      <th>197</th>\n",
       "      <td>67</td>\n",
       "      <td>1</td>\n",
       "      <td>0</td>\n",
       "      <td>125</td>\n",
       "      <td>254</td>\n",
       "      <td>1</td>\n",
       "      <td>1</td>\n",
       "      <td>163</td>\n",
       "      <td>0</td>\n",
       "      <td>0.2</td>\n",
       "      <td>1</td>\n",
       "      <td>2</td>\n",
       "      <td>3</td>\n",
       "    </tr>\n",
       "    <tr>\n",
       "      <th>75</th>\n",
       "      <td>55</td>\n",
       "      <td>0</td>\n",
       "      <td>1</td>\n",
       "      <td>135</td>\n",
       "      <td>250</td>\n",
       "      <td>0</td>\n",
       "      <td>0</td>\n",
       "      <td>161</td>\n",
       "      <td>0</td>\n",
       "      <td>1.4</td>\n",
       "      <td>1</td>\n",
       "      <td>0</td>\n",
       "      <td>2</td>\n",
       "    </tr>\n",
       "    <tr>\n",
       "      <th>177</th>\n",
       "      <td>64</td>\n",
       "      <td>1</td>\n",
       "      <td>2</td>\n",
       "      <td>140</td>\n",
       "      <td>335</td>\n",
       "      <td>0</td>\n",
       "      <td>1</td>\n",
       "      <td>158</td>\n",
       "      <td>0</td>\n",
       "      <td>0.0</td>\n",
       "      <td>2</td>\n",
       "      <td>0</td>\n",
       "      <td>2</td>\n",
       "    </tr>\n",
       "  </tbody>\n",
       "</table>\n",
       "</div>"
      ],
      "text/plain": [
       "     age  sex  cp  trestbps  chol  fbs  restecg  thalach  exang  oldpeak  \\\n",
       "132   42    1   1       120   295    0        1      162      0      0.0   \n",
       "203   68    1   2       180   274    1        0      150      1      1.6   \n",
       "197   67    1   0       125   254    1        1      163      0      0.2   \n",
       "75    55    0   1       135   250    0        0      161      0      1.4   \n",
       "177   64    1   2       140   335    0        1      158      0      0.0   \n",
       "\n",
       "     slope  ca  thal  \n",
       "132      2   0     2  \n",
       "203      1   0     3  \n",
       "197      1   2     3  \n",
       "75       1   0     2  \n",
       "177      2   0     2  "
      ]
     },
     "execution_count": 2714,
     "metadata": {},
     "output_type": "execute_result"
    }
   ],
   "source": [
    "X1_train.head(5)"
   ]
  },
  {
   "cell_type": "markdown",
   "id": "1ce67a0e",
   "metadata": {},
   "source": [
    "### 3. Show the first 5 rows of X1_test set."
   ]
  },
  {
   "cell_type": "code",
   "execution_count": 2715,
   "id": "3e7d906f",
   "metadata": {},
   "outputs": [
    {
     "data": {
      "text/html": [
       "<div>\n",
       "<style scoped>\n",
       "    .dataframe tbody tr th:only-of-type {\n",
       "        vertical-align: middle;\n",
       "    }\n",
       "\n",
       "    .dataframe tbody tr th {\n",
       "        vertical-align: top;\n",
       "    }\n",
       "\n",
       "    .dataframe thead th {\n",
       "        text-align: right;\n",
       "    }\n",
       "</style>\n",
       "<table border=\"1\" class=\"dataframe\">\n",
       "  <thead>\n",
       "    <tr style=\"text-align: right;\">\n",
       "      <th></th>\n",
       "      <th>age</th>\n",
       "      <th>sex</th>\n",
       "      <th>cp</th>\n",
       "      <th>trestbps</th>\n",
       "      <th>chol</th>\n",
       "      <th>fbs</th>\n",
       "      <th>restecg</th>\n",
       "      <th>thalach</th>\n",
       "      <th>exang</th>\n",
       "      <th>oldpeak</th>\n",
       "      <th>slope</th>\n",
       "      <th>ca</th>\n",
       "      <th>thal</th>\n",
       "    </tr>\n",
       "  </thead>\n",
       "  <tbody>\n",
       "    <tr>\n",
       "      <th>180</th>\n",
       "      <td>55</td>\n",
       "      <td>1</td>\n",
       "      <td>0</td>\n",
       "      <td>132</td>\n",
       "      <td>353</td>\n",
       "      <td>0</td>\n",
       "      <td>1</td>\n",
       "      <td>132</td>\n",
       "      <td>1</td>\n",
       "      <td>1.2</td>\n",
       "      <td>1</td>\n",
       "      <td>1</td>\n",
       "      <td>3</td>\n",
       "    </tr>\n",
       "    <tr>\n",
       "      <th>229</th>\n",
       "      <td>64</td>\n",
       "      <td>1</td>\n",
       "      <td>2</td>\n",
       "      <td>125</td>\n",
       "      <td>309</td>\n",
       "      <td>0</td>\n",
       "      <td>1</td>\n",
       "      <td>131</td>\n",
       "      <td>1</td>\n",
       "      <td>1.8</td>\n",
       "      <td>1</td>\n",
       "      <td>0</td>\n",
       "      <td>3</td>\n",
       "    </tr>\n",
       "    <tr>\n",
       "      <th>111</th>\n",
       "      <td>57</td>\n",
       "      <td>1</td>\n",
       "      <td>2</td>\n",
       "      <td>150</td>\n",
       "      <td>126</td>\n",
       "      <td>1</td>\n",
       "      <td>1</td>\n",
       "      <td>173</td>\n",
       "      <td>0</td>\n",
       "      <td>0.2</td>\n",
       "      <td>2</td>\n",
       "      <td>1</td>\n",
       "      <td>3</td>\n",
       "    </tr>\n",
       "    <tr>\n",
       "      <th>247</th>\n",
       "      <td>66</td>\n",
       "      <td>1</td>\n",
       "      <td>1</td>\n",
       "      <td>160</td>\n",
       "      <td>246</td>\n",
       "      <td>0</td>\n",
       "      <td>1</td>\n",
       "      <td>120</td>\n",
       "      <td>1</td>\n",
       "      <td>0.0</td>\n",
       "      <td>1</td>\n",
       "      <td>3</td>\n",
       "      <td>1</td>\n",
       "    </tr>\n",
       "    <tr>\n",
       "      <th>60</th>\n",
       "      <td>71</td>\n",
       "      <td>0</td>\n",
       "      <td>2</td>\n",
       "      <td>110</td>\n",
       "      <td>265</td>\n",
       "      <td>1</td>\n",
       "      <td>0</td>\n",
       "      <td>130</td>\n",
       "      <td>0</td>\n",
       "      <td>0.0</td>\n",
       "      <td>2</td>\n",
       "      <td>1</td>\n",
       "      <td>2</td>\n",
       "    </tr>\n",
       "  </tbody>\n",
       "</table>\n",
       "</div>"
      ],
      "text/plain": [
       "     age  sex  cp  trestbps  chol  fbs  restecg  thalach  exang  oldpeak  \\\n",
       "180   55    1   0       132   353    0        1      132      1      1.2   \n",
       "229   64    1   2       125   309    0        1      131      1      1.8   \n",
       "111   57    1   2       150   126    1        1      173      0      0.2   \n",
       "247   66    1   1       160   246    0        1      120      1      0.0   \n",
       "60    71    0   2       110   265    1        0      130      0      0.0   \n",
       "\n",
       "     slope  ca  thal  \n",
       "180      1   1     3  \n",
       "229      1   0     3  \n",
       "111      2   1     3  \n",
       "247      1   3     1  \n",
       "60       2   1     2  "
      ]
     },
     "execution_count": 2715,
     "metadata": {},
     "output_type": "execute_result"
    }
   ],
   "source": [
    "X1_test.head(5)"
   ]
  },
  {
   "cell_type": "markdown",
   "id": "affcfd28",
   "metadata": {},
   "source": [
    "## 2nd Train Dataset: Ratio (70:30)"
   ]
  },
  {
   "cell_type": "markdown",
   "id": "03be31b2",
   "metadata": {},
   "source": [
    "### 1. Split the data into 70:30 ratio."
   ]
  },
  {
   "cell_type": "code",
   "execution_count": 2716,
   "id": "cbcf1c15",
   "metadata": {},
   "outputs": [
    {
     "name": "stdout",
     "output_type": "stream",
     "text": [
      "Shape of X2_train:  (211, 13)\n",
      "Shape of X2_test:  (91, 13)\n",
      "\n",
      "\n",
      "Shape of y2_train:  (211,)\n",
      "Shape of y2_test:  (91,)\n"
     ]
    }
   ],
   "source": [
    "# Split the data into training and testing sets\n",
    "X2_train, X2_test, y2_train, y2_test = train_test_split(feature, target, test_size = 0.3, random_state = 42)\n",
    "\n",
    "print(\"Shape of X2_train: \", X2_train.shape)\n",
    "print(\"Shape of X2_test: \", X2_test.shape)\n",
    "print(\"\\n\")\n",
    "print(\"Shape of y2_train: \", y2_train.shape)\n",
    "print(\"Shape of y2_test: \", y2_test.shape)"
   ]
  },
  {
   "cell_type": "markdown",
   "id": "f328d8b5",
   "metadata": {},
   "source": [
    "### 2. Show the first 5 rows of X2_train set."
   ]
  },
  {
   "cell_type": "code",
   "execution_count": 2717,
   "id": "0afaf5d0",
   "metadata": {},
   "outputs": [
    {
     "data": {
      "text/html": [
       "<div>\n",
       "<style scoped>\n",
       "    .dataframe tbody tr th:only-of-type {\n",
       "        vertical-align: middle;\n",
       "    }\n",
       "\n",
       "    .dataframe tbody tr th {\n",
       "        vertical-align: top;\n",
       "    }\n",
       "\n",
       "    .dataframe thead th {\n",
       "        text-align: right;\n",
       "    }\n",
       "</style>\n",
       "<table border=\"1\" class=\"dataframe\">\n",
       "  <thead>\n",
       "    <tr style=\"text-align: right;\">\n",
       "      <th></th>\n",
       "      <th>age</th>\n",
       "      <th>sex</th>\n",
       "      <th>cp</th>\n",
       "      <th>trestbps</th>\n",
       "      <th>chol</th>\n",
       "      <th>fbs</th>\n",
       "      <th>restecg</th>\n",
       "      <th>thalach</th>\n",
       "      <th>exang</th>\n",
       "      <th>oldpeak</th>\n",
       "      <th>slope</th>\n",
       "      <th>ca</th>\n",
       "      <th>thal</th>\n",
       "    </tr>\n",
       "  </thead>\n",
       "  <tbody>\n",
       "    <tr>\n",
       "      <th>124</th>\n",
       "      <td>39</td>\n",
       "      <td>0</td>\n",
       "      <td>2</td>\n",
       "      <td>94</td>\n",
       "      <td>199</td>\n",
       "      <td>0</td>\n",
       "      <td>1</td>\n",
       "      <td>179</td>\n",
       "      <td>0</td>\n",
       "      <td>0.0</td>\n",
       "      <td>2</td>\n",
       "      <td>0</td>\n",
       "      <td>2</td>\n",
       "    </tr>\n",
       "    <tr>\n",
       "      <th>72</th>\n",
       "      <td>29</td>\n",
       "      <td>1</td>\n",
       "      <td>1</td>\n",
       "      <td>130</td>\n",
       "      <td>204</td>\n",
       "      <td>0</td>\n",
       "      <td>0</td>\n",
       "      <td>202</td>\n",
       "      <td>0</td>\n",
       "      <td>0.0</td>\n",
       "      <td>2</td>\n",
       "      <td>0</td>\n",
       "      <td>2</td>\n",
       "    </tr>\n",
       "    <tr>\n",
       "      <th>15</th>\n",
       "      <td>50</td>\n",
       "      <td>0</td>\n",
       "      <td>2</td>\n",
       "      <td>120</td>\n",
       "      <td>219</td>\n",
       "      <td>0</td>\n",
       "      <td>1</td>\n",
       "      <td>158</td>\n",
       "      <td>0</td>\n",
       "      <td>1.6</td>\n",
       "      <td>1</td>\n",
       "      <td>0</td>\n",
       "      <td>2</td>\n",
       "    </tr>\n",
       "    <tr>\n",
       "      <th>10</th>\n",
       "      <td>54</td>\n",
       "      <td>1</td>\n",
       "      <td>0</td>\n",
       "      <td>140</td>\n",
       "      <td>239</td>\n",
       "      <td>0</td>\n",
       "      <td>1</td>\n",
       "      <td>160</td>\n",
       "      <td>0</td>\n",
       "      <td>1.2</td>\n",
       "      <td>2</td>\n",
       "      <td>0</td>\n",
       "      <td>2</td>\n",
       "    </tr>\n",
       "    <tr>\n",
       "      <th>163</th>\n",
       "      <td>38</td>\n",
       "      <td>1</td>\n",
       "      <td>2</td>\n",
       "      <td>138</td>\n",
       "      <td>175</td>\n",
       "      <td>0</td>\n",
       "      <td>1</td>\n",
       "      <td>173</td>\n",
       "      <td>0</td>\n",
       "      <td>0.0</td>\n",
       "      <td>2</td>\n",
       "      <td>4</td>\n",
       "      <td>2</td>\n",
       "    </tr>\n",
       "  </tbody>\n",
       "</table>\n",
       "</div>"
      ],
      "text/plain": [
       "     age  sex  cp  trestbps  chol  fbs  restecg  thalach  exang  oldpeak  \\\n",
       "124   39    0   2        94   199    0        1      179      0      0.0   \n",
       "72    29    1   1       130   204    0        0      202      0      0.0   \n",
       "15    50    0   2       120   219    0        1      158      0      1.6   \n",
       "10    54    1   0       140   239    0        1      160      0      1.2   \n",
       "163   38    1   2       138   175    0        1      173      0      0.0   \n",
       "\n",
       "     slope  ca  thal  \n",
       "124      2   0     2  \n",
       "72       2   0     2  \n",
       "15       1   0     2  \n",
       "10       2   0     2  \n",
       "163      2   4     2  "
      ]
     },
     "execution_count": 2717,
     "metadata": {},
     "output_type": "execute_result"
    }
   ],
   "source": [
    "X2_train.head(5)"
   ]
  },
  {
   "cell_type": "markdown",
   "id": "12aa6234",
   "metadata": {},
   "source": [
    "### 3. Show the first 5 rows of X2_test set."
   ]
  },
  {
   "cell_type": "code",
   "execution_count": 2718,
   "id": "c11e1191",
   "metadata": {},
   "outputs": [
    {
     "data": {
      "text/html": [
       "<div>\n",
       "<style scoped>\n",
       "    .dataframe tbody tr th:only-of-type {\n",
       "        vertical-align: middle;\n",
       "    }\n",
       "\n",
       "    .dataframe tbody tr th {\n",
       "        vertical-align: top;\n",
       "    }\n",
       "\n",
       "    .dataframe thead th {\n",
       "        text-align: right;\n",
       "    }\n",
       "</style>\n",
       "<table border=\"1\" class=\"dataframe\">\n",
       "  <thead>\n",
       "    <tr style=\"text-align: right;\">\n",
       "      <th></th>\n",
       "      <th>age</th>\n",
       "      <th>sex</th>\n",
       "      <th>cp</th>\n",
       "      <th>trestbps</th>\n",
       "      <th>chol</th>\n",
       "      <th>fbs</th>\n",
       "      <th>restecg</th>\n",
       "      <th>thalach</th>\n",
       "      <th>exang</th>\n",
       "      <th>oldpeak</th>\n",
       "      <th>slope</th>\n",
       "      <th>ca</th>\n",
       "      <th>thal</th>\n",
       "    </tr>\n",
       "  </thead>\n",
       "  <tbody>\n",
       "    <tr>\n",
       "      <th>180</th>\n",
       "      <td>55</td>\n",
       "      <td>1</td>\n",
       "      <td>0</td>\n",
       "      <td>132</td>\n",
       "      <td>353</td>\n",
       "      <td>0</td>\n",
       "      <td>1</td>\n",
       "      <td>132</td>\n",
       "      <td>1</td>\n",
       "      <td>1.2</td>\n",
       "      <td>1</td>\n",
       "      <td>1</td>\n",
       "      <td>3</td>\n",
       "    </tr>\n",
       "    <tr>\n",
       "      <th>229</th>\n",
       "      <td>64</td>\n",
       "      <td>1</td>\n",
       "      <td>2</td>\n",
       "      <td>125</td>\n",
       "      <td>309</td>\n",
       "      <td>0</td>\n",
       "      <td>1</td>\n",
       "      <td>131</td>\n",
       "      <td>1</td>\n",
       "      <td>1.8</td>\n",
       "      <td>1</td>\n",
       "      <td>0</td>\n",
       "      <td>3</td>\n",
       "    </tr>\n",
       "    <tr>\n",
       "      <th>111</th>\n",
       "      <td>57</td>\n",
       "      <td>1</td>\n",
       "      <td>2</td>\n",
       "      <td>150</td>\n",
       "      <td>126</td>\n",
       "      <td>1</td>\n",
       "      <td>1</td>\n",
       "      <td>173</td>\n",
       "      <td>0</td>\n",
       "      <td>0.2</td>\n",
       "      <td>2</td>\n",
       "      <td>1</td>\n",
       "      <td>3</td>\n",
       "    </tr>\n",
       "    <tr>\n",
       "      <th>247</th>\n",
       "      <td>66</td>\n",
       "      <td>1</td>\n",
       "      <td>1</td>\n",
       "      <td>160</td>\n",
       "      <td>246</td>\n",
       "      <td>0</td>\n",
       "      <td>1</td>\n",
       "      <td>120</td>\n",
       "      <td>1</td>\n",
       "      <td>0.0</td>\n",
       "      <td>1</td>\n",
       "      <td>3</td>\n",
       "      <td>1</td>\n",
       "    </tr>\n",
       "    <tr>\n",
       "      <th>60</th>\n",
       "      <td>71</td>\n",
       "      <td>0</td>\n",
       "      <td>2</td>\n",
       "      <td>110</td>\n",
       "      <td>265</td>\n",
       "      <td>1</td>\n",
       "      <td>0</td>\n",
       "      <td>130</td>\n",
       "      <td>0</td>\n",
       "      <td>0.0</td>\n",
       "      <td>2</td>\n",
       "      <td>1</td>\n",
       "      <td>2</td>\n",
       "    </tr>\n",
       "  </tbody>\n",
       "</table>\n",
       "</div>"
      ],
      "text/plain": [
       "     age  sex  cp  trestbps  chol  fbs  restecg  thalach  exang  oldpeak  \\\n",
       "180   55    1   0       132   353    0        1      132      1      1.2   \n",
       "229   64    1   2       125   309    0        1      131      1      1.8   \n",
       "111   57    1   2       150   126    1        1      173      0      0.2   \n",
       "247   66    1   1       160   246    0        1      120      1      0.0   \n",
       "60    71    0   2       110   265    1        0      130      0      0.0   \n",
       "\n",
       "     slope  ca  thal  \n",
       "180      1   1     3  \n",
       "229      1   0     3  \n",
       "111      2   1     3  \n",
       "247      1   3     1  \n",
       "60       2   1     2  "
      ]
     },
     "execution_count": 2718,
     "metadata": {},
     "output_type": "execute_result"
    }
   ],
   "source": [
    "X2_test.head(5)"
   ]
  },
  {
   "cell_type": "markdown",
   "id": "40d1ad3d",
   "metadata": {},
   "source": [
    "## 3rd Train Dataset: Ratio (60:40)"
   ]
  },
  {
   "cell_type": "markdown",
   "id": "de36f5ae",
   "metadata": {},
   "source": [
    "### 1. Split the data into 60:40 ratio."
   ]
  },
  {
   "cell_type": "code",
   "execution_count": 2719,
   "id": "b4f1517f",
   "metadata": {},
   "outputs": [
    {
     "name": "stdout",
     "output_type": "stream",
     "text": [
      "Shape of X3_train:  (181, 13)\n",
      "Shape of X3_test:  (121, 13)\n",
      "\n",
      "\n",
      "Shape of y3_train:  (181,)\n",
      "Shape of y3_test:  (121,)\n"
     ]
    }
   ],
   "source": [
    "# Split the data into training and testing sets\n",
    "X3_train, X3_test, y3_train, y3_test = train_test_split(feature, target, test_size = 0.4, random_state = 42)\n",
    "\n",
    "print(\"Shape of X3_train: \", X3_train.shape)\n",
    "print(\"Shape of X3_test: \", X3_test.shape)\n",
    "print(\"\\n\")\n",
    "print(\"Shape of y3_train: \", y3_train.shape)\n",
    "print(\"Shape of y3_test: \", y3_test.shape)"
   ]
  },
  {
   "cell_type": "markdown",
   "id": "edebd67a",
   "metadata": {},
   "source": [
    "### 2. Show the first 5 rows of X3_train set."
   ]
  },
  {
   "cell_type": "code",
   "execution_count": 2720,
   "id": "96be3ceb",
   "metadata": {},
   "outputs": [
    {
     "data": {
      "text/html": [
       "<div>\n",
       "<style scoped>\n",
       "    .dataframe tbody tr th:only-of-type {\n",
       "        vertical-align: middle;\n",
       "    }\n",
       "\n",
       "    .dataframe tbody tr th {\n",
       "        vertical-align: top;\n",
       "    }\n",
       "\n",
       "    .dataframe thead th {\n",
       "        text-align: right;\n",
       "    }\n",
       "</style>\n",
       "<table border=\"1\" class=\"dataframe\">\n",
       "  <thead>\n",
       "    <tr style=\"text-align: right;\">\n",
       "      <th></th>\n",
       "      <th>age</th>\n",
       "      <th>sex</th>\n",
       "      <th>cp</th>\n",
       "      <th>trestbps</th>\n",
       "      <th>chol</th>\n",
       "      <th>fbs</th>\n",
       "      <th>restecg</th>\n",
       "      <th>thalach</th>\n",
       "      <th>exang</th>\n",
       "      <th>oldpeak</th>\n",
       "      <th>slope</th>\n",
       "      <th>ca</th>\n",
       "      <th>thal</th>\n",
       "    </tr>\n",
       "  </thead>\n",
       "  <tbody>\n",
       "    <tr>\n",
       "      <th>207</th>\n",
       "      <td>60</td>\n",
       "      <td>0</td>\n",
       "      <td>0</td>\n",
       "      <td>150</td>\n",
       "      <td>258</td>\n",
       "      <td>0</td>\n",
       "      <td>0</td>\n",
       "      <td>157</td>\n",
       "      <td>0</td>\n",
       "      <td>2.6</td>\n",
       "      <td>1</td>\n",
       "      <td>2</td>\n",
       "      <td>3</td>\n",
       "    </tr>\n",
       "    <tr>\n",
       "      <th>288</th>\n",
       "      <td>57</td>\n",
       "      <td>1</td>\n",
       "      <td>0</td>\n",
       "      <td>110</td>\n",
       "      <td>335</td>\n",
       "      <td>0</td>\n",
       "      <td>1</td>\n",
       "      <td>143</td>\n",
       "      <td>1</td>\n",
       "      <td>3.0</td>\n",
       "      <td>1</td>\n",
       "      <td>1</td>\n",
       "      <td>3</td>\n",
       "    </tr>\n",
       "    <tr>\n",
       "      <th>171</th>\n",
       "      <td>48</td>\n",
       "      <td>1</td>\n",
       "      <td>1</td>\n",
       "      <td>110</td>\n",
       "      <td>229</td>\n",
       "      <td>0</td>\n",
       "      <td>1</td>\n",
       "      <td>168</td>\n",
       "      <td>0</td>\n",
       "      <td>1.0</td>\n",
       "      <td>0</td>\n",
       "      <td>0</td>\n",
       "      <td>3</td>\n",
       "    </tr>\n",
       "    <tr>\n",
       "      <th>235</th>\n",
       "      <td>51</td>\n",
       "      <td>1</td>\n",
       "      <td>0</td>\n",
       "      <td>140</td>\n",
       "      <td>299</td>\n",
       "      <td>0</td>\n",
       "      <td>1</td>\n",
       "      <td>173</td>\n",
       "      <td>1</td>\n",
       "      <td>1.6</td>\n",
       "      <td>2</td>\n",
       "      <td>0</td>\n",
       "      <td>3</td>\n",
       "    </tr>\n",
       "    <tr>\n",
       "      <th>212</th>\n",
       "      <td>39</td>\n",
       "      <td>1</td>\n",
       "      <td>0</td>\n",
       "      <td>118</td>\n",
       "      <td>219</td>\n",
       "      <td>0</td>\n",
       "      <td>1</td>\n",
       "      <td>140</td>\n",
       "      <td>0</td>\n",
       "      <td>1.2</td>\n",
       "      <td>1</td>\n",
       "      <td>0</td>\n",
       "      <td>3</td>\n",
       "    </tr>\n",
       "  </tbody>\n",
       "</table>\n",
       "</div>"
      ],
      "text/plain": [
       "     age  sex  cp  trestbps  chol  fbs  restecg  thalach  exang  oldpeak  \\\n",
       "207   60    0   0       150   258    0        0      157      0      2.6   \n",
       "288   57    1   0       110   335    0        1      143      1      3.0   \n",
       "171   48    1   1       110   229    0        1      168      0      1.0   \n",
       "235   51    1   0       140   299    0        1      173      1      1.6   \n",
       "212   39    1   0       118   219    0        1      140      0      1.2   \n",
       "\n",
       "     slope  ca  thal  \n",
       "207      1   2     3  \n",
       "288      1   1     3  \n",
       "171      0   0     3  \n",
       "235      2   0     3  \n",
       "212      1   0     3  "
      ]
     },
     "execution_count": 2720,
     "metadata": {},
     "output_type": "execute_result"
    }
   ],
   "source": [
    "X3_train.head(5)"
   ]
  },
  {
   "cell_type": "markdown",
   "id": "9907c76b",
   "metadata": {},
   "source": [
    "### 3. Show the first 5 rows of X3_test set."
   ]
  },
  {
   "cell_type": "code",
   "execution_count": 2721,
   "id": "43b1f486",
   "metadata": {},
   "outputs": [
    {
     "data": {
      "text/html": [
       "<div>\n",
       "<style scoped>\n",
       "    .dataframe tbody tr th:only-of-type {\n",
       "        vertical-align: middle;\n",
       "    }\n",
       "\n",
       "    .dataframe tbody tr th {\n",
       "        vertical-align: top;\n",
       "    }\n",
       "\n",
       "    .dataframe thead th {\n",
       "        text-align: right;\n",
       "    }\n",
       "</style>\n",
       "<table border=\"1\" class=\"dataframe\">\n",
       "  <thead>\n",
       "    <tr style=\"text-align: right;\">\n",
       "      <th></th>\n",
       "      <th>age</th>\n",
       "      <th>sex</th>\n",
       "      <th>cp</th>\n",
       "      <th>trestbps</th>\n",
       "      <th>chol</th>\n",
       "      <th>fbs</th>\n",
       "      <th>restecg</th>\n",
       "      <th>thalach</th>\n",
       "      <th>exang</th>\n",
       "      <th>oldpeak</th>\n",
       "      <th>slope</th>\n",
       "      <th>ca</th>\n",
       "      <th>thal</th>\n",
       "    </tr>\n",
       "  </thead>\n",
       "  <tbody>\n",
       "    <tr>\n",
       "      <th>180</th>\n",
       "      <td>55</td>\n",
       "      <td>1</td>\n",
       "      <td>0</td>\n",
       "      <td>132</td>\n",
       "      <td>353</td>\n",
       "      <td>0</td>\n",
       "      <td>1</td>\n",
       "      <td>132</td>\n",
       "      <td>1</td>\n",
       "      <td>1.2</td>\n",
       "      <td>1</td>\n",
       "      <td>1</td>\n",
       "      <td>3</td>\n",
       "    </tr>\n",
       "    <tr>\n",
       "      <th>229</th>\n",
       "      <td>64</td>\n",
       "      <td>1</td>\n",
       "      <td>2</td>\n",
       "      <td>125</td>\n",
       "      <td>309</td>\n",
       "      <td>0</td>\n",
       "      <td>1</td>\n",
       "      <td>131</td>\n",
       "      <td>1</td>\n",
       "      <td>1.8</td>\n",
       "      <td>1</td>\n",
       "      <td>0</td>\n",
       "      <td>3</td>\n",
       "    </tr>\n",
       "    <tr>\n",
       "      <th>111</th>\n",
       "      <td>57</td>\n",
       "      <td>1</td>\n",
       "      <td>2</td>\n",
       "      <td>150</td>\n",
       "      <td>126</td>\n",
       "      <td>1</td>\n",
       "      <td>1</td>\n",
       "      <td>173</td>\n",
       "      <td>0</td>\n",
       "      <td>0.2</td>\n",
       "      <td>2</td>\n",
       "      <td>1</td>\n",
       "      <td>3</td>\n",
       "    </tr>\n",
       "    <tr>\n",
       "      <th>247</th>\n",
       "      <td>66</td>\n",
       "      <td>1</td>\n",
       "      <td>1</td>\n",
       "      <td>160</td>\n",
       "      <td>246</td>\n",
       "      <td>0</td>\n",
       "      <td>1</td>\n",
       "      <td>120</td>\n",
       "      <td>1</td>\n",
       "      <td>0.0</td>\n",
       "      <td>1</td>\n",
       "      <td>3</td>\n",
       "      <td>1</td>\n",
       "    </tr>\n",
       "    <tr>\n",
       "      <th>60</th>\n",
       "      <td>71</td>\n",
       "      <td>0</td>\n",
       "      <td>2</td>\n",
       "      <td>110</td>\n",
       "      <td>265</td>\n",
       "      <td>1</td>\n",
       "      <td>0</td>\n",
       "      <td>130</td>\n",
       "      <td>0</td>\n",
       "      <td>0.0</td>\n",
       "      <td>2</td>\n",
       "      <td>1</td>\n",
       "      <td>2</td>\n",
       "    </tr>\n",
       "  </tbody>\n",
       "</table>\n",
       "</div>"
      ],
      "text/plain": [
       "     age  sex  cp  trestbps  chol  fbs  restecg  thalach  exang  oldpeak  \\\n",
       "180   55    1   0       132   353    0        1      132      1      1.2   \n",
       "229   64    1   2       125   309    0        1      131      1      1.8   \n",
       "111   57    1   2       150   126    1        1      173      0      0.2   \n",
       "247   66    1   1       160   246    0        1      120      1      0.0   \n",
       "60    71    0   2       110   265    1        0      130      0      0.0   \n",
       "\n",
       "     slope  ca  thal  \n",
       "180      1   1     3  \n",
       "229      1   0     3  \n",
       "111      2   1     3  \n",
       "247      1   3     1  \n",
       "60       2   1     2  "
      ]
     },
     "execution_count": 2721,
     "metadata": {},
     "output_type": "execute_result"
    }
   ],
   "source": [
    "X3_test.head(5)"
   ]
  },
  {
   "cell_type": "markdown",
   "id": "f048afa3",
   "metadata": {},
   "source": [
    "# Step 5 - Train Model with Different Ratios (Without Feature Selection and Parameter Tuning)"
   ]
  },
  {
   "cell_type": "markdown",
   "id": "5f4a8d3b",
   "metadata": {},
   "source": [
    "**Objective:** To choose the **most suitable ratios** and **use that ratio only** for testing different cases."
   ]
  },
  {
   "cell_type": "markdown",
   "id": "eaa6fc0d",
   "metadata": {},
   "source": [
    "### 1. Import model of K-Nearest Neighbor (KNN)."
   ]
  },
  {
   "cell_type": "code",
   "execution_count": 2722,
   "id": "9df0a47f",
   "metadata": {},
   "outputs": [],
   "source": [
    "from sklearn.neighbors import KNeighborsClassifier\n",
    "from sklearn.preprocessing import StandardScaler\n",
    "from sklearn import metrics\n",
    "import matplotlib.pyplot as plt"
   ]
  },
  {
   "cell_type": "markdown",
   "id": "dbff3f18",
   "metadata": {},
   "source": [
    "## Ratio (80:20)"
   ]
  },
  {
   "cell_type": "markdown",
   "id": "f7185ba9",
   "metadata": {},
   "source": [
    "### 1. Scale the features."
   ]
  },
  {
   "cell_type": "code",
   "execution_count": 2723,
   "id": "deb192fa",
   "metadata": {},
   "outputs": [],
   "source": [
    "scaler = StandardScaler()\n",
    "X1_train_scaled = scaler.fit_transform(X1_train)\n",
    "X1_test_scaled = scaler.transform(X1_test)"
   ]
  },
  {
   "cell_type": "markdown",
   "id": "b5ea284b",
   "metadata": {},
   "source": [
    "### 2. Running from K = 1 through 65 and record testing accuracy."
   ]
  },
  {
   "cell_type": "code",
   "execution_count": 2724,
   "id": "4d2ffdd1",
   "metadata": {},
   "outputs": [],
   "source": [
    "k_range = range(1,66)\n",
    "scores = {}\n",
    "scores_list = []\n",
    "for k in k_range:\n",
    "        knn = KNeighborsClassifier(n_neighbors = k)\n",
    "        knn.fit(X1_train_scaled, y1_train)\n",
    "        knn_pred1 = knn.predict(X1_test_scaled)\n",
    "        scores[k] = metrics.accuracy_score(y1_test, knn_pred1)\n",
    "        scores_list.append(metrics.accuracy_score(y1_test, knn_pred1))"
   ]
  },
  {
   "cell_type": "markdown",
   "id": "43e0201a",
   "metadata": {},
   "source": [
    "### 3. Testing accuracy for each value of K and show the highest"
   ]
  },
  {
   "cell_type": "code",
   "execution_count": 2725,
   "id": "60514f6f",
   "metadata": {
    "scrolled": true
   },
   "outputs": [
    {
     "name": "stdout",
     "output_type": "stream",
     "text": [
      "Largest value of K:  5\n",
      "Scores:  0.9180327868852459\n"
     ]
    }
   ],
   "source": [
    "# Find the key with the largest value\n",
    "largest_k = max(scores, key = scores.get)\n",
    "\n",
    "# Retrieve the largest value\n",
    "largest_scores = scores[largest_k]\n",
    "\n",
    "# Print the largest key-value pair\n",
    "print(\"Largest value of K: \", largest_k)\n",
    "print(\"Scores: \", largest_scores)"
   ]
  },
  {
   "cell_type": "markdown",
   "id": "46921330",
   "metadata": {},
   "source": [
    "### 4. Plot the relationship between K and the testing accuracy."
   ]
  },
  {
   "cell_type": "code",
   "execution_count": 2726,
   "id": "03dfcff0",
   "metadata": {
    "scrolled": false
   },
   "outputs": [
    {
     "data": {
      "text/plain": [
       "Text(0, 0.5, 'Testing Accuracy')"
      ]
     },
     "execution_count": 2726,
     "metadata": {},
     "output_type": "execute_result"
    },
    {
     "data": {
      "image/png": "[encoded data removed]",
      "text/plain": [
       "<Figure size 640x480 with 1 Axes>"
      ]
     },
     "metadata": {},
     "output_type": "display_data"
    }
   ],
   "source": [
    "plt.plot(k_range, scores_list)\n",
    "plt.xlabel(\"Value of K for KNN\")\n",
    "plt.ylabel(\"Testing Accuracy\")"
   ]
  },
  {
   "cell_type": "markdown",
   "id": "e0b06a3f",
   "metadata": {},
   "source": [
    "### 5. Train the data with largest value of K."
   ]
  },
  {
   "cell_type": "code",
   "execution_count": 2727,
   "id": "d9c814c3",
   "metadata": {
    "scrolled": true
   },
   "outputs": [
    {
     "data": {
      "text/html": [
       "<style>#sk-container-id-307 {color: black;background-color: white;}#sk-container-id-307 pre{padding: 0;}#sk-container-id-307 div.sk-toggleable {background-color: white;}#sk-container-id-307 label.sk-toggleable__label {cursor: pointer;display: block;width: 100%;margin-bottom: 0;padding: 0.3em;box-sizing: border-box;text-align: center;}#sk-container-id-307 label.sk-toggleable__label-arrow:before {content: \"▸\";float: left;margin-right: 0.25em;color: #696969;}#sk-container-id-307 label.sk-toggleable__label-arrow:hover:before {color: black;}#sk-container-id-307 div.sk-estimator:hover label.sk-toggleable__label-arrow:before {color: black;}#sk-container-id-307 div.sk-toggleable__content {max-height: 0;max-width: 0;overflow: hidden;text-align: left;background-color: #f0f8ff;}#sk-container-id-307 div.sk-toggleable__content pre {margin: 0.2em;color: black;border-radius: 0.25em;background-color: #f0f8ff;}#sk-container-id-307 input.sk-toggleable__control:checked~div.sk-toggleable__content {max-height: 200px;max-width: 100%;overflow: auto;}#sk-container-id-307 input.sk-toggleable__control:checked~label.sk-toggleable__label-arrow:before {content: \"▾\";}#sk-container-id-307 div.sk-estimator input.sk-toggleable__control:checked~label.sk-toggleable__label {background-color: #d4ebff;}#sk-container-id-307 div.sk-label input.sk-toggleable__control:checked~label.sk-toggleable__label {background-color: #d4ebff;}#sk-container-id-307 input.sk-hidden--visually {border: 0;clip: rect(1px 1px 1px 1px);clip: rect(1px, 1px, 1px, 1px);height: 1px;margin: -1px;overflow: hidden;padding: 0;position: absolute;width: 1px;}#sk-container-id-307 div.sk-estimator {font-family: monospace;background-color: #f0f8ff;border: 1px dotted black;border-radius: 0.25em;box-sizing: border-box;margin-bottom: 0.5em;}#sk-container-id-307 div.sk-estimator:hover {background-color: #d4ebff;}#sk-container-id-307 div.sk-parallel-item::after {content: \"\";width: 100%;border-bottom: 1px solid gray;flex-grow: 1;}#sk-container-id-307 div.sk-label:hover label.sk-toggleable__label {background-color: #d4ebff;}#sk-container-id-307 div.sk-serial::before {content: \"\";position: absolute;border-left: 1px solid gray;box-sizing: border-box;top: 0;bottom: 0;left: 50%;z-index: 0;}#sk-container-id-307 div.sk-serial {display: flex;flex-direction: column;align-items: center;background-color: white;padding-right: 0.2em;padding-left: 0.2em;position: relative;}#sk-container-id-307 div.sk-item {position: relative;z-index: 1;}#sk-container-id-307 div.sk-parallel {display: flex;align-items: stretch;justify-content: center;background-color: white;position: relative;}#sk-container-id-307 div.sk-item::before, #sk-container-id-307 div.sk-parallel-item::before {content: \"\";position: absolute;border-left: 1px solid gray;box-sizing: border-box;top: 0;bottom: 0;left: 50%;z-index: -1;}#sk-container-id-307 div.sk-parallel-item {display: flex;flex-direction: column;z-index: 1;position: relative;background-color: white;}#sk-container-id-307 div.sk-parallel-item:first-child::after {align-self: flex-end;width: 50%;}#sk-container-id-307 div.sk-parallel-item:last-child::after {align-self: flex-start;width: 50%;}#sk-container-id-307 div.sk-parallel-item:only-child::after {width: 0;}#sk-container-id-307 div.sk-dashed-wrapped {border: 1px dashed gray;margin: 0 0.4em 0.5em 0.4em;box-sizing: border-box;padding-bottom: 0.4em;background-color: white;}#sk-container-id-307 div.sk-label label {font-family: monospace;font-weight: bold;display: inline-block;line-height: 1.2em;}#sk-container-id-307 div.sk-label-container {text-align: center;}#sk-container-id-307 div.sk-container {/* jupyter's `normalize.less` sets `[hidden] { display: none; }` but bootstrap.min.css set `[hidden] { display: none !important; }` so we also need the `!important` here to be able to override the default hidden behavior on the sphinx rendered scikit-learn.org. See: https://github.com/scikit-learn/scikit-learn/issues/21755 */display: inline-block !important;position: relative;}#sk-container-id-307 div.sk-text-repr-fallback {display: none;}</style><div id=\"sk-container-id-307\" class=\"sk-top-container\"><div class=\"sk-text-repr-fallback\"><pre>KNeighborsClassifier()</pre><b>In a Jupyter environment, please rerun this cell to show the HTML representation or trust the notebook. <br />On GitHub, the HTML representation is unable to render, please try loading this page with nbviewer.org.</b></div><div class=\"sk-container\" hidden><div class=\"sk-item\"><div class=\"sk-estimator sk-toggleable\"><input class=\"sk-toggleable__control sk-hidden--visually\" id=\"sk-estimator-id-307\" type=\"checkbox\" checked><label for=\"sk-estimator-id-307\" class=\"sk-toggleable__label sk-toggleable__label-arrow\">KNeighborsClassifier</label><div class=\"sk-toggleable__content\"><pre>KNeighborsClassifier()</pre></div></div></div></div></div>"
      ],
      "text/plain": [
       "KNeighborsClassifier()"
      ]
     },
     "execution_count": 2727,
     "metadata": {},
     "output_type": "execute_result"
    }
   ],
   "source": [
    "knn1 = KNeighborsClassifier(n_neighbors = largest_k)\n",
    "knn1.fit(X1_train_scaled, y1_train)"
   ]
  },
  {
   "cell_type": "markdown",
   "id": "b6d93df8",
   "metadata": {},
   "source": [
    "### 6. Make prediction with test dataset."
   ]
  },
  {
   "cell_type": "code",
   "execution_count": 2728,
   "id": "7ce91990",
   "metadata": {
    "scrolled": true
   },
   "outputs": [
    {
     "data": {
      "text/plain": [
       "array([0, 0, 1, 0, 1, 1, 1, 0, 0, 1, 1, 0, 1, 0, 1, 1, 1, 0, 0, 0, 0, 0,\n",
       "       0, 1, 1, 1, 0, 1, 0, 1, 0, 0, 0, 0, 1, 0, 1, 1, 1, 1, 1, 1, 1, 1,\n",
       "       1, 0, 0, 1, 0, 0, 0, 0, 1, 1, 0, 0, 0, 1, 0, 0, 0], dtype=int64)"
      ]
     },
     "execution_count": 2728,
     "metadata": {},
     "output_type": "execute_result"
    }
   ],
   "source": [
    "knn_pred1 = knn1.predict(X1_test_scaled)\n",
    "knn_pred1"
   ]
  },
  {
   "cell_type": "markdown",
   "id": "fcd38139",
   "metadata": {},
   "source": [
    "## Ratio (70:30)"
   ]
  },
  {
   "cell_type": "markdown",
   "id": "59d2ef64",
   "metadata": {},
   "source": [
    "### 1. Scale the features."
   ]
  },
  {
   "cell_type": "code",
   "execution_count": 2729,
   "id": "2392abc8",
   "metadata": {},
   "outputs": [],
   "source": [
    "scaler = StandardScaler()\n",
    "X2_train_scaled = scaler.fit_transform(X2_train)\n",
    "X2_test_scaled = scaler.transform(X2_test)"
   ]
  },
  {
   "cell_type": "markdown",
   "id": "67bd87e8",
   "metadata": {},
   "source": [
    "### 2. Running from K = 1 through 65 and record testing accuracy."
   ]
  },
  {
   "cell_type": "code",
   "execution_count": 2730,
   "id": "ad2fc84c",
   "metadata": {},
   "outputs": [],
   "source": [
    "k_range = range(1,66)\n",
    "scores = {}\n",
    "scores_list = []\n",
    "for k in k_range:\n",
    "        knn = KNeighborsClassifier(n_neighbors = k)\n",
    "        knn.fit(X2_train_scaled, y2_train)\n",
    "        knn_pred2 = knn.predict(X2_test_scaled)\n",
    "        scores[k] = metrics.accuracy_score(y2_test, knn_pred2)\n",
    "        scores_list.append(metrics.accuracy_score(y2_test, knn_pred2))"
   ]
  },
  {
   "cell_type": "markdown",
   "id": "571b4626",
   "metadata": {},
   "source": [
    "### 3. Testing accuracy for each value of K and show the highest"
   ]
  },
  {
   "cell_type": "code",
   "execution_count": 2731,
   "id": "91a1c5ec",
   "metadata": {
    "scrolled": true
   },
   "outputs": [
    {
     "name": "stdout",
     "output_type": "stream",
     "text": [
      "Largest value of K:  5\n",
      "Scores:  0.8571428571428571\n"
     ]
    }
   ],
   "source": [
    "# Find the key with the largest value\n",
    "largest_k = max(scores, key = scores.get)\n",
    "\n",
    "# Retrieve the largest value\n",
    "largest_scores = scores[largest_k]\n",
    "\n",
    "# Print the largest key-value pair\n",
    "print(\"Largest value of K: \", largest_k)\n",
    "print(\"Scores: \", largest_scores)"
   ]
  },
  {
   "cell_type": "markdown",
   "id": "d8b14b2c",
   "metadata": {},
   "source": [
    "### 4. Plot the relationship between K and the testing accuracy."
   ]
  },
  {
   "cell_type": "code",
   "execution_count": 2732,
   "id": "e508b3c9",
   "metadata": {
    "scrolled": false
   },
   "outputs": [
    {
     "data": {
      "text/plain": [
       "Text(0, 0.5, 'Testing Accuracy')"
      ]
     },
     "execution_count": 2732,
     "metadata": {},
     "output_type": "execute_result"
    },
    {
     "data": {
      "image/png": "[encoded data removed]",
      "text/plain": [
       "<Figure size 640x480 with 1 Axes>"
      ]
     },
     "metadata": {},
     "output_type": "display_data"
    }
   ],
   "source": [
    "plt.plot(k_range, scores_list)\n",
    "plt.xlabel(\"Value of K for KNN\")\n",
    "plt.ylabel(\"Testing Accuracy\")"
   ]
  },
  {
   "cell_type": "markdown",
   "id": "02614943",
   "metadata": {},
   "source": [
    "### 5. Train the data with largest value of K."
   ]
  },
  {
   "cell_type": "code",
   "execution_count": 2733,
   "id": "412cf7ff",
   "metadata": {
    "scrolled": true
   },
   "outputs": [
    {
     "data": {
      "text/html": [
       "<style>#sk-container-id-308 {color: black;background-color: white;}#sk-container-id-308 pre{padding: 0;}#sk-container-id-308 div.sk-toggleable {background-color: white;}#sk-container-id-308 label.sk-toggleable__label {cursor: pointer;display: block;width: 100%;margin-bottom: 0;padding: 0.3em;box-sizing: border-box;text-align: center;}#sk-container-id-308 label.sk-toggleable__label-arrow:before {content: \"▸\";float: left;margin-right: 0.25em;color: #696969;}#sk-container-id-308 label.sk-toggleable__label-arrow:hover:before {color: black;}#sk-container-id-308 div.sk-estimator:hover label.sk-toggleable__label-arrow:before {color: black;}#sk-container-id-308 div.sk-toggleable__content {max-height: 0;max-width: 0;overflow: hidden;text-align: left;background-color: #f0f8ff;}#sk-container-id-308 div.sk-toggleable__content pre {margin: 0.2em;color: black;border-radius: 0.25em;background-color: #f0f8ff;}#sk-container-id-308 input.sk-toggleable__control:checked~div.sk-toggleable__content {max-height: 200px;max-width: 100%;overflow: auto;}#sk-container-id-308 input.sk-toggleable__control:checked~label.sk-toggleable__label-arrow:before {content: \"▾\";}#sk-container-id-308 div.sk-estimator input.sk-toggleable__control:checked~label.sk-toggleable__label {background-color: #d4ebff;}#sk-container-id-308 div.sk-label input.sk-toggleable__control:checked~label.sk-toggleable__label {background-color: #d4ebff;}#sk-container-id-308 input.sk-hidden--visually {border: 0;clip: rect(1px 1px 1px 1px);clip: rect(1px, 1px, 1px, 1px);height: 1px;margin: -1px;overflow: hidden;padding: 0;position: absolute;width: 1px;}#sk-container-id-308 div.sk-estimator {font-family: monospace;background-color: #f0f8ff;border: 1px dotted black;border-radius: 0.25em;box-sizing: border-box;margin-bottom: 0.5em;}#sk-container-id-308 div.sk-estimator:hover {background-color: #d4ebff;}#sk-container-id-308 div.sk-parallel-item::after {content: \"\";width: 100%;border-bottom: 1px solid gray;flex-grow: 1;}#sk-container-id-308 div.sk-label:hover label.sk-toggleable__label {background-color: #d4ebff;}#sk-container-id-308 div.sk-serial::before {content: \"\";position: absolute;border-left: 1px solid gray;box-sizing: border-box;top: 0;bottom: 0;left: 50%;z-index: 0;}#sk-container-id-308 div.sk-serial {display: flex;flex-direction: column;align-items: center;background-color: white;padding-right: 0.2em;padding-left: 0.2em;position: relative;}#sk-container-id-308 div.sk-item {position: relative;z-index: 1;}#sk-container-id-308 div.sk-parallel {display: flex;align-items: stretch;justify-content: center;background-color: white;position: relative;}#sk-container-id-308 div.sk-item::before, #sk-container-id-308 div.sk-parallel-item::before {content: \"\";position: absolute;border-left: 1px solid gray;box-sizing: border-box;top: 0;bottom: 0;left: 50%;z-index: -1;}#sk-container-id-308 div.sk-parallel-item {display: flex;flex-direction: column;z-index: 1;position: relative;background-color: white;}#sk-container-id-308 div.sk-parallel-item:first-child::after {align-self: flex-end;width: 50%;}#sk-container-id-308 div.sk-parallel-item:last-child::after {align-self: flex-start;width: 50%;}#sk-container-id-308 div.sk-parallel-item:only-child::after {width: 0;}#sk-container-id-308 div.sk-dashed-wrapped {border: 1px dashed gray;margin: 0 0.4em 0.5em 0.4em;box-sizing: border-box;padding-bottom: 0.4em;background-color: white;}#sk-container-id-308 div.sk-label label {font-family: monospace;font-weight: bold;display: inline-block;line-height: 1.2em;}#sk-container-id-308 div.sk-label-container {text-align: center;}#sk-container-id-308 div.sk-container {/* jupyter's `normalize.less` sets `[hidden] { display: none; }` but bootstrap.min.css set `[hidden] { display: none !important; }` so we also need the `!important` here to be able to override the default hidden behavior on the sphinx rendered scikit-learn.org. See: https://github.com/scikit-learn/scikit-learn/issues/21755 */display: inline-block !important;position: relative;}#sk-container-id-308 div.sk-text-repr-fallback {display: none;}</style><div id=\"sk-container-id-308\" class=\"sk-top-container\"><div class=\"sk-text-repr-fallback\"><pre>KNeighborsClassifier()</pre><b>In a Jupyter environment, please rerun this cell to show the HTML representation or trust the notebook. <br />On GitHub, the HTML representation is unable to render, please try loading this page with nbviewer.org.</b></div><div class=\"sk-container\" hidden><div class=\"sk-item\"><div class=\"sk-estimator sk-toggleable\"><input class=\"sk-toggleable__control sk-hidden--visually\" id=\"sk-estimator-id-308\" type=\"checkbox\" checked><label for=\"sk-estimator-id-308\" class=\"sk-toggleable__label sk-toggleable__label-arrow\">KNeighborsClassifier</label><div class=\"sk-toggleable__content\"><pre>KNeighborsClassifier()</pre></div></div></div></div></div>"
      ],
      "text/plain": [
       "KNeighborsClassifier()"
      ]
     },
     "execution_count": 2733,
     "metadata": {},
     "output_type": "execute_result"
    }
   ],
   "source": [
    "knn2 = KNeighborsClassifier(n_neighbors = largest_k)\n",
    "knn2.fit(X2_train_scaled, y2_train)"
   ]
  },
  {
   "cell_type": "markdown",
   "id": "0c4d4e16",
   "metadata": {},
   "source": [
    "### 6. Make prediction with test dataset."
   ]
  },
  {
   "cell_type": "code",
   "execution_count": 2734,
   "id": "aec80314",
   "metadata": {
    "scrolled": true
   },
   "outputs": [
    {
     "data": {
      "text/plain": [
       "array([0, 0, 1, 0, 1, 1, 1, 0, 0, 1, 1, 0, 1, 0, 1, 1, 1, 0, 0, 0, 0, 0,\n",
       "       0, 1, 1, 1, 0, 1, 0, 1, 0, 0, 0, 0, 1, 0, 1, 1, 1, 1, 1, 1, 1, 1,\n",
       "       1, 0, 0, 1, 0, 0, 0, 0, 1, 1, 0, 0, 0, 1, 0, 0, 0, 1, 1, 0, 1, 1,\n",
       "       1, 0, 1, 0, 1, 1, 1, 1, 0, 1, 1, 1, 0, 0, 0, 1, 1, 1, 1, 0, 0, 1,\n",
       "       1, 1, 1], dtype=int64)"
      ]
     },
     "execution_count": 2734,
     "metadata": {},
     "output_type": "execute_result"
    }
   ],
   "source": [
    "knn_pred2 = knn2.predict(X2_test_scaled)\n",
    "knn_pred2"
   ]
  },
  {
   "cell_type": "markdown",
   "id": "4a362d70",
   "metadata": {},
   "source": [
    "## Ratio (60:40)"
   ]
  },
  {
   "cell_type": "markdown",
   "id": "4b363f77",
   "metadata": {},
   "source": [
    "### 1. Scale the features."
   ]
  },
  {
   "cell_type": "code",
   "execution_count": 2735,
   "id": "eb94cf2b",
   "metadata": {},
   "outputs": [],
   "source": [
    "scaler = StandardScaler()\n",
    "X3_train_scaled = scaler.fit_transform(X3_train)\n",
    "X3_test_scaled = scaler.transform(X3_test)"
   ]
  },
  {
   "cell_type": "markdown",
   "id": "867ab8e6",
   "metadata": {},
   "source": [
    "### 2. Running from K = 1 through 65 and record testing accuracy."
   ]
  },
  {
   "cell_type": "code",
   "execution_count": 2736,
   "id": "d9a7442f",
   "metadata": {},
   "outputs": [],
   "source": [
    "k_range = range(1,66)\n",
    "scores = {}\n",
    "scores_list = []\n",
    "for k in k_range:\n",
    "        knn = KNeighborsClassifier(n_neighbors = k)\n",
    "        knn.fit(X3_train_scaled, y3_train)\n",
    "        knn_pred3 = knn.predict(X3_test_scaled)\n",
    "        scores[k] = metrics.accuracy_score(y3_test, knn_pred3)\n",
    "        scores_list.append(metrics.accuracy_score(y3_test, knn_pred3))"
   ]
  },
  {
   "cell_type": "markdown",
   "id": "39823b73",
   "metadata": {},
   "source": [
    "### 3. Testing accuracy for each value of K and show the highest"
   ]
  },
  {
   "cell_type": "code",
   "execution_count": 2737,
   "id": "0e0a8545",
   "metadata": {
    "scrolled": true
   },
   "outputs": [
    {
     "name": "stdout",
     "output_type": "stream",
     "text": [
      "Largest value of K:  13\n",
      "Scores:  0.859504132231405\n"
     ]
    }
   ],
   "source": [
    "# Find the key with the largest value\n",
    "largest_k = max(scores, key = scores.get)\n",
    "\n",
    "# Retrieve the largest value\n",
    "largest_scores = scores[largest_k]\n",
    "\n",
    "# Print the largest key-value pair\n",
    "print(\"Largest value of K: \", largest_k)\n",
    "print(\"Scores: \", largest_scores)"
   ]
  },
  {
   "cell_type": "markdown",
   "id": "cac0648d",
   "metadata": {},
   "source": [
    "### 4. Plot the relationship between K and the testing accuracy."
   ]
  },
  {
   "cell_type": "code",
   "execution_count": 2738,
   "id": "5772b11c",
   "metadata": {
    "scrolled": false
   },
   "outputs": [
    {
     "data": {
      "text/plain": [
       "Text(0, 0.5, 'Testing Accuracy')"
      ]
     },
     "execution_count": 2738,
     "metadata": {},
     "output_type": "execute_result"
    },
    {
     "data": {
      "image/png": "[encoded data removed]",
      "text/plain": [
       "<Figure size 640x480 with 1 Axes>"
      ]
     },
     "metadata": {},
     "output_type": "display_data"
    }
   ],
   "source": [
    "plt.plot(k_range, scores_list)\n",
    "plt.xlabel(\"Value of K for KNN\")\n",
    "plt.ylabel(\"Testing Accuracy\")"
   ]
  },
  {
   "cell_type": "markdown",
   "id": "050315c2",
   "metadata": {},
   "source": [
    "### 5. Train the data with largest value of K."
   ]
  },
  {
   "cell_type": "code",
   "execution_count": 2739,
   "id": "ef6a3440",
   "metadata": {
    "scrolled": true
   },
   "outputs": [
    {
     "data": {
      "text/html": [
       "<style>#sk-container-id-309 {color: black;background-color: white;}#sk-container-id-309 pre{padding: 0;}#sk-container-id-309 div.sk-toggleable {background-color: white;}#sk-container-id-309 label.sk-toggleable__label {cursor: pointer;display: block;width: 100%;margin-bottom: 0;padding: 0.3em;box-sizing: border-box;text-align: center;}#sk-container-id-309 label.sk-toggleable__label-arrow:before {content: \"▸\";float: left;margin-right: 0.25em;color: #696969;}#sk-container-id-309 label.sk-toggleable__label-arrow:hover:before {color: black;}#sk-container-id-309 div.sk-estimator:hover label.sk-toggleable__label-arrow:before {color: black;}#sk-container-id-309 div.sk-toggleable__content {max-height: 0;max-width: 0;overflow: hidden;text-align: left;background-color: #f0f8ff;}#sk-container-id-309 div.sk-toggleable__content pre {margin: 0.2em;color: black;border-radius: 0.25em;background-color: #f0f8ff;}#sk-container-id-309 input.sk-toggleable__control:checked~div.sk-toggleable__content {max-height: 200px;max-width: 100%;overflow: auto;}#sk-container-id-309 input.sk-toggleable__control:checked~label.sk-toggleable__label-arrow:before {content: \"▾\";}#sk-container-id-309 div.sk-estimator input.sk-toggleable__control:checked~label.sk-toggleable__label {background-color: #d4ebff;}#sk-container-id-309 div.sk-label input.sk-toggleable__control:checked~label.sk-toggleable__label {background-color: #d4ebff;}#sk-container-id-309 input.sk-hidden--visually {border: 0;clip: rect(1px 1px 1px 1px);clip: rect(1px, 1px, 1px, 1px);height: 1px;margin: -1px;overflow: hidden;padding: 0;position: absolute;width: 1px;}#sk-container-id-309 div.sk-estimator {font-family: monospace;background-color: #f0f8ff;border: 1px dotted black;border-radius: 0.25em;box-sizing: border-box;margin-bottom: 0.5em;}#sk-container-id-309 div.sk-estimator:hover {background-color: #d4ebff;}#sk-container-id-309 div.sk-parallel-item::after {content: \"\";width: 100%;border-bottom: 1px solid gray;flex-grow: 1;}#sk-container-id-309 div.sk-label:hover label.sk-toggleable__label {background-color: #d4ebff;}#sk-container-id-309 div.sk-serial::before {content: \"\";position: absolute;border-left: 1px solid gray;box-sizing: border-box;top: 0;bottom: 0;left: 50%;z-index: 0;}#sk-container-id-309 div.sk-serial {display: flex;flex-direction: column;align-items: center;background-color: white;padding-right: 0.2em;padding-left: 0.2em;position: relative;}#sk-container-id-309 div.sk-item {position: relative;z-index: 1;}#sk-container-id-309 div.sk-parallel {display: flex;align-items: stretch;justify-content: center;background-color: white;position: relative;}#sk-container-id-309 div.sk-item::before, #sk-container-id-309 div.sk-parallel-item::before {content: \"\";position: absolute;border-left: 1px solid gray;box-sizing: border-box;top: 0;bottom: 0;left: 50%;z-index: -1;}#sk-container-id-309 div.sk-parallel-item {display: flex;flex-direction: column;z-index: 1;position: relative;background-color: white;}#sk-container-id-309 div.sk-parallel-item:first-child::after {align-self: flex-end;width: 50%;}#sk-container-id-309 div.sk-parallel-item:last-child::after {align-self: flex-start;width: 50%;}#sk-container-id-309 div.sk-parallel-item:only-child::after {width: 0;}#sk-container-id-309 div.sk-dashed-wrapped {border: 1px dashed gray;margin: 0 0.4em 0.5em 0.4em;box-sizing: border-box;padding-bottom: 0.4em;background-color: white;}#sk-container-id-309 div.sk-label label {font-family: monospace;font-weight: bold;display: inline-block;line-height: 1.2em;}#sk-container-id-309 div.sk-label-container {text-align: center;}#sk-container-id-309 div.sk-container {/* jupyter's `normalize.less` sets `[hidden] { display: none; }` but bootstrap.min.css set `[hidden] { display: none !important; }` so we also need the `!important` here to be able to override the default hidden behavior on the sphinx rendered scikit-learn.org. See: https://github.com/scikit-learn/scikit-learn/issues/21755 */display: inline-block !important;position: relative;}#sk-container-id-309 div.sk-text-repr-fallback {display: none;}</style><div id=\"sk-container-id-309\" class=\"sk-top-container\"><div class=\"sk-text-repr-fallback\"><pre>KNeighborsClassifier(n_neighbors=13)</pre><b>In a Jupyter environment, please rerun this cell to show the HTML representation or trust the notebook. <br />On GitHub, the HTML representation is unable to render, please try loading this page with nbviewer.org.</b></div><div class=\"sk-container\" hidden><div class=\"sk-item\"><div class=\"sk-estimator sk-toggleable\"><input class=\"sk-toggleable__control sk-hidden--visually\" id=\"sk-estimator-id-309\" type=\"checkbox\" checked><label for=\"sk-estimator-id-309\" class=\"sk-toggleable__label sk-toggleable__label-arrow\">KNeighborsClassifier</label><div class=\"sk-toggleable__content\"><pre>KNeighborsClassifier(n_neighbors=13)</pre></div></div></div></div></div>"
      ],
      "text/plain": [
       "KNeighborsClassifier(n_neighbors=13)"
      ]
     },
     "execution_count": 2739,
     "metadata": {},
     "output_type": "execute_result"
    }
   ],
   "source": [
    "knn3 = KNeighborsClassifier(n_neighbors = largest_k)\n",
    "knn3.fit(X3_train_scaled, y3_train)"
   ]
  },
  {
   "cell_type": "markdown",
   "id": "2d2686d0",
   "metadata": {},
   "source": [
    "### 6. Make prediction with test dataset."
   ]
  },
  {
   "cell_type": "code",
   "execution_count": 2740,
   "id": "1ffda9bb",
   "metadata": {
    "scrolled": true
   },
   "outputs": [
    {
     "data": {
      "text/plain": [
       "array([0, 0, 1, 0, 1, 1, 0, 0, 0, 1, 1, 0, 1, 0, 1, 1, 1, 0, 0, 0, 1, 0,\n",
       "       0, 1, 1, 1, 0, 1, 0, 1, 0, 0, 0, 0, 1, 0, 1, 1, 1, 1, 0, 0, 1, 1,\n",
       "       1, 0, 0, 1, 0, 0, 0, 0, 1, 1, 0, 0, 0, 1, 0, 0, 1], dtype=int64)"
      ]
     },
     "execution_count": 2740,
     "metadata": {},
     "output_type": "execute_result"
    }
   ],
   "source": [
    "knn_pred1 = knn3.predict(X1_test_scaled)\n",
    "knn_pred1"
   ]
  },
  {
   "cell_type": "markdown",
   "id": "080d394c",
   "metadata": {},
   "source": [
    "# Step 6 - Overfitting Test"
   ]
  },
  {
   "cell_type": "markdown",
   "id": "b6232d29",
   "metadata": {},
   "source": [
    "### 1. Import library."
   ]
  },
  {
   "cell_type": "code",
   "execution_count": 2741,
   "id": "79069ac4",
   "metadata": {},
   "outputs": [],
   "source": [
    "from sklearn.metrics import mean_squared_error"
   ]
  },
  {
   "cell_type": "markdown",
   "id": "c59e1435",
   "metadata": {},
   "source": [
    "## Ratio (80:20)"
   ]
  },
  {
   "cell_type": "markdown",
   "id": "96f2f593",
   "metadata": {},
   "source": [
    "### 1. Make prediction with train dataset."
   ]
  },
  {
   "cell_type": "code",
   "execution_count": 2742,
   "id": "104f1fc8",
   "metadata": {},
   "outputs": [
    {
     "data": {
      "text/plain": [
       "array([1, 1, 0, 1, 1, 1, 0, 1, 0, 1, 1, 1, 1, 0, 1, 1, 1, 0, 0, 0, 0, 1,\n",
       "       1, 1, 0, 0, 1, 1, 1, 1, 1, 1, 1, 1, 1, 1, 0, 1, 1, 1, 1, 1, 0, 0,\n",
       "       1, 1, 1, 0, 0, 1, 0, 0, 1, 0, 1, 0, 1, 0, 0, 0, 0, 0, 0, 0, 0, 1,\n",
       "       0, 0, 0, 0, 1, 0, 0, 1, 1, 0, 0, 0, 0, 0, 0, 0, 1, 1, 1, 1, 1, 1,\n",
       "       0, 1, 1, 1, 1, 0, 1, 1, 0, 1, 0, 1, 1, 0, 1, 0, 1, 1, 1, 1, 1, 1,\n",
       "       1, 0, 1, 0, 0, 0, 1, 1, 0, 1, 1, 0, 1, 0, 1, 1, 0, 1, 0, 1, 1, 1,\n",
       "       1, 1, 1, 0, 0, 0, 1, 0, 0, 0, 1, 0, 1, 1, 1, 0, 1, 0, 0, 0, 1, 1,\n",
       "       1, 0, 1, 1, 0, 1, 1, 0, 1, 1, 1, 1, 0, 1, 0, 0, 1, 1, 0, 0, 1, 0,\n",
       "       0, 1, 0, 1, 1, 1, 0, 0, 0, 0, 1, 1, 0, 0, 0, 0, 0, 1, 1, 1, 0, 1,\n",
       "       1, 0, 1, 0, 0, 0, 1, 1, 1, 0, 1, 0, 0, 1, 1, 0, 0, 0, 1, 0, 1, 1,\n",
       "       0, 0, 1, 1, 1, 0, 0, 1, 1, 1, 1, 1, 0, 1, 1, 0, 0, 1, 1, 0, 1],\n",
       "      dtype=int64)"
      ]
     },
     "execution_count": 2742,
     "metadata": {},
     "output_type": "execute_result"
    }
   ],
   "source": [
    "knn_pred_overfit1 = knn1.predict(X1_train_scaled)\n",
    "knn_pred_overfit1"
   ]
  },
  {
   "cell_type": "markdown",
   "id": "5fc0fbf8",
   "metadata": {},
   "source": [
    "### 2. Evaluate performance on the train dataset."
   ]
  },
  {
   "cell_type": "code",
   "execution_count": 2743,
   "id": "929a770e",
   "metadata": {},
   "outputs": [
    {
     "name": "stdout",
     "output_type": "stream",
     "text": [
      "Training Mean Squared Error:  0.13692946058091288\n"
     ]
    }
   ],
   "source": [
    "train_mse1 = mean_squared_error(y1_train, knn_pred_overfit1)\n",
    "print(\"Training Mean Squared Error: \", train_mse1)"
   ]
  },
  {
   "cell_type": "markdown",
   "id": "b353f7d4",
   "metadata": {},
   "source": [
    "### 3. Evaluate performance on the test dataset."
   ]
  },
  {
   "cell_type": "code",
   "execution_count": 2744,
   "id": "03f7759e",
   "metadata": {},
   "outputs": [
    {
     "name": "stdout",
     "output_type": "stream",
     "text": [
      "Test Mean Squared Error:  0.13114754098360656\n"
     ]
    }
   ],
   "source": [
    "test_mse1 = mean_squared_error(y1_test, knn_pred1)\n",
    "print(\"Test Mean Squared Error: \", test_mse1)"
   ]
  },
  {
   "cell_type": "markdown",
   "id": "7f402f63",
   "metadata": {},
   "source": [
    "### 4. Analyze the results."
   ]
  },
  {
   "cell_type": "code",
   "execution_count": 2745,
   "id": "c2d8870c",
   "metadata": {
    "scrolled": true
   },
   "outputs": [
    {
     "name": "stdout",
     "output_type": "stream",
     "text": [
      "1st Train Dataset - Overfitting Test\n",
      "====================================\n",
      "The model may be overfitting.\n"
     ]
    }
   ],
   "source": [
    "print(\"1st Train Dataset - Overfitting Test\")\n",
    "print(\"=\" * 36)\n",
    "if train_mse1 < test_mse1:\n",
    "    print(\"The model is not overfitting.\")\n",
    "else:\n",
    "    print(\"The model may be overfitting.\")"
   ]
  },
  {
   "cell_type": "markdown",
   "id": "30bda0a4",
   "metadata": {},
   "source": [
    "## Ratio (70:30)"
   ]
  },
  {
   "cell_type": "markdown",
   "id": "c9d65414",
   "metadata": {},
   "source": [
    "### 1. Make prediction with train dataset."
   ]
  },
  {
   "cell_type": "code",
   "execution_count": 2746,
   "id": "94c4feff",
   "metadata": {},
   "outputs": [
    {
     "data": {
      "text/plain": [
       "array([1, 1, 1, 1, 0, 1, 1, 1, 1, 1, 1, 1, 0, 0, 1, 1, 1, 0, 0, 1, 0, 0,\n",
       "       1, 0, 1, 0, 1, 1, 1, 0, 0, 0, 0, 0, 0, 1, 0, 0, 0, 0, 1, 0, 0, 1,\n",
       "       1, 0, 0, 0, 0, 0, 0, 0, 1, 1, 1, 1, 0, 1, 0, 1, 1, 1, 1, 0, 1, 1,\n",
       "       0, 1, 0, 1, 1, 0, 1, 0, 1, 1, 1, 1, 1, 1, 1, 0, 1, 0, 0, 0, 1, 1,\n",
       "       0, 1, 1, 0, 1, 0, 1, 1, 0, 1, 0, 1, 1, 1, 1, 0, 1, 0, 0, 0, 1, 0,\n",
       "       0, 0, 1, 0, 1, 1, 1, 0, 1, 0, 0, 0, 1, 1, 1, 0, 1, 1, 0, 1, 1, 0,\n",
       "       1, 1, 1, 1, 0, 1, 1, 0, 1, 1, 0, 0, 1, 0, 0, 1, 0, 1, 1, 1, 0, 0,\n",
       "       0, 0, 1, 1, 0, 1, 0, 0, 0, 1, 1, 1, 1, 1, 1, 0, 1, 0, 0, 0, 1, 1,\n",
       "       0, 0, 1, 0, 0, 1, 1, 0, 0, 0, 1, 0, 1, 1, 0, 0, 1, 1, 1, 0, 0, 1,\n",
       "       1, 1, 1, 1, 0, 1, 1, 0, 0, 1, 1, 0, 1], dtype=int64)"
      ]
     },
     "execution_count": 2746,
     "metadata": {},
     "output_type": "execute_result"
    }
   ],
   "source": [
    "knn_pred_overfit2 = knn2.predict(X2_train_scaled)\n",
    "knn_pred_overfit2"
   ]
  },
  {
   "cell_type": "markdown",
   "id": "ec686146",
   "metadata": {},
   "source": [
    "### 2. Evaluate performance on the train dataset."
   ]
  },
  {
   "cell_type": "code",
   "execution_count": 2747,
   "id": "7d7cfc3d",
   "metadata": {},
   "outputs": [
    {
     "name": "stdout",
     "output_type": "stream",
     "text": [
      "Training Mean Squared Error:  0.11374407582938388\n"
     ]
    }
   ],
   "source": [
    "train_mse2 = mean_squared_error(y2_train, knn_pred_overfit2)\n",
    "print(\"Training Mean Squared Error: \", train_mse2)"
   ]
  },
  {
   "cell_type": "markdown",
   "id": "9ff040c7",
   "metadata": {},
   "source": [
    "### 3. Evaluate performance on the test dataset."
   ]
  },
  {
   "cell_type": "code",
   "execution_count": 2748,
   "id": "642aa9e4",
   "metadata": {},
   "outputs": [
    {
     "name": "stdout",
     "output_type": "stream",
     "text": [
      "Test Mean Squared Error:  0.14285714285714285\n"
     ]
    }
   ],
   "source": [
    "test_mse2 = mean_squared_error(y2_test, knn_pred2)\n",
    "print(\"Test Mean Squared Error: \", test_mse2)"
   ]
  },
  {
   "cell_type": "markdown",
   "id": "26a3a689",
   "metadata": {},
   "source": [
    "### 4. Analyze the results."
   ]
  },
  {
   "cell_type": "code",
   "execution_count": 2749,
   "id": "0775a07e",
   "metadata": {
    "scrolled": true
   },
   "outputs": [
    {
     "name": "stdout",
     "output_type": "stream",
     "text": [
      "2nd Train Dataset - Overfitting Test\n",
      "====================================\n",
      "The model is not overfitting.\n"
     ]
    }
   ],
   "source": [
    "print(\"2nd Train Dataset - Overfitting Test\")\n",
    "print(\"=\" * 36)\n",
    "if train_mse2 < test_mse2:\n",
    "    print(\"The model is not overfitting.\")\n",
    "else:\n",
    "    print(\"The model may be overfitting.\")"
   ]
  },
  {
   "cell_type": "markdown",
   "id": "f93e9f54",
   "metadata": {},
   "source": [
    "## Ratio (60:40)"
   ]
  },
  {
   "cell_type": "markdown",
   "id": "6779b49b",
   "metadata": {},
   "source": [
    "### 1. Make prediction with train dataset."
   ]
  },
  {
   "cell_type": "code",
   "execution_count": 2750,
   "id": "a12f6191",
   "metadata": {},
   "outputs": [
    {
     "data": {
      "text/plain": [
       "array([0, 0, 1, 1, 0, 1, 0, 0, 0, 0, 1, 0, 0, 1, 1, 0, 0, 0, 0, 0, 0, 0,\n",
       "       1, 1, 1, 1, 0, 0, 0, 1, 1, 1, 1, 0, 0, 1, 0, 1, 0, 1, 1, 0, 1, 0,\n",
       "       1, 1, 1, 1, 1, 0, 1, 0, 1, 0, 0, 0, 1, 1, 0, 1, 1, 1, 1, 1, 1, 1,\n",
       "       0, 1, 0, 1, 1, 1, 1, 1, 1, 0, 0, 1, 1, 1, 0, 1, 1, 0, 1, 1, 1, 0,\n",
       "       1, 0, 0, 0, 1, 1, 1, 0, 1, 0, 0, 1, 1, 1, 1, 1, 1, 1, 0, 1, 1, 0,\n",
       "       1, 1, 0, 0, 1, 0, 0, 1, 1, 1, 1, 1, 0, 1, 0, 0, 1, 1, 0, 1, 0, 0,\n",
       "       0, 1, 1, 1, 1, 1, 1, 0, 1, 1, 0, 0, 0, 1, 0, 0, 1, 0, 0, 1, 1, 0,\n",
       "       0, 0, 0, 1, 1, 1, 0, 0, 1, 1, 1, 0, 0, 1, 1, 1, 0, 1, 0, 1, 1, 1,\n",
       "       1, 1, 1, 0, 1], dtype=int64)"
      ]
     },
     "execution_count": 2750,
     "metadata": {},
     "output_type": "execute_result"
    }
   ],
   "source": [
    "knn_pred_overfit3 = knn3.predict(X3_train_scaled)\n",
    "knn_pred_overfit3"
   ]
  },
  {
   "cell_type": "markdown",
   "id": "506bf2dc",
   "metadata": {},
   "source": [
    "### 2. Evaluate performance on the train dataset."
   ]
  },
  {
   "cell_type": "code",
   "execution_count": 2751,
   "id": "daaffc51",
   "metadata": {},
   "outputs": [
    {
     "name": "stdout",
     "output_type": "stream",
     "text": [
      "Training Mean Squared Error:  0.16574585635359115\n"
     ]
    }
   ],
   "source": [
    "train_mse3 = mean_squared_error(y3_train, knn_pred_overfit3)\n",
    "print(\"Training Mean Squared Error: \", train_mse3)"
   ]
  },
  {
   "cell_type": "markdown",
   "id": "1967a6b5",
   "metadata": {},
   "source": [
    "### 3. Evaluate performance on the test dataset."
   ]
  },
  {
   "cell_type": "code",
   "execution_count": 2752,
   "id": "ef181b7f",
   "metadata": {},
   "outputs": [
    {
     "name": "stdout",
     "output_type": "stream",
     "text": [
      "Test Mean Squared Error:  0.15702479338842976\n"
     ]
    }
   ],
   "source": [
    "test_mse3 = mean_squared_error(y3_test, knn_pred3)\n",
    "print(\"Test Mean Squared Error: \", test_mse3)"
   ]
  },
  {
   "cell_type": "markdown",
   "id": "f44fad31",
   "metadata": {},
   "source": [
    "### 4. Analyze the results."
   ]
  },
  {
   "cell_type": "code",
   "execution_count": 2753,
   "id": "a509a344",
   "metadata": {
    "scrolled": true
   },
   "outputs": [
    {
     "name": "stdout",
     "output_type": "stream",
     "text": [
      "3rd Train Dataset - Overfitting Test\n",
      "====================================\n",
      "The model may be overfitting.\n"
     ]
    }
   ],
   "source": [
    "print(\"3rd Train Dataset - Overfitting Test\")\n",
    "print(\"=\" * 36)\n",
    "if train_mse3 < test_mse3:\n",
    "    print(\"The model is not overfitting.\")\n",
    "else:\n",
    "    print(\"The model may be overfitting.\")"
   ]
  },
  {
   "cell_type": "markdown",
   "id": "ecc5ff2e",
   "metadata": {},
   "source": [
    "## Conclusion"
   ]
  },
  {
   "cell_type": "markdown",
   "id": "53eb5f54",
   "metadata": {},
   "source": [
    "After completing overfitting test by using three different ratio of dataset, and also compare between train dataset with test dataset, we found that **the model (KNN) may be overfitting** with ratios **80:20** and **60:40**, but **is not overfitting** with ratio **70:30**."
   ]
  },
  {
   "cell_type": "markdown",
   "id": "c8efbb4c",
   "metadata": {},
   "source": [
    "# Step 7 - Model Evaluation (Without Feature Selection and Parameter Tuning)"
   ]
  },
  {
   "cell_type": "markdown",
   "id": "8a1b98e1",
   "metadata": {},
   "source": [
    "### 1. Import libraries."
   ]
  },
  {
   "cell_type": "code",
   "execution_count": 2754,
   "id": "8e3488e0",
   "metadata": {},
   "outputs": [],
   "source": [
    "from sklearn.metrics import confusion_matrix, accuracy_score, precision_score, recall_score, f1_score"
   ]
  },
  {
   "cell_type": "markdown",
   "id": "825177ef",
   "metadata": {},
   "source": [
    "## Ratio (80:20)"
   ]
  },
  {
   "cell_type": "markdown",
   "id": "5ea8c4ff",
   "metadata": {},
   "source": [
    "### 1. Show the evaluation result of 1st train dataset (80:20)."
   ]
  },
  {
   "cell_type": "code",
   "execution_count": 2755,
   "id": "b5b312c4",
   "metadata": {},
   "outputs": [
    {
     "name": "stdout",
     "output_type": "stream",
     "text": [
      "1st Train Dataset (80:20) - K-Nearest Neighbor Results\n",
      "=======================================================\n",
      "Accuracy: 0.868852\n",
      "Precision: 0.928571\n",
      "Recall: 0.8125\n",
      "F1 score: 0.866667\n",
      "Confusion matrix:\n",
      "[[27  2]\n",
      " [ 6 26]]\n"
     ]
    }
   ],
   "source": [
    "print('1st Train Dataset (80:20) - K-Nearest Neighbor Results')\n",
    "print(\"=\" * 55)\n",
    "print('Accuracy:', round(accuracy_score(y1_test, knn_pred1), 6))\n",
    "print('Precision:', round(precision_score(y1_test, knn_pred1), 6))\n",
    "print('Recall:', round(recall_score(y1_test, knn_pred1), 6))\n",
    "print('F1 score:', round(f1_score(y1_test, knn_pred1), 6))\n",
    "print('Confusion matrix:')\n",
    "print(confusion_matrix(y1_test, knn_pred1))"
   ]
  },
  {
   "cell_type": "markdown",
   "id": "8a91bd75",
   "metadata": {},
   "source": [
    "## Ratio (70:30)"
   ]
  },
  {
   "cell_type": "markdown",
   "id": "9d1d1c90",
   "metadata": {},
   "source": [
    "### 1. Show the evaluation result of 2nd train dataset (70:30)."
   ]
  },
  {
   "cell_type": "code",
   "execution_count": 2756,
   "id": "52f3f942",
   "metadata": {},
   "outputs": [
    {
     "name": "stdout",
     "output_type": "stream",
     "text": [
      "2nd Train Dataset (70:30) - K-Nearest Neighbor Results\n",
      "=======================================================\n",
      "Accuracy: 0.857143\n",
      "Precision: 0.86\n",
      "Recall: 0.877551\n",
      "F1 score: 0.868687\n",
      "Confusion matrix:\n",
      "[[35  7]\n",
      " [ 6 43]]\n"
     ]
    }
   ],
   "source": [
    "print('2nd Train Dataset (70:30) - K-Nearest Neighbor Results')\n",
    "print(\"=\" * 55)\n",
    "print('Accuracy:', round(accuracy_score(y2_test, knn_pred2), 6))\n",
    "print('Precision:', round(precision_score(y2_test, knn_pred2), 6))\n",
    "print('Recall:', round(recall_score(y2_test, knn_pred2), 6))\n",
    "print('F1 score:', round(f1_score(y2_test, knn_pred2), 6))\n",
    "print('Confusion matrix:')\n",
    "print(confusion_matrix(y2_test, knn_pred2))"
   ]
  },
  {
   "cell_type": "markdown",
   "id": "a32e4b3c",
   "metadata": {},
   "source": [
    "## Ratio (60:40)"
   ]
  },
  {
   "cell_type": "markdown",
   "id": "0ef9e4b0",
   "metadata": {},
   "source": [
    "### 1. Show the evaluation result of 3rd train dataset (60:40)."
   ]
  },
  {
   "cell_type": "code",
   "execution_count": 2757,
   "id": "365212f3",
   "metadata": {},
   "outputs": [
    {
     "name": "stdout",
     "output_type": "stream",
     "text": [
      "3rd Train Dataset (60:40) - K-Nearest Neighbor Results\n",
      "=======================================================\n",
      "Accuracy: 0.842975\n",
      "Precision: 0.828947\n",
      "Recall: 0.913043\n",
      "F1 score: 0.868966\n",
      "Confusion matrix:\n",
      "[[39 13]\n",
      " [ 6 63]]\n"
     ]
    }
   ],
   "source": [
    "print('3rd Train Dataset (60:40) - K-Nearest Neighbor Results')\n",
    "print(\"=\" * 55)\n",
    "print('Accuracy:', round(accuracy_score(y3_test, knn_pred3), 6))\n",
    "print('Precision:', round(precision_score(y3_test, knn_pred3), 6))\n",
    "print('Recall:', round(recall_score(y3_test, knn_pred3), 6))\n",
    "print('F1 score:', round(f1_score(y3_test, knn_pred3), 6))\n",
    "print('Confusion matrix:')\n",
    "print(confusion_matrix(y3_test, knn_pred3))"
   ]
  },
  {
   "cell_type": "markdown",
   "id": "d79b68b2",
   "metadata": {},
   "source": [
    "## Choose the most suitable ratio\n",
    "After completing the evaluation process, we decide to choose **80:20 ratio** to test different cases."
   ]
  },
  {
   "cell_type": "code",
   "execution_count": 2758,
   "id": "f3b93bf8",
   "metadata": {},
   "outputs": [],
   "source": [
    "X_train = X1_train\n",
    "X_test = X1_test\n",
    "y_train = y1_train\n",
    "y_test = y1_test"
   ]
  },
  {
   "cell_type": "markdown",
   "id": "2d6b7378",
   "metadata": {},
   "source": [
    "### 1. Scale the features."
   ]
  },
  {
   "cell_type": "code",
   "execution_count": 2759,
   "id": "544bd487",
   "metadata": {},
   "outputs": [],
   "source": [
    "scaler = StandardScaler()\n",
    "X_train_scaled1 = scaler.fit_transform(X_train)\n",
    "X_test_scaled1 = scaler.transform(X_test)"
   ]
  },
  {
   "cell_type": "markdown",
   "id": "0f1cb9d6",
   "metadata": {},
   "source": [
    "# Step 8 - Feature selection"
   ]
  },
  {
   "cell_type": "markdown",
   "id": "c544cfb6",
   "metadata": {},
   "source": [
    "## Method A: Correlation matrix wit heatmap"
   ]
  },
  {
   "cell_type": "markdown",
   "id": "9af95e63",
   "metadata": {},
   "source": [
    "### 1. Import libraries."
   ]
  },
  {
   "cell_type": "code",
   "execution_count": 2760,
   "id": "1b58bb29",
   "metadata": {},
   "outputs": [],
   "source": [
    "import matplotlib.pyplot as plt\n",
    "import seaborn as sns"
   ]
  },
  {
   "cell_type": "markdown",
   "id": "5d7a2e91",
   "metadata": {},
   "source": [
    "### 2. The configuration of the correlation matrix with heatmap."
   ]
  },
  {
   "cell_type": "code",
   "execution_count": 2761,
   "id": "92f27fca",
   "metadata": {},
   "outputs": [],
   "source": [
    "corrmat = df.corr()\n",
    "top_corr_features = corrmat.index"
   ]
  },
  {
   "cell_type": "markdown",
   "id": "91cfeedc",
   "metadata": {},
   "source": [
    "### 3. Show the heatmap."
   ]
  },
  {
   "cell_type": "code",
   "execution_count": 2762,
   "id": "55ff47d5",
   "metadata": {},
   "outputs": [
    {
     "data": {
      "image/png": "[encoded data removed]",
      "text/plain": [
       "<Figure size 1600x900 with 2 Axes>"
      ]
     },
     "metadata": {},
     "output_type": "display_data"
    }
   ],
   "source": [
    "plt.figure(figsize = (16, 9))\n",
    "g = sns.heatmap(df[top_corr_features].corr(), annot = True, cmap = \"RdYlGn\")\n",
    "plt.show()"
   ]
  },
  {
   "cell_type": "markdown",
   "id": "552a29b9",
   "metadata": {},
   "source": [
    "## Method B: Univariate selection"
   ]
  },
  {
   "cell_type": "markdown",
   "id": "9712157d",
   "metadata": {},
   "source": [
    "### 1. Import libraries."
   ]
  },
  {
   "cell_type": "code",
   "execution_count": 2763,
   "id": "8e2734b3",
   "metadata": {},
   "outputs": [],
   "source": [
    "from sklearn.feature_selection import SelectKBest\n",
    "from sklearn.feature_selection import chi2"
   ]
  },
  {
   "cell_type": "markdown",
   "id": "e74e0dc9",
   "metadata": {},
   "source": [
    "### 2. Apply selectKBest class to extract top 13 best features."
   ]
  },
  {
   "cell_type": "code",
   "execution_count": 2764,
   "id": "d4944303",
   "metadata": {},
   "outputs": [],
   "source": [
    "bestfeatures = SelectKBest(score_func = chi2, k = 13)\n",
    "fit = bestfeatures.fit(feature, target)\n",
    "dfscores = pd.DataFrame(fit.scores_)\n",
    "dfcolumns = pd.DataFrame(feature.columns)"
   ]
  },
  {
   "cell_type": "code",
   "execution_count": 2765,
   "id": "512cd335",
   "metadata": {},
   "outputs": [
    {
     "name": "stdout",
     "output_type": "stream",
     "text": [
      "Show dfscores: \n"
     ]
    },
    {
     "data": {
      "text/html": [
       "<div>\n",
       "<style scoped>\n",
       "    .dataframe tbody tr th:only-of-type {\n",
       "        vertical-align: middle;\n",
       "    }\n",
       "\n",
       "    .dataframe tbody tr th {\n",
       "        vertical-align: top;\n",
       "    }\n",
       "\n",
       "    .dataframe thead th {\n",
       "        text-align: right;\n",
       "    }\n",
       "</style>\n",
       "<table border=\"1\" class=\"dataframe\">\n",
       "  <thead>\n",
       "    <tr style=\"text-align: right;\">\n",
       "      <th></th>\n",
       "      <th>0</th>\n",
       "    </tr>\n",
       "  </thead>\n",
       "  <tbody>\n",
       "    <tr>\n",
       "      <th>0</th>\n",
       "      <td>22.210517</td>\n",
       "    </tr>\n",
       "    <tr>\n",
       "      <th>1</th>\n",
       "      <td>7.721690</td>\n",
       "    </tr>\n",
       "    <tr>\n",
       "      <th>2</th>\n",
       "      <td>62.116086</td>\n",
       "    </tr>\n",
       "    <tr>\n",
       "      <th>3</th>\n",
       "      <td>15.094591</td>\n",
       "    </tr>\n",
       "    <tr>\n",
       "      <th>4</th>\n",
       "      <td>21.690747</td>\n",
       "    </tr>\n",
       "    <tr>\n",
       "      <th>5</th>\n",
       "      <td>0.184946</td>\n",
       "    </tr>\n",
       "    <tr>\n",
       "      <th>6</th>\n",
       "      <td>2.877743</td>\n",
       "    </tr>\n",
       "    <tr>\n",
       "      <th>7</th>\n",
       "      <td>186.180286</td>\n",
       "    </tr>\n",
       "    <tr>\n",
       "      <th>8</th>\n",
       "      <td>38.518849</td>\n",
       "    </tr>\n",
       "    <tr>\n",
       "      <th>9</th>\n",
       "      <td>71.692782</td>\n",
       "    </tr>\n",
       "    <tr>\n",
       "      <th>10</th>\n",
       "      <td>9.677715</td>\n",
       "    </tr>\n",
       "    <tr>\n",
       "      <th>11</th>\n",
       "      <td>71.020719</td>\n",
       "    </tr>\n",
       "    <tr>\n",
       "      <th>12</th>\n",
       "      <td>5.753030</td>\n",
       "    </tr>\n",
       "  </tbody>\n",
       "</table>\n",
       "</div>"
      ],
      "text/plain": [
       "             0\n",
       "0    22.210517\n",
       "1     7.721690\n",
       "2    62.116086\n",
       "3    15.094591\n",
       "4    21.690747\n",
       "5     0.184946\n",
       "6     2.877743\n",
       "7   186.180286\n",
       "8    38.518849\n",
       "9    71.692782\n",
       "10    9.677715\n",
       "11   71.020719\n",
       "12    5.753030"
      ]
     },
     "execution_count": 2765,
     "metadata": {},
     "output_type": "execute_result"
    }
   ],
   "source": [
    "print(\"Show dfscores: \")\n",
    "dfscores"
   ]
  },
  {
   "cell_type": "code",
   "execution_count": 2766,
   "id": "4f83b0d5",
   "metadata": {},
   "outputs": [
    {
     "name": "stdout",
     "output_type": "stream",
     "text": [
      "Show dfcolumns: \n"
     ]
    },
    {
     "data": {
      "text/html": [
       "<div>\n",
       "<style scoped>\n",
       "    .dataframe tbody tr th:only-of-type {\n",
       "        vertical-align: middle;\n",
       "    }\n",
       "\n",
       "    .dataframe tbody tr th {\n",
       "        vertical-align: top;\n",
       "    }\n",
       "\n",
       "    .dataframe thead th {\n",
       "        text-align: right;\n",
       "    }\n",
       "</style>\n",
       "<table border=\"1\" class=\"dataframe\">\n",
       "  <thead>\n",
       "    <tr style=\"text-align: right;\">\n",
       "      <th></th>\n",
       "      <th>0</th>\n",
       "    </tr>\n",
       "  </thead>\n",
       "  <tbody>\n",
       "    <tr>\n",
       "      <th>0</th>\n",
       "      <td>age</td>\n",
       "    </tr>\n",
       "    <tr>\n",
       "      <th>1</th>\n",
       "      <td>sex</td>\n",
       "    </tr>\n",
       "    <tr>\n",
       "      <th>2</th>\n",
       "      <td>cp</td>\n",
       "    </tr>\n",
       "    <tr>\n",
       "      <th>3</th>\n",
       "      <td>trestbps</td>\n",
       "    </tr>\n",
       "    <tr>\n",
       "      <th>4</th>\n",
       "      <td>chol</td>\n",
       "    </tr>\n",
       "    <tr>\n",
       "      <th>5</th>\n",
       "      <td>fbs</td>\n",
       "    </tr>\n",
       "    <tr>\n",
       "      <th>6</th>\n",
       "      <td>restecg</td>\n",
       "    </tr>\n",
       "    <tr>\n",
       "      <th>7</th>\n",
       "      <td>thalach</td>\n",
       "    </tr>\n",
       "    <tr>\n",
       "      <th>8</th>\n",
       "      <td>exang</td>\n",
       "    </tr>\n",
       "    <tr>\n",
       "      <th>9</th>\n",
       "      <td>oldpeak</td>\n",
       "    </tr>\n",
       "    <tr>\n",
       "      <th>10</th>\n",
       "      <td>slope</td>\n",
       "    </tr>\n",
       "    <tr>\n",
       "      <th>11</th>\n",
       "      <td>ca</td>\n",
       "    </tr>\n",
       "    <tr>\n",
       "      <th>12</th>\n",
       "      <td>thal</td>\n",
       "    </tr>\n",
       "  </tbody>\n",
       "</table>\n",
       "</div>"
      ],
      "text/plain": [
       "           0\n",
       "0        age\n",
       "1        sex\n",
       "2         cp\n",
       "3   trestbps\n",
       "4       chol\n",
       "5        fbs\n",
       "6    restecg\n",
       "7    thalach\n",
       "8      exang\n",
       "9    oldpeak\n",
       "10     slope\n",
       "11        ca\n",
       "12      thal"
      ]
     },
     "execution_count": 2766,
     "metadata": {},
     "output_type": "execute_result"
    }
   ],
   "source": [
    "print(\"Show dfcolumns: \")\n",
    "dfcolumns"
   ]
  },
  {
   "cell_type": "markdown",
   "id": "50c4bb2d",
   "metadata": {},
   "source": [
    "### 3. Concat two data frames and show it for better visualization."
   ]
  },
  {
   "cell_type": "code",
   "execution_count": 2767,
   "id": "66599f8e",
   "metadata": {},
   "outputs": [
    {
     "data": {
      "text/html": [
       "<div>\n",
       "<style scoped>\n",
       "    .dataframe tbody tr th:only-of-type {\n",
       "        vertical-align: middle;\n",
       "    }\n",
       "\n",
       "    .dataframe tbody tr th {\n",
       "        vertical-align: top;\n",
       "    }\n",
       "\n",
       "    .dataframe thead th {\n",
       "        text-align: right;\n",
       "    }\n",
       "</style>\n",
       "<table border=\"1\" class=\"dataframe\">\n",
       "  <thead>\n",
       "    <tr style=\"text-align: right;\">\n",
       "      <th></th>\n",
       "      <th>features</th>\n",
       "      <th>score</th>\n",
       "    </tr>\n",
       "  </thead>\n",
       "  <tbody>\n",
       "    <tr>\n",
       "      <th>0</th>\n",
       "      <td>age</td>\n",
       "      <td>22.210517</td>\n",
       "    </tr>\n",
       "    <tr>\n",
       "      <th>1</th>\n",
       "      <td>sex</td>\n",
       "      <td>7.721690</td>\n",
       "    </tr>\n",
       "    <tr>\n",
       "      <th>2</th>\n",
       "      <td>cp</td>\n",
       "      <td>62.116086</td>\n",
       "    </tr>\n",
       "    <tr>\n",
       "      <th>3</th>\n",
       "      <td>trestbps</td>\n",
       "      <td>15.094591</td>\n",
       "    </tr>\n",
       "    <tr>\n",
       "      <th>4</th>\n",
       "      <td>chol</td>\n",
       "      <td>21.690747</td>\n",
       "    </tr>\n",
       "    <tr>\n",
       "      <th>5</th>\n",
       "      <td>fbs</td>\n",
       "      <td>0.184946</td>\n",
       "    </tr>\n",
       "    <tr>\n",
       "      <th>6</th>\n",
       "      <td>restecg</td>\n",
       "      <td>2.877743</td>\n",
       "    </tr>\n",
       "    <tr>\n",
       "      <th>7</th>\n",
       "      <td>thalach</td>\n",
       "      <td>186.180286</td>\n",
       "    </tr>\n",
       "    <tr>\n",
       "      <th>8</th>\n",
       "      <td>exang</td>\n",
       "      <td>38.518849</td>\n",
       "    </tr>\n",
       "    <tr>\n",
       "      <th>9</th>\n",
       "      <td>oldpeak</td>\n",
       "      <td>71.692782</td>\n",
       "    </tr>\n",
       "    <tr>\n",
       "      <th>10</th>\n",
       "      <td>slope</td>\n",
       "      <td>9.677715</td>\n",
       "    </tr>\n",
       "    <tr>\n",
       "      <th>11</th>\n",
       "      <td>ca</td>\n",
       "      <td>71.020719</td>\n",
       "    </tr>\n",
       "    <tr>\n",
       "      <th>12</th>\n",
       "      <td>thal</td>\n",
       "      <td>5.753030</td>\n",
       "    </tr>\n",
       "  </tbody>\n",
       "</table>\n",
       "</div>"
      ],
      "text/plain": [
       "    features       score\n",
       "0        age   22.210517\n",
       "1        sex    7.721690\n",
       "2         cp   62.116086\n",
       "3   trestbps   15.094591\n",
       "4       chol   21.690747\n",
       "5        fbs    0.184946\n",
       "6    restecg    2.877743\n",
       "7    thalach  186.180286\n",
       "8      exang   38.518849\n",
       "9    oldpeak   71.692782\n",
       "10     slope    9.677715\n",
       "11        ca   71.020719\n",
       "12      thal    5.753030"
      ]
     },
     "execution_count": 2767,
     "metadata": {},
     "output_type": "execute_result"
    }
   ],
   "source": [
    "featureScores = pd.concat([dfcolumns, dfscores], axis = 1)\n",
    "featureScores.columns = ['features','score']\n",
    "featureScores"
   ]
  },
  {
   "cell_type": "markdown",
   "id": "6a9765db",
   "metadata": {},
   "source": [
    "### 4. Show 13 best features for the dataset by ordering the score."
   ]
  },
  {
   "cell_type": "code",
   "execution_count": 2768,
   "id": "47c5971e",
   "metadata": {},
   "outputs": [
    {
     "data": {
      "text/html": [
       "<div>\n",
       "<style scoped>\n",
       "    .dataframe tbody tr th:only-of-type {\n",
       "        vertical-align: middle;\n",
       "    }\n",
       "\n",
       "    .dataframe tbody tr th {\n",
       "        vertical-align: top;\n",
       "    }\n",
       "\n",
       "    .dataframe thead th {\n",
       "        text-align: right;\n",
       "    }\n",
       "</style>\n",
       "<table border=\"1\" class=\"dataframe\">\n",
       "  <thead>\n",
       "    <tr style=\"text-align: right;\">\n",
       "      <th></th>\n",
       "      <th>features</th>\n",
       "      <th>score</th>\n",
       "    </tr>\n",
       "  </thead>\n",
       "  <tbody>\n",
       "    <tr>\n",
       "      <th>7</th>\n",
       "      <td>thalach</td>\n",
       "      <td>186.180286</td>\n",
       "    </tr>\n",
       "    <tr>\n",
       "      <th>9</th>\n",
       "      <td>oldpeak</td>\n",
       "      <td>71.692782</td>\n",
       "    </tr>\n",
       "    <tr>\n",
       "      <th>11</th>\n",
       "      <td>ca</td>\n",
       "      <td>71.020719</td>\n",
       "    </tr>\n",
       "    <tr>\n",
       "      <th>2</th>\n",
       "      <td>cp</td>\n",
       "      <td>62.116086</td>\n",
       "    </tr>\n",
       "    <tr>\n",
       "      <th>8</th>\n",
       "      <td>exang</td>\n",
       "      <td>38.518849</td>\n",
       "    </tr>\n",
       "    <tr>\n",
       "      <th>0</th>\n",
       "      <td>age</td>\n",
       "      <td>22.210517</td>\n",
       "    </tr>\n",
       "    <tr>\n",
       "      <th>4</th>\n",
       "      <td>chol</td>\n",
       "      <td>21.690747</td>\n",
       "    </tr>\n",
       "    <tr>\n",
       "      <th>3</th>\n",
       "      <td>trestbps</td>\n",
       "      <td>15.094591</td>\n",
       "    </tr>\n",
       "    <tr>\n",
       "      <th>10</th>\n",
       "      <td>slope</td>\n",
       "      <td>9.677715</td>\n",
       "    </tr>\n",
       "    <tr>\n",
       "      <th>1</th>\n",
       "      <td>sex</td>\n",
       "      <td>7.721690</td>\n",
       "    </tr>\n",
       "    <tr>\n",
       "      <th>12</th>\n",
       "      <td>thal</td>\n",
       "      <td>5.753030</td>\n",
       "    </tr>\n",
       "    <tr>\n",
       "      <th>6</th>\n",
       "      <td>restecg</td>\n",
       "      <td>2.877743</td>\n",
       "    </tr>\n",
       "    <tr>\n",
       "      <th>5</th>\n",
       "      <td>fbs</td>\n",
       "      <td>0.184946</td>\n",
       "    </tr>\n",
       "  </tbody>\n",
       "</table>\n",
       "</div>"
      ],
      "text/plain": [
       "    features       score\n",
       "7    thalach  186.180286\n",
       "9    oldpeak   71.692782\n",
       "11        ca   71.020719\n",
       "2         cp   62.116086\n",
       "8      exang   38.518849\n",
       "0        age   22.210517\n",
       "4       chol   21.690747\n",
       "3   trestbps   15.094591\n",
       "10     slope    9.677715\n",
       "1        sex    7.721690\n",
       "12      thal    5.753030\n",
       "6    restecg    2.877743\n",
       "5        fbs    0.184946"
      ]
     },
     "execution_count": 2768,
     "metadata": {},
     "output_type": "execute_result"
    }
   ],
   "source": [
    "pd.DataFrame(featureScores.nlargest(13,'score'))"
   ]
  },
  {
   "cell_type": "markdown",
   "id": "7e4360b5",
   "metadata": {},
   "source": [
    "### 5. Put all the most relatable features in a list:"
   ]
  },
  {
   "cell_type": "code",
   "execution_count": 2769,
   "id": "5b63be59",
   "metadata": {},
   "outputs": [],
   "source": [
    "# 4 best features with \"Correlation Matrix with Heatmap\"\n",
    "best_CMWH_feature1 = ['cp', 'thalach', 'slope', 'restecg']\n",
    "# 6 best features with \"Correlation Matrix with Heatmap\"\n",
    "best_CMWH_feature2 = ['cp', 'thalach', 'slope', 'restecg', 'fbs', 'chol']\n",
    "# 8 best features \"Correlation Matrix with Heatmap\"\n",
    "best_CMWH_feature3 = ['cp', 'thalach', 'slope', 'restecg', 'fbs', 'chol', 'trestbps', 'age']\n",
    "\n",
    "# 4 best features with \"Univariate Selection\"\n",
    "best_US_feature1 = ['thalach', 'oldpeak', 'ca', 'cp']\n",
    "# 6 best features with \"Univariate Selection\"\n",
    "best_US_feature2 = ['thalach', 'oldpeak', 'ca', 'cp', 'exang', 'age']\n",
    "# 8 best features with \"Univariate Selection\"\n",
    "best_US_feature3 = ['thalach', 'oldpeak', 'ca', 'cp', 'exang', 'age', 'chol', 'trestbps']"
   ]
  },
  {
   "cell_type": "markdown",
   "id": "da684b50",
   "metadata": {},
   "source": [
    "# Step 9 - Parameter Tuning"
   ]
  },
  {
   "cell_type": "markdown",
   "id": "28fa9af2",
   "metadata": {},
   "source": [
    "### 1. Import libraries."
   ]
  },
  {
   "cell_type": "code",
   "execution_count": 2770,
   "id": "2aa6f8fa",
   "metadata": {},
   "outputs": [],
   "source": [
    "from sklearn.model_selection import GridSearchCV\n",
    "from sklearn.neighbors import KNeighborsClassifier"
   ]
  },
  {
   "cell_type": "markdown",
   "id": "78fcd8d0",
   "metadata": {},
   "source": [
    "### 2. Define the hyperparameters."
   ]
  },
  {
   "cell_type": "code",
   "execution_count": 2771,
   "id": "c64b30c1",
   "metadata": {},
   "outputs": [],
   "source": [
    "param_grid = {\n",
    "    'n_neighbors': [20, 40, 60],\n",
    "    'weights': ['uniform', 'distance'],\n",
    "    'algorithm': ['auto', 'ball_tree', 'kd_tree', 'brute'],\n",
    "    'leaf_size': [10, 20, 30, 40, 50],\n",
    "    'p': [1, 2]\n",
    "}"
   ]
  },
  {
   "cell_type": "markdown",
   "id": "f365fb6f",
   "metadata": {},
   "source": [
    "### 3. Find the best hyperparameters."
   ]
  },
  {
   "cell_type": "code",
   "execution_count": 2772,
   "id": "ad2890eb",
   "metadata": {},
   "outputs": [
    {
     "name": "stdout",
     "output_type": "stream",
     "text": [
      "Fitting 5 folds for each of 240 candidates, totalling 1200 fits\n",
      "\n",
      "Parameter tuning is completed.\n",
      "\n",
      "Best hyperparameters:  {'algorithm': 'auto', 'leaf_size': 10, 'n_neighbors': 60, 'p': 1, 'weights': 'uniform'}\n",
      "Best score:  0.8340986394557823\n"
     ]
    }
   ],
   "source": [
    "knn_grid_search = GridSearchCV(knn1, param_grid, cv = 5, verbose = 1, n_jobs = -1, scoring = \"accuracy\")\n",
    "\n",
    "# Use the selected ratio - 80:20 to find the best parameters\n",
    "knn_grid_search.fit(X_train_scaled1, y_train)\n",
    "\n",
    "print(\"\\nParameter tuning is completed.\\n\\nBest hyperparameters: \", knn_grid_search.best_params_)\n",
    "print(\"Best score: \", knn_grid_search.best_score_)"
   ]
  },
  {
   "cell_type": "markdown",
   "id": "973bd066",
   "metadata": {},
   "source": [
    "### 4. Create an instance of the model to hold the trained KNN model with the best hyperparameters."
   ]
  },
  {
   "cell_type": "code",
   "execution_count": 2773,
   "id": "ea1a65a7",
   "metadata": {},
   "outputs": [],
   "source": [
    "best_knn = knn_grid_search.best_estimator_"
   ]
  },
  {
   "cell_type": "markdown",
   "id": "da0d58fe",
   "metadata": {},
   "source": [
    "# Step 10 -  Train Model (With Different Cases)"
   ]
  },
  {
   "cell_type": "markdown",
   "id": "217f022b",
   "metadata": {},
   "source": [
    "## Case 1 Information:\n",
    "**Method of Feature selection:** Correlation Matrix with Heatmap\n",
    "\n",
    "**With parameter tuning ?:** NO\n",
    "\n",
    "**Number of features:** 4\n",
    "\n",
    "**Ratio:** 80:20"
   ]
  },
  {
   "cell_type": "markdown",
   "id": "cf139c53",
   "metadata": {},
   "source": [
    "### 1. Scale the features with feature selection."
   ]
  },
  {
   "cell_type": "code",
   "execution_count": 2774,
   "id": "bdd519c9",
   "metadata": {},
   "outputs": [],
   "source": [
    "scaler = StandardScaler()\n",
    "X_train_scaled2 = scaler.fit_transform(X_train[best_CMWH_feature1])\n",
    "X_test_scaled2 = scaler.transform(X_test[best_CMWH_feature1])"
   ]
  },
  {
   "cell_type": "markdown",
   "id": "3888d322",
   "metadata": {},
   "source": [
    "### 2. Train the data with Case 1."
   ]
  },
  {
   "cell_type": "code",
   "execution_count": 2775,
   "id": "f75d176c",
   "metadata": {},
   "outputs": [
    {
     "data": {
      "text/html": [
       "<style>#sk-container-id-310 {color: black;background-color: white;}#sk-container-id-310 pre{padding: 0;}#sk-container-id-310 div.sk-toggleable {background-color: white;}#sk-container-id-310 label.sk-toggleable__label {cursor: pointer;display: block;width: 100%;margin-bottom: 0;padding: 0.3em;box-sizing: border-box;text-align: center;}#sk-container-id-310 label.sk-toggleable__label-arrow:before {content: \"▸\";float: left;margin-right: 0.25em;color: #696969;}#sk-container-id-310 label.sk-toggleable__label-arrow:hover:before {color: black;}#sk-container-id-310 div.sk-estimator:hover label.sk-toggleable__label-arrow:before {color: black;}#sk-container-id-310 div.sk-toggleable__content {max-height: 0;max-width: 0;overflow: hidden;text-align: left;background-color: #f0f8ff;}#sk-container-id-310 div.sk-toggleable__content pre {margin: 0.2em;color: black;border-radius: 0.25em;background-color: #f0f8ff;}#sk-container-id-310 input.sk-toggleable__control:checked~div.sk-toggleable__content {max-height: 200px;max-width: 100%;overflow: auto;}#sk-container-id-310 input.sk-toggleable__control:checked~label.sk-toggleable__label-arrow:before {content: \"▾\";}#sk-container-id-310 div.sk-estimator input.sk-toggleable__control:checked~label.sk-toggleable__label {background-color: #d4ebff;}#sk-container-id-310 div.sk-label input.sk-toggleable__control:checked~label.sk-toggleable__label {background-color: #d4ebff;}#sk-container-id-310 input.sk-hidden--visually {border: 0;clip: rect(1px 1px 1px 1px);clip: rect(1px, 1px, 1px, 1px);height: 1px;margin: -1px;overflow: hidden;padding: 0;position: absolute;width: 1px;}#sk-container-id-310 div.sk-estimator {font-family: monospace;background-color: #f0f8ff;border: 1px dotted black;border-radius: 0.25em;box-sizing: border-box;margin-bottom: 0.5em;}#sk-container-id-310 div.sk-estimator:hover {background-color: #d4ebff;}#sk-container-id-310 div.sk-parallel-item::after {content: \"\";width: 100%;border-bottom: 1px solid gray;flex-grow: 1;}#sk-container-id-310 div.sk-label:hover label.sk-toggleable__label {background-color: #d4ebff;}#sk-container-id-310 div.sk-serial::before {content: \"\";position: absolute;border-left: 1px solid gray;box-sizing: border-box;top: 0;bottom: 0;left: 50%;z-index: 0;}#sk-container-id-310 div.sk-serial {display: flex;flex-direction: column;align-items: center;background-color: white;padding-right: 0.2em;padding-left: 0.2em;position: relative;}#sk-container-id-310 div.sk-item {position: relative;z-index: 1;}#sk-container-id-310 div.sk-parallel {display: flex;align-items: stretch;justify-content: center;background-color: white;position: relative;}#sk-container-id-310 div.sk-item::before, #sk-container-id-310 div.sk-parallel-item::before {content: \"\";position: absolute;border-left: 1px solid gray;box-sizing: border-box;top: 0;bottom: 0;left: 50%;z-index: -1;}#sk-container-id-310 div.sk-parallel-item {display: flex;flex-direction: column;z-index: 1;position: relative;background-color: white;}#sk-container-id-310 div.sk-parallel-item:first-child::after {align-self: flex-end;width: 50%;}#sk-container-id-310 div.sk-parallel-item:last-child::after {align-self: flex-start;width: 50%;}#sk-container-id-310 div.sk-parallel-item:only-child::after {width: 0;}#sk-container-id-310 div.sk-dashed-wrapped {border: 1px dashed gray;margin: 0 0.4em 0.5em 0.4em;box-sizing: border-box;padding-bottom: 0.4em;background-color: white;}#sk-container-id-310 div.sk-label label {font-family: monospace;font-weight: bold;display: inline-block;line-height: 1.2em;}#sk-container-id-310 div.sk-label-container {text-align: center;}#sk-container-id-310 div.sk-container {/* jupyter's `normalize.less` sets `[hidden] { display: none; }` but bootstrap.min.css set `[hidden] { display: none !important; }` so we also need the `!important` here to be able to override the default hidden behavior on the sphinx rendered scikit-learn.org. See: https://github.com/scikit-learn/scikit-learn/issues/21755 */display: inline-block !important;position: relative;}#sk-container-id-310 div.sk-text-repr-fallback {display: none;}</style><div id=\"sk-container-id-310\" class=\"sk-top-container\"><div class=\"sk-text-repr-fallback\"><pre>KNeighborsClassifier()</pre><b>In a Jupyter environment, please rerun this cell to show the HTML representation or trust the notebook. <br />On GitHub, the HTML representation is unable to render, please try loading this page with nbviewer.org.</b></div><div class=\"sk-container\" hidden><div class=\"sk-item\"><div class=\"sk-estimator sk-toggleable\"><input class=\"sk-toggleable__control sk-hidden--visually\" id=\"sk-estimator-id-310\" type=\"checkbox\" checked><label for=\"sk-estimator-id-310\" class=\"sk-toggleable__label sk-toggleable__label-arrow\">KNeighborsClassifier</label><div class=\"sk-toggleable__content\"><pre>KNeighborsClassifier()</pre></div></div></div></div></div>"
      ],
      "text/plain": [
       "KNeighborsClassifier()"
      ]
     },
     "execution_count": 2775,
     "metadata": {},
     "output_type": "execute_result"
    }
   ],
   "source": [
    "knn1.fit(X_train_scaled2, y_train)"
   ]
  },
  {
   "cell_type": "markdown",
   "id": "a7f758fd",
   "metadata": {},
   "source": [
    "### 3. Make prediction with test data set."
   ]
  },
  {
   "cell_type": "code",
   "execution_count": 2776,
   "id": "69f97f32",
   "metadata": {},
   "outputs": [
    {
     "data": {
      "text/plain": [
       "array([0, 1, 1, 0, 1, 1, 1, 0, 0, 1, 0, 1, 1, 0, 1, 1, 1, 0, 0, 0, 1, 0,\n",
       "       0, 1, 1, 1, 0, 0, 0, 0, 0, 0, 0, 0, 0, 0, 1, 1, 1, 0, 1, 1, 1, 1,\n",
       "       1, 0, 0, 1, 0, 0, 1, 0, 1, 1, 1, 0, 1, 1, 0, 1, 0], dtype=int64)"
      ]
     },
     "execution_count": 2776,
     "metadata": {},
     "output_type": "execute_result"
    }
   ],
   "source": [
    "knn_pred4 = knn1.predict(X_test_scaled2)\n",
    "knn_pred4"
   ]
  },
  {
   "cell_type": "markdown",
   "id": "5f42899b",
   "metadata": {},
   "source": [
    "## Case 2 Information:\n",
    "**Method of Feature selection:** Correlation Matrix with Heatmap\n",
    "\n",
    "**With parameter tuning ?:** YES\n",
    "\n",
    "**Number of features:** 4\n",
    "\n",
    "**Ratio:** 80:20"
   ]
  },
  {
   "cell_type": "markdown",
   "id": "c6a18385",
   "metadata": {},
   "source": [
    "### 1. Scale the features with feature selection."
   ]
  },
  {
   "cell_type": "code",
   "execution_count": 2777,
   "id": "a2995289",
   "metadata": {},
   "outputs": [],
   "source": [
    "scaler = StandardScaler()\n",
    "X_train_scaled3 = scaler.fit_transform(X_train[best_CMWH_feature1])\n",
    "X_test_scaled3 = scaler.transform(X_test[best_CMWH_feature1])"
   ]
  },
  {
   "cell_type": "markdown",
   "id": "cfa19376",
   "metadata": {},
   "source": [
    "### 2.Train the data with Case 2."
   ]
  },
  {
   "cell_type": "code",
   "execution_count": 2778,
   "id": "2f87b1e1",
   "metadata": {},
   "outputs": [
    {
     "data": {
      "text/html": [
       "<style>#sk-container-id-311 {color: black;background-color: white;}#sk-container-id-311 pre{padding: 0;}#sk-container-id-311 div.sk-toggleable {background-color: white;}#sk-container-id-311 label.sk-toggleable__label {cursor: pointer;display: block;width: 100%;margin-bottom: 0;padding: 0.3em;box-sizing: border-box;text-align: center;}#sk-container-id-311 label.sk-toggleable__label-arrow:before {content: \"▸\";float: left;margin-right: 0.25em;color: #696969;}#sk-container-id-311 label.sk-toggleable__label-arrow:hover:before {color: black;}#sk-container-id-311 div.sk-estimator:hover label.sk-toggleable__label-arrow:before {color: black;}#sk-container-id-311 div.sk-toggleable__content {max-height: 0;max-width: 0;overflow: hidden;text-align: left;background-color: #f0f8ff;}#sk-container-id-311 div.sk-toggleable__content pre {margin: 0.2em;color: black;border-radius: 0.25em;background-color: #f0f8ff;}#sk-container-id-311 input.sk-toggleable__control:checked~div.sk-toggleable__content {max-height: 200px;max-width: 100%;overflow: auto;}#sk-container-id-311 input.sk-toggleable__control:checked~label.sk-toggleable__label-arrow:before {content: \"▾\";}#sk-container-id-311 div.sk-estimator input.sk-toggleable__control:checked~label.sk-toggleable__label {background-color: #d4ebff;}#sk-container-id-311 div.sk-label input.sk-toggleable__control:checked~label.sk-toggleable__label {background-color: #d4ebff;}#sk-container-id-311 input.sk-hidden--visually {border: 0;clip: rect(1px 1px 1px 1px);clip: rect(1px, 1px, 1px, 1px);height: 1px;margin: -1px;overflow: hidden;padding: 0;position: absolute;width: 1px;}#sk-container-id-311 div.sk-estimator {font-family: monospace;background-color: #f0f8ff;border: 1px dotted black;border-radius: 0.25em;box-sizing: border-box;margin-bottom: 0.5em;}#sk-container-id-311 div.sk-estimator:hover {background-color: #d4ebff;}#sk-container-id-311 div.sk-parallel-item::after {content: \"\";width: 100%;border-bottom: 1px solid gray;flex-grow: 1;}#sk-container-id-311 div.sk-label:hover label.sk-toggleable__label {background-color: #d4ebff;}#sk-container-id-311 div.sk-serial::before {content: \"\";position: absolute;border-left: 1px solid gray;box-sizing: border-box;top: 0;bottom: 0;left: 50%;z-index: 0;}#sk-container-id-311 div.sk-serial {display: flex;flex-direction: column;align-items: center;background-color: white;padding-right: 0.2em;padding-left: 0.2em;position: relative;}#sk-container-id-311 div.sk-item {position: relative;z-index: 1;}#sk-container-id-311 div.sk-parallel {display: flex;align-items: stretch;justify-content: center;background-color: white;position: relative;}#sk-container-id-311 div.sk-item::before, #sk-container-id-311 div.sk-parallel-item::before {content: \"\";position: absolute;border-left: 1px solid gray;box-sizing: border-box;top: 0;bottom: 0;left: 50%;z-index: -1;}#sk-container-id-311 div.sk-parallel-item {display: flex;flex-direction: column;z-index: 1;position: relative;background-color: white;}#sk-container-id-311 div.sk-parallel-item:first-child::after {align-self: flex-end;width: 50%;}#sk-container-id-311 div.sk-parallel-item:last-child::after {align-self: flex-start;width: 50%;}#sk-container-id-311 div.sk-parallel-item:only-child::after {width: 0;}#sk-container-id-311 div.sk-dashed-wrapped {border: 1px dashed gray;margin: 0 0.4em 0.5em 0.4em;box-sizing: border-box;padding-bottom: 0.4em;background-color: white;}#sk-container-id-311 div.sk-label label {font-family: monospace;font-weight: bold;display: inline-block;line-height: 1.2em;}#sk-container-id-311 div.sk-label-container {text-align: center;}#sk-container-id-311 div.sk-container {/* jupyter's `normalize.less` sets `[hidden] { display: none; }` but bootstrap.min.css set `[hidden] { display: none !important; }` so we also need the `!important` here to be able to override the default hidden behavior on the sphinx rendered scikit-learn.org. See: https://github.com/scikit-learn/scikit-learn/issues/21755 */display: inline-block !important;position: relative;}#sk-container-id-311 div.sk-text-repr-fallback {display: none;}</style><div id=\"sk-container-id-311\" class=\"sk-top-container\"><div class=\"sk-text-repr-fallback\"><pre>KNeighborsClassifier(leaf_size=10, n_neighbors=60, p=1)</pre><b>In a Jupyter environment, please rerun this cell to show the HTML representation or trust the notebook. <br />On GitHub, the HTML representation is unable to render, please try loading this page with nbviewer.org.</b></div><div class=\"sk-container\" hidden><div class=\"sk-item\"><div class=\"sk-estimator sk-toggleable\"><input class=\"sk-toggleable__control sk-hidden--visually\" id=\"sk-estimator-id-311\" type=\"checkbox\" checked><label for=\"sk-estimator-id-311\" class=\"sk-toggleable__label sk-toggleable__label-arrow\">KNeighborsClassifier</label><div class=\"sk-toggleable__content\"><pre>KNeighborsClassifier(leaf_size=10, n_neighbors=60, p=1)</pre></div></div></div></div></div>"
      ],
      "text/plain": [
       "KNeighborsClassifier(leaf_size=10, n_neighbors=60, p=1)"
      ]
     },
     "execution_count": 2778,
     "metadata": {},
     "output_type": "execute_result"
    }
   ],
   "source": [
    "best_knn.fit(X_train_scaled3, y_train)"
   ]
  },
  {
   "cell_type": "markdown",
   "id": "14657163",
   "metadata": {},
   "source": [
    "### 3. Make prediction with test data set."
   ]
  },
  {
   "cell_type": "code",
   "execution_count": 2779,
   "id": "e3669449",
   "metadata": {},
   "outputs": [
    {
     "data": {
      "text/plain": [
       "array([0, 1, 1, 0, 1, 1, 0, 0, 0, 1, 0, 1, 1, 1, 1, 1, 1, 0, 0, 0, 1, 0,\n",
       "       0, 1, 1, 1, 0, 1, 0, 1, 0, 0, 1, 0, 1, 0, 1, 1, 1, 1, 1, 1, 1, 1,\n",
       "       1, 0, 0, 1, 0, 0, 0, 0, 0, 1, 0, 1, 0, 1, 0, 1, 1], dtype=int64)"
      ]
     },
     "execution_count": 2779,
     "metadata": {},
     "output_type": "execute_result"
    }
   ],
   "source": [
    "knn_pred5 = best_knn.predict(X_test_scaled3)\n",
    "knn_pred5"
   ]
  },
  {
   "cell_type": "markdown",
   "id": "7ecd0403",
   "metadata": {},
   "source": [
    "## Case 3 Information:\n",
    "**Method of Feature selection:** Correlation Matrix with Heatmap\n",
    "\n",
    "**With parameter tuning ?:** NO\n",
    "\n",
    "**Number of features:** 6\n",
    "\n",
    "**Ratio:** 80:20"
   ]
  },
  {
   "cell_type": "markdown",
   "id": "2a34c5db",
   "metadata": {},
   "source": [
    "### 1. Scale the features with feature selection."
   ]
  },
  {
   "cell_type": "code",
   "execution_count": 2780,
   "id": "374c6cd3",
   "metadata": {},
   "outputs": [],
   "source": [
    "scaler = StandardScaler()\n",
    "X_train_scaled4 = scaler.fit_transform(X_train[best_CMWH_feature2])\n",
    "X_test_scaled4 = scaler.transform(X_test[best_CMWH_feature2])"
   ]
  },
  {
   "cell_type": "markdown",
   "id": "b82ba1f9",
   "metadata": {},
   "source": [
    "### 2.Train the data with Case 3."
   ]
  },
  {
   "cell_type": "code",
   "execution_count": 2781,
   "id": "baf171c8",
   "metadata": {},
   "outputs": [
    {
     "data": {
      "text/html": [
       "<style>#sk-container-id-312 {color: black;background-color: white;}#sk-container-id-312 pre{padding: 0;}#sk-container-id-312 div.sk-toggleable {background-color: white;}#sk-container-id-312 label.sk-toggleable__label {cursor: pointer;display: block;width: 100%;margin-bottom: 0;padding: 0.3em;box-sizing: border-box;text-align: center;}#sk-container-id-312 label.sk-toggleable__label-arrow:before {content: \"▸\";float: left;margin-right: 0.25em;color: #696969;}#sk-container-id-312 label.sk-toggleable__label-arrow:hover:before {color: black;}#sk-container-id-312 div.sk-estimator:hover label.sk-toggleable__label-arrow:before {color: black;}#sk-container-id-312 div.sk-toggleable__content {max-height: 0;max-width: 0;overflow: hidden;text-align: left;background-color: #f0f8ff;}#sk-container-id-312 div.sk-toggleable__content pre {margin: 0.2em;color: black;border-radius: 0.25em;background-color: #f0f8ff;}#sk-container-id-312 input.sk-toggleable__control:checked~div.sk-toggleable__content {max-height: 200px;max-width: 100%;overflow: auto;}#sk-container-id-312 input.sk-toggleable__control:checked~label.sk-toggleable__label-arrow:before {content: \"▾\";}#sk-container-id-312 div.sk-estimator input.sk-toggleable__control:checked~label.sk-toggleable__label {background-color: #d4ebff;}#sk-container-id-312 div.sk-label input.sk-toggleable__control:checked~label.sk-toggleable__label {background-color: #d4ebff;}#sk-container-id-312 input.sk-hidden--visually {border: 0;clip: rect(1px 1px 1px 1px);clip: rect(1px, 1px, 1px, 1px);height: 1px;margin: -1px;overflow: hidden;padding: 0;position: absolute;width: 1px;}#sk-container-id-312 div.sk-estimator {font-family: monospace;background-color: #f0f8ff;border: 1px dotted black;border-radius: 0.25em;box-sizing: border-box;margin-bottom: 0.5em;}#sk-container-id-312 div.sk-estimator:hover {background-color: #d4ebff;}#sk-container-id-312 div.sk-parallel-item::after {content: \"\";width: 100%;border-bottom: 1px solid gray;flex-grow: 1;}#sk-container-id-312 div.sk-label:hover label.sk-toggleable__label {background-color: #d4ebff;}#sk-container-id-312 div.sk-serial::before {content: \"\";position: absolute;border-left: 1px solid gray;box-sizing: border-box;top: 0;bottom: 0;left: 50%;z-index: 0;}#sk-container-id-312 div.sk-serial {display: flex;flex-direction: column;align-items: center;background-color: white;padding-right: 0.2em;padding-left: 0.2em;position: relative;}#sk-container-id-312 div.sk-item {position: relative;z-index: 1;}#sk-container-id-312 div.sk-parallel {display: flex;align-items: stretch;justify-content: center;background-color: white;position: relative;}#sk-container-id-312 div.sk-item::before, #sk-container-id-312 div.sk-parallel-item::before {content: \"\";position: absolute;border-left: 1px solid gray;box-sizing: border-box;top: 0;bottom: 0;left: 50%;z-index: -1;}#sk-container-id-312 div.sk-parallel-item {display: flex;flex-direction: column;z-index: 1;position: relative;background-color: white;}#sk-container-id-312 div.sk-parallel-item:first-child::after {align-self: flex-end;width: 50%;}#sk-container-id-312 div.sk-parallel-item:last-child::after {align-self: flex-start;width: 50%;}#sk-container-id-312 div.sk-parallel-item:only-child::after {width: 0;}#sk-container-id-312 div.sk-dashed-wrapped {border: 1px dashed gray;margin: 0 0.4em 0.5em 0.4em;box-sizing: border-box;padding-bottom: 0.4em;background-color: white;}#sk-container-id-312 div.sk-label label {font-family: monospace;font-weight: bold;display: inline-block;line-height: 1.2em;}#sk-container-id-312 div.sk-label-container {text-align: center;}#sk-container-id-312 div.sk-container {/* jupyter's `normalize.less` sets `[hidden] { display: none; }` but bootstrap.min.css set `[hidden] { display: none !important; }` so we also need the `!important` here to be able to override the default hidden behavior on the sphinx rendered scikit-learn.org. See: https://github.com/scikit-learn/scikit-learn/issues/21755 */display: inline-block !important;position: relative;}#sk-container-id-312 div.sk-text-repr-fallback {display: none;}</style><div id=\"sk-container-id-312\" class=\"sk-top-container\"><div class=\"sk-text-repr-fallback\"><pre>KNeighborsClassifier()</pre><b>In a Jupyter environment, please rerun this cell to show the HTML representation or trust the notebook. <br />On GitHub, the HTML representation is unable to render, please try loading this page with nbviewer.org.</b></div><div class=\"sk-container\" hidden><div class=\"sk-item\"><div class=\"sk-estimator sk-toggleable\"><input class=\"sk-toggleable__control sk-hidden--visually\" id=\"sk-estimator-id-312\" type=\"checkbox\" checked><label for=\"sk-estimator-id-312\" class=\"sk-toggleable__label sk-toggleable__label-arrow\">KNeighborsClassifier</label><div class=\"sk-toggleable__content\"><pre>KNeighborsClassifier()</pre></div></div></div></div></div>"
      ],
      "text/plain": [
       "KNeighborsClassifier()"
      ]
     },
     "execution_count": 2781,
     "metadata": {},
     "output_type": "execute_result"
    }
   ],
   "source": [
    "knn1.fit(X_train_scaled4, y_train)"
   ]
  },
  {
   "cell_type": "markdown",
   "id": "739aad6d",
   "metadata": {},
   "source": [
    "### 3.Make prediction with test data set."
   ]
  },
  {
   "cell_type": "code",
   "execution_count": 2782,
   "id": "c3c5b8ff",
   "metadata": {},
   "outputs": [
    {
     "data": {
      "text/plain": [
       "array([0, 0, 1, 0, 1, 1, 0, 0, 0, 1, 0, 1, 1, 1, 1, 1, 1, 0, 0, 0, 1, 0,\n",
       "       0, 1, 1, 1, 0, 1, 0, 0, 0, 0, 0, 0, 0, 0, 0, 1, 1, 1, 1, 1, 1, 0,\n",
       "       1, 0, 0, 1, 0, 0, 0, 0, 1, 1, 0, 1, 0, 1, 0, 0, 0], dtype=int64)"
      ]
     },
     "execution_count": 2782,
     "metadata": {},
     "output_type": "execute_result"
    }
   ],
   "source": [
    "knn_pred6 = knn1.predict(X_test_scaled4)\n",
    "knn_pred6"
   ]
  },
  {
   "cell_type": "markdown",
   "id": "91f11c78",
   "metadata": {},
   "source": [
    "## Case 4 Information:\n",
    "**Method of Feature selection:** Correlation Matrix with Heatmap\n",
    "\n",
    "**With parameter tuning ?:** YES\n",
    "\n",
    "**Number of features:** 6\n",
    "\n",
    "**Ratio:** 80:20"
   ]
  },
  {
   "cell_type": "markdown",
   "id": "3c14b018",
   "metadata": {},
   "source": [
    "### 1. Scale the features with feature selection."
   ]
  },
  {
   "cell_type": "code",
   "execution_count": 2783,
   "id": "63b47657",
   "metadata": {},
   "outputs": [],
   "source": [
    "scaler = StandardScaler()\n",
    "X_train_scaled5 = scaler.fit_transform(X_train[best_CMWH_feature2])\n",
    "X_test_scaled5 = scaler.transform(X_test[best_CMWH_feature2])"
   ]
  },
  {
   "cell_type": "markdown",
   "id": "a73e7ecb",
   "metadata": {},
   "source": [
    "### 2. Train the data with Case 4."
   ]
  },
  {
   "cell_type": "code",
   "execution_count": 2784,
   "id": "6d811365",
   "metadata": {},
   "outputs": [
    {
     "data": {
      "text/html": [
       "<style>#sk-container-id-313 {color: black;background-color: white;}#sk-container-id-313 pre{padding: 0;}#sk-container-id-313 div.sk-toggleable {background-color: white;}#sk-container-id-313 label.sk-toggleable__label {cursor: pointer;display: block;width: 100%;margin-bottom: 0;padding: 0.3em;box-sizing: border-box;text-align: center;}#sk-container-id-313 label.sk-toggleable__label-arrow:before {content: \"▸\";float: left;margin-right: 0.25em;color: #696969;}#sk-container-id-313 label.sk-toggleable__label-arrow:hover:before {color: black;}#sk-container-id-313 div.sk-estimator:hover label.sk-toggleable__label-arrow:before {color: black;}#sk-container-id-313 div.sk-toggleable__content {max-height: 0;max-width: 0;overflow: hidden;text-align: left;background-color: #f0f8ff;}#sk-container-id-313 div.sk-toggleable__content pre {margin: 0.2em;color: black;border-radius: 0.25em;background-color: #f0f8ff;}#sk-container-id-313 input.sk-toggleable__control:checked~div.sk-toggleable__content {max-height: 200px;max-width: 100%;overflow: auto;}#sk-container-id-313 input.sk-toggleable__control:checked~label.sk-toggleable__label-arrow:before {content: \"▾\";}#sk-container-id-313 div.sk-estimator input.sk-toggleable__control:checked~label.sk-toggleable__label {background-color: #d4ebff;}#sk-container-id-313 div.sk-label input.sk-toggleable__control:checked~label.sk-toggleable__label {background-color: #d4ebff;}#sk-container-id-313 input.sk-hidden--visually {border: 0;clip: rect(1px 1px 1px 1px);clip: rect(1px, 1px, 1px, 1px);height: 1px;margin: -1px;overflow: hidden;padding: 0;position: absolute;width: 1px;}#sk-container-id-313 div.sk-estimator {font-family: monospace;background-color: #f0f8ff;border: 1px dotted black;border-radius: 0.25em;box-sizing: border-box;margin-bottom: 0.5em;}#sk-container-id-313 div.sk-estimator:hover {background-color: #d4ebff;}#sk-container-id-313 div.sk-parallel-item::after {content: \"\";width: 100%;border-bottom: 1px solid gray;flex-grow: 1;}#sk-container-id-313 div.sk-label:hover label.sk-toggleable__label {background-color: #d4ebff;}#sk-container-id-313 div.sk-serial::before {content: \"\";position: absolute;border-left: 1px solid gray;box-sizing: border-box;top: 0;bottom: 0;left: 50%;z-index: 0;}#sk-container-id-313 div.sk-serial {display: flex;flex-direction: column;align-items: center;background-color: white;padding-right: 0.2em;padding-left: 0.2em;position: relative;}#sk-container-id-313 div.sk-item {position: relative;z-index: 1;}#sk-container-id-313 div.sk-parallel {display: flex;align-items: stretch;justify-content: center;background-color: white;position: relative;}#sk-container-id-313 div.sk-item::before, #sk-container-id-313 div.sk-parallel-item::before {content: \"\";position: absolute;border-left: 1px solid gray;box-sizing: border-box;top: 0;bottom: 0;left: 50%;z-index: -1;}#sk-container-id-313 div.sk-parallel-item {display: flex;flex-direction: column;z-index: 1;position: relative;background-color: white;}#sk-container-id-313 div.sk-parallel-item:first-child::after {align-self: flex-end;width: 50%;}#sk-container-id-313 div.sk-parallel-item:last-child::after {align-self: flex-start;width: 50%;}#sk-container-id-313 div.sk-parallel-item:only-child::after {width: 0;}#sk-container-id-313 div.sk-dashed-wrapped {border: 1px dashed gray;margin: 0 0.4em 0.5em 0.4em;box-sizing: border-box;padding-bottom: 0.4em;background-color: white;}#sk-container-id-313 div.sk-label label {font-family: monospace;font-weight: bold;display: inline-block;line-height: 1.2em;}#sk-container-id-313 div.sk-label-container {text-align: center;}#sk-container-id-313 div.sk-container {/* jupyter's `normalize.less` sets `[hidden] { display: none; }` but bootstrap.min.css set `[hidden] { display: none !important; }` so we also need the `!important` here to be able to override the default hidden behavior on the sphinx rendered scikit-learn.org. See: https://github.com/scikit-learn/scikit-learn/issues/21755 */display: inline-block !important;position: relative;}#sk-container-id-313 div.sk-text-repr-fallback {display: none;}</style><div id=\"sk-container-id-313\" class=\"sk-top-container\"><div class=\"sk-text-repr-fallback\"><pre>KNeighborsClassifier(leaf_size=10, n_neighbors=60, p=1)</pre><b>In a Jupyter environment, please rerun this cell to show the HTML representation or trust the notebook. <br />On GitHub, the HTML representation is unable to render, please try loading this page with nbviewer.org.</b></div><div class=\"sk-container\" hidden><div class=\"sk-item\"><div class=\"sk-estimator sk-toggleable\"><input class=\"sk-toggleable__control sk-hidden--visually\" id=\"sk-estimator-id-313\" type=\"checkbox\" checked><label for=\"sk-estimator-id-313\" class=\"sk-toggleable__label sk-toggleable__label-arrow\">KNeighborsClassifier</label><div class=\"sk-toggleable__content\"><pre>KNeighborsClassifier(leaf_size=10, n_neighbors=60, p=1)</pre></div></div></div></div></div>"
      ],
      "text/plain": [
       "KNeighborsClassifier(leaf_size=10, n_neighbors=60, p=1)"
      ]
     },
     "execution_count": 2784,
     "metadata": {},
     "output_type": "execute_result"
    }
   ],
   "source": [
    "best_knn.fit(X_train_scaled5, y_train)"
   ]
  },
  {
   "cell_type": "markdown",
   "id": "fd48abce",
   "metadata": {},
   "source": [
    "### 3. Make prediction with test data set."
   ]
  },
  {
   "cell_type": "code",
   "execution_count": 2785,
   "id": "cd3cd20a",
   "metadata": {},
   "outputs": [
    {
     "data": {
      "text/plain": [
       "array([0, 1, 1, 0, 1, 1, 0, 0, 0, 1, 0, 1, 1, 1, 1, 1, 1, 0, 0, 0, 1, 0,\n",
       "       0, 1, 1, 1, 0, 1, 0, 1, 0, 0, 1, 0, 0, 0, 1, 1, 1, 1, 1, 1, 1, 1,\n",
       "       1, 0, 0, 1, 0, 0, 0, 0, 0, 1, 0, 1, 0, 1, 0, 1, 1], dtype=int64)"
      ]
     },
     "execution_count": 2785,
     "metadata": {},
     "output_type": "execute_result"
    }
   ],
   "source": [
    "knn_pred7 = best_knn.predict(X_test_scaled5)\n",
    "knn_pred7"
   ]
  },
  {
   "cell_type": "markdown",
   "id": "8421014b",
   "metadata": {},
   "source": [
    "## Case 5 Information:\n",
    "**Method of Feature selection:** Correlation Matrix with Heatmap\n",
    "\n",
    "**With parameter tuning ?:** NO\n",
    "\n",
    "**Number of features:** 8\n",
    "\n",
    "**Ratio:** 80:20"
   ]
  },
  {
   "cell_type": "markdown",
   "id": "abbd96fd",
   "metadata": {},
   "source": [
    "### 1. Scale the features with feature selection."
   ]
  },
  {
   "cell_type": "code",
   "execution_count": 2786,
   "id": "712ac0f0",
   "metadata": {},
   "outputs": [],
   "source": [
    "scaler = StandardScaler()\n",
    "X_train_scaled6 = scaler.fit_transform(X_train[best_CMWH_feature3])\n",
    "X_test_scaled6 = scaler.transform(X_test[best_CMWH_feature3])"
   ]
  },
  {
   "cell_type": "markdown",
   "id": "82eb2df5",
   "metadata": {},
   "source": [
    "### 2. Train the data with Case 5."
   ]
  },
  {
   "cell_type": "code",
   "execution_count": 2787,
   "id": "8fa099ed",
   "metadata": {},
   "outputs": [
    {
     "data": {
      "text/html": [
       "<style>#sk-container-id-314 {color: black;background-color: white;}#sk-container-id-314 pre{padding: 0;}#sk-container-id-314 div.sk-toggleable {background-color: white;}#sk-container-id-314 label.sk-toggleable__label {cursor: pointer;display: block;width: 100%;margin-bottom: 0;padding: 0.3em;box-sizing: border-box;text-align: center;}#sk-container-id-314 label.sk-toggleable__label-arrow:before {content: \"▸\";float: left;margin-right: 0.25em;color: #696969;}#sk-container-id-314 label.sk-toggleable__label-arrow:hover:before {color: black;}#sk-container-id-314 div.sk-estimator:hover label.sk-toggleable__label-arrow:before {color: black;}#sk-container-id-314 div.sk-toggleable__content {max-height: 0;max-width: 0;overflow: hidden;text-align: left;background-color: #f0f8ff;}#sk-container-id-314 div.sk-toggleable__content pre {margin: 0.2em;color: black;border-radius: 0.25em;background-color: #f0f8ff;}#sk-container-id-314 input.sk-toggleable__control:checked~div.sk-toggleable__content {max-height: 200px;max-width: 100%;overflow: auto;}#sk-container-id-314 input.sk-toggleable__control:checked~label.sk-toggleable__label-arrow:before {content: \"▾\";}#sk-container-id-314 div.sk-estimator input.sk-toggleable__control:checked~label.sk-toggleable__label {background-color: #d4ebff;}#sk-container-id-314 div.sk-label input.sk-toggleable__control:checked~label.sk-toggleable__label {background-color: #d4ebff;}#sk-container-id-314 input.sk-hidden--visually {border: 0;clip: rect(1px 1px 1px 1px);clip: rect(1px, 1px, 1px, 1px);height: 1px;margin: -1px;overflow: hidden;padding: 0;position: absolute;width: 1px;}#sk-container-id-314 div.sk-estimator {font-family: monospace;background-color: #f0f8ff;border: 1px dotted black;border-radius: 0.25em;box-sizing: border-box;margin-bottom: 0.5em;}#sk-container-id-314 div.sk-estimator:hover {background-color: #d4ebff;}#sk-container-id-314 div.sk-parallel-item::after {content: \"\";width: 100%;border-bottom: 1px solid gray;flex-grow: 1;}#sk-container-id-314 div.sk-label:hover label.sk-toggleable__label {background-color: #d4ebff;}#sk-container-id-314 div.sk-serial::before {content: \"\";position: absolute;border-left: 1px solid gray;box-sizing: border-box;top: 0;bottom: 0;left: 50%;z-index: 0;}#sk-container-id-314 div.sk-serial {display: flex;flex-direction: column;align-items: center;background-color: white;padding-right: 0.2em;padding-left: 0.2em;position: relative;}#sk-container-id-314 div.sk-item {position: relative;z-index: 1;}#sk-container-id-314 div.sk-parallel {display: flex;align-items: stretch;justify-content: center;background-color: white;position: relative;}#sk-container-id-314 div.sk-item::before, #sk-container-id-314 div.sk-parallel-item::before {content: \"\";position: absolute;border-left: 1px solid gray;box-sizing: border-box;top: 0;bottom: 0;left: 50%;z-index: -1;}#sk-container-id-314 div.sk-parallel-item {display: flex;flex-direction: column;z-index: 1;position: relative;background-color: white;}#sk-container-id-314 div.sk-parallel-item:first-child::after {align-self: flex-end;width: 50%;}#sk-container-id-314 div.sk-parallel-item:last-child::after {align-self: flex-start;width: 50%;}#sk-container-id-314 div.sk-parallel-item:only-child::after {width: 0;}#sk-container-id-314 div.sk-dashed-wrapped {border: 1px dashed gray;margin: 0 0.4em 0.5em 0.4em;box-sizing: border-box;padding-bottom: 0.4em;background-color: white;}#sk-container-id-314 div.sk-label label {font-family: monospace;font-weight: bold;display: inline-block;line-height: 1.2em;}#sk-container-id-314 div.sk-label-container {text-align: center;}#sk-container-id-314 div.sk-container {/* jupyter's `normalize.less` sets `[hidden] { display: none; }` but bootstrap.min.css set `[hidden] { display: none !important; }` so we also need the `!important` here to be able to override the default hidden behavior on the sphinx rendered scikit-learn.org. See: https://github.com/scikit-learn/scikit-learn/issues/21755 */display: inline-block !important;position: relative;}#sk-container-id-314 div.sk-text-repr-fallback {display: none;}</style><div id=\"sk-container-id-314\" class=\"sk-top-container\"><div class=\"sk-text-repr-fallback\"><pre>KNeighborsClassifier()</pre><b>In a Jupyter environment, please rerun this cell to show the HTML representation or trust the notebook. <br />On GitHub, the HTML representation is unable to render, please try loading this page with nbviewer.org.</b></div><div class=\"sk-container\" hidden><div class=\"sk-item\"><div class=\"sk-estimator sk-toggleable\"><input class=\"sk-toggleable__control sk-hidden--visually\" id=\"sk-estimator-id-314\" type=\"checkbox\" checked><label for=\"sk-estimator-id-314\" class=\"sk-toggleable__label sk-toggleable__label-arrow\">KNeighborsClassifier</label><div class=\"sk-toggleable__content\"><pre>KNeighborsClassifier()</pre></div></div></div></div></div>"
      ],
      "text/plain": [
       "KNeighborsClassifier()"
      ]
     },
     "execution_count": 2787,
     "metadata": {},
     "output_type": "execute_result"
    }
   ],
   "source": [
    "knn1.fit(X_train_scaled6, y_train)"
   ]
  },
  {
   "cell_type": "markdown",
   "id": "fe862a65",
   "metadata": {},
   "source": [
    "### 3. Make prediction with test data set."
   ]
  },
  {
   "cell_type": "code",
   "execution_count": 2788,
   "id": "9f9b9ef6",
   "metadata": {},
   "outputs": [
    {
     "data": {
      "text/plain": [
       "array([0, 1, 1, 0, 0, 1, 1, 0, 0, 0, 1, 0, 1, 1, 1, 1, 1, 0, 0, 0, 0, 0,\n",
       "       0, 1, 1, 1, 1, 1, 0, 0, 0, 1, 0, 0, 0, 0, 1, 1, 1, 1, 1, 1, 1, 1,\n",
       "       1, 0, 0, 1, 0, 0, 0, 0, 0, 1, 0, 1, 0, 1, 0, 0, 0], dtype=int64)"
      ]
     },
     "execution_count": 2788,
     "metadata": {},
     "output_type": "execute_result"
    }
   ],
   "source": [
    "knn_pred8 = knn1.predict(X_test_scaled6)\n",
    "knn_pred8"
   ]
  },
  {
   "cell_type": "markdown",
   "id": "33c70bf2",
   "metadata": {},
   "source": [
    "## Case 6 Information:\n",
    "**Method of Feature selection:** Correlation Matrix with Heatmap\n",
    "\n",
    "**With parameter tuning ?:** YES\n",
    "\n",
    "**Number of features:** 8\n",
    "\n",
    "**Ratio:** 80:20"
   ]
  },
  {
   "cell_type": "markdown",
   "id": "820d2661",
   "metadata": {},
   "source": [
    "### 1. Scale the features with feature selection."
   ]
  },
  {
   "cell_type": "code",
   "execution_count": 2789,
   "id": "76bf2039",
   "metadata": {},
   "outputs": [],
   "source": [
    "scaler = StandardScaler()\n",
    "X_train_scaled7 = scaler.fit_transform(X_train[best_CMWH_feature3])\n",
    "X_test_scaled7 = scaler.transform(X_test[best_CMWH_feature3])"
   ]
  },
  {
   "cell_type": "markdown",
   "id": "0fcb1a6f",
   "metadata": {},
   "source": [
    "### 2. Train the data with Case 6."
   ]
  },
  {
   "cell_type": "code",
   "execution_count": 2790,
   "id": "d4fda568",
   "metadata": {},
   "outputs": [
    {
     "data": {
      "text/html": [
       "<style>#sk-container-id-315 {color: black;background-color: white;}#sk-container-id-315 pre{padding: 0;}#sk-container-id-315 div.sk-toggleable {background-color: white;}#sk-container-id-315 label.sk-toggleable__label {cursor: pointer;display: block;width: 100%;margin-bottom: 0;padding: 0.3em;box-sizing: border-box;text-align: center;}#sk-container-id-315 label.sk-toggleable__label-arrow:before {content: \"▸\";float: left;margin-right: 0.25em;color: #696969;}#sk-container-id-315 label.sk-toggleable__label-arrow:hover:before {color: black;}#sk-container-id-315 div.sk-estimator:hover label.sk-toggleable__label-arrow:before {color: black;}#sk-container-id-315 div.sk-toggleable__content {max-height: 0;max-width: 0;overflow: hidden;text-align: left;background-color: #f0f8ff;}#sk-container-id-315 div.sk-toggleable__content pre {margin: 0.2em;color: black;border-radius: 0.25em;background-color: #f0f8ff;}#sk-container-id-315 input.sk-toggleable__control:checked~div.sk-toggleable__content {max-height: 200px;max-width: 100%;overflow: auto;}#sk-container-id-315 input.sk-toggleable__control:checked~label.sk-toggleable__label-arrow:before {content: \"▾\";}#sk-container-id-315 div.sk-estimator input.sk-toggleable__control:checked~label.sk-toggleable__label {background-color: #d4ebff;}#sk-container-id-315 div.sk-label input.sk-toggleable__control:checked~label.sk-toggleable__label {background-color: #d4ebff;}#sk-container-id-315 input.sk-hidden--visually {border: 0;clip: rect(1px 1px 1px 1px);clip: rect(1px, 1px, 1px, 1px);height: 1px;margin: -1px;overflow: hidden;padding: 0;position: absolute;width: 1px;}#sk-container-id-315 div.sk-estimator {font-family: monospace;background-color: #f0f8ff;border: 1px dotted black;border-radius: 0.25em;box-sizing: border-box;margin-bottom: 0.5em;}#sk-container-id-315 div.sk-estimator:hover {background-color: #d4ebff;}#sk-container-id-315 div.sk-parallel-item::after {content: \"\";width: 100%;border-bottom: 1px solid gray;flex-grow: 1;}#sk-container-id-315 div.sk-label:hover label.sk-toggleable__label {background-color: #d4ebff;}#sk-container-id-315 div.sk-serial::before {content: \"\";position: absolute;border-left: 1px solid gray;box-sizing: border-box;top: 0;bottom: 0;left: 50%;z-index: 0;}#sk-container-id-315 div.sk-serial {display: flex;flex-direction: column;align-items: center;background-color: white;padding-right: 0.2em;padding-left: 0.2em;position: relative;}#sk-container-id-315 div.sk-item {position: relative;z-index: 1;}#sk-container-id-315 div.sk-parallel {display: flex;align-items: stretch;justify-content: center;background-color: white;position: relative;}#sk-container-id-315 div.sk-item::before, #sk-container-id-315 div.sk-parallel-item::before {content: \"\";position: absolute;border-left: 1px solid gray;box-sizing: border-box;top: 0;bottom: 0;left: 50%;z-index: -1;}#sk-container-id-315 div.sk-parallel-item {display: flex;flex-direction: column;z-index: 1;position: relative;background-color: white;}#sk-container-id-315 div.sk-parallel-item:first-child::after {align-self: flex-end;width: 50%;}#sk-container-id-315 div.sk-parallel-item:last-child::after {align-self: flex-start;width: 50%;}#sk-container-id-315 div.sk-parallel-item:only-child::after {width: 0;}#sk-container-id-315 div.sk-dashed-wrapped {border: 1px dashed gray;margin: 0 0.4em 0.5em 0.4em;box-sizing: border-box;padding-bottom: 0.4em;background-color: white;}#sk-container-id-315 div.sk-label label {font-family: monospace;font-weight: bold;display: inline-block;line-height: 1.2em;}#sk-container-id-315 div.sk-label-container {text-align: center;}#sk-container-id-315 div.sk-container {/* jupyter's `normalize.less` sets `[hidden] { display: none; }` but bootstrap.min.css set `[hidden] { display: none !important; }` so we also need the `!important` here to be able to override the default hidden behavior on the sphinx rendered scikit-learn.org. See: https://github.com/scikit-learn/scikit-learn/issues/21755 */display: inline-block !important;position: relative;}#sk-container-id-315 div.sk-text-repr-fallback {display: none;}</style><div id=\"sk-container-id-315\" class=\"sk-top-container\"><div class=\"sk-text-repr-fallback\"><pre>KNeighborsClassifier(leaf_size=10, n_neighbors=60, p=1)</pre><b>In a Jupyter environment, please rerun this cell to show the HTML representation or trust the notebook. <br />On GitHub, the HTML representation is unable to render, please try loading this page with nbviewer.org.</b></div><div class=\"sk-container\" hidden><div class=\"sk-item\"><div class=\"sk-estimator sk-toggleable\"><input class=\"sk-toggleable__control sk-hidden--visually\" id=\"sk-estimator-id-315\" type=\"checkbox\" checked><label for=\"sk-estimator-id-315\" class=\"sk-toggleable__label sk-toggleable__label-arrow\">KNeighborsClassifier</label><div class=\"sk-toggleable__content\"><pre>KNeighborsClassifier(leaf_size=10, n_neighbors=60, p=1)</pre></div></div></div></div></div>"
      ],
      "text/plain": [
       "KNeighborsClassifier(leaf_size=10, n_neighbors=60, p=1)"
      ]
     },
     "execution_count": 2790,
     "metadata": {},
     "output_type": "execute_result"
    }
   ],
   "source": [
    "best_knn.fit(X_train_scaled7, y_train)"
   ]
  },
  {
   "cell_type": "markdown",
   "id": "7c472619",
   "metadata": {},
   "source": [
    "### 3. Make prediction with test data set."
   ]
  },
  {
   "cell_type": "code",
   "execution_count": 2791,
   "id": "b01b082d",
   "metadata": {},
   "outputs": [
    {
     "data": {
      "text/plain": [
       "array([0, 0, 1, 0, 1, 1, 0, 0, 0, 1, 0, 0, 1, 1, 1, 1, 1, 0, 0, 0, 0, 0,\n",
       "       0, 1, 1, 1, 0, 1, 0, 1, 0, 0, 0, 0, 0, 0, 1, 1, 1, 1, 1, 1, 1, 1,\n",
       "       1, 0, 0, 1, 0, 0, 0, 0, 1, 1, 0, 1, 0, 1, 0, 1, 1], dtype=int64)"
      ]
     },
     "execution_count": 2791,
     "metadata": {},
     "output_type": "execute_result"
    }
   ],
   "source": [
    "knn_pred9 = best_knn.predict(X_test_scaled7)\n",
    "knn_pred9"
   ]
  },
  {
   "cell_type": "markdown",
   "id": "6ae40ec9",
   "metadata": {},
   "source": [
    "## Case 7 Information:\n",
    "**Method of Feature selection:** Univariate Selection\n",
    "\n",
    "**With parameter tuning ?:** NO\n",
    "\n",
    "**Number of features:** 4\n",
    "\n",
    "**Ratio:** 80:20"
   ]
  },
  {
   "cell_type": "markdown",
   "id": "c53392ae",
   "metadata": {},
   "source": [
    "### 1. Scale the features with feature selection."
   ]
  },
  {
   "cell_type": "code",
   "execution_count": 2792,
   "id": "a0adfaa9",
   "metadata": {},
   "outputs": [],
   "source": [
    "scaler = StandardScaler()\n",
    "X_train_scaled8 = scaler.fit_transform(X_train[best_US_feature1])\n",
    "X_test_scaled8 = scaler.transform(X_test[best_US_feature1])"
   ]
  },
  {
   "cell_type": "markdown",
   "id": "7a9e5200",
   "metadata": {},
   "source": [
    "### 2. Train data with Case 7."
   ]
  },
  {
   "cell_type": "code",
   "execution_count": 2793,
   "id": "a1d531c7",
   "metadata": {},
   "outputs": [
    {
     "data": {
      "text/html": [
       "<style>#sk-container-id-316 {color: black;background-color: white;}#sk-container-id-316 pre{padding: 0;}#sk-container-id-316 div.sk-toggleable {background-color: white;}#sk-container-id-316 label.sk-toggleable__label {cursor: pointer;display: block;width: 100%;margin-bottom: 0;padding: 0.3em;box-sizing: border-box;text-align: center;}#sk-container-id-316 label.sk-toggleable__label-arrow:before {content: \"▸\";float: left;margin-right: 0.25em;color: #696969;}#sk-container-id-316 label.sk-toggleable__label-arrow:hover:before {color: black;}#sk-container-id-316 div.sk-estimator:hover label.sk-toggleable__label-arrow:before {color: black;}#sk-container-id-316 div.sk-toggleable__content {max-height: 0;max-width: 0;overflow: hidden;text-align: left;background-color: #f0f8ff;}#sk-container-id-316 div.sk-toggleable__content pre {margin: 0.2em;color: black;border-radius: 0.25em;background-color: #f0f8ff;}#sk-container-id-316 input.sk-toggleable__control:checked~div.sk-toggleable__content {max-height: 200px;max-width: 100%;overflow: auto;}#sk-container-id-316 input.sk-toggleable__control:checked~label.sk-toggleable__label-arrow:before {content: \"▾\";}#sk-container-id-316 div.sk-estimator input.sk-toggleable__control:checked~label.sk-toggleable__label {background-color: #d4ebff;}#sk-container-id-316 div.sk-label input.sk-toggleable__control:checked~label.sk-toggleable__label {background-color: #d4ebff;}#sk-container-id-316 input.sk-hidden--visually {border: 0;clip: rect(1px 1px 1px 1px);clip: rect(1px, 1px, 1px, 1px);height: 1px;margin: -1px;overflow: hidden;padding: 0;position: absolute;width: 1px;}#sk-container-id-316 div.sk-estimator {font-family: monospace;background-color: #f0f8ff;border: 1px dotted black;border-radius: 0.25em;box-sizing: border-box;margin-bottom: 0.5em;}#sk-container-id-316 div.sk-estimator:hover {background-color: #d4ebff;}#sk-container-id-316 div.sk-parallel-item::after {content: \"\";width: 100%;border-bottom: 1px solid gray;flex-grow: 1;}#sk-container-id-316 div.sk-label:hover label.sk-toggleable__label {background-color: #d4ebff;}#sk-container-id-316 div.sk-serial::before {content: \"\";position: absolute;border-left: 1px solid gray;box-sizing: border-box;top: 0;bottom: 0;left: 50%;z-index: 0;}#sk-container-id-316 div.sk-serial {display: flex;flex-direction: column;align-items: center;background-color: white;padding-right: 0.2em;padding-left: 0.2em;position: relative;}#sk-container-id-316 div.sk-item {position: relative;z-index: 1;}#sk-container-id-316 div.sk-parallel {display: flex;align-items: stretch;justify-content: center;background-color: white;position: relative;}#sk-container-id-316 div.sk-item::before, #sk-container-id-316 div.sk-parallel-item::before {content: \"\";position: absolute;border-left: 1px solid gray;box-sizing: border-box;top: 0;bottom: 0;left: 50%;z-index: -1;}#sk-container-id-316 div.sk-parallel-item {display: flex;flex-direction: column;z-index: 1;position: relative;background-color: white;}#sk-container-id-316 div.sk-parallel-item:first-child::after {align-self: flex-end;width: 50%;}#sk-container-id-316 div.sk-parallel-item:last-child::after {align-self: flex-start;width: 50%;}#sk-container-id-316 div.sk-parallel-item:only-child::after {width: 0;}#sk-container-id-316 div.sk-dashed-wrapped {border: 1px dashed gray;margin: 0 0.4em 0.5em 0.4em;box-sizing: border-box;padding-bottom: 0.4em;background-color: white;}#sk-container-id-316 div.sk-label label {font-family: monospace;font-weight: bold;display: inline-block;line-height: 1.2em;}#sk-container-id-316 div.sk-label-container {text-align: center;}#sk-container-id-316 div.sk-container {/* jupyter's `normalize.less` sets `[hidden] { display: none; }` but bootstrap.min.css set `[hidden] { display: none !important; }` so we also need the `!important` here to be able to override the default hidden behavior on the sphinx rendered scikit-learn.org. See: https://github.com/scikit-learn/scikit-learn/issues/21755 */display: inline-block !important;position: relative;}#sk-container-id-316 div.sk-text-repr-fallback {display: none;}</style><div id=\"sk-container-id-316\" class=\"sk-top-container\"><div class=\"sk-text-repr-fallback\"><pre>KNeighborsClassifier()</pre><b>In a Jupyter environment, please rerun this cell to show the HTML representation or trust the notebook. <br />On GitHub, the HTML representation is unable to render, please try loading this page with nbviewer.org.</b></div><div class=\"sk-container\" hidden><div class=\"sk-item\"><div class=\"sk-estimator sk-toggleable\"><input class=\"sk-toggleable__control sk-hidden--visually\" id=\"sk-estimator-id-316\" type=\"checkbox\" checked><label for=\"sk-estimator-id-316\" class=\"sk-toggleable__label sk-toggleable__label-arrow\">KNeighborsClassifier</label><div class=\"sk-toggleable__content\"><pre>KNeighborsClassifier()</pre></div></div></div></div></div>"
      ],
      "text/plain": [
       "KNeighborsClassifier()"
      ]
     },
     "execution_count": 2793,
     "metadata": {},
     "output_type": "execute_result"
    }
   ],
   "source": [
    "knn1.fit(X_train_scaled8, y_train)"
   ]
  },
  {
   "cell_type": "markdown",
   "id": "cb522c06",
   "metadata": {},
   "source": [
    "### 3. Make prediction with test data set."
   ]
  },
  {
   "cell_type": "code",
   "execution_count": 2794,
   "id": "509c5637",
   "metadata": {},
   "outputs": [
    {
     "data": {
      "text/plain": [
       "array([0, 1, 1, 0, 1, 1, 1, 0, 0, 1, 1, 1, 1, 0, 1, 1, 1, 0, 0, 0, 1, 0,\n",
       "       0, 0, 1, 1, 0, 1, 0, 1, 0, 0, 0, 0, 1, 0, 1, 1, 1, 1, 1, 1, 1, 1,\n",
       "       1, 0, 1, 1, 0, 0, 0, 0, 1, 1, 0, 0, 0, 1, 0, 1, 0], dtype=int64)"
      ]
     },
     "execution_count": 2794,
     "metadata": {},
     "output_type": "execute_result"
    }
   ],
   "source": [
    "knn_pred10 = knn1.predict(X_test_scaled8)\n",
    "knn_pred10"
   ]
  },
  {
   "cell_type": "markdown",
   "id": "b731504d",
   "metadata": {},
   "source": [
    "## Case 8 Information:\n",
    "**Method of Feature selection:** Univariate Selection\n",
    "\n",
    "**With parameter tuning ?:** YES\n",
    "\n",
    "**Number of features:** 4\n",
    "\n",
    "**Ratio:** 80:20"
   ]
  },
  {
   "cell_type": "markdown",
   "id": "a5088242",
   "metadata": {},
   "source": [
    "### 1. Scale the features with feature selection."
   ]
  },
  {
   "cell_type": "code",
   "execution_count": 2795,
   "id": "8f03a0d8",
   "metadata": {},
   "outputs": [],
   "source": [
    "scaler = StandardScaler()\n",
    "X_train_scaled9 = scaler.fit_transform(X_train[best_US_feature1])\n",
    "X_test_scaled9 = scaler.transform(X_test[best_US_feature1])"
   ]
  },
  {
   "cell_type": "markdown",
   "id": "c327db7f",
   "metadata": {},
   "source": [
    "### 2. Train data with Case 8."
   ]
  },
  {
   "cell_type": "code",
   "execution_count": 2796,
   "id": "0a5b72f0",
   "metadata": {},
   "outputs": [
    {
     "data": {
      "text/html": [
       "<style>#sk-container-id-317 {color: black;background-color: white;}#sk-container-id-317 pre{padding: 0;}#sk-container-id-317 div.sk-toggleable {background-color: white;}#sk-container-id-317 label.sk-toggleable__label {cursor: pointer;display: block;width: 100%;margin-bottom: 0;padding: 0.3em;box-sizing: border-box;text-align: center;}#sk-container-id-317 label.sk-toggleable__label-arrow:before {content: \"▸\";float: left;margin-right: 0.25em;color: #696969;}#sk-container-id-317 label.sk-toggleable__label-arrow:hover:before {color: black;}#sk-container-id-317 div.sk-estimator:hover label.sk-toggleable__label-arrow:before {color: black;}#sk-container-id-317 div.sk-toggleable__content {max-height: 0;max-width: 0;overflow: hidden;text-align: left;background-color: #f0f8ff;}#sk-container-id-317 div.sk-toggleable__content pre {margin: 0.2em;color: black;border-radius: 0.25em;background-color: #f0f8ff;}#sk-container-id-317 input.sk-toggleable__control:checked~div.sk-toggleable__content {max-height: 200px;max-width: 100%;overflow: auto;}#sk-container-id-317 input.sk-toggleable__control:checked~label.sk-toggleable__label-arrow:before {content: \"▾\";}#sk-container-id-317 div.sk-estimator input.sk-toggleable__control:checked~label.sk-toggleable__label {background-color: #d4ebff;}#sk-container-id-317 div.sk-label input.sk-toggleable__control:checked~label.sk-toggleable__label {background-color: #d4ebff;}#sk-container-id-317 input.sk-hidden--visually {border: 0;clip: rect(1px 1px 1px 1px);clip: rect(1px, 1px, 1px, 1px);height: 1px;margin: -1px;overflow: hidden;padding: 0;position: absolute;width: 1px;}#sk-container-id-317 div.sk-estimator {font-family: monospace;background-color: #f0f8ff;border: 1px dotted black;border-radius: 0.25em;box-sizing: border-box;margin-bottom: 0.5em;}#sk-container-id-317 div.sk-estimator:hover {background-color: #d4ebff;}#sk-container-id-317 div.sk-parallel-item::after {content: \"\";width: 100%;border-bottom: 1px solid gray;flex-grow: 1;}#sk-container-id-317 div.sk-label:hover label.sk-toggleable__label {background-color: #d4ebff;}#sk-container-id-317 div.sk-serial::before {content: \"\";position: absolute;border-left: 1px solid gray;box-sizing: border-box;top: 0;bottom: 0;left: 50%;z-index: 0;}#sk-container-id-317 div.sk-serial {display: flex;flex-direction: column;align-items: center;background-color: white;padding-right: 0.2em;padding-left: 0.2em;position: relative;}#sk-container-id-317 div.sk-item {position: relative;z-index: 1;}#sk-container-id-317 div.sk-parallel {display: flex;align-items: stretch;justify-content: center;background-color: white;position: relative;}#sk-container-id-317 div.sk-item::before, #sk-container-id-317 div.sk-parallel-item::before {content: \"\";position: absolute;border-left: 1px solid gray;box-sizing: border-box;top: 0;bottom: 0;left: 50%;z-index: -1;}#sk-container-id-317 div.sk-parallel-item {display: flex;flex-direction: column;z-index: 1;position: relative;background-color: white;}#sk-container-id-317 div.sk-parallel-item:first-child::after {align-self: flex-end;width: 50%;}#sk-container-id-317 div.sk-parallel-item:last-child::after {align-self: flex-start;width: 50%;}#sk-container-id-317 div.sk-parallel-item:only-child::after {width: 0;}#sk-container-id-317 div.sk-dashed-wrapped {border: 1px dashed gray;margin: 0 0.4em 0.5em 0.4em;box-sizing: border-box;padding-bottom: 0.4em;background-color: white;}#sk-container-id-317 div.sk-label label {font-family: monospace;font-weight: bold;display: inline-block;line-height: 1.2em;}#sk-container-id-317 div.sk-label-container {text-align: center;}#sk-container-id-317 div.sk-container {/* jupyter's `normalize.less` sets `[hidden] { display: none; }` but bootstrap.min.css set `[hidden] { display: none !important; }` so we also need the `!important` here to be able to override the default hidden behavior on the sphinx rendered scikit-learn.org. See: https://github.com/scikit-learn/scikit-learn/issues/21755 */display: inline-block !important;position: relative;}#sk-container-id-317 div.sk-text-repr-fallback {display: none;}</style><div id=\"sk-container-id-317\" class=\"sk-top-container\"><div class=\"sk-text-repr-fallback\"><pre>KNeighborsClassifier(leaf_size=10, n_neighbors=60, p=1)</pre><b>In a Jupyter environment, please rerun this cell to show the HTML representation or trust the notebook. <br />On GitHub, the HTML representation is unable to render, please try loading this page with nbviewer.org.</b></div><div class=\"sk-container\" hidden><div class=\"sk-item\"><div class=\"sk-estimator sk-toggleable\"><input class=\"sk-toggleable__control sk-hidden--visually\" id=\"sk-estimator-id-317\" type=\"checkbox\" checked><label for=\"sk-estimator-id-317\" class=\"sk-toggleable__label sk-toggleable__label-arrow\">KNeighborsClassifier</label><div class=\"sk-toggleable__content\"><pre>KNeighborsClassifier(leaf_size=10, n_neighbors=60, p=1)</pre></div></div></div></div></div>"
      ],
      "text/plain": [
       "KNeighborsClassifier(leaf_size=10, n_neighbors=60, p=1)"
      ]
     },
     "execution_count": 2796,
     "metadata": {},
     "output_type": "execute_result"
    }
   ],
   "source": [
    "best_knn.fit(X_train_scaled9, y_train)"
   ]
  },
  {
   "cell_type": "markdown",
   "id": "fc8d073d",
   "metadata": {},
   "source": [
    "### 3. Make prediction with test data set."
   ]
  },
  {
   "cell_type": "code",
   "execution_count": 2797,
   "id": "ab11d386",
   "metadata": {},
   "outputs": [
    {
     "data": {
      "text/plain": [
       "array([0, 1, 1, 0, 1, 1, 1, 0, 0, 1, 1, 1, 1, 0, 1, 1, 1, 0, 0, 0, 1, 0,\n",
       "       0, 1, 1, 1, 0, 1, 0, 1, 0, 0, 0, 0, 1, 0, 1, 1, 1, 1, 1, 1, 1, 1,\n",
       "       1, 0, 1, 1, 0, 0, 0, 0, 1, 1, 0, 1, 0, 1, 0, 1, 1], dtype=int64)"
      ]
     },
     "execution_count": 2797,
     "metadata": {},
     "output_type": "execute_result"
    }
   ],
   "source": [
    "knn_pred11 = best_knn.predict(X_test_scaled9)\n",
    "knn_pred11"
   ]
  },
  {
   "cell_type": "markdown",
   "id": "bd25878c",
   "metadata": {},
   "source": [
    "## Case 9 Information:\n",
    "**Method of Feature selection:** Univariate Selection\n",
    "\n",
    "**With parameter tuning ?:** NO\n",
    "\n",
    "**Number of features:** 6\n",
    "\n",
    "**Ratio:** 80:20"
   ]
  },
  {
   "cell_type": "markdown",
   "id": "c7e9281d",
   "metadata": {},
   "source": [
    "### 1. Scale the features with feature selection."
   ]
  },
  {
   "cell_type": "code",
   "execution_count": 2798,
   "id": "c4b3382e",
   "metadata": {},
   "outputs": [],
   "source": [
    "scaler = StandardScaler()\n",
    "X_train_scaled10 = scaler.fit_transform(X_train[best_US_feature2])\n",
    "X_test_scaled10 = scaler.transform(X_test[best_US_feature2])"
   ]
  },
  {
   "cell_type": "markdown",
   "id": "05125d8f",
   "metadata": {},
   "source": [
    "### 2. Train data with Case 9."
   ]
  },
  {
   "cell_type": "code",
   "execution_count": 2799,
   "id": "9b0773a6",
   "metadata": {},
   "outputs": [
    {
     "data": {
      "text/html": [
       "<style>#sk-container-id-318 {color: black;background-color: white;}#sk-container-id-318 pre{padding: 0;}#sk-container-id-318 div.sk-toggleable {background-color: white;}#sk-container-id-318 label.sk-toggleable__label {cursor: pointer;display: block;width: 100%;margin-bottom: 0;padding: 0.3em;box-sizing: border-box;text-align: center;}#sk-container-id-318 label.sk-toggleable__label-arrow:before {content: \"▸\";float: left;margin-right: 0.25em;color: #696969;}#sk-container-id-318 label.sk-toggleable__label-arrow:hover:before {color: black;}#sk-container-id-318 div.sk-estimator:hover label.sk-toggleable__label-arrow:before {color: black;}#sk-container-id-318 div.sk-toggleable__content {max-height: 0;max-width: 0;overflow: hidden;text-align: left;background-color: #f0f8ff;}#sk-container-id-318 div.sk-toggleable__content pre {margin: 0.2em;color: black;border-radius: 0.25em;background-color: #f0f8ff;}#sk-container-id-318 input.sk-toggleable__control:checked~div.sk-toggleable__content {max-height: 200px;max-width: 100%;overflow: auto;}#sk-container-id-318 input.sk-toggleable__control:checked~label.sk-toggleable__label-arrow:before {content: \"▾\";}#sk-container-id-318 div.sk-estimator input.sk-toggleable__control:checked~label.sk-toggleable__label {background-color: #d4ebff;}#sk-container-id-318 div.sk-label input.sk-toggleable__control:checked~label.sk-toggleable__label {background-color: #d4ebff;}#sk-container-id-318 input.sk-hidden--visually {border: 0;clip: rect(1px 1px 1px 1px);clip: rect(1px, 1px, 1px, 1px);height: 1px;margin: -1px;overflow: hidden;padding: 0;position: absolute;width: 1px;}#sk-container-id-318 div.sk-estimator {font-family: monospace;background-color: #f0f8ff;border: 1px dotted black;border-radius: 0.25em;box-sizing: border-box;margin-bottom: 0.5em;}#sk-container-id-318 div.sk-estimator:hover {background-color: #d4ebff;}#sk-container-id-318 div.sk-parallel-item::after {content: \"\";width: 100%;border-bottom: 1px solid gray;flex-grow: 1;}#sk-container-id-318 div.sk-label:hover label.sk-toggleable__label {background-color: #d4ebff;}#sk-container-id-318 div.sk-serial::before {content: \"\";position: absolute;border-left: 1px solid gray;box-sizing: border-box;top: 0;bottom: 0;left: 50%;z-index: 0;}#sk-container-id-318 div.sk-serial {display: flex;flex-direction: column;align-items: center;background-color: white;padding-right: 0.2em;padding-left: 0.2em;position: relative;}#sk-container-id-318 div.sk-item {position: relative;z-index: 1;}#sk-container-id-318 div.sk-parallel {display: flex;align-items: stretch;justify-content: center;background-color: white;position: relative;}#sk-container-id-318 div.sk-item::before, #sk-container-id-318 div.sk-parallel-item::before {content: \"\";position: absolute;border-left: 1px solid gray;box-sizing: border-box;top: 0;bottom: 0;left: 50%;z-index: -1;}#sk-container-id-318 div.sk-parallel-item {display: flex;flex-direction: column;z-index: 1;position: relative;background-color: white;}#sk-container-id-318 div.sk-parallel-item:first-child::after {align-self: flex-end;width: 50%;}#sk-container-id-318 div.sk-parallel-item:last-child::after {align-self: flex-start;width: 50%;}#sk-container-id-318 div.sk-parallel-item:only-child::after {width: 0;}#sk-container-id-318 div.sk-dashed-wrapped {border: 1px dashed gray;margin: 0 0.4em 0.5em 0.4em;box-sizing: border-box;padding-bottom: 0.4em;background-color: white;}#sk-container-id-318 div.sk-label label {font-family: monospace;font-weight: bold;display: inline-block;line-height: 1.2em;}#sk-container-id-318 div.sk-label-container {text-align: center;}#sk-container-id-318 div.sk-container {/* jupyter's `normalize.less` sets `[hidden] { display: none; }` but bootstrap.min.css set `[hidden] { display: none !important; }` so we also need the `!important` here to be able to override the default hidden behavior on the sphinx rendered scikit-learn.org. See: https://github.com/scikit-learn/scikit-learn/issues/21755 */display: inline-block !important;position: relative;}#sk-container-id-318 div.sk-text-repr-fallback {display: none;}</style><div id=\"sk-container-id-318\" class=\"sk-top-container\"><div class=\"sk-text-repr-fallback\"><pre>KNeighborsClassifier()</pre><b>In a Jupyter environment, please rerun this cell to show the HTML representation or trust the notebook. <br />On GitHub, the HTML representation is unable to render, please try loading this page with nbviewer.org.</b></div><div class=\"sk-container\" hidden><div class=\"sk-item\"><div class=\"sk-estimator sk-toggleable\"><input class=\"sk-toggleable__control sk-hidden--visually\" id=\"sk-estimator-id-318\" type=\"checkbox\" checked><label for=\"sk-estimator-id-318\" class=\"sk-toggleable__label sk-toggleable__label-arrow\">KNeighborsClassifier</label><div class=\"sk-toggleable__content\"><pre>KNeighborsClassifier()</pre></div></div></div></div></div>"
      ],
      "text/plain": [
       "KNeighborsClassifier()"
      ]
     },
     "execution_count": 2799,
     "metadata": {},
     "output_type": "execute_result"
    }
   ],
   "source": [
    "knn1.fit(X_train_scaled10, y_train)"
   ]
  },
  {
   "cell_type": "markdown",
   "id": "3a5e9394",
   "metadata": {},
   "source": [
    "### 3. Make prediction with test data set."
   ]
  },
  {
   "cell_type": "code",
   "execution_count": 2800,
   "id": "da426889",
   "metadata": {},
   "outputs": [
    {
     "data": {
      "text/plain": [
       "array([0, 1, 0, 0, 1, 1, 1, 0, 0, 1, 1, 0, 1, 0, 1, 1, 1, 0, 0, 0, 1, 0,\n",
       "       0, 1, 1, 1, 0, 1, 0, 1, 0, 0, 0, 0, 1, 0, 1, 1, 1, 1, 1, 1, 1, 1,\n",
       "       1, 0, 0, 1, 0, 0, 0, 0, 1, 1, 0, 1, 0, 1, 0, 1, 0], dtype=int64)"
      ]
     },
     "execution_count": 2800,
     "metadata": {},
     "output_type": "execute_result"
    }
   ],
   "source": [
    "knn_pred12 = knn1.predict(X_test_scaled10)\n",
    "knn_pred12"
   ]
  },
  {
   "cell_type": "markdown",
   "id": "50f1f291",
   "metadata": {},
   "source": [
    "## Case 10 Information:\n",
    "**Method of Feature selection:** Univariate Selection\n",
    "\n",
    "**With parameter tuning ?:** YES\n",
    "\n",
    "**Number of features:** 6\n",
    "\n",
    "**Ratio:** 80:20"
   ]
  },
  {
   "cell_type": "markdown",
   "id": "1c76ce10",
   "metadata": {},
   "source": [
    "### 1. Scale the features with feature selection."
   ]
  },
  {
   "cell_type": "code",
   "execution_count": 2801,
   "id": "d5d5ab57",
   "metadata": {},
   "outputs": [],
   "source": [
    "scaler = StandardScaler()\n",
    "X_train_scaled11 = scaler.fit_transform(X_train[best_US_feature2])\n",
    "X_test_scaled11 = scaler.transform(X_test[best_US_feature2])"
   ]
  },
  {
   "cell_type": "markdown",
   "id": "7d3eef61",
   "metadata": {},
   "source": [
    "### 2. Train data with Case 10."
   ]
  },
  {
   "cell_type": "code",
   "execution_count": 2802,
   "id": "ef915cfc",
   "metadata": {},
   "outputs": [
    {
     "data": {
      "text/html": [
       "<style>#sk-container-id-319 {color: black;background-color: white;}#sk-container-id-319 pre{padding: 0;}#sk-container-id-319 div.sk-toggleable {background-color: white;}#sk-container-id-319 label.sk-toggleable__label {cursor: pointer;display: block;width: 100%;margin-bottom: 0;padding: 0.3em;box-sizing: border-box;text-align: center;}#sk-container-id-319 label.sk-toggleable__label-arrow:before {content: \"▸\";float: left;margin-right: 0.25em;color: #696969;}#sk-container-id-319 label.sk-toggleable__label-arrow:hover:before {color: black;}#sk-container-id-319 div.sk-estimator:hover label.sk-toggleable__label-arrow:before {color: black;}#sk-container-id-319 div.sk-toggleable__content {max-height: 0;max-width: 0;overflow: hidden;text-align: left;background-color: #f0f8ff;}#sk-container-id-319 div.sk-toggleable__content pre {margin: 0.2em;color: black;border-radius: 0.25em;background-color: #f0f8ff;}#sk-container-id-319 input.sk-toggleable__control:checked~div.sk-toggleable__content {max-height: 200px;max-width: 100%;overflow: auto;}#sk-container-id-319 input.sk-toggleable__control:checked~label.sk-toggleable__label-arrow:before {content: \"▾\";}#sk-container-id-319 div.sk-estimator input.sk-toggleable__control:checked~label.sk-toggleable__label {background-color: #d4ebff;}#sk-container-id-319 div.sk-label input.sk-toggleable__control:checked~label.sk-toggleable__label {background-color: #d4ebff;}#sk-container-id-319 input.sk-hidden--visually {border: 0;clip: rect(1px 1px 1px 1px);clip: rect(1px, 1px, 1px, 1px);height: 1px;margin: -1px;overflow: hidden;padding: 0;position: absolute;width: 1px;}#sk-container-id-319 div.sk-estimator {font-family: monospace;background-color: #f0f8ff;border: 1px dotted black;border-radius: 0.25em;box-sizing: border-box;margin-bottom: 0.5em;}#sk-container-id-319 div.sk-estimator:hover {background-color: #d4ebff;}#sk-container-id-319 div.sk-parallel-item::after {content: \"\";width: 100%;border-bottom: 1px solid gray;flex-grow: 1;}#sk-container-id-319 div.sk-label:hover label.sk-toggleable__label {background-color: #d4ebff;}#sk-container-id-319 div.sk-serial::before {content: \"\";position: absolute;border-left: 1px solid gray;box-sizing: border-box;top: 0;bottom: 0;left: 50%;z-index: 0;}#sk-container-id-319 div.sk-serial {display: flex;flex-direction: column;align-items: center;background-color: white;padding-right: 0.2em;padding-left: 0.2em;position: relative;}#sk-container-id-319 div.sk-item {position: relative;z-index: 1;}#sk-container-id-319 div.sk-parallel {display: flex;align-items: stretch;justify-content: center;background-color: white;position: relative;}#sk-container-id-319 div.sk-item::before, #sk-container-id-319 div.sk-parallel-item::before {content: \"\";position: absolute;border-left: 1px solid gray;box-sizing: border-box;top: 0;bottom: 0;left: 50%;z-index: -1;}#sk-container-id-319 div.sk-parallel-item {display: flex;flex-direction: column;z-index: 1;position: relative;background-color: white;}#sk-container-id-319 div.sk-parallel-item:first-child::after {align-self: flex-end;width: 50%;}#sk-container-id-319 div.sk-parallel-item:last-child::after {align-self: flex-start;width: 50%;}#sk-container-id-319 div.sk-parallel-item:only-child::after {width: 0;}#sk-container-id-319 div.sk-dashed-wrapped {border: 1px dashed gray;margin: 0 0.4em 0.5em 0.4em;box-sizing: border-box;padding-bottom: 0.4em;background-color: white;}#sk-container-id-319 div.sk-label label {font-family: monospace;font-weight: bold;display: inline-block;line-height: 1.2em;}#sk-container-id-319 div.sk-label-container {text-align: center;}#sk-container-id-319 div.sk-container {/* jupyter's `normalize.less` sets `[hidden] { display: none; }` but bootstrap.min.css set `[hidden] { display: none !important; }` so we also need the `!important` here to be able to override the default hidden behavior on the sphinx rendered scikit-learn.org. See: https://github.com/scikit-learn/scikit-learn/issues/21755 */display: inline-block !important;position: relative;}#sk-container-id-319 div.sk-text-repr-fallback {display: none;}</style><div id=\"sk-container-id-319\" class=\"sk-top-container\"><div class=\"sk-text-repr-fallback\"><pre>KNeighborsClassifier(leaf_size=10, n_neighbors=60, p=1)</pre><b>In a Jupyter environment, please rerun this cell to show the HTML representation or trust the notebook. <br />On GitHub, the HTML representation is unable to render, please try loading this page with nbviewer.org.</b></div><div class=\"sk-container\" hidden><div class=\"sk-item\"><div class=\"sk-estimator sk-toggleable\"><input class=\"sk-toggleable__control sk-hidden--visually\" id=\"sk-estimator-id-319\" type=\"checkbox\" checked><label for=\"sk-estimator-id-319\" class=\"sk-toggleable__label sk-toggleable__label-arrow\">KNeighborsClassifier</label><div class=\"sk-toggleable__content\"><pre>KNeighborsClassifier(leaf_size=10, n_neighbors=60, p=1)</pre></div></div></div></div></div>"
      ],
      "text/plain": [
       "KNeighborsClassifier(leaf_size=10, n_neighbors=60, p=1)"
      ]
     },
     "execution_count": 2802,
     "metadata": {},
     "output_type": "execute_result"
    }
   ],
   "source": [
    "best_knn.fit(X_train_scaled11, y_train)"
   ]
  },
  {
   "cell_type": "markdown",
   "id": "edca4fd6",
   "metadata": {},
   "source": [
    "### 3. Make prediction with test data set."
   ]
  },
  {
   "cell_type": "code",
   "execution_count": 2803,
   "id": "8ef4682b",
   "metadata": {},
   "outputs": [
    {
     "data": {
      "text/plain": [
       "array([0, 0, 1, 0, 1, 1, 1, 0, 0, 1, 1, 1, 1, 0, 1, 1, 1, 0, 0, 0, 1, 0,\n",
       "       1, 1, 1, 1, 0, 1, 0, 1, 0, 0, 0, 0, 1, 0, 1, 1, 1, 1, 1, 1, 1, 1,\n",
       "       1, 0, 0, 1, 0, 0, 0, 0, 1, 1, 0, 0, 0, 1, 0, 1, 1], dtype=int64)"
      ]
     },
     "execution_count": 2803,
     "metadata": {},
     "output_type": "execute_result"
    }
   ],
   "source": [
    "knn_pred13 = best_knn.predict(X_test_scaled11)\n",
    "knn_pred13"
   ]
  },
  {
   "cell_type": "markdown",
   "id": "d2323a59",
   "metadata": {},
   "source": [
    "## Case 11 Information:\n",
    "**Method of Feature selection:** Univariate Selection\n",
    "\n",
    "**With parameter tuning ?:** NO\n",
    "\n",
    "**Number of features:** 8\n",
    "\n",
    "**Ratio:** 80:20"
   ]
  },
  {
   "cell_type": "markdown",
   "id": "dec9eedc",
   "metadata": {},
   "source": [
    "### 1. Scale the features with feature selection."
   ]
  },
  {
   "cell_type": "code",
   "execution_count": 2804,
   "id": "ab4abbfc",
   "metadata": {},
   "outputs": [],
   "source": [
    "scaler = StandardScaler()\n",
    "X_train_scaled12 = scaler.fit_transform(X_train[best_US_feature3])\n",
    "X_test_scaled12 = scaler.transform(X_test[best_US_feature3])"
   ]
  },
  {
   "cell_type": "markdown",
   "id": "0500864b",
   "metadata": {},
   "source": [
    "### 2. Train data with Case 11."
   ]
  },
  {
   "cell_type": "code",
   "execution_count": 2805,
   "id": "6d53c615",
   "metadata": {},
   "outputs": [
    {
     "data": {
      "text/html": [
       "<style>#sk-container-id-320 {color: black;background-color: white;}#sk-container-id-320 pre{padding: 0;}#sk-container-id-320 div.sk-toggleable {background-color: white;}#sk-container-id-320 label.sk-toggleable__label {cursor: pointer;display: block;width: 100%;margin-bottom: 0;padding: 0.3em;box-sizing: border-box;text-align: center;}#sk-container-id-320 label.sk-toggleable__label-arrow:before {content: \"▸\";float: left;margin-right: 0.25em;color: #696969;}#sk-container-id-320 label.sk-toggleable__label-arrow:hover:before {color: black;}#sk-container-id-320 div.sk-estimator:hover label.sk-toggleable__label-arrow:before {color: black;}#sk-container-id-320 div.sk-toggleable__content {max-height: 0;max-width: 0;overflow: hidden;text-align: left;background-color: #f0f8ff;}#sk-container-id-320 div.sk-toggleable__content pre {margin: 0.2em;color: black;border-radius: 0.25em;background-color: #f0f8ff;}#sk-container-id-320 input.sk-toggleable__control:checked~div.sk-toggleable__content {max-height: 200px;max-width: 100%;overflow: auto;}#sk-container-id-320 input.sk-toggleable__control:checked~label.sk-toggleable__label-arrow:before {content: \"▾\";}#sk-container-id-320 div.sk-estimator input.sk-toggleable__control:checked~label.sk-toggleable__label {background-color: #d4ebff;}#sk-container-id-320 div.sk-label input.sk-toggleable__control:checked~label.sk-toggleable__label {background-color: #d4ebff;}#sk-container-id-320 input.sk-hidden--visually {border: 0;clip: rect(1px 1px 1px 1px);clip: rect(1px, 1px, 1px, 1px);height: 1px;margin: -1px;overflow: hidden;padding: 0;position: absolute;width: 1px;}#sk-container-id-320 div.sk-estimator {font-family: monospace;background-color: #f0f8ff;border: 1px dotted black;border-radius: 0.25em;box-sizing: border-box;margin-bottom: 0.5em;}#sk-container-id-320 div.sk-estimator:hover {background-color: #d4ebff;}#sk-container-id-320 div.sk-parallel-item::after {content: \"\";width: 100%;border-bottom: 1px solid gray;flex-grow: 1;}#sk-container-id-320 div.sk-label:hover label.sk-toggleable__label {background-color: #d4ebff;}#sk-container-id-320 div.sk-serial::before {content: \"\";position: absolute;border-left: 1px solid gray;box-sizing: border-box;top: 0;bottom: 0;left: 50%;z-index: 0;}#sk-container-id-320 div.sk-serial {display: flex;flex-direction: column;align-items: center;background-color: white;padding-right: 0.2em;padding-left: 0.2em;position: relative;}#sk-container-id-320 div.sk-item {position: relative;z-index: 1;}#sk-container-id-320 div.sk-parallel {display: flex;align-items: stretch;justify-content: center;background-color: white;position: relative;}#sk-container-id-320 div.sk-item::before, #sk-container-id-320 div.sk-parallel-item::before {content: \"\";position: absolute;border-left: 1px solid gray;box-sizing: border-box;top: 0;bottom: 0;left: 50%;z-index: -1;}#sk-container-id-320 div.sk-parallel-item {display: flex;flex-direction: column;z-index: 1;position: relative;background-color: white;}#sk-container-id-320 div.sk-parallel-item:first-child::after {align-self: flex-end;width: 50%;}#sk-container-id-320 div.sk-parallel-item:last-child::after {align-self: flex-start;width: 50%;}#sk-container-id-320 div.sk-parallel-item:only-child::after {width: 0;}#sk-container-id-320 div.sk-dashed-wrapped {border: 1px dashed gray;margin: 0 0.4em 0.5em 0.4em;box-sizing: border-box;padding-bottom: 0.4em;background-color: white;}#sk-container-id-320 div.sk-label label {font-family: monospace;font-weight: bold;display: inline-block;line-height: 1.2em;}#sk-container-id-320 div.sk-label-container {text-align: center;}#sk-container-id-320 div.sk-container {/* jupyter's `normalize.less` sets `[hidden] { display: none; }` but bootstrap.min.css set `[hidden] { display: none !important; }` so we also need the `!important` here to be able to override the default hidden behavior on the sphinx rendered scikit-learn.org. See: https://github.com/scikit-learn/scikit-learn/issues/21755 */display: inline-block !important;position: relative;}#sk-container-id-320 div.sk-text-repr-fallback {display: none;}</style><div id=\"sk-container-id-320\" class=\"sk-top-container\"><div class=\"sk-text-repr-fallback\"><pre>KNeighborsClassifier()</pre><b>In a Jupyter environment, please rerun this cell to show the HTML representation or trust the notebook. <br />On GitHub, the HTML representation is unable to render, please try loading this page with nbviewer.org.</b></div><div class=\"sk-container\" hidden><div class=\"sk-item\"><div class=\"sk-estimator sk-toggleable\"><input class=\"sk-toggleable__control sk-hidden--visually\" id=\"sk-estimator-id-320\" type=\"checkbox\" checked><label for=\"sk-estimator-id-320\" class=\"sk-toggleable__label sk-toggleable__label-arrow\">KNeighborsClassifier</label><div class=\"sk-toggleable__content\"><pre>KNeighborsClassifier()</pre></div></div></div></div></div>"
      ],
      "text/plain": [
       "KNeighborsClassifier()"
      ]
     },
     "execution_count": 2805,
     "metadata": {},
     "output_type": "execute_result"
    }
   ],
   "source": [
    "knn1.fit(X_train_scaled12, y_train)"
   ]
  },
  {
   "cell_type": "markdown",
   "id": "0380a819",
   "metadata": {},
   "source": [
    "### 3. Make prediction with test data set."
   ]
  },
  {
   "cell_type": "code",
   "execution_count": 2806,
   "id": "2a08c281",
   "metadata": {},
   "outputs": [
    {
     "data": {
      "text/plain": [
       "array([0, 1, 1, 0, 0, 1, 0, 0, 0, 1, 1, 1, 1, 0, 1, 1, 1, 0, 0, 0, 1, 0,\n",
       "       0, 0, 1, 1, 0, 1, 0, 0, 0, 0, 0, 0, 1, 0, 1, 0, 1, 1, 1, 1, 1, 1,\n",
       "       1, 0, 0, 1, 0, 0, 0, 0, 1, 1, 0, 1, 0, 1, 0, 1, 0], dtype=int64)"
      ]
     },
     "execution_count": 2806,
     "metadata": {},
     "output_type": "execute_result"
    }
   ],
   "source": [
    "knn_pred14 = knn1.predict(X_test_scaled12)\n",
    "knn_pred14"
   ]
  },
  {
   "cell_type": "markdown",
   "id": "e69007ef",
   "metadata": {},
   "source": [
    "## Case 12 Information:\n",
    "**Method of Feature selection:** Univariate Selection\n",
    "\n",
    "**With parameter tuning ?:** YES\n",
    "\n",
    "**Number of features:** 8\n",
    "\n",
    "**Ratio:** 80:20"
   ]
  },
  {
   "cell_type": "markdown",
   "id": "4881ea83",
   "metadata": {},
   "source": [
    "### 1. Scale the features with feature selection."
   ]
  },
  {
   "cell_type": "code",
   "execution_count": 2807,
   "id": "446d7624",
   "metadata": {},
   "outputs": [],
   "source": [
    "scaler = StandardScaler()\n",
    "X_train_scaled13 = scaler.fit_transform(X_train[best_US_feature3])\n",
    "X_test_scaled13 = scaler.transform(X_test[best_US_feature3])"
   ]
  },
  {
   "cell_type": "markdown",
   "id": "d545b19f",
   "metadata": {},
   "source": [
    "### 1.Train data with Case 12."
   ]
  },
  {
   "cell_type": "code",
   "execution_count": 2808,
   "id": "5c42587c",
   "metadata": {},
   "outputs": [
    {
     "data": {
      "text/html": [
       "<style>#sk-container-id-321 {color: black;background-color: white;}#sk-container-id-321 pre{padding: 0;}#sk-container-id-321 div.sk-toggleable {background-color: white;}#sk-container-id-321 label.sk-toggleable__label {cursor: pointer;display: block;width: 100%;margin-bottom: 0;padding: 0.3em;box-sizing: border-box;text-align: center;}#sk-container-id-321 label.sk-toggleable__label-arrow:before {content: \"▸\";float: left;margin-right: 0.25em;color: #696969;}#sk-container-id-321 label.sk-toggleable__label-arrow:hover:before {color: black;}#sk-container-id-321 div.sk-estimator:hover label.sk-toggleable__label-arrow:before {color: black;}#sk-container-id-321 div.sk-toggleable__content {max-height: 0;max-width: 0;overflow: hidden;text-align: left;background-color: #f0f8ff;}#sk-container-id-321 div.sk-toggleable__content pre {margin: 0.2em;color: black;border-radius: 0.25em;background-color: #f0f8ff;}#sk-container-id-321 input.sk-toggleable__control:checked~div.sk-toggleable__content {max-height: 200px;max-width: 100%;overflow: auto;}#sk-container-id-321 input.sk-toggleable__control:checked~label.sk-toggleable__label-arrow:before {content: \"▾\";}#sk-container-id-321 div.sk-estimator input.sk-toggleable__control:checked~label.sk-toggleable__label {background-color: #d4ebff;}#sk-container-id-321 div.sk-label input.sk-toggleable__control:checked~label.sk-toggleable__label {background-color: #d4ebff;}#sk-container-id-321 input.sk-hidden--visually {border: 0;clip: rect(1px 1px 1px 1px);clip: rect(1px, 1px, 1px, 1px);height: 1px;margin: -1px;overflow: hidden;padding: 0;position: absolute;width: 1px;}#sk-container-id-321 div.sk-estimator {font-family: monospace;background-color: #f0f8ff;border: 1px dotted black;border-radius: 0.25em;box-sizing: border-box;margin-bottom: 0.5em;}#sk-container-id-321 div.sk-estimator:hover {background-color: #d4ebff;}#sk-container-id-321 div.sk-parallel-item::after {content: \"\";width: 100%;border-bottom: 1px solid gray;flex-grow: 1;}#sk-container-id-321 div.sk-label:hover label.sk-toggleable__label {background-color: #d4ebff;}#sk-container-id-321 div.sk-serial::before {content: \"\";position: absolute;border-left: 1px solid gray;box-sizing: border-box;top: 0;bottom: 0;left: 50%;z-index: 0;}#sk-container-id-321 div.sk-serial {display: flex;flex-direction: column;align-items: center;background-color: white;padding-right: 0.2em;padding-left: 0.2em;position: relative;}#sk-container-id-321 div.sk-item {position: relative;z-index: 1;}#sk-container-id-321 div.sk-parallel {display: flex;align-items: stretch;justify-content: center;background-color: white;position: relative;}#sk-container-id-321 div.sk-item::before, #sk-container-id-321 div.sk-parallel-item::before {content: \"\";position: absolute;border-left: 1px solid gray;box-sizing: border-box;top: 0;bottom: 0;left: 50%;z-index: -1;}#sk-container-id-321 div.sk-parallel-item {display: flex;flex-direction: column;z-index: 1;position: relative;background-color: white;}#sk-container-id-321 div.sk-parallel-item:first-child::after {align-self: flex-end;width: 50%;}#sk-container-id-321 div.sk-parallel-item:last-child::after {align-self: flex-start;width: 50%;}#sk-container-id-321 div.sk-parallel-item:only-child::after {width: 0;}#sk-container-id-321 div.sk-dashed-wrapped {border: 1px dashed gray;margin: 0 0.4em 0.5em 0.4em;box-sizing: border-box;padding-bottom: 0.4em;background-color: white;}#sk-container-id-321 div.sk-label label {font-family: monospace;font-weight: bold;display: inline-block;line-height: 1.2em;}#sk-container-id-321 div.sk-label-container {text-align: center;}#sk-container-id-321 div.sk-container {/* jupyter's `normalize.less` sets `[hidden] { display: none; }` but bootstrap.min.css set `[hidden] { display: none !important; }` so we also need the `!important` here to be able to override the default hidden behavior on the sphinx rendered scikit-learn.org. See: https://github.com/scikit-learn/scikit-learn/issues/21755 */display: inline-block !important;position: relative;}#sk-container-id-321 div.sk-text-repr-fallback {display: none;}</style><div id=\"sk-container-id-321\" class=\"sk-top-container\"><div class=\"sk-text-repr-fallback\"><pre>KNeighborsClassifier(leaf_size=10, n_neighbors=60, p=1)</pre><b>In a Jupyter environment, please rerun this cell to show the HTML representation or trust the notebook. <br />On GitHub, the HTML representation is unable to render, please try loading this page with nbviewer.org.</b></div><div class=\"sk-container\" hidden><div class=\"sk-item\"><div class=\"sk-estimator sk-toggleable\"><input class=\"sk-toggleable__control sk-hidden--visually\" id=\"sk-estimator-id-321\" type=\"checkbox\" checked><label for=\"sk-estimator-id-321\" class=\"sk-toggleable__label sk-toggleable__label-arrow\">KNeighborsClassifier</label><div class=\"sk-toggleable__content\"><pre>KNeighborsClassifier(leaf_size=10, n_neighbors=60, p=1)</pre></div></div></div></div></div>"
      ],
      "text/plain": [
       "KNeighborsClassifier(leaf_size=10, n_neighbors=60, p=1)"
      ]
     },
     "execution_count": 2808,
     "metadata": {},
     "output_type": "execute_result"
    }
   ],
   "source": [
    "best_knn.fit(X_train_scaled13, y_train)"
   ]
  },
  {
   "cell_type": "markdown",
   "id": "2b03dc10",
   "metadata": {},
   "source": [
    "### 2. Make prediction with test data set."
   ]
  },
  {
   "cell_type": "code",
   "execution_count": 2809,
   "id": "b3d9a493",
   "metadata": {},
   "outputs": [
    {
     "data": {
      "text/plain": [
       "array([0, 0, 1, 0, 1, 1, 1, 0, 0, 1, 1, 1, 1, 0, 1, 1, 1, 0, 0, 0, 1, 0,\n",
       "       1, 1, 1, 1, 0, 1, 0, 1, 0, 0, 0, 0, 1, 0, 1, 1, 1, 1, 1, 1, 1, 1,\n",
       "       1, 0, 0, 1, 0, 0, 0, 0, 1, 1, 1, 0, 0, 1, 0, 1, 1], dtype=int64)"
      ]
     },
     "execution_count": 2809,
     "metadata": {},
     "output_type": "execute_result"
    }
   ],
   "source": [
    "knn_pred15 = best_knn.predict(X_test_scaled13)\n",
    "knn_pred15"
   ]
  },
  {
   "cell_type": "markdown",
   "id": "fb116e91",
   "metadata": {},
   "source": [
    "# Step 11 - Model Evaluation (With Different Cases)"
   ]
  },
  {
   "cell_type": "markdown",
   "id": "b4960f15",
   "metadata": {},
   "source": [
    "### 1. Import library."
   ]
  },
  {
   "cell_type": "code",
   "execution_count": 2810,
   "id": "963dd265",
   "metadata": {},
   "outputs": [],
   "source": [
    "from sklearn.metrics import accuracy_score, precision_score, recall_score, f1_score, confusion_matrix"
   ]
  },
  {
   "cell_type": "markdown",
   "id": "120645ff",
   "metadata": {},
   "source": [
    "## Case 1 Information:\n",
    "**Method of Feature selection:** Correlation Matrix with Heatmap\n",
    "\n",
    "**With parameter tuning ?:** NO\n",
    "\n",
    "**Number of features:** 4\n",
    "\n",
    "**Ratio:** 80:20"
   ]
  },
  {
   "cell_type": "markdown",
   "id": "69167dd8",
   "metadata": {},
   "source": [
    "### 1. Show the evaluation results of Case 1."
   ]
  },
  {
   "cell_type": "code",
   "execution_count": 2811,
   "id": "093a0cfb",
   "metadata": {},
   "outputs": [
    {
     "name": "stdout",
     "output_type": "stream",
     "text": [
      "Case 1 - K-Nearest Neighbor Evaluation Results\n",
      "==============================================\n",
      "Accuracy:  0.786885\n",
      "Precision:  0.806452\n",
      "Recall:  0.78125\n",
      "F1 Score:  0.793651\n",
      "Confusion matrix: \n",
      "[[23  6]\n",
      " [ 7 25]]\n"
     ]
    }
   ],
   "source": [
    "print(\"Case 1 - K-Nearest Neighbor Evaluation Results\")\n",
    "print(\"=\" * 46)\n",
    "print(\"Accuracy: \", round(accuracy_score(y_test, knn_pred4), 6))\n",
    "print(\"Precision: \", round(precision_score(y_test, knn_pred4), 6))\n",
    "print(\"Recall: \", round(recall_score(y_test, knn_pred4), 6))\n",
    "print(\"F1 Score: \", round(f1_score(y_test, knn_pred4), 6))\n",
    "knn_cfMatrix1 = confusion_matrix(y_test, knn_pred4)\n",
    "print(\"Confusion matrix: \")\n",
    "print(knn_cfMatrix1)"
   ]
  },
  {
   "cell_type": "markdown",
   "id": "e41f9609",
   "metadata": {},
   "source": [
    "## Case 2 Information:\n",
    "**Method of Feature selection:** Correlation Matrix with Heatmap\n",
    "\n",
    "**With parameter tuning ?:** YES\n",
    "\n",
    "**Number of features:** 4\n",
    "\n",
    "**Ratio:** 80:20"
   ]
  },
  {
   "cell_type": "markdown",
   "id": "838a08b9",
   "metadata": {},
   "source": [
    "### 1. Show the evaluation results of Case 2."
   ]
  },
  {
   "cell_type": "code",
   "execution_count": 2812,
   "id": "4174c21b",
   "metadata": {},
   "outputs": [
    {
     "name": "stdout",
     "output_type": "stream",
     "text": [
      "Case 2 - K-Nearest Neighbor Evaluation Results\n",
      "==============================================\n",
      "Accuracy:  0.803279\n",
      "Precision:  0.794118\n",
      "Recall:  0.84375\n",
      "F1 Score:  0.818182\n",
      "Confusion matrix: \n",
      "[[22  7]\n",
      " [ 5 27]]\n"
     ]
    }
   ],
   "source": [
    "print(\"Case 2 - K-Nearest Neighbor Evaluation Results\")\n",
    "print(\"=\" * 46)\n",
    "print(\"Accuracy: \", round(accuracy_score(y_test, knn_pred5), 6))\n",
    "print(\"Precision: \", round(precision_score(y_test, knn_pred5), 6))\n",
    "print(\"Recall: \", round(recall_score(y_test, knn_pred5), 6))\n",
    "print(\"F1 Score: \", round(f1_score(y_test, knn_pred5), 6))\n",
    "knn_cfMatrix2 = confusion_matrix(y_test, knn_pred5)\n",
    "print(\"Confusion matrix: \")\n",
    "print(knn_cfMatrix2)"
   ]
  },
  {
   "cell_type": "markdown",
   "id": "708e4c9b",
   "metadata": {},
   "source": [
    "## Case 3 Information:\n",
    "**Method of Feature selection:** Correlation Matrix with Heatmap\n",
    "\n",
    "**With parameter tuning ?:** NO\n",
    "\n",
    "**Number of features:** 6\n",
    "\n",
    "**Ratio:** 80:20"
   ]
  },
  {
   "cell_type": "markdown",
   "id": "f515c211",
   "metadata": {},
   "source": [
    "### 1. Show the evaluation results of Case 3."
   ]
  },
  {
   "cell_type": "code",
   "execution_count": 2813,
   "id": "4a9642ea",
   "metadata": {},
   "outputs": [
    {
     "name": "stdout",
     "output_type": "stream",
     "text": [
      "Case 3 - K-Nearest Neighbor Evaluation Results\n",
      "==============================================\n",
      "Accuracy:  0.819672\n",
      "Precision:  0.888889\n",
      "Recall:  0.75\n",
      "F1 Score:  0.813559\n",
      "Confusion matrix: \n",
      "[[26  3]\n",
      " [ 8 24]]\n"
     ]
    }
   ],
   "source": [
    "print(\"Case 3 - K-Nearest Neighbor Evaluation Results\")\n",
    "print(\"=\" * 46)\n",
    "print(\"Accuracy: \", round(accuracy_score(y_test, knn_pred6), 6))\n",
    "print(\"Precision: \", round(precision_score(y_test, knn_pred6), 6))\n",
    "print(\"Recall: \", round(recall_score(y_test, knn_pred6), 6))\n",
    "print(\"F1 Score: \", round(f1_score(y_test, knn_pred6), 6))\n",
    "knn_cfMatrix3 = confusion_matrix(y_test, knn_pred6)\n",
    "print(\"Confusion matrix: \")\n",
    "print(knn_cfMatrix3)"
   ]
  },
  {
   "cell_type": "markdown",
   "id": "ed1a6961",
   "metadata": {},
   "source": [
    "## Case 4 Information:\n",
    "**Method of Feature selection:** Correlation Matrix with Heatmap\n",
    "\n",
    "**With parameter tuning ?:** YES\n",
    "\n",
    "**Number of features:** 6\n",
    "\n",
    "**Ratio:** 80:20"
   ]
  },
  {
   "cell_type": "markdown",
   "id": "f6d81979",
   "metadata": {},
   "source": [
    "### 1. Show the evaluation results of Case 4."
   ]
  },
  {
   "cell_type": "code",
   "execution_count": 2814,
   "id": "155ef088",
   "metadata": {},
   "outputs": [
    {
     "name": "stdout",
     "output_type": "stream",
     "text": [
      "Case 4 - K-Nearest Neighbor Evaluation Results\n",
      "==============================================\n",
      "Accuracy:  0.786885\n",
      "Precision:  0.787879\n",
      "Recall:  0.8125\n",
      "F1 Score:  0.8\n",
      "Confusion matrix: \n",
      "[[22  7]\n",
      " [ 6 26]]\n"
     ]
    }
   ],
   "source": [
    "print(\"Case 4 - K-Nearest Neighbor Evaluation Results\")\n",
    "print(\"=\" * 46)\n",
    "print(\"Accuracy: \", round(accuracy_score(y_test, knn_pred7), 6))\n",
    "print(\"Precision: \", round(precision_score(y_test, knn_pred7), 6))\n",
    "print(\"Recall: \", round(recall_score(y_test, knn_pred7), 6))\n",
    "print(\"F1 Score: \", round(f1_score(y_test, knn_pred7), 6))\n",
    "knn_cfMatrix4 = confusion_matrix(y_test, knn_pred7)\n",
    "print(\"Confusion matrix: \")\n",
    "print(knn_cfMatrix4)"
   ]
  },
  {
   "cell_type": "markdown",
   "id": "7cd92081",
   "metadata": {},
   "source": [
    "## Case 5 Information:\n",
    "**Method of Feature selection:** Correlation Matrix with Heatmap\n",
    "\n",
    "**With parameter tuning ?:** NO\n",
    "\n",
    "**Number of features:** 8\n",
    "\n",
    "**Ratio:** 80:20"
   ]
  },
  {
   "cell_type": "markdown",
   "id": "dc3cb226",
   "metadata": {},
   "source": [
    "### 1. Show the evaluation results of Case 5."
   ]
  },
  {
   "cell_type": "code",
   "execution_count": 2815,
   "id": "e822cf76",
   "metadata": {},
   "outputs": [
    {
     "name": "stdout",
     "output_type": "stream",
     "text": [
      "Case 5 - K-Nearest Neighbor Evaluation Results\n",
      "==============================================\n",
      "Accuracy:  0.754098\n",
      "Precision:  0.793103\n",
      "Recall:  0.71875\n",
      "F1 Score:  0.754098\n",
      "Confusion matrix: \n",
      "[[23  6]\n",
      " [ 9 23]]\n"
     ]
    }
   ],
   "source": [
    "print(\"Case 5 - K-Nearest Neighbor Evaluation Results\")\n",
    "print(\"=\" * 46)\n",
    "print(\"Accuracy: \", round(accuracy_score(y_test, knn_pred8), 6))\n",
    "print(\"Precision: \", round(precision_score(y_test, knn_pred8), 6))\n",
    "print(\"Recall: \", round(recall_score(y_test, knn_pred8), 6))\n",
    "print(\"F1 Score: \", round(f1_score(y_test, knn_pred8), 6))\n",
    "knn_cfMatrix5 = confusion_matrix(y_test, knn_pred8)\n",
    "print(\"Confusion matrix: \")\n",
    "print(knn_cfMatrix5)"
   ]
  },
  {
   "cell_type": "markdown",
   "id": "da7deda7",
   "metadata": {},
   "source": [
    "## Case 6 Information:\n",
    "**Method of Feature selection:** Correlation Matrix with Heatmap\n",
    "\n",
    "**With parameter tuning ?:** YES\n",
    "\n",
    "**Number of features:** 8\n",
    "\n",
    "**Ratio:** 80:20"
   ]
  },
  {
   "cell_type": "markdown",
   "id": "ddc93625",
   "metadata": {},
   "source": [
    "### 1. Show the evaluation results of Case 6."
   ]
  },
  {
   "cell_type": "code",
   "execution_count": 2816,
   "id": "b30c6be7",
   "metadata": {},
   "outputs": [
    {
     "name": "stdout",
     "output_type": "stream",
     "text": [
      "Case 6 - K-Nearest Neighbor Evaluation Results\n",
      "==============================================\n",
      "Accuracy:  0.803279\n",
      "Precision:  0.833333\n",
      "Recall:  0.78125\n",
      "F1 Score:  0.806452\n",
      "Confusion matrix: \n",
      "[[24  5]\n",
      " [ 7 25]]\n"
     ]
    }
   ],
   "source": [
    "print(\"Case 6 - K-Nearest Neighbor Evaluation Results\")\n",
    "print(\"=\" * 46)\n",
    "print(\"Accuracy: \", round(accuracy_score(y_test, knn_pred9), 6))\n",
    "print(\"Precision: \", round(precision_score(y_test, knn_pred9), 6))\n",
    "print(\"Recall: \", round(recall_score(y_test, knn_pred9), 6))\n",
    "print(\"F1 Score: \", round(f1_score(y_test, knn_pred9), 6))\n",
    "knn_cfMatrix6 = confusion_matrix(y_test, knn_pred9)\n",
    "print(\"Confusion matrix: \")\n",
    "print(knn_cfMatrix6)"
   ]
  },
  {
   "cell_type": "markdown",
   "id": "cb85f57e",
   "metadata": {},
   "source": [
    "## Case 7 Information:\n",
    "**Method of Feature selection:** Univariate Selection\n",
    "\n",
    "**With parameter tuning ?:** NO\n",
    "\n",
    "**Number of features:** 4\n",
    "\n",
    "**Ratio:** 80:20"
   ]
  },
  {
   "cell_type": "markdown",
   "id": "82472a3f",
   "metadata": {},
   "source": [
    "### 1. Show the evaluation results of Case 7."
   ]
  },
  {
   "cell_type": "code",
   "execution_count": 2817,
   "id": "d95634f3",
   "metadata": {},
   "outputs": [
    {
     "name": "stdout",
     "output_type": "stream",
     "text": [
      "Case 7 - K-Nearest Neighbor Evaluation Results\n",
      "==============================================\n",
      "Accuracy:  0.885246\n",
      "Precision:  0.878788\n",
      "Recall:  0.90625\n",
      "F1 Score:  0.892308\n",
      "Confusion matrix: \n",
      "[[25  4]\n",
      " [ 3 29]]\n"
     ]
    }
   ],
   "source": [
    "print(\"Case 7 - K-Nearest Neighbor Evaluation Results\")\n",
    "print(\"=\" * 46)\n",
    "print(\"Accuracy: \", round(accuracy_score(y_test, knn_pred10), 6))\n",
    "print(\"Precision: \", round(precision_score(y_test, knn_pred10), 6))\n",
    "print(\"Recall: \", round(recall_score(y_test, knn_pred10), 6))\n",
    "print(\"F1 Score: \", round(f1_score(y_test, knn_pred10), 6))\n",
    "knn_cfMatrix7 = confusion_matrix(y_test, knn_pred10)\n",
    "print(\"Confusion matrix: \")\n",
    "print(knn_cfMatrix7)"
   ]
  },
  {
   "cell_type": "markdown",
   "id": "e98ace4d",
   "metadata": {},
   "source": [
    "## Case 8 Information:\n",
    "**Method of Feature selection:** Univariate Selection\n",
    "\n",
    "**With parameter tuning ?:** YES\n",
    "\n",
    "**Number of features:** 4\n",
    "\n",
    "**Ratio:** 80:20"
   ]
  },
  {
   "cell_type": "markdown",
   "id": "c55e6144",
   "metadata": {},
   "source": [
    "### 1. Show the evaluation results of Case 8."
   ]
  },
  {
   "cell_type": "code",
   "execution_count": 2818,
   "id": "3742e606",
   "metadata": {},
   "outputs": [
    {
     "name": "stdout",
     "output_type": "stream",
     "text": [
      "Case 8 - K-Nearest Neighbor Evaluation Results\n",
      "==============================================\n",
      "Accuracy:  0.868852\n",
      "Precision:  0.833333\n",
      "Recall:  0.9375\n",
      "F1 Score:  0.882353\n",
      "Confusion matrix: \n",
      "[[23  6]\n",
      " [ 2 30]]\n"
     ]
    }
   ],
   "source": [
    "print(\"Case 8 - K-Nearest Neighbor Evaluation Results\")\n",
    "print(\"=\" * 46)\n",
    "print(\"Accuracy: \", round(accuracy_score(y_test, knn_pred11), 6))\n",
    "print(\"Precision: \", round(precision_score(y_test, knn_pred11), 6))\n",
    "print(\"Recall: \", round(recall_score(y_test, knn_pred11), 6))\n",
    "print(\"F1 Score: \", round(f1_score(y_test, knn_pred11), 6))\n",
    "knn_cfMatrix8 = confusion_matrix(y_test, knn_pred11)\n",
    "print(\"Confusion matrix: \")\n",
    "print(knn_cfMatrix8)"
   ]
  },
  {
   "cell_type": "markdown",
   "id": "f8e727b2",
   "metadata": {},
   "source": [
    "## Case 9 Information:\n",
    "**Method of Feature selection:** Univariate Selection\n",
    "\n",
    "**With parameter tuning ?:** NO\n",
    "\n",
    "**Number of features:** 6\n",
    "\n",
    "**Ratio:** 80:20"
   ]
  },
  {
   "cell_type": "markdown",
   "id": "d606b495",
   "metadata": {},
   "source": [
    "### 1. Show the evaluation results of Case 9."
   ]
  },
  {
   "cell_type": "code",
   "execution_count": 2819,
   "id": "a6772f69",
   "metadata": {},
   "outputs": [
    {
     "name": "stdout",
     "output_type": "stream",
     "text": [
      "Case 9 - K-Nearest Neighbor Evaluation Results\n",
      "==============================================\n",
      "Accuracy:  0.868852\n",
      "Precision:  0.875\n",
      "Recall:  0.875\n",
      "F1 Score:  0.875\n",
      "Confusion matrix: \n",
      "[[25  4]\n",
      " [ 4 28]]\n"
     ]
    }
   ],
   "source": [
    "print(\"Case 9 - K-Nearest Neighbor Evaluation Results\")\n",
    "print(\"=\" * 46)\n",
    "print(\"Accuracy: \", round(accuracy_score(y_test, knn_pred12), 6))\n",
    "print(\"Precision: \", round(precision_score(y_test, knn_pred12), 6))\n",
    "print(\"Recall: \", round(recall_score(y_test, knn_pred12), 6))\n",
    "print(\"F1 Score: \", round(f1_score(y_test, knn_pred12), 6))\n",
    "knn_cfMatrix9 = confusion_matrix(y_test, knn_pred12)\n",
    "print(\"Confusion matrix: \")\n",
    "print(knn_cfMatrix9)"
   ]
  },
  {
   "cell_type": "markdown",
   "id": "0e927831",
   "metadata": {},
   "source": [
    "## Case 10 Information:\n",
    "**Method of Feature selection:** Univariate Selection\n",
    "\n",
    "**With parameter tuning ?:** YES\n",
    "\n",
    "**Number of features:** 6\n",
    "\n",
    "**Ratio:** 80:20"
   ]
  },
  {
   "cell_type": "markdown",
   "id": "9fea81c3",
   "metadata": {},
   "source": [
    "### 1. Show the evaluation results of Case 10."
   ]
  },
  {
   "cell_type": "code",
   "execution_count": 2820,
   "id": "ccb3536e",
   "metadata": {},
   "outputs": [
    {
     "name": "stdout",
     "output_type": "stream",
     "text": [
      "Case 10 - K-Nearest Neighbor Evaluation Results\n",
      "===============================================\n",
      "Accuracy:  0.901639\n",
      "Precision:  0.882353\n",
      "Recall:  0.9375\n",
      "F1 Score:  0.909091\n",
      "Confusion matrix: \n",
      "[[25  4]\n",
      " [ 2 30]]\n"
     ]
    }
   ],
   "source": [
    "print(\"Case 10 - K-Nearest Neighbor Evaluation Results\")\n",
    "print(\"=\" * 47)\n",
    "print(\"Accuracy: \", round(accuracy_score(y_test, knn_pred13), 6))\n",
    "print(\"Precision: \", round(precision_score(y_test, knn_pred13), 6))\n",
    "print(\"Recall: \", round(recall_score(y_test, knn_pred13), 6))\n",
    "print(\"F1 Score: \", round(f1_score(y_test, knn_pred13), 6))\n",
    "knn_cfMatrix10 = confusion_matrix(y_test, knn_pred13)\n",
    "print(\"Confusion matrix: \")\n",
    "print(knn_cfMatrix10)"
   ]
  },
  {
   "cell_type": "markdown",
   "id": "f83eff0f",
   "metadata": {},
   "source": [
    "## Case 11 Information:\n",
    "**Method of Feature selection:** Univariate Selection\n",
    "\n",
    "**With parameter tuning ?:** NO\n",
    "\n",
    "**Number of features:** 8\n",
    "\n",
    "**Ratio:** 80:20"
   ]
  },
  {
   "cell_type": "markdown",
   "id": "bfe67d6f",
   "metadata": {},
   "source": [
    "### 1. Show the evaluation results of Case 11."
   ]
  },
  {
   "cell_type": "code",
   "execution_count": 2821,
   "id": "db26caa8",
   "metadata": {},
   "outputs": [
    {
     "name": "stdout",
     "output_type": "stream",
     "text": [
      "Case 11 - K-Nearest Neighbor Evaluation Results\n",
      "===============================================\n",
      "Accuracy:  0.819672\n",
      "Precision:  0.862069\n",
      "Recall:  0.78125\n",
      "F1 Score:  0.819672\n",
      "Confusion matrix: \n",
      "[[25  4]\n",
      " [ 7 25]]\n"
     ]
    }
   ],
   "source": [
    "print(\"Case 11 - K-Nearest Neighbor Evaluation Results\")\n",
    "print(\"=\" * 47)\n",
    "print(\"Accuracy: \", round(accuracy_score(y_test, knn_pred14), 6))\n",
    "print(\"Precision: \", round(precision_score(y_test, knn_pred14), 6))\n",
    "print(\"Recall: \", round(recall_score(y_test, knn_pred14), 6))\n",
    "print(\"F1 Score: \", round(f1_score(y_test, knn_pred14), 6))\n",
    "knn_cfMatrix11 = confusion_matrix(y_test, knn_pred14)\n",
    "print(\"Confusion matrix: \")\n",
    "print(knn_cfMatrix11)"
   ]
  },
  {
   "cell_type": "markdown",
   "id": "5af17347",
   "metadata": {},
   "source": [
    "## Case 12 Information:\n",
    "**Method of Feature selection:** Univariate Selection\n",
    "\n",
    "**With parameter tuning ?:** YES\n",
    "\n",
    "**Number of features:** 8\n",
    "\n",
    "**Ratio:** 80:20"
   ]
  },
  {
   "cell_type": "markdown",
   "id": "351ace93",
   "metadata": {},
   "source": [
    "### 1. Show the evaluation results of Case 12."
   ]
  },
  {
   "cell_type": "code",
   "execution_count": 2822,
   "id": "252653fb",
   "metadata": {},
   "outputs": [
    {
     "name": "stdout",
     "output_type": "stream",
     "text": [
      "Case 12 - K-Nearest Neighbor Evaluation Results\n",
      "===============================================\n",
      "Accuracy:  0.885246\n",
      "Precision:  0.857143\n",
      "Recall:  0.9375\n",
      "F1 Score:  0.895522\n",
      "Confusion matrix: \n",
      "[[24  5]\n",
      " [ 2 30]]\n"
     ]
    }
   ],
   "source": [
    "print(\"Case 12 - K-Nearest Neighbor Evaluation Results\")\n",
    "print(\"=\" * 47)\n",
    "print(\"Accuracy: \", round(accuracy_score(y_test, knn_pred15), 6))\n",
    "print(\"Precision: \", round(precision_score(y_test, knn_pred15), 6))\n",
    "print(\"Recall: \", round(recall_score(y_test, knn_pred15), 6))\n",
    "print(\"F1 Score: \", round(f1_score(y_test, knn_pred15), 6))\n",
    "knn_cfMatrix12 = confusion_matrix(y_test, knn_pred15)\n",
    "print(\"Confusion matrix: \")\n",
    "print(knn_cfMatrix12)"
   ]
  },
  {
   "cell_type": "markdown",
   "id": "6d030fa3",
   "metadata": {},
   "source": [
    "# Step 12 - Final Decision\n",
    "By comparing the 12 different cases, we manage to find the **most suitable case** to find the **best results** for **K-Nearest Neighbor**. \n",
    "\n",
    "#### Here is the best result:\n",
    "Best case - **CASE 10**\n",
    "\n",
    "| Method of feature selection | With parameter tuning ? | Number of features | Ratio |\n",
    "| :-: | :-: | :-: | :-: |\n",
    "| Univariate Selection | YES | 6 | 80:20 |\n",
    "***\n",
    "#### The highest results that we record:\n",
    "| Accuracy | Precision | Recall | F1 Score |\n",
    "| :-: | :-: | :-: | :-: |\n",
    "| 0.901639 | 0.882353 | 0.9375 | 0.909091 |\n",
    "***\n",
    "#### Comparision between the target and prediction by showing the first 15 rows:"
   ]
  },
  {
   "cell_type": "code",
   "execution_count": 2823,
   "id": "68274493",
   "metadata": {},
   "outputs": [
    {
     "data": {
      "text/html": [
       "<div>\n",
       "<style scoped>\n",
       "    .dataframe tbody tr th:only-of-type {\n",
       "        vertical-align: middle;\n",
       "    }\n",
       "\n",
       "    .dataframe tbody tr th {\n",
       "        vertical-align: top;\n",
       "    }\n",
       "\n",
       "    .dataframe thead th {\n",
       "        text-align: right;\n",
       "    }\n",
       "</style>\n",
       "<table border=\"1\" class=\"dataframe\">\n",
       "  <thead>\n",
       "    <tr style=\"text-align: right;\">\n",
       "      <th></th>\n",
       "      <th>target</th>\n",
       "      <th>prediction</th>\n",
       "    </tr>\n",
       "  </thead>\n",
       "  <tbody>\n",
       "    <tr>\n",
       "      <th>180</th>\n",
       "      <td>0</td>\n",
       "      <td>0</td>\n",
       "    </tr>\n",
       "    <tr>\n",
       "      <th>229</th>\n",
       "      <td>0</td>\n",
       "      <td>0</td>\n",
       "    </tr>\n",
       "    <tr>\n",
       "      <th>111</th>\n",
       "      <td>1</td>\n",
       "      <td>1</td>\n",
       "    </tr>\n",
       "    <tr>\n",
       "      <th>247</th>\n",
       "      <td>0</td>\n",
       "      <td>0</td>\n",
       "    </tr>\n",
       "    <tr>\n",
       "      <th>60</th>\n",
       "      <td>1</td>\n",
       "      <td>1</td>\n",
       "    </tr>\n",
       "    <tr>\n",
       "      <th>9</th>\n",
       "      <td>1</td>\n",
       "      <td>1</td>\n",
       "    </tr>\n",
       "    <tr>\n",
       "      <th>119</th>\n",
       "      <td>1</td>\n",
       "      <td>1</td>\n",
       "    </tr>\n",
       "    <tr>\n",
       "      <th>224</th>\n",
       "      <td>0</td>\n",
       "      <td>0</td>\n",
       "    </tr>\n",
       "    <tr>\n",
       "      <th>268</th>\n",
       "      <td>0</td>\n",
       "      <td>0</td>\n",
       "    </tr>\n",
       "    <tr>\n",
       "      <th>33</th>\n",
       "      <td>1</td>\n",
       "      <td>1</td>\n",
       "    </tr>\n",
       "    <tr>\n",
       "      <th>5</th>\n",
       "      <td>1</td>\n",
       "      <td>1</td>\n",
       "    </tr>\n",
       "    <tr>\n",
       "      <th>101</th>\n",
       "      <td>1</td>\n",
       "      <td>1</td>\n",
       "    </tr>\n",
       "    <tr>\n",
       "      <th>45</th>\n",
       "      <td>1</td>\n",
       "      <td>1</td>\n",
       "    </tr>\n",
       "    <tr>\n",
       "      <th>176</th>\n",
       "      <td>0</td>\n",
       "      <td>0</td>\n",
       "    </tr>\n",
       "    <tr>\n",
       "      <th>118</th>\n",
       "      <td>1</td>\n",
       "      <td>1</td>\n",
       "    </tr>\n",
       "  </tbody>\n",
       "</table>\n",
       "</div>"
      ],
      "text/plain": [
       "     target  prediction\n",
       "180       0           0\n",
       "229       0           0\n",
       "111       1           1\n",
       "247       0           0\n",
       "60        1           1\n",
       "9         1           1\n",
       "119       1           1\n",
       "224       0           0\n",
       "268       0           0\n",
       "33        1           1\n",
       "5         1           1\n",
       "101       1           1\n",
       "45        1           1\n",
       "176       0           0\n",
       "118       1           1"
      ]
     },
     "execution_count": 2823,
     "metadata": {},
     "output_type": "execute_result"
    }
   ],
   "source": [
    "comparision = pd.DataFrame(y_test)\n",
    "comparision['prediction'] = knn_pred13\n",
    "comparision.head(15)"
   ]
  }
 ],
 "metadata": {
  "kernelspec": {
   "display_name": "Python 3 (ipykernel)",
   "language": "python",
   "name": "python3"
  },
  "language_info": {
   "codemirror_mode": {
    "name": "ipython",
    "version": 3
   },
   "file_extension": ".py",
   "mimetype": "text/x-python",
   "name": "python",
   "nbconvert_exporter": "python",
   "pygments_lexer": "ipython3",
   "version": "3.10.9"
  }
 },
 "nbformat": 4,
 "nbformat_minor": 5
}
