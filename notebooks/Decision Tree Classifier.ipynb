{
 "cells": [
  {
   "cell_type": "markdown",
   "id": "a4f0a5b5",
   "metadata": {},
   "source": [
    "\n",
    "**Model:** Decision Tree Classifier (DTC)\n",
    "***"
   ]
  },
  {
   "cell_type": "markdown",
   "id": "6f6c0ee3",
   "metadata": {},
   "source": [
    "# Step 1 - Import Libraries and Dataset"
   ]
  },
  {
   "cell_type": "markdown",
   "id": "6681161b",
   "metadata": {},
   "source": [
    "### 1. Import libraries."
   ]
  },
  {
   "cell_type": "code",
   "execution_count": 933,
   "id": "42505f71",
   "metadata": {},
   "outputs": [],
   "source": [
    "import numpy as np\n",
    "import pandas as pd"
   ]
  },
  {
   "cell_type": "markdown",
   "id": "531b6806",
   "metadata": {},
   "source": [
    "### 2. Access file."
   ]
  },
  {
   "cell_type": "code",
   "execution_count": 934,
   "id": "f6a8be68",
   "metadata": {},
   "outputs": [
    {
     "name": "stdout",
     "output_type": "stream",
     "text": [
      "C:\\Users\\User\n"
     ]
    }
   ],
   "source": [
    "cd C:\\Users\\User"
   ]
  },
  {
   "cell_type": "markdown",
   "id": "157ffec3",
   "metadata": {},
   "source": [
    "### 3. Reading csv file."
   ]
  },
  {
   "cell_type": "code",
   "execution_count": 935,
   "id": "1cdb2e3e",
   "metadata": {},
   "outputs": [
    {
     "data": {
      "text/html": [
       "<div>\n",
       "<style scoped>\n",
       "    .dataframe tbody tr th:only-of-type {\n",
       "        vertical-align: middle;\n",
       "    }\n",
       "\n",
       "    .dataframe tbody tr th {\n",
       "        vertical-align: top;\n",
       "    }\n",
       "\n",
       "    .dataframe thead th {\n",
       "        text-align: right;\n",
       "    }\n",
       "</style>\n",
       "<table border=\"1\" class=\"dataframe\">\n",
       "  <thead>\n",
       "    <tr style=\"text-align: right;\">\n",
       "      <th></th>\n",
       "      <th>age</th>\n",
       "      <th>sex</th>\n",
       "      <th>cp</th>\n",
       "      <th>trestbps</th>\n",
       "      <th>chol</th>\n",
       "      <th>fbs</th>\n",
       "      <th>restecg</th>\n",
       "      <th>thalach</th>\n",
       "      <th>exang</th>\n",
       "      <th>oldpeak</th>\n",
       "      <th>slope</th>\n",
       "      <th>ca</th>\n",
       "      <th>thal</th>\n",
       "      <th>target</th>\n",
       "    </tr>\n",
       "  </thead>\n",
       "  <tbody>\n",
       "    <tr>\n",
       "      <th>0</th>\n",
       "      <td>63</td>\n",
       "      <td>1</td>\n",
       "      <td>3</td>\n",
       "      <td>145</td>\n",
       "      <td>233</td>\n",
       "      <td>1</td>\n",
       "      <td>0</td>\n",
       "      <td>150</td>\n",
       "      <td>0</td>\n",
       "      <td>2.3</td>\n",
       "      <td>0</td>\n",
       "      <td>0</td>\n",
       "      <td>1</td>\n",
       "      <td>1</td>\n",
       "    </tr>\n",
       "    <tr>\n",
       "      <th>1</th>\n",
       "      <td>37</td>\n",
       "      <td>1</td>\n",
       "      <td>2</td>\n",
       "      <td>130</td>\n",
       "      <td>250</td>\n",
       "      <td>0</td>\n",
       "      <td>1</td>\n",
       "      <td>187</td>\n",
       "      <td>0</td>\n",
       "      <td>3.5</td>\n",
       "      <td>0</td>\n",
       "      <td>0</td>\n",
       "      <td>2</td>\n",
       "      <td>1</td>\n",
       "    </tr>\n",
       "    <tr>\n",
       "      <th>2</th>\n",
       "      <td>41</td>\n",
       "      <td>0</td>\n",
       "      <td>1</td>\n",
       "      <td>130</td>\n",
       "      <td>204</td>\n",
       "      <td>0</td>\n",
       "      <td>0</td>\n",
       "      <td>172</td>\n",
       "      <td>0</td>\n",
       "      <td>1.4</td>\n",
       "      <td>2</td>\n",
       "      <td>0</td>\n",
       "      <td>2</td>\n",
       "      <td>1</td>\n",
       "    </tr>\n",
       "    <tr>\n",
       "      <th>3</th>\n",
       "      <td>56</td>\n",
       "      <td>1</td>\n",
       "      <td>1</td>\n",
       "      <td>120</td>\n",
       "      <td>236</td>\n",
       "      <td>0</td>\n",
       "      <td>1</td>\n",
       "      <td>178</td>\n",
       "      <td>0</td>\n",
       "      <td>0.8</td>\n",
       "      <td>2</td>\n",
       "      <td>0</td>\n",
       "      <td>2</td>\n",
       "      <td>1</td>\n",
       "    </tr>\n",
       "    <tr>\n",
       "      <th>4</th>\n",
       "      <td>57</td>\n",
       "      <td>0</td>\n",
       "      <td>0</td>\n",
       "      <td>120</td>\n",
       "      <td>354</td>\n",
       "      <td>0</td>\n",
       "      <td>1</td>\n",
       "      <td>163</td>\n",
       "      <td>1</td>\n",
       "      <td>0.6</td>\n",
       "      <td>2</td>\n",
       "      <td>0</td>\n",
       "      <td>2</td>\n",
       "      <td>1</td>\n",
       "    </tr>\n",
       "    <tr>\n",
       "      <th>...</th>\n",
       "      <td>...</td>\n",
       "      <td>...</td>\n",
       "      <td>...</td>\n",
       "      <td>...</td>\n",
       "      <td>...</td>\n",
       "      <td>...</td>\n",
       "      <td>...</td>\n",
       "      <td>...</td>\n",
       "      <td>...</td>\n",
       "      <td>...</td>\n",
       "      <td>...</td>\n",
       "      <td>...</td>\n",
       "      <td>...</td>\n",
       "      <td>...</td>\n",
       "    </tr>\n",
       "    <tr>\n",
       "      <th>298</th>\n",
       "      <td>57</td>\n",
       "      <td>0</td>\n",
       "      <td>0</td>\n",
       "      <td>140</td>\n",
       "      <td>241</td>\n",
       "      <td>0</td>\n",
       "      <td>1</td>\n",
       "      <td>123</td>\n",
       "      <td>1</td>\n",
       "      <td>0.2</td>\n",
       "      <td>1</td>\n",
       "      <td>0</td>\n",
       "      <td>3</td>\n",
       "      <td>0</td>\n",
       "    </tr>\n",
       "    <tr>\n",
       "      <th>299</th>\n",
       "      <td>45</td>\n",
       "      <td>1</td>\n",
       "      <td>3</td>\n",
       "      <td>110</td>\n",
       "      <td>264</td>\n",
       "      <td>0</td>\n",
       "      <td>1</td>\n",
       "      <td>132</td>\n",
       "      <td>0</td>\n",
       "      <td>1.2</td>\n",
       "      <td>1</td>\n",
       "      <td>0</td>\n",
       "      <td>3</td>\n",
       "      <td>0</td>\n",
       "    </tr>\n",
       "    <tr>\n",
       "      <th>300</th>\n",
       "      <td>68</td>\n",
       "      <td>1</td>\n",
       "      <td>0</td>\n",
       "      <td>144</td>\n",
       "      <td>193</td>\n",
       "      <td>1</td>\n",
       "      <td>1</td>\n",
       "      <td>141</td>\n",
       "      <td>0</td>\n",
       "      <td>3.4</td>\n",
       "      <td>1</td>\n",
       "      <td>2</td>\n",
       "      <td>3</td>\n",
       "      <td>0</td>\n",
       "    </tr>\n",
       "    <tr>\n",
       "      <th>301</th>\n",
       "      <td>57</td>\n",
       "      <td>1</td>\n",
       "      <td>0</td>\n",
       "      <td>130</td>\n",
       "      <td>131</td>\n",
       "      <td>0</td>\n",
       "      <td>1</td>\n",
       "      <td>115</td>\n",
       "      <td>1</td>\n",
       "      <td>1.2</td>\n",
       "      <td>1</td>\n",
       "      <td>1</td>\n",
       "      <td>3</td>\n",
       "      <td>0</td>\n",
       "    </tr>\n",
       "    <tr>\n",
       "      <th>302</th>\n",
       "      <td>57</td>\n",
       "      <td>0</td>\n",
       "      <td>1</td>\n",
       "      <td>130</td>\n",
       "      <td>236</td>\n",
       "      <td>0</td>\n",
       "      <td>0</td>\n",
       "      <td>174</td>\n",
       "      <td>0</td>\n",
       "      <td>0.0</td>\n",
       "      <td>1</td>\n",
       "      <td>1</td>\n",
       "      <td>2</td>\n",
       "      <td>0</td>\n",
       "    </tr>\n",
       "  </tbody>\n",
       "</table>\n",
       "<p>303 rows × 14 columns</p>\n",
       "</div>"
      ],
      "text/plain": [
       "     age  sex  cp  trestbps  chol  fbs  restecg  thalach  exang  oldpeak  \\\n",
       "0     63    1   3       145   233    1        0      150      0      2.3   \n",
       "1     37    1   2       130   250    0        1      187      0      3.5   \n",
       "2     41    0   1       130   204    0        0      172      0      1.4   \n",
       "3     56    1   1       120   236    0        1      178      0      0.8   \n",
       "4     57    0   0       120   354    0        1      163      1      0.6   \n",
       "..   ...  ...  ..       ...   ...  ...      ...      ...    ...      ...   \n",
       "298   57    0   0       140   241    0        1      123      1      0.2   \n",
       "299   45    1   3       110   264    0        1      132      0      1.2   \n",
       "300   68    1   0       144   193    1        1      141      0      3.4   \n",
       "301   57    1   0       130   131    0        1      115      1      1.2   \n",
       "302   57    0   1       130   236    0        0      174      0      0.0   \n",
       "\n",
       "     slope  ca  thal  target  \n",
       "0        0   0     1       1  \n",
       "1        0   0     2       1  \n",
       "2        2   0     2       1  \n",
       "3        2   0     2       1  \n",
       "4        2   0     2       1  \n",
       "..     ...  ..   ...     ...  \n",
       "298      1   0     3       0  \n",
       "299      1   0     3       0  \n",
       "300      1   2     3       0  \n",
       "301      1   1     3       0  \n",
       "302      1   1     2       0  \n",
       "\n",
       "[303 rows x 14 columns]"
      ]
     },
     "execution_count": 935,
     "metadata": {},
     "output_type": "execute_result"
    }
   ],
   "source": [
    "heartDisease = pd.read_csv(\"heart_disease.csv\")\n",
    "heartDisease"
   ]
  },
  {
   "cell_type": "markdown",
   "id": "a777e56e",
   "metadata": {},
   "source": [
    "# Step 2 - Data Analysis"
   ]
  },
  {
   "cell_type": "markdown",
   "id": "829623e5",
   "metadata": {},
   "source": [
    "### 1. Display first 8 rows of the dataset."
   ]
  },
  {
   "cell_type": "code",
   "execution_count": 936,
   "id": "2b84859e",
   "metadata": {},
   "outputs": [
    {
     "data": {
      "text/html": [
       "<div>\n",
       "<style scoped>\n",
       "    .dataframe tbody tr th:only-of-type {\n",
       "        vertical-align: middle;\n",
       "    }\n",
       "\n",
       "    .dataframe tbody tr th {\n",
       "        vertical-align: top;\n",
       "    }\n",
       "\n",
       "    .dataframe thead th {\n",
       "        text-align: right;\n",
       "    }\n",
       "</style>\n",
       "<table border=\"1\" class=\"dataframe\">\n",
       "  <thead>\n",
       "    <tr style=\"text-align: right;\">\n",
       "      <th></th>\n",
       "      <th>age</th>\n",
       "      <th>sex</th>\n",
       "      <th>cp</th>\n",
       "      <th>trestbps</th>\n",
       "      <th>chol</th>\n",
       "      <th>fbs</th>\n",
       "      <th>restecg</th>\n",
       "      <th>thalach</th>\n",
       "      <th>exang</th>\n",
       "      <th>oldpeak</th>\n",
       "      <th>slope</th>\n",
       "      <th>ca</th>\n",
       "      <th>thal</th>\n",
       "      <th>target</th>\n",
       "    </tr>\n",
       "  </thead>\n",
       "  <tbody>\n",
       "    <tr>\n",
       "      <th>0</th>\n",
       "      <td>63</td>\n",
       "      <td>1</td>\n",
       "      <td>3</td>\n",
       "      <td>145</td>\n",
       "      <td>233</td>\n",
       "      <td>1</td>\n",
       "      <td>0</td>\n",
       "      <td>150</td>\n",
       "      <td>0</td>\n",
       "      <td>2.3</td>\n",
       "      <td>0</td>\n",
       "      <td>0</td>\n",
       "      <td>1</td>\n",
       "      <td>1</td>\n",
       "    </tr>\n",
       "    <tr>\n",
       "      <th>1</th>\n",
       "      <td>37</td>\n",
       "      <td>1</td>\n",
       "      <td>2</td>\n",
       "      <td>130</td>\n",
       "      <td>250</td>\n",
       "      <td>0</td>\n",
       "      <td>1</td>\n",
       "      <td>187</td>\n",
       "      <td>0</td>\n",
       "      <td>3.5</td>\n",
       "      <td>0</td>\n",
       "      <td>0</td>\n",
       "      <td>2</td>\n",
       "      <td>1</td>\n",
       "    </tr>\n",
       "    <tr>\n",
       "      <th>2</th>\n",
       "      <td>41</td>\n",
       "      <td>0</td>\n",
       "      <td>1</td>\n",
       "      <td>130</td>\n",
       "      <td>204</td>\n",
       "      <td>0</td>\n",
       "      <td>0</td>\n",
       "      <td>172</td>\n",
       "      <td>0</td>\n",
       "      <td>1.4</td>\n",
       "      <td>2</td>\n",
       "      <td>0</td>\n",
       "      <td>2</td>\n",
       "      <td>1</td>\n",
       "    </tr>\n",
       "    <tr>\n",
       "      <th>3</th>\n",
       "      <td>56</td>\n",
       "      <td>1</td>\n",
       "      <td>1</td>\n",
       "      <td>120</td>\n",
       "      <td>236</td>\n",
       "      <td>0</td>\n",
       "      <td>1</td>\n",
       "      <td>178</td>\n",
       "      <td>0</td>\n",
       "      <td>0.8</td>\n",
       "      <td>2</td>\n",
       "      <td>0</td>\n",
       "      <td>2</td>\n",
       "      <td>1</td>\n",
       "    </tr>\n",
       "    <tr>\n",
       "      <th>4</th>\n",
       "      <td>57</td>\n",
       "      <td>0</td>\n",
       "      <td>0</td>\n",
       "      <td>120</td>\n",
       "      <td>354</td>\n",
       "      <td>0</td>\n",
       "      <td>1</td>\n",
       "      <td>163</td>\n",
       "      <td>1</td>\n",
       "      <td>0.6</td>\n",
       "      <td>2</td>\n",
       "      <td>0</td>\n",
       "      <td>2</td>\n",
       "      <td>1</td>\n",
       "    </tr>\n",
       "    <tr>\n",
       "      <th>5</th>\n",
       "      <td>57</td>\n",
       "      <td>1</td>\n",
       "      <td>0</td>\n",
       "      <td>140</td>\n",
       "      <td>192</td>\n",
       "      <td>0</td>\n",
       "      <td>1</td>\n",
       "      <td>148</td>\n",
       "      <td>0</td>\n",
       "      <td>0.4</td>\n",
       "      <td>1</td>\n",
       "      <td>0</td>\n",
       "      <td>1</td>\n",
       "      <td>1</td>\n",
       "    </tr>\n",
       "    <tr>\n",
       "      <th>6</th>\n",
       "      <td>56</td>\n",
       "      <td>0</td>\n",
       "      <td>1</td>\n",
       "      <td>140</td>\n",
       "      <td>294</td>\n",
       "      <td>0</td>\n",
       "      <td>0</td>\n",
       "      <td>153</td>\n",
       "      <td>0</td>\n",
       "      <td>1.3</td>\n",
       "      <td>1</td>\n",
       "      <td>0</td>\n",
       "      <td>2</td>\n",
       "      <td>1</td>\n",
       "    </tr>\n",
       "    <tr>\n",
       "      <th>7</th>\n",
       "      <td>44</td>\n",
       "      <td>1</td>\n",
       "      <td>1</td>\n",
       "      <td>120</td>\n",
       "      <td>263</td>\n",
       "      <td>0</td>\n",
       "      <td>1</td>\n",
       "      <td>173</td>\n",
       "      <td>0</td>\n",
       "      <td>0.0</td>\n",
       "      <td>2</td>\n",
       "      <td>0</td>\n",
       "      <td>3</td>\n",
       "      <td>1</td>\n",
       "    </tr>\n",
       "  </tbody>\n",
       "</table>\n",
       "</div>"
      ],
      "text/plain": [
       "   age  sex  cp  trestbps  chol  fbs  restecg  thalach  exang  oldpeak  slope  \\\n",
       "0   63    1   3       145   233    1        0      150      0      2.3      0   \n",
       "1   37    1   2       130   250    0        1      187      0      3.5      0   \n",
       "2   41    0   1       130   204    0        0      172      0      1.4      2   \n",
       "3   56    1   1       120   236    0        1      178      0      0.8      2   \n",
       "4   57    0   0       120   354    0        1      163      1      0.6      2   \n",
       "5   57    1   0       140   192    0        1      148      0      0.4      1   \n",
       "6   56    0   1       140   294    0        0      153      0      1.3      1   \n",
       "7   44    1   1       120   263    0        1      173      0      0.0      2   \n",
       "\n",
       "   ca  thal  target  \n",
       "0   0     1       1  \n",
       "1   0     2       1  \n",
       "2   0     2       1  \n",
       "3   0     2       1  \n",
       "4   0     2       1  \n",
       "5   0     1       1  \n",
       "6   0     2       1  \n",
       "7   0     3       1  "
      ]
     },
     "execution_count": 936,
     "metadata": {},
     "output_type": "execute_result"
    }
   ],
   "source": [
    "heartDisease.head(8)"
   ]
  },
  {
   "cell_type": "markdown",
   "id": "ab936688",
   "metadata": {},
   "source": [
    "### 2. Display the information of the dataset."
   ]
  },
  {
   "cell_type": "code",
   "execution_count": 937,
   "id": "4820c2ce",
   "metadata": {},
   "outputs": [
    {
     "data": {
      "text/html": [
       "<div>\n",
       "<style scoped>\n",
       "    .dataframe tbody tr th:only-of-type {\n",
       "        vertical-align: middle;\n",
       "    }\n",
       "\n",
       "    .dataframe tbody tr th {\n",
       "        vertical-align: top;\n",
       "    }\n",
       "\n",
       "    .dataframe thead th {\n",
       "        text-align: right;\n",
       "    }\n",
       "</style>\n",
       "<table border=\"1\" class=\"dataframe\">\n",
       "  <thead>\n",
       "    <tr style=\"text-align: right;\">\n",
       "      <th></th>\n",
       "      <th>age</th>\n",
       "      <th>sex</th>\n",
       "      <th>cp</th>\n",
       "      <th>trestbps</th>\n",
       "      <th>chol</th>\n",
       "      <th>fbs</th>\n",
       "      <th>restecg</th>\n",
       "      <th>thalach</th>\n",
       "      <th>exang</th>\n",
       "      <th>oldpeak</th>\n",
       "      <th>slope</th>\n",
       "      <th>ca</th>\n",
       "      <th>thal</th>\n",
       "      <th>target</th>\n",
       "    </tr>\n",
       "  </thead>\n",
       "  <tbody>\n",
       "    <tr>\n",
       "      <th>count</th>\n",
       "      <td>303.000000</td>\n",
       "      <td>303.000000</td>\n",
       "      <td>303.000000</td>\n",
       "      <td>303.000000</td>\n",
       "      <td>303.000000</td>\n",
       "      <td>303.000000</td>\n",
       "      <td>303.000000</td>\n",
       "      <td>303.000000</td>\n",
       "      <td>303.000000</td>\n",
       "      <td>303.000000</td>\n",
       "      <td>303.000000</td>\n",
       "      <td>303.000000</td>\n",
       "      <td>303.000000</td>\n",
       "      <td>303.000000</td>\n",
       "    </tr>\n",
       "    <tr>\n",
       "      <th>mean</th>\n",
       "      <td>54.366337</td>\n",
       "      <td>0.683168</td>\n",
       "      <td>0.966997</td>\n",
       "      <td>131.623762</td>\n",
       "      <td>246.264026</td>\n",
       "      <td>0.148515</td>\n",
       "      <td>0.528053</td>\n",
       "      <td>149.646865</td>\n",
       "      <td>0.326733</td>\n",
       "      <td>1.039604</td>\n",
       "      <td>1.399340</td>\n",
       "      <td>0.729373</td>\n",
       "      <td>2.313531</td>\n",
       "      <td>0.544554</td>\n",
       "    </tr>\n",
       "    <tr>\n",
       "      <th>std</th>\n",
       "      <td>9.082101</td>\n",
       "      <td>0.466011</td>\n",
       "      <td>1.032052</td>\n",
       "      <td>17.538143</td>\n",
       "      <td>51.830751</td>\n",
       "      <td>0.356198</td>\n",
       "      <td>0.525860</td>\n",
       "      <td>22.905161</td>\n",
       "      <td>0.469794</td>\n",
       "      <td>1.161075</td>\n",
       "      <td>0.616226</td>\n",
       "      <td>1.022606</td>\n",
       "      <td>0.612277</td>\n",
       "      <td>0.498835</td>\n",
       "    </tr>\n",
       "    <tr>\n",
       "      <th>min</th>\n",
       "      <td>29.000000</td>\n",
       "      <td>0.000000</td>\n",
       "      <td>0.000000</td>\n",
       "      <td>94.000000</td>\n",
       "      <td>126.000000</td>\n",
       "      <td>0.000000</td>\n",
       "      <td>0.000000</td>\n",
       "      <td>71.000000</td>\n",
       "      <td>0.000000</td>\n",
       "      <td>0.000000</td>\n",
       "      <td>0.000000</td>\n",
       "      <td>0.000000</td>\n",
       "      <td>0.000000</td>\n",
       "      <td>0.000000</td>\n",
       "    </tr>\n",
       "    <tr>\n",
       "      <th>25%</th>\n",
       "      <td>47.500000</td>\n",
       "      <td>0.000000</td>\n",
       "      <td>0.000000</td>\n",
       "      <td>120.000000</td>\n",
       "      <td>211.000000</td>\n",
       "      <td>0.000000</td>\n",
       "      <td>0.000000</td>\n",
       "      <td>133.500000</td>\n",
       "      <td>0.000000</td>\n",
       "      <td>0.000000</td>\n",
       "      <td>1.000000</td>\n",
       "      <td>0.000000</td>\n",
       "      <td>2.000000</td>\n",
       "      <td>0.000000</td>\n",
       "    </tr>\n",
       "    <tr>\n",
       "      <th>50%</th>\n",
       "      <td>55.000000</td>\n",
       "      <td>1.000000</td>\n",
       "      <td>1.000000</td>\n",
       "      <td>130.000000</td>\n",
       "      <td>240.000000</td>\n",
       "      <td>0.000000</td>\n",
       "      <td>1.000000</td>\n",
       "      <td>153.000000</td>\n",
       "      <td>0.000000</td>\n",
       "      <td>0.800000</td>\n",
       "      <td>1.000000</td>\n",
       "      <td>0.000000</td>\n",
       "      <td>2.000000</td>\n",
       "      <td>1.000000</td>\n",
       "    </tr>\n",
       "    <tr>\n",
       "      <th>75%</th>\n",
       "      <td>61.000000</td>\n",
       "      <td>1.000000</td>\n",
       "      <td>2.000000</td>\n",
       "      <td>140.000000</td>\n",
       "      <td>274.500000</td>\n",
       "      <td>0.000000</td>\n",
       "      <td>1.000000</td>\n",
       "      <td>166.000000</td>\n",
       "      <td>1.000000</td>\n",
       "      <td>1.600000</td>\n",
       "      <td>2.000000</td>\n",
       "      <td>1.000000</td>\n",
       "      <td>3.000000</td>\n",
       "      <td>1.000000</td>\n",
       "    </tr>\n",
       "    <tr>\n",
       "      <th>max</th>\n",
       "      <td>77.000000</td>\n",
       "      <td>1.000000</td>\n",
       "      <td>3.000000</td>\n",
       "      <td>200.000000</td>\n",
       "      <td>564.000000</td>\n",
       "      <td>1.000000</td>\n",
       "      <td>2.000000</td>\n",
       "      <td>202.000000</td>\n",
       "      <td>1.000000</td>\n",
       "      <td>6.200000</td>\n",
       "      <td>2.000000</td>\n",
       "      <td>4.000000</td>\n",
       "      <td>3.000000</td>\n",
       "      <td>1.000000</td>\n",
       "    </tr>\n",
       "  </tbody>\n",
       "</table>\n",
       "</div>"
      ],
      "text/plain": [
       "              age         sex          cp    trestbps        chol         fbs  \\\n",
       "count  303.000000  303.000000  303.000000  303.000000  303.000000  303.000000   \n",
       "mean    54.366337    0.683168    0.966997  131.623762  246.264026    0.148515   \n",
       "std      9.082101    0.466011    1.032052   17.538143   51.830751    0.356198   \n",
       "min     29.000000    0.000000    0.000000   94.000000  126.000000    0.000000   \n",
       "25%     47.500000    0.000000    0.000000  120.000000  211.000000    0.000000   \n",
       "50%     55.000000    1.000000    1.000000  130.000000  240.000000    0.000000   \n",
       "75%     61.000000    1.000000    2.000000  140.000000  274.500000    0.000000   \n",
       "max     77.000000    1.000000    3.000000  200.000000  564.000000    1.000000   \n",
       "\n",
       "          restecg     thalach       exang     oldpeak       slope          ca  \\\n",
       "count  303.000000  303.000000  303.000000  303.000000  303.000000  303.000000   \n",
       "mean     0.528053  149.646865    0.326733    1.039604    1.399340    0.729373   \n",
       "std      0.525860   22.905161    0.469794    1.161075    0.616226    1.022606   \n",
       "min      0.000000   71.000000    0.000000    0.000000    0.000000    0.000000   \n",
       "25%      0.000000  133.500000    0.000000    0.000000    1.000000    0.000000   \n",
       "50%      1.000000  153.000000    0.000000    0.800000    1.000000    0.000000   \n",
       "75%      1.000000  166.000000    1.000000    1.600000    2.000000    1.000000   \n",
       "max      2.000000  202.000000    1.000000    6.200000    2.000000    4.000000   \n",
       "\n",
       "             thal      target  \n",
       "count  303.000000  303.000000  \n",
       "mean     2.313531    0.544554  \n",
       "std      0.612277    0.498835  \n",
       "min      0.000000    0.000000  \n",
       "25%      2.000000    0.000000  \n",
       "50%      2.000000    1.000000  \n",
       "75%      3.000000    1.000000  \n",
       "max      3.000000    1.000000  "
      ]
     },
     "execution_count": 937,
     "metadata": {},
     "output_type": "execute_result"
    }
   ],
   "source": [
    "heartDisease.describe()"
   ]
  },
  {
   "cell_type": "markdown",
   "id": "27acd82f",
   "metadata": {},
   "source": [
    "### 3. List all the columns of the dataset."
   ]
  },
  {
   "cell_type": "code",
   "execution_count": 938,
   "id": "dcc8261a",
   "metadata": {
    "scrolled": false
   },
   "outputs": [
    {
     "data": {
      "text/html": [
       "<div>\n",
       "<style scoped>\n",
       "    .dataframe tbody tr th:only-of-type {\n",
       "        vertical-align: middle;\n",
       "    }\n",
       "\n",
       "    .dataframe tbody tr th {\n",
       "        vertical-align: top;\n",
       "    }\n",
       "\n",
       "    .dataframe thead th {\n",
       "        text-align: right;\n",
       "    }\n",
       "</style>\n",
       "<table border=\"1\" class=\"dataframe\">\n",
       "  <thead>\n",
       "    <tr style=\"text-align: right;\">\n",
       "      <th></th>\n",
       "      <th>features</th>\n",
       "    </tr>\n",
       "  </thead>\n",
       "  <tbody>\n",
       "    <tr>\n",
       "      <th>0</th>\n",
       "      <td>age</td>\n",
       "    </tr>\n",
       "    <tr>\n",
       "      <th>1</th>\n",
       "      <td>sex</td>\n",
       "    </tr>\n",
       "    <tr>\n",
       "      <th>2</th>\n",
       "      <td>cp</td>\n",
       "    </tr>\n",
       "    <tr>\n",
       "      <th>3</th>\n",
       "      <td>trestbps</td>\n",
       "    </tr>\n",
       "    <tr>\n",
       "      <th>4</th>\n",
       "      <td>chol</td>\n",
       "    </tr>\n",
       "    <tr>\n",
       "      <th>5</th>\n",
       "      <td>fbs</td>\n",
       "    </tr>\n",
       "    <tr>\n",
       "      <th>6</th>\n",
       "      <td>restecg</td>\n",
       "    </tr>\n",
       "    <tr>\n",
       "      <th>7</th>\n",
       "      <td>thalach</td>\n",
       "    </tr>\n",
       "    <tr>\n",
       "      <th>8</th>\n",
       "      <td>exang</td>\n",
       "    </tr>\n",
       "    <tr>\n",
       "      <th>9</th>\n",
       "      <td>oldpeak</td>\n",
       "    </tr>\n",
       "    <tr>\n",
       "      <th>10</th>\n",
       "      <td>slope</td>\n",
       "    </tr>\n",
       "    <tr>\n",
       "      <th>11</th>\n",
       "      <td>ca</td>\n",
       "    </tr>\n",
       "    <tr>\n",
       "      <th>12</th>\n",
       "      <td>thal</td>\n",
       "    </tr>\n",
       "    <tr>\n",
       "      <th>13</th>\n",
       "      <td>target</td>\n",
       "    </tr>\n",
       "  </tbody>\n",
       "</table>\n",
       "</div>"
      ],
      "text/plain": [
       "    features\n",
       "0        age\n",
       "1        sex\n",
       "2         cp\n",
       "3   trestbps\n",
       "4       chol\n",
       "5        fbs\n",
       "6    restecg\n",
       "7    thalach\n",
       "8      exang\n",
       "9    oldpeak\n",
       "10     slope\n",
       "11        ca\n",
       "12      thal\n",
       "13    target"
      ]
     },
     "execution_count": 938,
     "metadata": {},
     "output_type": "execute_result"
    }
   ],
   "source": [
    "# Show with applying dataframe for better visualization\n",
    "df1 = pd.DataFrame(heartDisease.columns)\n",
    "df1.columns = ['features']\n",
    "df1"
   ]
  },
  {
   "cell_type": "markdown",
   "id": "ee4437cf",
   "metadata": {},
   "source": [
    "### 4. List all the values of 'target'."
   ]
  },
  {
   "cell_type": "code",
   "execution_count": 939,
   "id": "a88512c5",
   "metadata": {
    "scrolled": true
   },
   "outputs": [
    {
     "data": {
      "text/plain": [
       "array([1, 1, 1, 1, 1, 1, 1, 1, 1, 1, 1, 1, 1, 1, 1, 1, 1, 1, 1, 1, 1, 1,\n",
       "       1, 1, 1, 1, 1, 1, 1, 1, 1, 1, 1, 1, 1, 1, 1, 1, 1, 1, 1, 1, 1, 1,\n",
       "       1, 1, 1, 1, 1, 1, 1, 1, 1, 1, 1, 1, 1, 1, 1, 1, 1, 1, 1, 1, 1, 1,\n",
       "       1, 1, 1, 1, 1, 1, 1, 1, 1, 1, 1, 1, 1, 1, 1, 1, 1, 1, 1, 1, 1, 1,\n",
       "       1, 1, 1, 1, 1, 1, 1, 1, 1, 1, 1, 1, 1, 1, 1, 1, 1, 1, 1, 1, 1, 1,\n",
       "       1, 1, 1, 1, 1, 1, 1, 1, 1, 1, 1, 1, 1, 1, 1, 1, 1, 1, 1, 1, 1, 1,\n",
       "       1, 1, 1, 1, 1, 1, 1, 1, 1, 1, 1, 1, 1, 1, 1, 1, 1, 1, 1, 1, 1, 1,\n",
       "       1, 1, 1, 1, 1, 1, 1, 1, 1, 1, 1, 0, 0, 0, 0, 0, 0, 0, 0, 0, 0, 0,\n",
       "       0, 0, 0, 0, 0, 0, 0, 0, 0, 0, 0, 0, 0, 0, 0, 0, 0, 0, 0, 0, 0, 0,\n",
       "       0, 0, 0, 0, 0, 0, 0, 0, 0, 0, 0, 0, 0, 0, 0, 0, 0, 0, 0, 0, 0, 0,\n",
       "       0, 0, 0, 0, 0, 0, 0, 0, 0, 0, 0, 0, 0, 0, 0, 0, 0, 0, 0, 0, 0, 0,\n",
       "       0, 0, 0, 0, 0, 0, 0, 0, 0, 0, 0, 0, 0, 0, 0, 0, 0, 0, 0, 0, 0, 0,\n",
       "       0, 0, 0, 0, 0, 0, 0, 0, 0, 0, 0, 0, 0, 0, 0, 0, 0, 0, 0, 0, 0, 0,\n",
       "       0, 0, 0, 0, 0, 0, 0, 0, 0, 0, 0, 0, 0, 0, 0, 0, 0], dtype=int64)"
      ]
     },
     "execution_count": 939,
     "metadata": {},
     "output_type": "execute_result"
    }
   ],
   "source": [
    "heartDisease['target'].values"
   ]
  },
  {
   "cell_type": "markdown",
   "id": "d669a85a",
   "metadata": {},
   "source": [
    "# Step 3 - Data Processing"
   ]
  },
  {
   "cell_type": "markdown",
   "id": "7f235c9e",
   "metadata": {},
   "source": [
    "### 1. Checking is there any null values."
   ]
  },
  {
   "cell_type": "code",
   "execution_count": 940,
   "id": "9e32782a",
   "metadata": {},
   "outputs": [
    {
     "data": {
      "text/plain": [
       "age         0\n",
       "sex         0\n",
       "cp          0\n",
       "trestbps    0\n",
       "chol        0\n",
       "fbs         0\n",
       "restecg     0\n",
       "thalach     0\n",
       "exang       0\n",
       "oldpeak     0\n",
       "slope       0\n",
       "ca          0\n",
       "thal        0\n",
       "target      0\n",
       "dtype: int64"
      ]
     },
     "execution_count": 940,
     "metadata": {},
     "output_type": "execute_result"
    }
   ],
   "source": [
    "heartDisease.apply(lambda x: sum(x.isnull()), axis = 0)"
   ]
  },
  {
   "cell_type": "markdown",
   "id": "c8659362",
   "metadata": {},
   "source": [
    "### 2. Remove duplicates from dataset."
   ]
  },
  {
   "cell_type": "code",
   "execution_count": 941,
   "id": "a9e62cd1",
   "metadata": {},
   "outputs": [],
   "source": [
    "heartDisease = heartDisease.drop_duplicates()"
   ]
  },
  {
   "cell_type": "markdown",
   "id": "6c49d149",
   "metadata": {},
   "source": [
    "### 3. Display the dataset again after data processing."
   ]
  },
  {
   "cell_type": "code",
   "execution_count": 942,
   "id": "09390c9f",
   "metadata": {},
   "outputs": [
    {
     "data": {
      "text/html": [
       "<div>\n",
       "<style scoped>\n",
       "    .dataframe tbody tr th:only-of-type {\n",
       "        vertical-align: middle;\n",
       "    }\n",
       "\n",
       "    .dataframe tbody tr th {\n",
       "        vertical-align: top;\n",
       "    }\n",
       "\n",
       "    .dataframe thead th {\n",
       "        text-align: right;\n",
       "    }\n",
       "</style>\n",
       "<table border=\"1\" class=\"dataframe\">\n",
       "  <thead>\n",
       "    <tr style=\"text-align: right;\">\n",
       "      <th></th>\n",
       "      <th>age</th>\n",
       "      <th>sex</th>\n",
       "      <th>cp</th>\n",
       "      <th>trestbps</th>\n",
       "      <th>chol</th>\n",
       "      <th>fbs</th>\n",
       "      <th>restecg</th>\n",
       "      <th>thalach</th>\n",
       "      <th>exang</th>\n",
       "      <th>oldpeak</th>\n",
       "      <th>slope</th>\n",
       "      <th>ca</th>\n",
       "      <th>thal</th>\n",
       "      <th>target</th>\n",
       "    </tr>\n",
       "  </thead>\n",
       "  <tbody>\n",
       "    <tr>\n",
       "      <th>0</th>\n",
       "      <td>63</td>\n",
       "      <td>1</td>\n",
       "      <td>3</td>\n",
       "      <td>145</td>\n",
       "      <td>233</td>\n",
       "      <td>1</td>\n",
       "      <td>0</td>\n",
       "      <td>150</td>\n",
       "      <td>0</td>\n",
       "      <td>2.3</td>\n",
       "      <td>0</td>\n",
       "      <td>0</td>\n",
       "      <td>1</td>\n",
       "      <td>1</td>\n",
       "    </tr>\n",
       "    <tr>\n",
       "      <th>1</th>\n",
       "      <td>37</td>\n",
       "      <td>1</td>\n",
       "      <td>2</td>\n",
       "      <td>130</td>\n",
       "      <td>250</td>\n",
       "      <td>0</td>\n",
       "      <td>1</td>\n",
       "      <td>187</td>\n",
       "      <td>0</td>\n",
       "      <td>3.5</td>\n",
       "      <td>0</td>\n",
       "      <td>0</td>\n",
       "      <td>2</td>\n",
       "      <td>1</td>\n",
       "    </tr>\n",
       "    <tr>\n",
       "      <th>2</th>\n",
       "      <td>41</td>\n",
       "      <td>0</td>\n",
       "      <td>1</td>\n",
       "      <td>130</td>\n",
       "      <td>204</td>\n",
       "      <td>0</td>\n",
       "      <td>0</td>\n",
       "      <td>172</td>\n",
       "      <td>0</td>\n",
       "      <td>1.4</td>\n",
       "      <td>2</td>\n",
       "      <td>0</td>\n",
       "      <td>2</td>\n",
       "      <td>1</td>\n",
       "    </tr>\n",
       "    <tr>\n",
       "      <th>3</th>\n",
       "      <td>56</td>\n",
       "      <td>1</td>\n",
       "      <td>1</td>\n",
       "      <td>120</td>\n",
       "      <td>236</td>\n",
       "      <td>0</td>\n",
       "      <td>1</td>\n",
       "      <td>178</td>\n",
       "      <td>0</td>\n",
       "      <td>0.8</td>\n",
       "      <td>2</td>\n",
       "      <td>0</td>\n",
       "      <td>2</td>\n",
       "      <td>1</td>\n",
       "    </tr>\n",
       "    <tr>\n",
       "      <th>4</th>\n",
       "      <td>57</td>\n",
       "      <td>0</td>\n",
       "      <td>0</td>\n",
       "      <td>120</td>\n",
       "      <td>354</td>\n",
       "      <td>0</td>\n",
       "      <td>1</td>\n",
       "      <td>163</td>\n",
       "      <td>1</td>\n",
       "      <td>0.6</td>\n",
       "      <td>2</td>\n",
       "      <td>0</td>\n",
       "      <td>2</td>\n",
       "      <td>1</td>\n",
       "    </tr>\n",
       "    <tr>\n",
       "      <th>...</th>\n",
       "      <td>...</td>\n",
       "      <td>...</td>\n",
       "      <td>...</td>\n",
       "      <td>...</td>\n",
       "      <td>...</td>\n",
       "      <td>...</td>\n",
       "      <td>...</td>\n",
       "      <td>...</td>\n",
       "      <td>...</td>\n",
       "      <td>...</td>\n",
       "      <td>...</td>\n",
       "      <td>...</td>\n",
       "      <td>...</td>\n",
       "      <td>...</td>\n",
       "    </tr>\n",
       "    <tr>\n",
       "      <th>298</th>\n",
       "      <td>57</td>\n",
       "      <td>0</td>\n",
       "      <td>0</td>\n",
       "      <td>140</td>\n",
       "      <td>241</td>\n",
       "      <td>0</td>\n",
       "      <td>1</td>\n",
       "      <td>123</td>\n",
       "      <td>1</td>\n",
       "      <td>0.2</td>\n",
       "      <td>1</td>\n",
       "      <td>0</td>\n",
       "      <td>3</td>\n",
       "      <td>0</td>\n",
       "    </tr>\n",
       "    <tr>\n",
       "      <th>299</th>\n",
       "      <td>45</td>\n",
       "      <td>1</td>\n",
       "      <td>3</td>\n",
       "      <td>110</td>\n",
       "      <td>264</td>\n",
       "      <td>0</td>\n",
       "      <td>1</td>\n",
       "      <td>132</td>\n",
       "      <td>0</td>\n",
       "      <td>1.2</td>\n",
       "      <td>1</td>\n",
       "      <td>0</td>\n",
       "      <td>3</td>\n",
       "      <td>0</td>\n",
       "    </tr>\n",
       "    <tr>\n",
       "      <th>300</th>\n",
       "      <td>68</td>\n",
       "      <td>1</td>\n",
       "      <td>0</td>\n",
       "      <td>144</td>\n",
       "      <td>193</td>\n",
       "      <td>1</td>\n",
       "      <td>1</td>\n",
       "      <td>141</td>\n",
       "      <td>0</td>\n",
       "      <td>3.4</td>\n",
       "      <td>1</td>\n",
       "      <td>2</td>\n",
       "      <td>3</td>\n",
       "      <td>0</td>\n",
       "    </tr>\n",
       "    <tr>\n",
       "      <th>301</th>\n",
       "      <td>57</td>\n",
       "      <td>1</td>\n",
       "      <td>0</td>\n",
       "      <td>130</td>\n",
       "      <td>131</td>\n",
       "      <td>0</td>\n",
       "      <td>1</td>\n",
       "      <td>115</td>\n",
       "      <td>1</td>\n",
       "      <td>1.2</td>\n",
       "      <td>1</td>\n",
       "      <td>1</td>\n",
       "      <td>3</td>\n",
       "      <td>0</td>\n",
       "    </tr>\n",
       "    <tr>\n",
       "      <th>302</th>\n",
       "      <td>57</td>\n",
       "      <td>0</td>\n",
       "      <td>1</td>\n",
       "      <td>130</td>\n",
       "      <td>236</td>\n",
       "      <td>0</td>\n",
       "      <td>0</td>\n",
       "      <td>174</td>\n",
       "      <td>0</td>\n",
       "      <td>0.0</td>\n",
       "      <td>1</td>\n",
       "      <td>1</td>\n",
       "      <td>2</td>\n",
       "      <td>0</td>\n",
       "    </tr>\n",
       "  </tbody>\n",
       "</table>\n",
       "<p>302 rows × 14 columns</p>\n",
       "</div>"
      ],
      "text/plain": [
       "     age  sex  cp  trestbps  chol  fbs  restecg  thalach  exang  oldpeak  \\\n",
       "0     63    1   3       145   233    1        0      150      0      2.3   \n",
       "1     37    1   2       130   250    0        1      187      0      3.5   \n",
       "2     41    0   1       130   204    0        0      172      0      1.4   \n",
       "3     56    1   1       120   236    0        1      178      0      0.8   \n",
       "4     57    0   0       120   354    0        1      163      1      0.6   \n",
       "..   ...  ...  ..       ...   ...  ...      ...      ...    ...      ...   \n",
       "298   57    0   0       140   241    0        1      123      1      0.2   \n",
       "299   45    1   3       110   264    0        1      132      0      1.2   \n",
       "300   68    1   0       144   193    1        1      141      0      3.4   \n",
       "301   57    1   0       130   131    0        1      115      1      1.2   \n",
       "302   57    0   1       130   236    0        0      174      0      0.0   \n",
       "\n",
       "     slope  ca  thal  target  \n",
       "0        0   0     1       1  \n",
       "1        0   0     2       1  \n",
       "2        2   0     2       1  \n",
       "3        2   0     2       1  \n",
       "4        2   0     2       1  \n",
       "..     ...  ..   ...     ...  \n",
       "298      1   0     3       0  \n",
       "299      1   0     3       0  \n",
       "300      1   2     3       0  \n",
       "301      1   1     3       0  \n",
       "302      1   1     2       0  \n",
       "\n",
       "[302 rows x 14 columns]"
      ]
     },
     "execution_count": 942,
     "metadata": {},
     "output_type": "execute_result"
    }
   ],
   "source": [
    "heartDisease"
   ]
  },
  {
   "cell_type": "markdown",
   "id": "d7841d06",
   "metadata": {},
   "source": [
    "# Step 4 - Split Data"
   ]
  },
  {
   "cell_type": "markdown",
   "id": "971e72f6",
   "metadata": {},
   "source": [
    "### 1. Allocate feature and target columns."
   ]
  },
  {
   "cell_type": "code",
   "execution_count": 943,
   "id": "02619d9e",
   "metadata": {},
   "outputs": [],
   "source": [
    "feature = heartDisease.iloc[:, 0:13]\n",
    "target = heartDisease.iloc[:, -1]"
   ]
  },
  {
   "cell_type": "markdown",
   "id": "80246869",
   "metadata": {},
   "source": [
    "### 2. Show the shape of feature and target."
   ]
  },
  {
   "cell_type": "code",
   "execution_count": 944,
   "id": "90421658",
   "metadata": {},
   "outputs": [
    {
     "name": "stdout",
     "output_type": "stream",
     "text": [
      "After allocating feature and target columns ... \n",
      "Shape of feature:  (302, 13)\n",
      "Shape of target:  (302,)\n"
     ]
    }
   ],
   "source": [
    "print(\"After allocating feature and target columns ... \")\n",
    "print(\"Shape of feature: \", feature.shape)\n",
    "print(\"Shape of target: \", target.shape)"
   ]
  },
  {
   "cell_type": "markdown",
   "id": "c5a8c277",
   "metadata": {},
   "source": [
    "### 3. Check all the feature columns."
   ]
  },
  {
   "cell_type": "code",
   "execution_count": 945,
   "id": "96dbfee7",
   "metadata": {},
   "outputs": [
    {
     "data": {
      "text/html": [
       "<div>\n",
       "<style scoped>\n",
       "    .dataframe tbody tr th:only-of-type {\n",
       "        vertical-align: middle;\n",
       "    }\n",
       "\n",
       "    .dataframe tbody tr th {\n",
       "        vertical-align: top;\n",
       "    }\n",
       "\n",
       "    .dataframe thead th {\n",
       "        text-align: right;\n",
       "    }\n",
       "</style>\n",
       "<table border=\"1\" class=\"dataframe\">\n",
       "  <thead>\n",
       "    <tr style=\"text-align: right;\">\n",
       "      <th></th>\n",
       "      <th>age</th>\n",
       "      <th>sex</th>\n",
       "      <th>cp</th>\n",
       "      <th>trestbps</th>\n",
       "      <th>chol</th>\n",
       "      <th>fbs</th>\n",
       "      <th>restecg</th>\n",
       "      <th>thalach</th>\n",
       "      <th>exang</th>\n",
       "      <th>oldpeak</th>\n",
       "      <th>slope</th>\n",
       "      <th>ca</th>\n",
       "      <th>thal</th>\n",
       "    </tr>\n",
       "  </thead>\n",
       "  <tbody>\n",
       "    <tr>\n",
       "      <th>0</th>\n",
       "      <td>63</td>\n",
       "      <td>1</td>\n",
       "      <td>3</td>\n",
       "      <td>145</td>\n",
       "      <td>233</td>\n",
       "      <td>1</td>\n",
       "      <td>0</td>\n",
       "      <td>150</td>\n",
       "      <td>0</td>\n",
       "      <td>2.3</td>\n",
       "      <td>0</td>\n",
       "      <td>0</td>\n",
       "      <td>1</td>\n",
       "    </tr>\n",
       "    <tr>\n",
       "      <th>1</th>\n",
       "      <td>37</td>\n",
       "      <td>1</td>\n",
       "      <td>2</td>\n",
       "      <td>130</td>\n",
       "      <td>250</td>\n",
       "      <td>0</td>\n",
       "      <td>1</td>\n",
       "      <td>187</td>\n",
       "      <td>0</td>\n",
       "      <td>3.5</td>\n",
       "      <td>0</td>\n",
       "      <td>0</td>\n",
       "      <td>2</td>\n",
       "    </tr>\n",
       "    <tr>\n",
       "      <th>2</th>\n",
       "      <td>41</td>\n",
       "      <td>0</td>\n",
       "      <td>1</td>\n",
       "      <td>130</td>\n",
       "      <td>204</td>\n",
       "      <td>0</td>\n",
       "      <td>0</td>\n",
       "      <td>172</td>\n",
       "      <td>0</td>\n",
       "      <td>1.4</td>\n",
       "      <td>2</td>\n",
       "      <td>0</td>\n",
       "      <td>2</td>\n",
       "    </tr>\n",
       "    <tr>\n",
       "      <th>3</th>\n",
       "      <td>56</td>\n",
       "      <td>1</td>\n",
       "      <td>1</td>\n",
       "      <td>120</td>\n",
       "      <td>236</td>\n",
       "      <td>0</td>\n",
       "      <td>1</td>\n",
       "      <td>178</td>\n",
       "      <td>0</td>\n",
       "      <td>0.8</td>\n",
       "      <td>2</td>\n",
       "      <td>0</td>\n",
       "      <td>2</td>\n",
       "    </tr>\n",
       "    <tr>\n",
       "      <th>4</th>\n",
       "      <td>57</td>\n",
       "      <td>0</td>\n",
       "      <td>0</td>\n",
       "      <td>120</td>\n",
       "      <td>354</td>\n",
       "      <td>0</td>\n",
       "      <td>1</td>\n",
       "      <td>163</td>\n",
       "      <td>1</td>\n",
       "      <td>0.6</td>\n",
       "      <td>2</td>\n",
       "      <td>0</td>\n",
       "      <td>2</td>\n",
       "    </tr>\n",
       "    <tr>\n",
       "      <th>...</th>\n",
       "      <td>...</td>\n",
       "      <td>...</td>\n",
       "      <td>...</td>\n",
       "      <td>...</td>\n",
       "      <td>...</td>\n",
       "      <td>...</td>\n",
       "      <td>...</td>\n",
       "      <td>...</td>\n",
       "      <td>...</td>\n",
       "      <td>...</td>\n",
       "      <td>...</td>\n",
       "      <td>...</td>\n",
       "      <td>...</td>\n",
       "    </tr>\n",
       "    <tr>\n",
       "      <th>298</th>\n",
       "      <td>57</td>\n",
       "      <td>0</td>\n",
       "      <td>0</td>\n",
       "      <td>140</td>\n",
       "      <td>241</td>\n",
       "      <td>0</td>\n",
       "      <td>1</td>\n",
       "      <td>123</td>\n",
       "      <td>1</td>\n",
       "      <td>0.2</td>\n",
       "      <td>1</td>\n",
       "      <td>0</td>\n",
       "      <td>3</td>\n",
       "    </tr>\n",
       "    <tr>\n",
       "      <th>299</th>\n",
       "      <td>45</td>\n",
       "      <td>1</td>\n",
       "      <td>3</td>\n",
       "      <td>110</td>\n",
       "      <td>264</td>\n",
       "      <td>0</td>\n",
       "      <td>1</td>\n",
       "      <td>132</td>\n",
       "      <td>0</td>\n",
       "      <td>1.2</td>\n",
       "      <td>1</td>\n",
       "      <td>0</td>\n",
       "      <td>3</td>\n",
       "    </tr>\n",
       "    <tr>\n",
       "      <th>300</th>\n",
       "      <td>68</td>\n",
       "      <td>1</td>\n",
       "      <td>0</td>\n",
       "      <td>144</td>\n",
       "      <td>193</td>\n",
       "      <td>1</td>\n",
       "      <td>1</td>\n",
       "      <td>141</td>\n",
       "      <td>0</td>\n",
       "      <td>3.4</td>\n",
       "      <td>1</td>\n",
       "      <td>2</td>\n",
       "      <td>3</td>\n",
       "    </tr>\n",
       "    <tr>\n",
       "      <th>301</th>\n",
       "      <td>57</td>\n",
       "      <td>1</td>\n",
       "      <td>0</td>\n",
       "      <td>130</td>\n",
       "      <td>131</td>\n",
       "      <td>0</td>\n",
       "      <td>1</td>\n",
       "      <td>115</td>\n",
       "      <td>1</td>\n",
       "      <td>1.2</td>\n",
       "      <td>1</td>\n",
       "      <td>1</td>\n",
       "      <td>3</td>\n",
       "    </tr>\n",
       "    <tr>\n",
       "      <th>302</th>\n",
       "      <td>57</td>\n",
       "      <td>0</td>\n",
       "      <td>1</td>\n",
       "      <td>130</td>\n",
       "      <td>236</td>\n",
       "      <td>0</td>\n",
       "      <td>0</td>\n",
       "      <td>174</td>\n",
       "      <td>0</td>\n",
       "      <td>0.0</td>\n",
       "      <td>1</td>\n",
       "      <td>1</td>\n",
       "      <td>2</td>\n",
       "    </tr>\n",
       "  </tbody>\n",
       "</table>\n",
       "<p>302 rows × 13 columns</p>\n",
       "</div>"
      ],
      "text/plain": [
       "     age  sex  cp  trestbps  chol  fbs  restecg  thalach  exang  oldpeak  \\\n",
       "0     63    1   3       145   233    1        0      150      0      2.3   \n",
       "1     37    1   2       130   250    0        1      187      0      3.5   \n",
       "2     41    0   1       130   204    0        0      172      0      1.4   \n",
       "3     56    1   1       120   236    0        1      178      0      0.8   \n",
       "4     57    0   0       120   354    0        1      163      1      0.6   \n",
       "..   ...  ...  ..       ...   ...  ...      ...      ...    ...      ...   \n",
       "298   57    0   0       140   241    0        1      123      1      0.2   \n",
       "299   45    1   3       110   264    0        1      132      0      1.2   \n",
       "300   68    1   0       144   193    1        1      141      0      3.4   \n",
       "301   57    1   0       130   131    0        1      115      1      1.2   \n",
       "302   57    0   1       130   236    0        0      174      0      0.0   \n",
       "\n",
       "     slope  ca  thal  \n",
       "0        0   0     1  \n",
       "1        0   0     2  \n",
       "2        2   0     2  \n",
       "3        2   0     2  \n",
       "4        2   0     2  \n",
       "..     ...  ..   ...  \n",
       "298      1   0     3  \n",
       "299      1   0     3  \n",
       "300      1   2     3  \n",
       "301      1   1     3  \n",
       "302      1   1     2  \n",
       "\n",
       "[302 rows x 13 columns]"
      ]
     },
     "execution_count": 945,
     "metadata": {},
     "output_type": "execute_result"
    }
   ],
   "source": [
    "feature"
   ]
  },
  {
   "cell_type": "markdown",
   "id": "e693259a",
   "metadata": {},
   "source": [
    "### 4. Check the target column."
   ]
  },
  {
   "cell_type": "code",
   "execution_count": 946,
   "id": "67bbb6d0",
   "metadata": {},
   "outputs": [
    {
     "data": {
      "text/html": [
       "<div>\n",
       "<style scoped>\n",
       "    .dataframe tbody tr th:only-of-type {\n",
       "        vertical-align: middle;\n",
       "    }\n",
       "\n",
       "    .dataframe tbody tr th {\n",
       "        vertical-align: top;\n",
       "    }\n",
       "\n",
       "    .dataframe thead th {\n",
       "        text-align: right;\n",
       "    }\n",
       "</style>\n",
       "<table border=\"1\" class=\"dataframe\">\n",
       "  <thead>\n",
       "    <tr style=\"text-align: right;\">\n",
       "      <th></th>\n",
       "      <th>target</th>\n",
       "    </tr>\n",
       "  </thead>\n",
       "  <tbody>\n",
       "    <tr>\n",
       "      <th>0</th>\n",
       "      <td>1</td>\n",
       "    </tr>\n",
       "    <tr>\n",
       "      <th>1</th>\n",
       "      <td>1</td>\n",
       "    </tr>\n",
       "    <tr>\n",
       "      <th>2</th>\n",
       "      <td>1</td>\n",
       "    </tr>\n",
       "    <tr>\n",
       "      <th>3</th>\n",
       "      <td>1</td>\n",
       "    </tr>\n",
       "    <tr>\n",
       "      <th>4</th>\n",
       "      <td>1</td>\n",
       "    </tr>\n",
       "    <tr>\n",
       "      <th>...</th>\n",
       "      <td>...</td>\n",
       "    </tr>\n",
       "    <tr>\n",
       "      <th>298</th>\n",
       "      <td>0</td>\n",
       "    </tr>\n",
       "    <tr>\n",
       "      <th>299</th>\n",
       "      <td>0</td>\n",
       "    </tr>\n",
       "    <tr>\n",
       "      <th>300</th>\n",
       "      <td>0</td>\n",
       "    </tr>\n",
       "    <tr>\n",
       "      <th>301</th>\n",
       "      <td>0</td>\n",
       "    </tr>\n",
       "    <tr>\n",
       "      <th>302</th>\n",
       "      <td>0</td>\n",
       "    </tr>\n",
       "  </tbody>\n",
       "</table>\n",
       "<p>302 rows × 1 columns</p>\n",
       "</div>"
      ],
      "text/plain": [
       "     target\n",
       "0         1\n",
       "1         1\n",
       "2         1\n",
       "3         1\n",
       "4         1\n",
       "..      ...\n",
       "298       0\n",
       "299       0\n",
       "300       0\n",
       "301       0\n",
       "302       0\n",
       "\n",
       "[302 rows x 1 columns]"
      ]
     },
     "execution_count": 946,
     "metadata": {},
     "output_type": "execute_result"
    }
   ],
   "source": [
    "# Show with applying dataframe for better visualization\n",
    "pd.DataFrame(target)"
   ]
  },
  {
   "cell_type": "markdown",
   "id": "24fbd264",
   "metadata": {},
   "source": [
    "### 5. Import library."
   ]
  },
  {
   "cell_type": "code",
   "execution_count": 947,
   "id": "1e9fb8b2",
   "metadata": {},
   "outputs": [],
   "source": [
    "from sklearn.model_selection import train_test_split"
   ]
  },
  {
   "cell_type": "markdown",
   "id": "85f03b58",
   "metadata": {},
   "source": [
    "## 1st Train Dataset: Ratio (80:20)"
   ]
  },
  {
   "cell_type": "markdown",
   "id": "e6e66c1d",
   "metadata": {},
   "source": [
    "### 1. Split the data into 80:20 ratio."
   ]
  },
  {
   "cell_type": "code",
   "execution_count": 948,
   "id": "c310385a",
   "metadata": {},
   "outputs": [
    {
     "name": "stdout",
     "output_type": "stream",
     "text": [
      "Shape of X1_train:  (241, 13)\n",
      "Shape of X1_test:  (61, 13)\n",
      "\n",
      "\n",
      "Shape of y1_train:  (241,)\n",
      "Shape of y1_test:  (61,)\n"
     ]
    }
   ],
   "source": [
    "# Split the data into training and testing sets\n",
    "X1_train, X1_test, y1_train, y1_test = train_test_split(feature, target, test_size = 0.2, random_state = 42)\n",
    "\n",
    "print(\"Shape of X1_train: \", X1_train.shape)\n",
    "print(\"Shape of X1_test: \", X1_test.shape)\n",
    "print(\"\\n\")\n",
    "print(\"Shape of y1_train: \", y1_train.shape)\n",
    "print(\"Shape of y1_test: \", y1_test.shape)"
   ]
  },
  {
   "cell_type": "markdown",
   "id": "693736ae",
   "metadata": {},
   "source": [
    "### 2. Show the first 5 rows of X1_train set."
   ]
  },
  {
   "cell_type": "code",
   "execution_count": 949,
   "id": "742185dc",
   "metadata": {
    "scrolled": true
   },
   "outputs": [
    {
     "data": {
      "text/html": [
       "<div>\n",
       "<style scoped>\n",
       "    .dataframe tbody tr th:only-of-type {\n",
       "        vertical-align: middle;\n",
       "    }\n",
       "\n",
       "    .dataframe tbody tr th {\n",
       "        vertical-align: top;\n",
       "    }\n",
       "\n",
       "    .dataframe thead th {\n",
       "        text-align: right;\n",
       "    }\n",
       "</style>\n",
       "<table border=\"1\" class=\"dataframe\">\n",
       "  <thead>\n",
       "    <tr style=\"text-align: right;\">\n",
       "      <th></th>\n",
       "      <th>age</th>\n",
       "      <th>sex</th>\n",
       "      <th>cp</th>\n",
       "      <th>trestbps</th>\n",
       "      <th>chol</th>\n",
       "      <th>fbs</th>\n",
       "      <th>restecg</th>\n",
       "      <th>thalach</th>\n",
       "      <th>exang</th>\n",
       "      <th>oldpeak</th>\n",
       "      <th>slope</th>\n",
       "      <th>ca</th>\n",
       "      <th>thal</th>\n",
       "    </tr>\n",
       "  </thead>\n",
       "  <tbody>\n",
       "    <tr>\n",
       "      <th>132</th>\n",
       "      <td>42</td>\n",
       "      <td>1</td>\n",
       "      <td>1</td>\n",
       "      <td>120</td>\n",
       "      <td>295</td>\n",
       "      <td>0</td>\n",
       "      <td>1</td>\n",
       "      <td>162</td>\n",
       "      <td>0</td>\n",
       "      <td>0.0</td>\n",
       "      <td>2</td>\n",
       "      <td>0</td>\n",
       "      <td>2</td>\n",
       "    </tr>\n",
       "    <tr>\n",
       "      <th>203</th>\n",
       "      <td>68</td>\n",
       "      <td>1</td>\n",
       "      <td>2</td>\n",
       "      <td>180</td>\n",
       "      <td>274</td>\n",
       "      <td>1</td>\n",
       "      <td>0</td>\n",
       "      <td>150</td>\n",
       "      <td>1</td>\n",
       "      <td>1.6</td>\n",
       "      <td>1</td>\n",
       "      <td>0</td>\n",
       "      <td>3</td>\n",
       "    </tr>\n",
       "    <tr>\n",
       "      <th>197</th>\n",
       "      <td>67</td>\n",
       "      <td>1</td>\n",
       "      <td>0</td>\n",
       "      <td>125</td>\n",
       "      <td>254</td>\n",
       "      <td>1</td>\n",
       "      <td>1</td>\n",
       "      <td>163</td>\n",
       "      <td>0</td>\n",
       "      <td>0.2</td>\n",
       "      <td>1</td>\n",
       "      <td>2</td>\n",
       "      <td>3</td>\n",
       "    </tr>\n",
       "    <tr>\n",
       "      <th>75</th>\n",
       "      <td>55</td>\n",
       "      <td>0</td>\n",
       "      <td>1</td>\n",
       "      <td>135</td>\n",
       "      <td>250</td>\n",
       "      <td>0</td>\n",
       "      <td>0</td>\n",
       "      <td>161</td>\n",
       "      <td>0</td>\n",
       "      <td>1.4</td>\n",
       "      <td>1</td>\n",
       "      <td>0</td>\n",
       "      <td>2</td>\n",
       "    </tr>\n",
       "    <tr>\n",
       "      <th>177</th>\n",
       "      <td>64</td>\n",
       "      <td>1</td>\n",
       "      <td>2</td>\n",
       "      <td>140</td>\n",
       "      <td>335</td>\n",
       "      <td>0</td>\n",
       "      <td>1</td>\n",
       "      <td>158</td>\n",
       "      <td>0</td>\n",
       "      <td>0.0</td>\n",
       "      <td>2</td>\n",
       "      <td>0</td>\n",
       "      <td>2</td>\n",
       "    </tr>\n",
       "  </tbody>\n",
       "</table>\n",
       "</div>"
      ],
      "text/plain": [
       "     age  sex  cp  trestbps  chol  fbs  restecg  thalach  exang  oldpeak  \\\n",
       "132   42    1   1       120   295    0        1      162      0      0.0   \n",
       "203   68    1   2       180   274    1        0      150      1      1.6   \n",
       "197   67    1   0       125   254    1        1      163      0      0.2   \n",
       "75    55    0   1       135   250    0        0      161      0      1.4   \n",
       "177   64    1   2       140   335    0        1      158      0      0.0   \n",
       "\n",
       "     slope  ca  thal  \n",
       "132      2   0     2  \n",
       "203      1   0     3  \n",
       "197      1   2     3  \n",
       "75       1   0     2  \n",
       "177      2   0     2  "
      ]
     },
     "execution_count": 949,
     "metadata": {},
     "output_type": "execute_result"
    }
   ],
   "source": [
    "X1_train.head(5)"
   ]
  },
  {
   "cell_type": "markdown",
   "id": "0fb5eadd",
   "metadata": {},
   "source": [
    "### 3. Show the first 5 rows of X1_test set."
   ]
  },
  {
   "cell_type": "code",
   "execution_count": 950,
   "id": "06e7dfeb",
   "metadata": {
    "scrolled": true
   },
   "outputs": [
    {
     "data": {
      "text/html": [
       "<div>\n",
       "<style scoped>\n",
       "    .dataframe tbody tr th:only-of-type {\n",
       "        vertical-align: middle;\n",
       "    }\n",
       "\n",
       "    .dataframe tbody tr th {\n",
       "        vertical-align: top;\n",
       "    }\n",
       "\n",
       "    .dataframe thead th {\n",
       "        text-align: right;\n",
       "    }\n",
       "</style>\n",
       "<table border=\"1\" class=\"dataframe\">\n",
       "  <thead>\n",
       "    <tr style=\"text-align: right;\">\n",
       "      <th></th>\n",
       "      <th>age</th>\n",
       "      <th>sex</th>\n",
       "      <th>cp</th>\n",
       "      <th>trestbps</th>\n",
       "      <th>chol</th>\n",
       "      <th>fbs</th>\n",
       "      <th>restecg</th>\n",
       "      <th>thalach</th>\n",
       "      <th>exang</th>\n",
       "      <th>oldpeak</th>\n",
       "      <th>slope</th>\n",
       "      <th>ca</th>\n",
       "      <th>thal</th>\n",
       "    </tr>\n",
       "  </thead>\n",
       "  <tbody>\n",
       "    <tr>\n",
       "      <th>180</th>\n",
       "      <td>55</td>\n",
       "      <td>1</td>\n",
       "      <td>0</td>\n",
       "      <td>132</td>\n",
       "      <td>353</td>\n",
       "      <td>0</td>\n",
       "      <td>1</td>\n",
       "      <td>132</td>\n",
       "      <td>1</td>\n",
       "      <td>1.2</td>\n",
       "      <td>1</td>\n",
       "      <td>1</td>\n",
       "      <td>3</td>\n",
       "    </tr>\n",
       "    <tr>\n",
       "      <th>229</th>\n",
       "      <td>64</td>\n",
       "      <td>1</td>\n",
       "      <td>2</td>\n",
       "      <td>125</td>\n",
       "      <td>309</td>\n",
       "      <td>0</td>\n",
       "      <td>1</td>\n",
       "      <td>131</td>\n",
       "      <td>1</td>\n",
       "      <td>1.8</td>\n",
       "      <td>1</td>\n",
       "      <td>0</td>\n",
       "      <td>3</td>\n",
       "    </tr>\n",
       "    <tr>\n",
       "      <th>111</th>\n",
       "      <td>57</td>\n",
       "      <td>1</td>\n",
       "      <td>2</td>\n",
       "      <td>150</td>\n",
       "      <td>126</td>\n",
       "      <td>1</td>\n",
       "      <td>1</td>\n",
       "      <td>173</td>\n",
       "      <td>0</td>\n",
       "      <td>0.2</td>\n",
       "      <td>2</td>\n",
       "      <td>1</td>\n",
       "      <td>3</td>\n",
       "    </tr>\n",
       "    <tr>\n",
       "      <th>247</th>\n",
       "      <td>66</td>\n",
       "      <td>1</td>\n",
       "      <td>1</td>\n",
       "      <td>160</td>\n",
       "      <td>246</td>\n",
       "      <td>0</td>\n",
       "      <td>1</td>\n",
       "      <td>120</td>\n",
       "      <td>1</td>\n",
       "      <td>0.0</td>\n",
       "      <td>1</td>\n",
       "      <td>3</td>\n",
       "      <td>1</td>\n",
       "    </tr>\n",
       "    <tr>\n",
       "      <th>60</th>\n",
       "      <td>71</td>\n",
       "      <td>0</td>\n",
       "      <td>2</td>\n",
       "      <td>110</td>\n",
       "      <td>265</td>\n",
       "      <td>1</td>\n",
       "      <td>0</td>\n",
       "      <td>130</td>\n",
       "      <td>0</td>\n",
       "      <td>0.0</td>\n",
       "      <td>2</td>\n",
       "      <td>1</td>\n",
       "      <td>2</td>\n",
       "    </tr>\n",
       "  </tbody>\n",
       "</table>\n",
       "</div>"
      ],
      "text/plain": [
       "     age  sex  cp  trestbps  chol  fbs  restecg  thalach  exang  oldpeak  \\\n",
       "180   55    1   0       132   353    0        1      132      1      1.2   \n",
       "229   64    1   2       125   309    0        1      131      1      1.8   \n",
       "111   57    1   2       150   126    1        1      173      0      0.2   \n",
       "247   66    1   1       160   246    0        1      120      1      0.0   \n",
       "60    71    0   2       110   265    1        0      130      0      0.0   \n",
       "\n",
       "     slope  ca  thal  \n",
       "180      1   1     3  \n",
       "229      1   0     3  \n",
       "111      2   1     3  \n",
       "247      1   3     1  \n",
       "60       2   1     2  "
      ]
     },
     "execution_count": 950,
     "metadata": {},
     "output_type": "execute_result"
    }
   ],
   "source": [
    "X1_test.head(5)"
   ]
  },
  {
   "cell_type": "markdown",
   "id": "763b6491",
   "metadata": {},
   "source": [
    "## 2nd Train Dataset: Ratio (70:30)"
   ]
  },
  {
   "cell_type": "markdown",
   "id": "8e1a2b95",
   "metadata": {},
   "source": [
    "### 1. Split the data into 70:30 ratio."
   ]
  },
  {
   "cell_type": "code",
   "execution_count": 951,
   "id": "fc7a629e",
   "metadata": {},
   "outputs": [
    {
     "name": "stdout",
     "output_type": "stream",
     "text": [
      "Shape of X2_train:  (211, 13)\n",
      "Shape of X2_test:  (91, 13)\n",
      "\n",
      "\n",
      "Shape of y2_train:  (211,)\n",
      "Shape of y2_test:  (91,)\n"
     ]
    }
   ],
   "source": [
    "# Split the data into training and testing sets\n",
    "X2_train, X2_test, y2_train, y2_test = train_test_split(feature, target, test_size = 0.3, random_state = 42)\n",
    "\n",
    "print(\"Shape of X2_train: \", X2_train.shape)\n",
    "print(\"Shape of X2_test: \", X2_test.shape)\n",
    "print(\"\\n\")\n",
    "print(\"Shape of y2_train: \", y2_train.shape)\n",
    "print(\"Shape of y2_test: \", y2_test.shape)"
   ]
  },
  {
   "cell_type": "markdown",
   "id": "7d588ab6",
   "metadata": {},
   "source": [
    "### 2. Show the first 5 rows of X2_train set."
   ]
  },
  {
   "cell_type": "code",
   "execution_count": 952,
   "id": "a634c36b",
   "metadata": {
    "scrolled": false
   },
   "outputs": [
    {
     "data": {
      "text/html": [
       "<div>\n",
       "<style scoped>\n",
       "    .dataframe tbody tr th:only-of-type {\n",
       "        vertical-align: middle;\n",
       "    }\n",
       "\n",
       "    .dataframe tbody tr th {\n",
       "        vertical-align: top;\n",
       "    }\n",
       "\n",
       "    .dataframe thead th {\n",
       "        text-align: right;\n",
       "    }\n",
       "</style>\n",
       "<table border=\"1\" class=\"dataframe\">\n",
       "  <thead>\n",
       "    <tr style=\"text-align: right;\">\n",
       "      <th></th>\n",
       "      <th>age</th>\n",
       "      <th>sex</th>\n",
       "      <th>cp</th>\n",
       "      <th>trestbps</th>\n",
       "      <th>chol</th>\n",
       "      <th>fbs</th>\n",
       "      <th>restecg</th>\n",
       "      <th>thalach</th>\n",
       "      <th>exang</th>\n",
       "      <th>oldpeak</th>\n",
       "      <th>slope</th>\n",
       "      <th>ca</th>\n",
       "      <th>thal</th>\n",
       "    </tr>\n",
       "  </thead>\n",
       "  <tbody>\n",
       "    <tr>\n",
       "      <th>124</th>\n",
       "      <td>39</td>\n",
       "      <td>0</td>\n",
       "      <td>2</td>\n",
       "      <td>94</td>\n",
       "      <td>199</td>\n",
       "      <td>0</td>\n",
       "      <td>1</td>\n",
       "      <td>179</td>\n",
       "      <td>0</td>\n",
       "      <td>0.0</td>\n",
       "      <td>2</td>\n",
       "      <td>0</td>\n",
       "      <td>2</td>\n",
       "    </tr>\n",
       "    <tr>\n",
       "      <th>72</th>\n",
       "      <td>29</td>\n",
       "      <td>1</td>\n",
       "      <td>1</td>\n",
       "      <td>130</td>\n",
       "      <td>204</td>\n",
       "      <td>0</td>\n",
       "      <td>0</td>\n",
       "      <td>202</td>\n",
       "      <td>0</td>\n",
       "      <td>0.0</td>\n",
       "      <td>2</td>\n",
       "      <td>0</td>\n",
       "      <td>2</td>\n",
       "    </tr>\n",
       "    <tr>\n",
       "      <th>15</th>\n",
       "      <td>50</td>\n",
       "      <td>0</td>\n",
       "      <td>2</td>\n",
       "      <td>120</td>\n",
       "      <td>219</td>\n",
       "      <td>0</td>\n",
       "      <td>1</td>\n",
       "      <td>158</td>\n",
       "      <td>0</td>\n",
       "      <td>1.6</td>\n",
       "      <td>1</td>\n",
       "      <td>0</td>\n",
       "      <td>2</td>\n",
       "    </tr>\n",
       "    <tr>\n",
       "      <th>10</th>\n",
       "      <td>54</td>\n",
       "      <td>1</td>\n",
       "      <td>0</td>\n",
       "      <td>140</td>\n",
       "      <td>239</td>\n",
       "      <td>0</td>\n",
       "      <td>1</td>\n",
       "      <td>160</td>\n",
       "      <td>0</td>\n",
       "      <td>1.2</td>\n",
       "      <td>2</td>\n",
       "      <td>0</td>\n",
       "      <td>2</td>\n",
       "    </tr>\n",
       "    <tr>\n",
       "      <th>163</th>\n",
       "      <td>38</td>\n",
       "      <td>1</td>\n",
       "      <td>2</td>\n",
       "      <td>138</td>\n",
       "      <td>175</td>\n",
       "      <td>0</td>\n",
       "      <td>1</td>\n",
       "      <td>173</td>\n",
       "      <td>0</td>\n",
       "      <td>0.0</td>\n",
       "      <td>2</td>\n",
       "      <td>4</td>\n",
       "      <td>2</td>\n",
       "    </tr>\n",
       "  </tbody>\n",
       "</table>\n",
       "</div>"
      ],
      "text/plain": [
       "     age  sex  cp  trestbps  chol  fbs  restecg  thalach  exang  oldpeak  \\\n",
       "124   39    0   2        94   199    0        1      179      0      0.0   \n",
       "72    29    1   1       130   204    0        0      202      0      0.0   \n",
       "15    50    0   2       120   219    0        1      158      0      1.6   \n",
       "10    54    1   0       140   239    0        1      160      0      1.2   \n",
       "163   38    1   2       138   175    0        1      173      0      0.0   \n",
       "\n",
       "     slope  ca  thal  \n",
       "124      2   0     2  \n",
       "72       2   0     2  \n",
       "15       1   0     2  \n",
       "10       2   0     2  \n",
       "163      2   4     2  "
      ]
     },
     "execution_count": 952,
     "metadata": {},
     "output_type": "execute_result"
    }
   ],
   "source": [
    "X2_train.head(5)"
   ]
  },
  {
   "cell_type": "markdown",
   "id": "f2f38cd2",
   "metadata": {},
   "source": [
    "### 3. Show the first 5 rows of X2_test set."
   ]
  },
  {
   "cell_type": "code",
   "execution_count": 953,
   "id": "faefad61",
   "metadata": {
    "scrolled": true
   },
   "outputs": [
    {
     "data": {
      "text/html": [
       "<div>\n",
       "<style scoped>\n",
       "    .dataframe tbody tr th:only-of-type {\n",
       "        vertical-align: middle;\n",
       "    }\n",
       "\n",
       "    .dataframe tbody tr th {\n",
       "        vertical-align: top;\n",
       "    }\n",
       "\n",
       "    .dataframe thead th {\n",
       "        text-align: right;\n",
       "    }\n",
       "</style>\n",
       "<table border=\"1\" class=\"dataframe\">\n",
       "  <thead>\n",
       "    <tr style=\"text-align: right;\">\n",
       "      <th></th>\n",
       "      <th>age</th>\n",
       "      <th>sex</th>\n",
       "      <th>cp</th>\n",
       "      <th>trestbps</th>\n",
       "      <th>chol</th>\n",
       "      <th>fbs</th>\n",
       "      <th>restecg</th>\n",
       "      <th>thalach</th>\n",
       "      <th>exang</th>\n",
       "      <th>oldpeak</th>\n",
       "      <th>slope</th>\n",
       "      <th>ca</th>\n",
       "      <th>thal</th>\n",
       "    </tr>\n",
       "  </thead>\n",
       "  <tbody>\n",
       "    <tr>\n",
       "      <th>180</th>\n",
       "      <td>55</td>\n",
       "      <td>1</td>\n",
       "      <td>0</td>\n",
       "      <td>132</td>\n",
       "      <td>353</td>\n",
       "      <td>0</td>\n",
       "      <td>1</td>\n",
       "      <td>132</td>\n",
       "      <td>1</td>\n",
       "      <td>1.2</td>\n",
       "      <td>1</td>\n",
       "      <td>1</td>\n",
       "      <td>3</td>\n",
       "    </tr>\n",
       "    <tr>\n",
       "      <th>229</th>\n",
       "      <td>64</td>\n",
       "      <td>1</td>\n",
       "      <td>2</td>\n",
       "      <td>125</td>\n",
       "      <td>309</td>\n",
       "      <td>0</td>\n",
       "      <td>1</td>\n",
       "      <td>131</td>\n",
       "      <td>1</td>\n",
       "      <td>1.8</td>\n",
       "      <td>1</td>\n",
       "      <td>0</td>\n",
       "      <td>3</td>\n",
       "    </tr>\n",
       "    <tr>\n",
       "      <th>111</th>\n",
       "      <td>57</td>\n",
       "      <td>1</td>\n",
       "      <td>2</td>\n",
       "      <td>150</td>\n",
       "      <td>126</td>\n",
       "      <td>1</td>\n",
       "      <td>1</td>\n",
       "      <td>173</td>\n",
       "      <td>0</td>\n",
       "      <td>0.2</td>\n",
       "      <td>2</td>\n",
       "      <td>1</td>\n",
       "      <td>3</td>\n",
       "    </tr>\n",
       "    <tr>\n",
       "      <th>247</th>\n",
       "      <td>66</td>\n",
       "      <td>1</td>\n",
       "      <td>1</td>\n",
       "      <td>160</td>\n",
       "      <td>246</td>\n",
       "      <td>0</td>\n",
       "      <td>1</td>\n",
       "      <td>120</td>\n",
       "      <td>1</td>\n",
       "      <td>0.0</td>\n",
       "      <td>1</td>\n",
       "      <td>3</td>\n",
       "      <td>1</td>\n",
       "    </tr>\n",
       "    <tr>\n",
       "      <th>60</th>\n",
       "      <td>71</td>\n",
       "      <td>0</td>\n",
       "      <td>2</td>\n",
       "      <td>110</td>\n",
       "      <td>265</td>\n",
       "      <td>1</td>\n",
       "      <td>0</td>\n",
       "      <td>130</td>\n",
       "      <td>0</td>\n",
       "      <td>0.0</td>\n",
       "      <td>2</td>\n",
       "      <td>1</td>\n",
       "      <td>2</td>\n",
       "    </tr>\n",
       "  </tbody>\n",
       "</table>\n",
       "</div>"
      ],
      "text/plain": [
       "     age  sex  cp  trestbps  chol  fbs  restecg  thalach  exang  oldpeak  \\\n",
       "180   55    1   0       132   353    0        1      132      1      1.2   \n",
       "229   64    1   2       125   309    0        1      131      1      1.8   \n",
       "111   57    1   2       150   126    1        1      173      0      0.2   \n",
       "247   66    1   1       160   246    0        1      120      1      0.0   \n",
       "60    71    0   2       110   265    1        0      130      0      0.0   \n",
       "\n",
       "     slope  ca  thal  \n",
       "180      1   1     3  \n",
       "229      1   0     3  \n",
       "111      2   1     3  \n",
       "247      1   3     1  \n",
       "60       2   1     2  "
      ]
     },
     "execution_count": 953,
     "metadata": {},
     "output_type": "execute_result"
    }
   ],
   "source": [
    "X2_test.head(5)"
   ]
  },
  {
   "cell_type": "markdown",
   "id": "6590c39d",
   "metadata": {},
   "source": [
    "## 3rd Train Dataset: Ratio (60:40)"
   ]
  },
  {
   "cell_type": "markdown",
   "id": "1e29375f",
   "metadata": {},
   "source": [
    "### 1. Split the data into 60:40 ratio."
   ]
  },
  {
   "cell_type": "code",
   "execution_count": 954,
   "id": "c16ae79d",
   "metadata": {},
   "outputs": [
    {
     "name": "stdout",
     "output_type": "stream",
     "text": [
      "Shape of X3_train:  (181, 13)\n",
      "Shape of X3_test:  (121, 13)\n",
      "\n",
      "\n",
      "Shape of y3_train:  (181,)\n",
      "Shape of y3_test:  (121,)\n"
     ]
    }
   ],
   "source": [
    "X3_train, X3_test, y3_train, y3_test = train_test_split(feature, target, test_size = 0.4, random_state = 42)\n",
    "\n",
    "print(\"Shape of X3_train: \", X3_train.shape)\n",
    "print(\"Shape of X3_test: \", X3_test.shape)\n",
    "print(\"\\n\")\n",
    "print(\"Shape of y3_train: \", y3_train.shape)\n",
    "print(\"Shape of y3_test: \", y3_test.shape)"
   ]
  },
  {
   "cell_type": "markdown",
   "id": "f0a1c7f8",
   "metadata": {},
   "source": [
    "### 2. Show the first 5 rows of X3_train set."
   ]
  },
  {
   "cell_type": "code",
   "execution_count": 955,
   "id": "cba2c6a2",
   "metadata": {
    "scrolled": true
   },
   "outputs": [
    {
     "data": {
      "text/html": [
       "<div>\n",
       "<style scoped>\n",
       "    .dataframe tbody tr th:only-of-type {\n",
       "        vertical-align: middle;\n",
       "    }\n",
       "\n",
       "    .dataframe tbody tr th {\n",
       "        vertical-align: top;\n",
       "    }\n",
       "\n",
       "    .dataframe thead th {\n",
       "        text-align: right;\n",
       "    }\n",
       "</style>\n",
       "<table border=\"1\" class=\"dataframe\">\n",
       "  <thead>\n",
       "    <tr style=\"text-align: right;\">\n",
       "      <th></th>\n",
       "      <th>age</th>\n",
       "      <th>sex</th>\n",
       "      <th>cp</th>\n",
       "      <th>trestbps</th>\n",
       "      <th>chol</th>\n",
       "      <th>fbs</th>\n",
       "      <th>restecg</th>\n",
       "      <th>thalach</th>\n",
       "      <th>exang</th>\n",
       "      <th>oldpeak</th>\n",
       "      <th>slope</th>\n",
       "      <th>ca</th>\n",
       "      <th>thal</th>\n",
       "    </tr>\n",
       "  </thead>\n",
       "  <tbody>\n",
       "    <tr>\n",
       "      <th>207</th>\n",
       "      <td>60</td>\n",
       "      <td>0</td>\n",
       "      <td>0</td>\n",
       "      <td>150</td>\n",
       "      <td>258</td>\n",
       "      <td>0</td>\n",
       "      <td>0</td>\n",
       "      <td>157</td>\n",
       "      <td>0</td>\n",
       "      <td>2.6</td>\n",
       "      <td>1</td>\n",
       "      <td>2</td>\n",
       "      <td>3</td>\n",
       "    </tr>\n",
       "    <tr>\n",
       "      <th>288</th>\n",
       "      <td>57</td>\n",
       "      <td>1</td>\n",
       "      <td>0</td>\n",
       "      <td>110</td>\n",
       "      <td>335</td>\n",
       "      <td>0</td>\n",
       "      <td>1</td>\n",
       "      <td>143</td>\n",
       "      <td>1</td>\n",
       "      <td>3.0</td>\n",
       "      <td>1</td>\n",
       "      <td>1</td>\n",
       "      <td>3</td>\n",
       "    </tr>\n",
       "    <tr>\n",
       "      <th>171</th>\n",
       "      <td>48</td>\n",
       "      <td>1</td>\n",
       "      <td>1</td>\n",
       "      <td>110</td>\n",
       "      <td>229</td>\n",
       "      <td>0</td>\n",
       "      <td>1</td>\n",
       "      <td>168</td>\n",
       "      <td>0</td>\n",
       "      <td>1.0</td>\n",
       "      <td>0</td>\n",
       "      <td>0</td>\n",
       "      <td>3</td>\n",
       "    </tr>\n",
       "    <tr>\n",
       "      <th>235</th>\n",
       "      <td>51</td>\n",
       "      <td>1</td>\n",
       "      <td>0</td>\n",
       "      <td>140</td>\n",
       "      <td>299</td>\n",
       "      <td>0</td>\n",
       "      <td>1</td>\n",
       "      <td>173</td>\n",
       "      <td>1</td>\n",
       "      <td>1.6</td>\n",
       "      <td>2</td>\n",
       "      <td>0</td>\n",
       "      <td>3</td>\n",
       "    </tr>\n",
       "    <tr>\n",
       "      <th>212</th>\n",
       "      <td>39</td>\n",
       "      <td>1</td>\n",
       "      <td>0</td>\n",
       "      <td>118</td>\n",
       "      <td>219</td>\n",
       "      <td>0</td>\n",
       "      <td>1</td>\n",
       "      <td>140</td>\n",
       "      <td>0</td>\n",
       "      <td>1.2</td>\n",
       "      <td>1</td>\n",
       "      <td>0</td>\n",
       "      <td>3</td>\n",
       "    </tr>\n",
       "  </tbody>\n",
       "</table>\n",
       "</div>"
      ],
      "text/plain": [
       "     age  sex  cp  trestbps  chol  fbs  restecg  thalach  exang  oldpeak  \\\n",
       "207   60    0   0       150   258    0        0      157      0      2.6   \n",
       "288   57    1   0       110   335    0        1      143      1      3.0   \n",
       "171   48    1   1       110   229    0        1      168      0      1.0   \n",
       "235   51    1   0       140   299    0        1      173      1      1.6   \n",
       "212   39    1   0       118   219    0        1      140      0      1.2   \n",
       "\n",
       "     slope  ca  thal  \n",
       "207      1   2     3  \n",
       "288      1   1     3  \n",
       "171      0   0     3  \n",
       "235      2   0     3  \n",
       "212      1   0     3  "
      ]
     },
     "execution_count": 955,
     "metadata": {},
     "output_type": "execute_result"
    }
   ],
   "source": [
    "X3_train.head(5)"
   ]
  },
  {
   "cell_type": "markdown",
   "id": "cf4a7288",
   "metadata": {},
   "source": [
    "### 3. Show the first 5 rows of X3_test set."
   ]
  },
  {
   "cell_type": "code",
   "execution_count": 956,
   "id": "d15714a2",
   "metadata": {
    "scrolled": true
   },
   "outputs": [
    {
     "data": {
      "text/html": [
       "<div>\n",
       "<style scoped>\n",
       "    .dataframe tbody tr th:only-of-type {\n",
       "        vertical-align: middle;\n",
       "    }\n",
       "\n",
       "    .dataframe tbody tr th {\n",
       "        vertical-align: top;\n",
       "    }\n",
       "\n",
       "    .dataframe thead th {\n",
       "        text-align: right;\n",
       "    }\n",
       "</style>\n",
       "<table border=\"1\" class=\"dataframe\">\n",
       "  <thead>\n",
       "    <tr style=\"text-align: right;\">\n",
       "      <th></th>\n",
       "      <th>age</th>\n",
       "      <th>sex</th>\n",
       "      <th>cp</th>\n",
       "      <th>trestbps</th>\n",
       "      <th>chol</th>\n",
       "      <th>fbs</th>\n",
       "      <th>restecg</th>\n",
       "      <th>thalach</th>\n",
       "      <th>exang</th>\n",
       "      <th>oldpeak</th>\n",
       "      <th>slope</th>\n",
       "      <th>ca</th>\n",
       "      <th>thal</th>\n",
       "    </tr>\n",
       "  </thead>\n",
       "  <tbody>\n",
       "    <tr>\n",
       "      <th>180</th>\n",
       "      <td>55</td>\n",
       "      <td>1</td>\n",
       "      <td>0</td>\n",
       "      <td>132</td>\n",
       "      <td>353</td>\n",
       "      <td>0</td>\n",
       "      <td>1</td>\n",
       "      <td>132</td>\n",
       "      <td>1</td>\n",
       "      <td>1.2</td>\n",
       "      <td>1</td>\n",
       "      <td>1</td>\n",
       "      <td>3</td>\n",
       "    </tr>\n",
       "    <tr>\n",
       "      <th>229</th>\n",
       "      <td>64</td>\n",
       "      <td>1</td>\n",
       "      <td>2</td>\n",
       "      <td>125</td>\n",
       "      <td>309</td>\n",
       "      <td>0</td>\n",
       "      <td>1</td>\n",
       "      <td>131</td>\n",
       "      <td>1</td>\n",
       "      <td>1.8</td>\n",
       "      <td>1</td>\n",
       "      <td>0</td>\n",
       "      <td>3</td>\n",
       "    </tr>\n",
       "    <tr>\n",
       "      <th>111</th>\n",
       "      <td>57</td>\n",
       "      <td>1</td>\n",
       "      <td>2</td>\n",
       "      <td>150</td>\n",
       "      <td>126</td>\n",
       "      <td>1</td>\n",
       "      <td>1</td>\n",
       "      <td>173</td>\n",
       "      <td>0</td>\n",
       "      <td>0.2</td>\n",
       "      <td>2</td>\n",
       "      <td>1</td>\n",
       "      <td>3</td>\n",
       "    </tr>\n",
       "    <tr>\n",
       "      <th>247</th>\n",
       "      <td>66</td>\n",
       "      <td>1</td>\n",
       "      <td>1</td>\n",
       "      <td>160</td>\n",
       "      <td>246</td>\n",
       "      <td>0</td>\n",
       "      <td>1</td>\n",
       "      <td>120</td>\n",
       "      <td>1</td>\n",
       "      <td>0.0</td>\n",
       "      <td>1</td>\n",
       "      <td>3</td>\n",
       "      <td>1</td>\n",
       "    </tr>\n",
       "    <tr>\n",
       "      <th>60</th>\n",
       "      <td>71</td>\n",
       "      <td>0</td>\n",
       "      <td>2</td>\n",
       "      <td>110</td>\n",
       "      <td>265</td>\n",
       "      <td>1</td>\n",
       "      <td>0</td>\n",
       "      <td>130</td>\n",
       "      <td>0</td>\n",
       "      <td>0.0</td>\n",
       "      <td>2</td>\n",
       "      <td>1</td>\n",
       "      <td>2</td>\n",
       "    </tr>\n",
       "  </tbody>\n",
       "</table>\n",
       "</div>"
      ],
      "text/plain": [
       "     age  sex  cp  trestbps  chol  fbs  restecg  thalach  exang  oldpeak  \\\n",
       "180   55    1   0       132   353    0        1      132      1      1.2   \n",
       "229   64    1   2       125   309    0        1      131      1      1.8   \n",
       "111   57    1   2       150   126    1        1      173      0      0.2   \n",
       "247   66    1   1       160   246    0        1      120      1      0.0   \n",
       "60    71    0   2       110   265    1        0      130      0      0.0   \n",
       "\n",
       "     slope  ca  thal  \n",
       "180      1   1     3  \n",
       "229      1   0     3  \n",
       "111      2   1     3  \n",
       "247      1   3     1  \n",
       "60       2   1     2  "
      ]
     },
     "execution_count": 956,
     "metadata": {},
     "output_type": "execute_result"
    }
   ],
   "source": [
    "X3_test.head(5)"
   ]
  },
  {
   "cell_type": "markdown",
   "id": "f832bedb",
   "metadata": {},
   "source": [
    "# Step 5 - Train Model with Different Ratios (Without Feature Selection and Parameter Tuning)"
   ]
  },
  {
   "cell_type": "markdown",
   "id": "8926d943",
   "metadata": {},
   "source": [
    "**Objective:** To choose the **most suitable ratios** and **use that ratio only** for testing different cases."
   ]
  },
  {
   "cell_type": "markdown",
   "id": "0277fb2b",
   "metadata": {},
   "source": [
    "### 1. Import model of Decision Tree Classifier."
   ]
  },
  {
   "cell_type": "code",
   "execution_count": 957,
   "id": "136c01c0",
   "metadata": {},
   "outputs": [],
   "source": [
    "from sklearn.tree import DecisionTreeClassifier"
   ]
  },
  {
   "cell_type": "markdown",
   "id": "be15b4f3",
   "metadata": {},
   "source": [
    "### 2. Create an instance of Decision Tree Classifier."
   ]
  },
  {
   "cell_type": "code",
   "execution_count": 958,
   "id": "53b5b650",
   "metadata": {},
   "outputs": [],
   "source": [
    "DTC = DecisionTreeClassifier(random_state = 0)"
   ]
  },
  {
   "cell_type": "markdown",
   "id": "f7a3b99f",
   "metadata": {},
   "source": [
    "## Ratio (80:20)"
   ]
  },
  {
   "cell_type": "markdown",
   "id": "4344eac7",
   "metadata": {},
   "source": [
    "### 1. Train the data with 80:20 ratio."
   ]
  },
  {
   "cell_type": "code",
   "execution_count": 959,
   "id": "83168275",
   "metadata": {
    "scrolled": true
   },
   "outputs": [
    {
     "data": {
      "text/html": [
       "<style>#sk-container-id-138 {color: black;background-color: white;}#sk-container-id-138 pre{padding: 0;}#sk-container-id-138 div.sk-toggleable {background-color: white;}#sk-container-id-138 label.sk-toggleable__label {cursor: pointer;display: block;width: 100%;margin-bottom: 0;padding: 0.3em;box-sizing: border-box;text-align: center;}#sk-container-id-138 label.sk-toggleable__label-arrow:before {content: \"▸\";float: left;margin-right: 0.25em;color: #696969;}#sk-container-id-138 label.sk-toggleable__label-arrow:hover:before {color: black;}#sk-container-id-138 div.sk-estimator:hover label.sk-toggleable__label-arrow:before {color: black;}#sk-container-id-138 div.sk-toggleable__content {max-height: 0;max-width: 0;overflow: hidden;text-align: left;background-color: #f0f8ff;}#sk-container-id-138 div.sk-toggleable__content pre {margin: 0.2em;color: black;border-radius: 0.25em;background-color: #f0f8ff;}#sk-container-id-138 input.sk-toggleable__control:checked~div.sk-toggleable__content {max-height: 200px;max-width: 100%;overflow: auto;}#sk-container-id-138 input.sk-toggleable__control:checked~label.sk-toggleable__label-arrow:before {content: \"▾\";}#sk-container-id-138 div.sk-estimator input.sk-toggleable__control:checked~label.sk-toggleable__label {background-color: #d4ebff;}#sk-container-id-138 div.sk-label input.sk-toggleable__control:checked~label.sk-toggleable__label {background-color: #d4ebff;}#sk-container-id-138 input.sk-hidden--visually {border: 0;clip: rect(1px 1px 1px 1px);clip: rect(1px, 1px, 1px, 1px);height: 1px;margin: -1px;overflow: hidden;padding: 0;position: absolute;width: 1px;}#sk-container-id-138 div.sk-estimator {font-family: monospace;background-color: #f0f8ff;border: 1px dotted black;border-radius: 0.25em;box-sizing: border-box;margin-bottom: 0.5em;}#sk-container-id-138 div.sk-estimator:hover {background-color: #d4ebff;}#sk-container-id-138 div.sk-parallel-item::after {content: \"\";width: 100%;border-bottom: 1px solid gray;flex-grow: 1;}#sk-container-id-138 div.sk-label:hover label.sk-toggleable__label {background-color: #d4ebff;}#sk-container-id-138 div.sk-serial::before {content: \"\";position: absolute;border-left: 1px solid gray;box-sizing: border-box;top: 0;bottom: 0;left: 50%;z-index: 0;}#sk-container-id-138 div.sk-serial {display: flex;flex-direction: column;align-items: center;background-color: white;padding-right: 0.2em;padding-left: 0.2em;position: relative;}#sk-container-id-138 div.sk-item {position: relative;z-index: 1;}#sk-container-id-138 div.sk-parallel {display: flex;align-items: stretch;justify-content: center;background-color: white;position: relative;}#sk-container-id-138 div.sk-item::before, #sk-container-id-138 div.sk-parallel-item::before {content: \"\";position: absolute;border-left: 1px solid gray;box-sizing: border-box;top: 0;bottom: 0;left: 50%;z-index: -1;}#sk-container-id-138 div.sk-parallel-item {display: flex;flex-direction: column;z-index: 1;position: relative;background-color: white;}#sk-container-id-138 div.sk-parallel-item:first-child::after {align-self: flex-end;width: 50%;}#sk-container-id-138 div.sk-parallel-item:last-child::after {align-self: flex-start;width: 50%;}#sk-container-id-138 div.sk-parallel-item:only-child::after {width: 0;}#sk-container-id-138 div.sk-dashed-wrapped {border: 1px dashed gray;margin: 0 0.4em 0.5em 0.4em;box-sizing: border-box;padding-bottom: 0.4em;background-color: white;}#sk-container-id-138 div.sk-label label {font-family: monospace;font-weight: bold;display: inline-block;line-height: 1.2em;}#sk-container-id-138 div.sk-label-container {text-align: center;}#sk-container-id-138 div.sk-container {/* jupyter's `normalize.less` sets `[hidden] { display: none; }` but bootstrap.min.css set `[hidden] { display: none !important; }` so we also need the `!important` here to be able to override the default hidden behavior on the sphinx rendered scikit-learn.org. See: https://github.com/scikit-learn/scikit-learn/issues/21755 */display: inline-block !important;position: relative;}#sk-container-id-138 div.sk-text-repr-fallback {display: none;}</style><div id=\"sk-container-id-138\" class=\"sk-top-container\"><div class=\"sk-text-repr-fallback\"><pre>DecisionTreeClassifier(random_state=0)</pre><b>In a Jupyter environment, please rerun this cell to show the HTML representation or trust the notebook. <br />On GitHub, the HTML representation is unable to render, please try loading this page with nbviewer.org.</b></div><div class=\"sk-container\" hidden><div class=\"sk-item\"><div class=\"sk-estimator sk-toggleable\"><input class=\"sk-toggleable__control sk-hidden--visually\" id=\"sk-estimator-id-138\" type=\"checkbox\" checked><label for=\"sk-estimator-id-138\" class=\"sk-toggleable__label sk-toggleable__label-arrow\">DecisionTreeClassifier</label><div class=\"sk-toggleable__content\"><pre>DecisionTreeClassifier(random_state=0)</pre></div></div></div></div></div>"
      ],
      "text/plain": [
       "DecisionTreeClassifier(random_state=0)"
      ]
     },
     "execution_count": 959,
     "metadata": {},
     "output_type": "execute_result"
    }
   ],
   "source": [
    "DTC.fit(X1_train, y1_train)"
   ]
  },
  {
   "cell_type": "markdown",
   "id": "c2f55376",
   "metadata": {},
   "source": [
    "### 2. Make prediction with test dataset."
   ]
  },
  {
   "cell_type": "code",
   "execution_count": 960,
   "id": "f2148a34",
   "metadata": {
    "scrolled": false
   },
   "outputs": [
    {
     "data": {
      "text/plain": [
       "array([0, 0, 1, 1, 1, 1, 1, 0, 0, 0, 1, 0, 1, 0, 1, 1, 1, 0, 0, 0, 0, 0,\n",
       "       1, 1, 0, 1, 0, 1, 0, 1, 0, 0, 0, 0, 1, 0, 0, 1, 1, 1, 1, 1, 1, 0,\n",
       "       1, 0, 1, 1, 0, 0, 0, 0, 1, 0, 0, 0, 0, 1, 0, 0, 0], dtype=int64)"
      ]
     },
     "execution_count": 960,
     "metadata": {},
     "output_type": "execute_result"
    }
   ],
   "source": [
    "DTC_prediction1 = DTC.predict(X1_test)\n",
    "DTC_prediction1"
   ]
  },
  {
   "cell_type": "markdown",
   "id": "4652cb88",
   "metadata": {},
   "source": [
    "## Ratio (70:30)"
   ]
  },
  {
   "cell_type": "markdown",
   "id": "60789c94",
   "metadata": {},
   "source": [
    "### 1. Train the data with 70:30 ratio."
   ]
  },
  {
   "cell_type": "code",
   "execution_count": 961,
   "id": "bfcca204",
   "metadata": {
    "scrolled": true
   },
   "outputs": [
    {
     "data": {
      "text/html": [
       "<style>#sk-container-id-139 {color: black;background-color: white;}#sk-container-id-139 pre{padding: 0;}#sk-container-id-139 div.sk-toggleable {background-color: white;}#sk-container-id-139 label.sk-toggleable__label {cursor: pointer;display: block;width: 100%;margin-bottom: 0;padding: 0.3em;box-sizing: border-box;text-align: center;}#sk-container-id-139 label.sk-toggleable__label-arrow:before {content: \"▸\";float: left;margin-right: 0.25em;color: #696969;}#sk-container-id-139 label.sk-toggleable__label-arrow:hover:before {color: black;}#sk-container-id-139 div.sk-estimator:hover label.sk-toggleable__label-arrow:before {color: black;}#sk-container-id-139 div.sk-toggleable__content {max-height: 0;max-width: 0;overflow: hidden;text-align: left;background-color: #f0f8ff;}#sk-container-id-139 div.sk-toggleable__content pre {margin: 0.2em;color: black;border-radius: 0.25em;background-color: #f0f8ff;}#sk-container-id-139 input.sk-toggleable__control:checked~div.sk-toggleable__content {max-height: 200px;max-width: 100%;overflow: auto;}#sk-container-id-139 input.sk-toggleable__control:checked~label.sk-toggleable__label-arrow:before {content: \"▾\";}#sk-container-id-139 div.sk-estimator input.sk-toggleable__control:checked~label.sk-toggleable__label {background-color: #d4ebff;}#sk-container-id-139 div.sk-label input.sk-toggleable__control:checked~label.sk-toggleable__label {background-color: #d4ebff;}#sk-container-id-139 input.sk-hidden--visually {border: 0;clip: rect(1px 1px 1px 1px);clip: rect(1px, 1px, 1px, 1px);height: 1px;margin: -1px;overflow: hidden;padding: 0;position: absolute;width: 1px;}#sk-container-id-139 div.sk-estimator {font-family: monospace;background-color: #f0f8ff;border: 1px dotted black;border-radius: 0.25em;box-sizing: border-box;margin-bottom: 0.5em;}#sk-container-id-139 div.sk-estimator:hover {background-color: #d4ebff;}#sk-container-id-139 div.sk-parallel-item::after {content: \"\";width: 100%;border-bottom: 1px solid gray;flex-grow: 1;}#sk-container-id-139 div.sk-label:hover label.sk-toggleable__label {background-color: #d4ebff;}#sk-container-id-139 div.sk-serial::before {content: \"\";position: absolute;border-left: 1px solid gray;box-sizing: border-box;top: 0;bottom: 0;left: 50%;z-index: 0;}#sk-container-id-139 div.sk-serial {display: flex;flex-direction: column;align-items: center;background-color: white;padding-right: 0.2em;padding-left: 0.2em;position: relative;}#sk-container-id-139 div.sk-item {position: relative;z-index: 1;}#sk-container-id-139 div.sk-parallel {display: flex;align-items: stretch;justify-content: center;background-color: white;position: relative;}#sk-container-id-139 div.sk-item::before, #sk-container-id-139 div.sk-parallel-item::before {content: \"\";position: absolute;border-left: 1px solid gray;box-sizing: border-box;top: 0;bottom: 0;left: 50%;z-index: -1;}#sk-container-id-139 div.sk-parallel-item {display: flex;flex-direction: column;z-index: 1;position: relative;background-color: white;}#sk-container-id-139 div.sk-parallel-item:first-child::after {align-self: flex-end;width: 50%;}#sk-container-id-139 div.sk-parallel-item:last-child::after {align-self: flex-start;width: 50%;}#sk-container-id-139 div.sk-parallel-item:only-child::after {width: 0;}#sk-container-id-139 div.sk-dashed-wrapped {border: 1px dashed gray;margin: 0 0.4em 0.5em 0.4em;box-sizing: border-box;padding-bottom: 0.4em;background-color: white;}#sk-container-id-139 div.sk-label label {font-family: monospace;font-weight: bold;display: inline-block;line-height: 1.2em;}#sk-container-id-139 div.sk-label-container {text-align: center;}#sk-container-id-139 div.sk-container {/* jupyter's `normalize.less` sets `[hidden] { display: none; }` but bootstrap.min.css set `[hidden] { display: none !important; }` so we also need the `!important` here to be able to override the default hidden behavior on the sphinx rendered scikit-learn.org. See: https://github.com/scikit-learn/scikit-learn/issues/21755 */display: inline-block !important;position: relative;}#sk-container-id-139 div.sk-text-repr-fallback {display: none;}</style><div id=\"sk-container-id-139\" class=\"sk-top-container\"><div class=\"sk-text-repr-fallback\"><pre>DecisionTreeClassifier(random_state=0)</pre><b>In a Jupyter environment, please rerun this cell to show the HTML representation or trust the notebook. <br />On GitHub, the HTML representation is unable to render, please try loading this page with nbviewer.org.</b></div><div class=\"sk-container\" hidden><div class=\"sk-item\"><div class=\"sk-estimator sk-toggleable\"><input class=\"sk-toggleable__control sk-hidden--visually\" id=\"sk-estimator-id-139\" type=\"checkbox\" checked><label for=\"sk-estimator-id-139\" class=\"sk-toggleable__label sk-toggleable__label-arrow\">DecisionTreeClassifier</label><div class=\"sk-toggleable__content\"><pre>DecisionTreeClassifier(random_state=0)</pre></div></div></div></div></div>"
      ],
      "text/plain": [
       "DecisionTreeClassifier(random_state=0)"
      ]
     },
     "execution_count": 961,
     "metadata": {},
     "output_type": "execute_result"
    }
   ],
   "source": [
    "DTC.fit(X2_train, y2_train)"
   ]
  },
  {
   "cell_type": "markdown",
   "id": "d256acbb",
   "metadata": {},
   "source": [
    "### 2. Make prediction with test dataset."
   ]
  },
  {
   "cell_type": "code",
   "execution_count": 962,
   "id": "9230981f",
   "metadata": {
    "scrolled": true
   },
   "outputs": [
    {
     "data": {
      "text/plain": [
       "array([0, 0, 1, 1, 1, 1, 1, 0, 0, 0, 1, 0, 1, 0, 1, 1, 1, 0, 0, 0, 0, 0,\n",
       "       1, 1, 0, 1, 0, 1, 0, 1, 0, 0, 0, 1, 1, 0, 1, 0, 1, 1, 1, 1, 1, 1,\n",
       "       1, 0, 0, 1, 0, 0, 0, 0, 1, 1, 0, 0, 0, 1, 0, 1, 0, 1, 0, 0, 1, 1,\n",
       "       1, 1, 1, 0, 1, 1, 1, 1, 0, 1, 1, 0, 0, 1, 0, 0, 1, 0, 0, 0, 0, 1,\n",
       "       0, 0, 1], dtype=int64)"
      ]
     },
     "execution_count": 962,
     "metadata": {},
     "output_type": "execute_result"
    }
   ],
   "source": [
    "DTC_prediction2 = DTC.predict(X2_test)\n",
    "DTC_prediction2"
   ]
  },
  {
   "cell_type": "markdown",
   "id": "40f39f07",
   "metadata": {},
   "source": [
    "## Ratio (60:40)"
   ]
  },
  {
   "cell_type": "markdown",
   "id": "d2481108",
   "metadata": {},
   "source": [
    "### 1. Train the data with 60:40 ratio."
   ]
  },
  {
   "cell_type": "code",
   "execution_count": 963,
   "id": "c7d01033",
   "metadata": {
    "scrolled": true
   },
   "outputs": [
    {
     "data": {
      "text/html": [
       "<style>#sk-container-id-140 {color: black;background-color: white;}#sk-container-id-140 pre{padding: 0;}#sk-container-id-140 div.sk-toggleable {background-color: white;}#sk-container-id-140 label.sk-toggleable__label {cursor: pointer;display: block;width: 100%;margin-bottom: 0;padding: 0.3em;box-sizing: border-box;text-align: center;}#sk-container-id-140 label.sk-toggleable__label-arrow:before {content: \"▸\";float: left;margin-right: 0.25em;color: #696969;}#sk-container-id-140 label.sk-toggleable__label-arrow:hover:before {color: black;}#sk-container-id-140 div.sk-estimator:hover label.sk-toggleable__label-arrow:before {color: black;}#sk-container-id-140 div.sk-toggleable__content {max-height: 0;max-width: 0;overflow: hidden;text-align: left;background-color: #f0f8ff;}#sk-container-id-140 div.sk-toggleable__content pre {margin: 0.2em;color: black;border-radius: 0.25em;background-color: #f0f8ff;}#sk-container-id-140 input.sk-toggleable__control:checked~div.sk-toggleable__content {max-height: 200px;max-width: 100%;overflow: auto;}#sk-container-id-140 input.sk-toggleable__control:checked~label.sk-toggleable__label-arrow:before {content: \"▾\";}#sk-container-id-140 div.sk-estimator input.sk-toggleable__control:checked~label.sk-toggleable__label {background-color: #d4ebff;}#sk-container-id-140 div.sk-label input.sk-toggleable__control:checked~label.sk-toggleable__label {background-color: #d4ebff;}#sk-container-id-140 input.sk-hidden--visually {border: 0;clip: rect(1px 1px 1px 1px);clip: rect(1px, 1px, 1px, 1px);height: 1px;margin: -1px;overflow: hidden;padding: 0;position: absolute;width: 1px;}#sk-container-id-140 div.sk-estimator {font-family: monospace;background-color: #f0f8ff;border: 1px dotted black;border-radius: 0.25em;box-sizing: border-box;margin-bottom: 0.5em;}#sk-container-id-140 div.sk-estimator:hover {background-color: #d4ebff;}#sk-container-id-140 div.sk-parallel-item::after {content: \"\";width: 100%;border-bottom: 1px solid gray;flex-grow: 1;}#sk-container-id-140 div.sk-label:hover label.sk-toggleable__label {background-color: #d4ebff;}#sk-container-id-140 div.sk-serial::before {content: \"\";position: absolute;border-left: 1px solid gray;box-sizing: border-box;top: 0;bottom: 0;left: 50%;z-index: 0;}#sk-container-id-140 div.sk-serial {display: flex;flex-direction: column;align-items: center;background-color: white;padding-right: 0.2em;padding-left: 0.2em;position: relative;}#sk-container-id-140 div.sk-item {position: relative;z-index: 1;}#sk-container-id-140 div.sk-parallel {display: flex;align-items: stretch;justify-content: center;background-color: white;position: relative;}#sk-container-id-140 div.sk-item::before, #sk-container-id-140 div.sk-parallel-item::before {content: \"\";position: absolute;border-left: 1px solid gray;box-sizing: border-box;top: 0;bottom: 0;left: 50%;z-index: -1;}#sk-container-id-140 div.sk-parallel-item {display: flex;flex-direction: column;z-index: 1;position: relative;background-color: white;}#sk-container-id-140 div.sk-parallel-item:first-child::after {align-self: flex-end;width: 50%;}#sk-container-id-140 div.sk-parallel-item:last-child::after {align-self: flex-start;width: 50%;}#sk-container-id-140 div.sk-parallel-item:only-child::after {width: 0;}#sk-container-id-140 div.sk-dashed-wrapped {border: 1px dashed gray;margin: 0 0.4em 0.5em 0.4em;box-sizing: border-box;padding-bottom: 0.4em;background-color: white;}#sk-container-id-140 div.sk-label label {font-family: monospace;font-weight: bold;display: inline-block;line-height: 1.2em;}#sk-container-id-140 div.sk-label-container {text-align: center;}#sk-container-id-140 div.sk-container {/* jupyter's `normalize.less` sets `[hidden] { display: none; }` but bootstrap.min.css set `[hidden] { display: none !important; }` so we also need the `!important` here to be able to override the default hidden behavior on the sphinx rendered scikit-learn.org. See: https://github.com/scikit-learn/scikit-learn/issues/21755 */display: inline-block !important;position: relative;}#sk-container-id-140 div.sk-text-repr-fallback {display: none;}</style><div id=\"sk-container-id-140\" class=\"sk-top-container\"><div class=\"sk-text-repr-fallback\"><pre>DecisionTreeClassifier(random_state=0)</pre><b>In a Jupyter environment, please rerun this cell to show the HTML representation or trust the notebook. <br />On GitHub, the HTML representation is unable to render, please try loading this page with nbviewer.org.</b></div><div class=\"sk-container\" hidden><div class=\"sk-item\"><div class=\"sk-estimator sk-toggleable\"><input class=\"sk-toggleable__control sk-hidden--visually\" id=\"sk-estimator-id-140\" type=\"checkbox\" checked><label for=\"sk-estimator-id-140\" class=\"sk-toggleable__label sk-toggleable__label-arrow\">DecisionTreeClassifier</label><div class=\"sk-toggleable__content\"><pre>DecisionTreeClassifier(random_state=0)</pre></div></div></div></div></div>"
      ],
      "text/plain": [
       "DecisionTreeClassifier(random_state=0)"
      ]
     },
     "execution_count": 963,
     "metadata": {},
     "output_type": "execute_result"
    }
   ],
   "source": [
    "DTC.fit(X3_train, y3_train)"
   ]
  },
  {
   "cell_type": "markdown",
   "id": "aaecf5a0",
   "metadata": {},
   "source": [
    "### 2. Make prediction with test dataset."
   ]
  },
  {
   "cell_type": "code",
   "execution_count": 964,
   "id": "0b02ee94",
   "metadata": {
    "scrolled": false
   },
   "outputs": [
    {
     "data": {
      "text/plain": [
       "array([0, 1, 1, 1, 1, 1, 1, 0, 0, 0, 1, 0, 1, 0, 1, 1, 1, 0, 0, 0, 0, 0,\n",
       "       1, 0, 0, 1, 0, 1, 0, 1, 0, 0, 0, 1, 1, 0, 1, 1, 1, 1, 1, 1, 1, 1,\n",
       "       0, 0, 0, 1, 0, 0, 0, 0, 1, 1, 0, 0, 0, 1, 0, 1, 0, 1, 0, 0, 1, 1,\n",
       "       1, 1, 1, 0, 1, 1, 1, 1, 0, 1, 1, 0, 0, 1, 0, 0, 1, 1, 1, 0, 0, 0,\n",
       "       0, 0, 1, 1, 1, 1, 1, 1, 1, 0, 1, 1, 1, 1, 1, 0, 0, 1, 1, 1, 0, 0,\n",
       "       1, 0, 0, 1, 0, 0, 0, 1, 1, 1, 0], dtype=int64)"
      ]
     },
     "execution_count": 964,
     "metadata": {},
     "output_type": "execute_result"
    }
   ],
   "source": [
    "DTC_prediction3 = DTC.predict(X3_test)\n",
    "DTC_prediction3"
   ]
  },
  {
   "cell_type": "markdown",
   "id": "81e197fc",
   "metadata": {},
   "source": [
    "# Step 6 - Overfitting Test"
   ]
  },
  {
   "cell_type": "markdown",
   "id": "ae9a12c9",
   "metadata": {},
   "source": [
    "### 1. Import library."
   ]
  },
  {
   "cell_type": "code",
   "execution_count": 965,
   "id": "a7a6dd23",
   "metadata": {},
   "outputs": [],
   "source": [
    "from sklearn.metrics import mean_squared_error"
   ]
  },
  {
   "cell_type": "markdown",
   "id": "a2c51f1d",
   "metadata": {},
   "source": [
    "## Ratio (80:20)"
   ]
  },
  {
   "cell_type": "markdown",
   "id": "65097b1f",
   "metadata": {},
   "source": [
    "### 1. Make prediction with train dataset."
   ]
  },
  {
   "cell_type": "code",
   "execution_count": 966,
   "id": "b6d524cd",
   "metadata": {},
   "outputs": [
    {
     "data": {
      "text/plain": [
       "array([1, 0, 0, 1, 1, 1, 1, 1, 0, 1, 1, 1, 1, 0, 1, 1, 0, 0, 1, 0, 0, 1,\n",
       "       1, 1, 0, 0, 0, 0, 0, 1, 1, 1, 1, 1, 1, 1, 0, 1, 1, 1, 1, 1, 0, 0,\n",
       "       1, 1, 1, 0, 0, 1, 0, 0, 1, 0, 0, 0, 1, 1, 1, 0, 0, 0, 0, 0, 0, 1,\n",
       "       0, 0, 0, 1, 1, 0, 0, 1, 1, 0, 1, 0, 0, 0, 0, 0, 1, 1, 1, 0, 1, 0,\n",
       "       0, 1, 1, 1, 1, 0, 1, 1, 0, 1, 0, 0, 1, 0, 1, 0, 1, 1, 1, 1, 1, 0,\n",
       "       1, 0, 1, 1, 0, 0, 1, 1, 0, 1, 1, 0, 1, 0, 1, 0, 0, 1, 0, 1, 0, 1,\n",
       "       1, 1, 1, 0, 0, 0, 1, 0, 0, 0, 1, 0, 1, 1, 1, 0, 1, 0, 0, 1, 1, 1,\n",
       "       1, 0, 1, 1, 0, 1, 1, 0, 1, 1, 1, 0, 0, 1, 1, 0, 1, 1, 0, 0, 1, 0,\n",
       "       0, 0, 0, 1, 1, 1, 0, 0, 0, 0, 1, 1, 0, 1, 0, 0, 0, 1, 1, 1, 1, 1,\n",
       "       1, 0, 1, 1, 1, 0, 1, 1, 0, 0, 1, 0, 0, 1, 1, 0, 0, 0, 0, 0, 1, 1,\n",
       "       0, 0, 1, 1, 0, 0, 0, 1, 1, 1, 1, 1, 0, 1, 0, 1, 0, 1, 1, 0, 1],\n",
       "      dtype=int64)"
      ]
     },
     "execution_count": 966,
     "metadata": {},
     "output_type": "execute_result"
    }
   ],
   "source": [
    "DTC_prediction_overfit1 = DTC.predict(X1_train)\n",
    "DTC_prediction_overfit1"
   ]
  },
  {
   "cell_type": "markdown",
   "id": "5bd6e01a",
   "metadata": {},
   "source": [
    "### 2. Evaluate performance on the train dataset."
   ]
  },
  {
   "cell_type": "code",
   "execution_count": 967,
   "id": "6abc59c7",
   "metadata": {},
   "outputs": [
    {
     "name": "stdout",
     "output_type": "stream",
     "text": [
      "Training Mean Squared Error:  0.04564315352697095\n"
     ]
    }
   ],
   "source": [
    "train_mse1 = mean_squared_error(y1_train, DTC_prediction_overfit1)\n",
    "print(\"Training Mean Squared Error: \", train_mse1)"
   ]
  },
  {
   "cell_type": "markdown",
   "id": "cb70a875",
   "metadata": {},
   "source": [
    "### 3. Evaluate performance on the test dataset."
   ]
  },
  {
   "cell_type": "code",
   "execution_count": 968,
   "id": "11b4a62e",
   "metadata": {},
   "outputs": [
    {
     "name": "stdout",
     "output_type": "stream",
     "text": [
      "Test Mean Squared Error:  0.21311475409836064\n"
     ]
    }
   ],
   "source": [
    "test_mse1 = mean_squared_error(y1_test, DTC_prediction1)\n",
    "print(\"Test Mean Squared Error: \", test_mse1)"
   ]
  },
  {
   "cell_type": "markdown",
   "id": "6a1bd134",
   "metadata": {},
   "source": [
    "### 4. Analyze the results."
   ]
  },
  {
   "cell_type": "code",
   "execution_count": 969,
   "id": "e7d2a022",
   "metadata": {
    "scrolled": false
   },
   "outputs": [
    {
     "name": "stdout",
     "output_type": "stream",
     "text": [
      "1st Train Dataset - Overfitting Test\n",
      "====================================\n",
      "The model is not overfitting.\n"
     ]
    }
   ],
   "source": [
    "print(\"1st Train Dataset - Overfitting Test\")\n",
    "print(\"=\" * 36)\n",
    "if train_mse1 < test_mse1:\n",
    "    print(\"The model is not overfitting.\")\n",
    "else:\n",
    "    print(\"The model may be overfitting.\")"
   ]
  },
  {
   "cell_type": "markdown",
   "id": "af552319",
   "metadata": {},
   "source": [
    "## Ratio (70:30)"
   ]
  },
  {
   "cell_type": "markdown",
   "id": "aa94bff5",
   "metadata": {},
   "source": [
    "### 1. Make prediction with train dataset."
   ]
  },
  {
   "cell_type": "code",
   "execution_count": 970,
   "id": "2d5ef50f",
   "metadata": {},
   "outputs": [
    {
     "data": {
      "text/plain": [
       "array([1, 1, 1, 1, 1, 1, 0, 1, 1, 1, 1, 1, 0, 0, 1, 1, 1, 0, 0, 1, 0, 0,\n",
       "       1, 0, 0, 0, 1, 1, 1, 0, 0, 0, 0, 0, 0, 1, 0, 0, 0, 1, 1, 0, 0, 1,\n",
       "       1, 0, 1, 0, 0, 0, 0, 0, 1, 1, 1, 0, 1, 0, 0, 1, 1, 1, 1, 0, 1, 1,\n",
       "       0, 1, 0, 0, 1, 0, 1, 0, 1, 1, 1, 1, 1, 0, 1, 0, 1, 1, 0, 0, 1, 1,\n",
       "       0, 1, 1, 0, 1, 0, 1, 0, 0, 1, 0, 1, 0, 1, 1, 1, 1, 0, 0, 0, 1, 0,\n",
       "       0, 0, 1, 0, 1, 1, 1, 0, 1, 0, 0, 1, 1, 1, 1, 0, 1, 1, 0, 1, 1, 0,\n",
       "       1, 1, 1, 0, 0, 1, 1, 0, 1, 1, 0, 0, 1, 0, 0, 0, 0, 1, 1, 1, 0, 0,\n",
       "       0, 0, 1, 1, 0, 1, 0, 0, 0, 1, 1, 1, 1, 1, 1, 0, 1, 1, 1, 0, 1, 1,\n",
       "       0, 0, 1, 0, 0, 1, 1, 0, 0, 0, 0, 0, 1, 1, 0, 0, 1, 1, 0, 0, 0, 1,\n",
       "       1, 1, 1, 1, 0, 1, 0, 1, 0, 1, 1, 0, 1], dtype=int64)"
      ]
     },
     "execution_count": 970,
     "metadata": {},
     "output_type": "execute_result"
    }
   ],
   "source": [
    "DTC_prediction_overfit2 = DTC.predict(X2_train)\n",
    "DTC_prediction_overfit2"
   ]
  },
  {
   "cell_type": "markdown",
   "id": "19b954c3",
   "metadata": {},
   "source": [
    "### 2. Evaluate performance on the train dataset."
   ]
  },
  {
   "cell_type": "code",
   "execution_count": 971,
   "id": "d0699283",
   "metadata": {},
   "outputs": [
    {
     "name": "stdout",
     "output_type": "stream",
     "text": [
      "Training Mean Squared Error:  0.023696682464454975\n"
     ]
    }
   ],
   "source": [
    "train_mse2 = mean_squared_error(y2_train, DTC_prediction_overfit2)\n",
    "print(\"Training Mean Squared Error: \", train_mse2)"
   ]
  },
  {
   "cell_type": "markdown",
   "id": "0d24df74",
   "metadata": {},
   "source": [
    "### 3. Evaluate performance on the test dataset."
   ]
  },
  {
   "cell_type": "code",
   "execution_count": 972,
   "id": "ac5cb91f",
   "metadata": {},
   "outputs": [
    {
     "name": "stdout",
     "output_type": "stream",
     "text": [
      "Test Mean Squared Error:  0.18681318681318682\n"
     ]
    }
   ],
   "source": [
    "test_mse2 = mean_squared_error(y2_test, DTC_prediction2)\n",
    "print(\"Test Mean Squared Error: \", test_mse2)"
   ]
  },
  {
   "cell_type": "markdown",
   "id": "e2cba325",
   "metadata": {},
   "source": [
    "### 4. Analyze the results."
   ]
  },
  {
   "cell_type": "code",
   "execution_count": 973,
   "id": "55811267",
   "metadata": {
    "scrolled": false
   },
   "outputs": [
    {
     "name": "stdout",
     "output_type": "stream",
     "text": [
      "2nd Train Dataset - Overfitting Test\n",
      "====================================\n",
      "The model is not overfitting.\n"
     ]
    }
   ],
   "source": [
    "print(\"2nd Train Dataset - Overfitting Test\")\n",
    "print(\"=\" * 36)\n",
    "if train_mse2 < test_mse2:\n",
    "    print(\"The model is not overfitting.\")\n",
    "else:\n",
    "    print(\"The model may be overfitting.\")"
   ]
  },
  {
   "cell_type": "markdown",
   "id": "a05b68e8",
   "metadata": {},
   "source": [
    "## Ratio (60:40)"
   ]
  },
  {
   "cell_type": "markdown",
   "id": "9de1b5f3",
   "metadata": {},
   "source": [
    "### 1. Make prediction with train dataset."
   ]
  },
  {
   "cell_type": "code",
   "execution_count": 974,
   "id": "1771533f",
   "metadata": {},
   "outputs": [
    {
     "data": {
      "text/plain": [
       "array([0, 0, 0, 0, 0, 1, 0, 0, 0, 1, 1, 0, 0, 1, 1, 0, 1, 0, 0, 0, 0, 0,\n",
       "       1, 1, 1, 0, 1, 0, 0, 1, 1, 1, 1, 0, 1, 1, 0, 1, 0, 0, 1, 0, 1, 0,\n",
       "       1, 1, 1, 1, 1, 0, 1, 0, 1, 1, 0, 0, 1, 1, 0, 1, 1, 0, 1, 0, 1, 0,\n",
       "       0, 1, 0, 1, 0, 1, 1, 1, 1, 0, 0, 0, 1, 0, 0, 0, 1, 0, 1, 1, 1, 0,\n",
       "       1, 0, 0, 1, 1, 1, 1, 0, 1, 1, 0, 1, 1, 0, 1, 1, 1, 0, 0, 1, 1, 0,\n",
       "       1, 1, 0, 0, 1, 0, 0, 0, 0, 1, 1, 1, 0, 0, 0, 0, 1, 1, 0, 1, 0, 0,\n",
       "       0, 1, 1, 1, 1, 1, 1, 0, 1, 1, 1, 0, 1, 1, 0, 0, 1, 0, 0, 1, 1, 0,\n",
       "       0, 0, 0, 0, 1, 1, 0, 0, 1, 1, 0, 0, 0, 1, 1, 1, 1, 1, 0, 1, 0, 1,\n",
       "       0, 1, 1, 0, 1], dtype=int64)"
      ]
     },
     "execution_count": 974,
     "metadata": {},
     "output_type": "execute_result"
    }
   ],
   "source": [
    "DTC_prediction_overfit3 = DTC.predict(X3_train)\n",
    "DTC_prediction_overfit3"
   ]
  },
  {
   "cell_type": "markdown",
   "id": "3dab9976",
   "metadata": {},
   "source": [
    "### 2. Evaluate performance on the train dataset."
   ]
  },
  {
   "cell_type": "code",
   "execution_count": 975,
   "id": "ab77c571",
   "metadata": {},
   "outputs": [
    {
     "name": "stdout",
     "output_type": "stream",
     "text": [
      "Training Mean Squared Error:  0.0\n"
     ]
    }
   ],
   "source": [
    "train_mse3 = mean_squared_error(y3_train, DTC_prediction_overfit3)\n",
    "print(\"Training Mean Squared Error: \", train_mse3)"
   ]
  },
  {
   "cell_type": "markdown",
   "id": "ae896c25",
   "metadata": {},
   "source": [
    "### 3. Evaluate performance on the test dataset."
   ]
  },
  {
   "cell_type": "code",
   "execution_count": 976,
   "id": "ad111259",
   "metadata": {},
   "outputs": [
    {
     "name": "stdout",
     "output_type": "stream",
     "text": [
      "Test Mean Squared Error:  0.19008264462809918\n"
     ]
    }
   ],
   "source": [
    "test_mse3 = mean_squared_error(y3_test, DTC_prediction3)\n",
    "print(\"Test Mean Squared Error: \", test_mse3)"
   ]
  },
  {
   "cell_type": "markdown",
   "id": "12f730c4",
   "metadata": {},
   "source": [
    "### 4. Analyze the results."
   ]
  },
  {
   "cell_type": "code",
   "execution_count": 977,
   "id": "1bfb9b29",
   "metadata": {
    "scrolled": false
   },
   "outputs": [
    {
     "name": "stdout",
     "output_type": "stream",
     "text": [
      "3rd Train Dataset - Overfitting Test\n",
      "====================================\n",
      "The model is not overfitting.\n"
     ]
    }
   ],
   "source": [
    "print(\"3rd Train Dataset - Overfitting Test\")\n",
    "print(\"=\" * 36)\n",
    "if train_mse3 < test_mse3:\n",
    "    print(\"The model is not overfitting.\")\n",
    "else:\n",
    "    print(\"The model may be overfitting.\")"
   ]
  },
  {
   "cell_type": "markdown",
   "id": "60ca25a5",
   "metadata": {},
   "source": [
    "## Conclusion"
   ]
  },
  {
   "cell_type": "markdown",
   "id": "1fbe2672",
   "metadata": {},
   "source": [
    "After completing overfitting test by using three different ratio of dataset, and also compare between train dataset with test dataset, we found that **the model (DTC) is not overfitting** with all the ratios."
   ]
  },
  {
   "cell_type": "markdown",
   "id": "db3e9db4",
   "metadata": {},
   "source": [
    "# Step 7 - Model Evaluation (Without Feature Selection and Parameter Tuning)"
   ]
  },
  {
   "cell_type": "markdown",
   "id": "ea8e1369",
   "metadata": {},
   "source": [
    "### 1. Import libraries."
   ]
  },
  {
   "cell_type": "code",
   "execution_count": 978,
   "id": "dc4e20eb",
   "metadata": {},
   "outputs": [],
   "source": [
    "from sklearn.metrics import accuracy_score, precision_score, recall_score, f1_score, confusion_matrix"
   ]
  },
  {
   "cell_type": "markdown",
   "id": "8f71d0ea",
   "metadata": {},
   "source": [
    "## Ratio (80:20)"
   ]
  },
  {
   "cell_type": "markdown",
   "id": "3789dac2",
   "metadata": {},
   "source": [
    "### 1. Show the evaluation result of 1st train dataset (80:20)."
   ]
  },
  {
   "cell_type": "code",
   "execution_count": 979,
   "id": "ba811778",
   "metadata": {
    "scrolled": false
   },
   "outputs": [
    {
     "name": "stdout",
     "output_type": "stream",
     "text": [
      "1st Train Dataset (80:20) - Decision Tree Results\n",
      "=================================================\n",
      "Accuracy:  0.786885\n",
      "Precision:  0.851852\n",
      "Recall:  0.71875\n",
      "F1 Score:  0.779661\n",
      "Confusion matrix: \n",
      "[[25  4]\n",
      " [ 9 23]]\n"
     ]
    }
   ],
   "source": [
    "print(\"1st Train Dataset (80:20) - Decision Tree Results\")\n",
    "print(\"=\" * 49)\n",
    "print(\"Accuracy: \", round(accuracy_score(y1_test, DTC_prediction1), 6))\n",
    "print(\"Precision: \", round(precision_score(y1_test, DTC_prediction1), 6))\n",
    "print(\"Recall: \", round(recall_score(y1_test, DTC_prediction1), 6))\n",
    "print(\"F1 Score: \", round(f1_score(y1_test, DTC_prediction1), 6))\n",
    "DTC_cfMatrix1 = confusion_matrix(y1_test, DTC_prediction1)\n",
    "print(\"Confusion matrix: \")\n",
    "print(DTC_cfMatrix1)"
   ]
  },
  {
   "cell_type": "markdown",
   "id": "7dfe84ff",
   "metadata": {},
   "source": [
    "## Ratio (70:30)"
   ]
  },
  {
   "cell_type": "markdown",
   "id": "5b1cbfc5",
   "metadata": {},
   "source": [
    "### 1. Show the evaluation result of 2nd train dataset (70:30)."
   ]
  },
  {
   "cell_type": "code",
   "execution_count": 980,
   "id": "e408faf9",
   "metadata": {
    "scrolled": true
   },
   "outputs": [
    {
     "name": "stdout",
     "output_type": "stream",
     "text": [
      "2nd Train Dataset (70:30) - Decision Tree Results\n",
      "=================================================\n",
      "Accuracy:  0.813187\n",
      "Precision:  0.847826\n",
      "Recall:  0.795918\n",
      "F1 Score:  0.821053\n",
      "Confusion matrix: \n",
      "[[35  7]\n",
      " [10 39]]\n"
     ]
    }
   ],
   "source": [
    "print(\"2nd Train Dataset (70:30) - Decision Tree Results\")\n",
    "print(\"=\" * 49)\n",
    "print(\"Accuracy: \", round(accuracy_score(y2_test, DTC_prediction2), 6))\n",
    "print(\"Precision: \", round(precision_score(y2_test, DTC_prediction2), 6))\n",
    "print(\"Recall: \", round(recall_score(y2_test, DTC_prediction2), 6))\n",
    "print(\"F1 Score: \", round(f1_score(y2_test, DTC_prediction2), 6))\n",
    "DTC_cfMatrix2 = confusion_matrix(y2_test, DTC_prediction2)\n",
    "print(\"Confusion matrix: \")\n",
    "print(DTC_cfMatrix2)"
   ]
  },
  {
   "cell_type": "markdown",
   "id": "fec8f9f2",
   "metadata": {},
   "source": [
    "## Ratio (60:40)"
   ]
  },
  {
   "cell_type": "markdown",
   "id": "615a6543",
   "metadata": {},
   "source": [
    "### 1. Show the evaluation result of 3rd train dataset (60:40)."
   ]
  },
  {
   "cell_type": "code",
   "execution_count": 981,
   "id": "745f049c",
   "metadata": {},
   "outputs": [
    {
     "name": "stdout",
     "output_type": "stream",
     "text": [
      "3rd Train Dataset (60:40) - Decision Tree Results\n",
      "=================================================\n",
      "Accuracy:  0.809917\n",
      "Precision:  0.848485\n",
      "Recall:  0.811594\n",
      "F1 Score:  0.82963\n",
      "Confusion matrix: \n",
      "[[42 10]\n",
      " [13 56]]\n"
     ]
    }
   ],
   "source": [
    "print(\"3rd Train Dataset (60:40) - Decision Tree Results\")\n",
    "print(\"=\" * 49)\n",
    "print(\"Accuracy: \", round(accuracy_score(y3_test, DTC_prediction3), 6))\n",
    "print(\"Precision: \", round(precision_score(y3_test, DTC_prediction3), 6))\n",
    "print(\"Recall: \", round(recall_score(y3_test, DTC_prediction3), 6))\n",
    "print(\"F1 Score: \", round(f1_score(y3_test, DTC_prediction3), 6))\n",
    "DTC_cfMatrix3 = confusion_matrix(y3_test, DTC_prediction3)\n",
    "print(\"Confusion matrix: \")\n",
    "print(DTC_cfMatrix3)"
   ]
  },
  {
   "cell_type": "markdown",
   "id": "174c8bd6",
   "metadata": {},
   "source": [
    "## Choose the most suitable ratio.\n",
    "After completing the evaluation process, we decide to choose **80:20 ratio** to test different cases."
   ]
  },
  {
   "cell_type": "code",
   "execution_count": 1035,
   "id": "4c0fc2d6",
   "metadata": {},
   "outputs": [],
   "source": [
    "X_train = X1_train\n",
    "X_test = X1_test\n",
    "y_train = y1_train\n",
    "y_test = y1_test"
   ]
  },
  {
   "cell_type": "markdown",
   "id": "c0155d88",
   "metadata": {},
   "source": [
    "# Step 8 - Feature Selection"
   ]
  },
  {
   "cell_type": "markdown",
   "id": "4850a143",
   "metadata": {},
   "source": [
    "## Method A: Correlation Matrix with Heatmap"
   ]
  },
  {
   "cell_type": "markdown",
   "id": "64ade2d9",
   "metadata": {},
   "source": [
    "### 1. Import libraries."
   ]
  },
  {
   "cell_type": "code",
   "execution_count": 983,
   "id": "eeaa7bbb",
   "metadata": {},
   "outputs": [],
   "source": [
    "import matplotlib.pyplot as plt\n",
    "import seaborn as sns"
   ]
  },
  {
   "cell_type": "markdown",
   "id": "e10ab309",
   "metadata": {},
   "source": [
    "### 2. The configuration of the correlation matrix with heatmap."
   ]
  },
  {
   "cell_type": "code",
   "execution_count": 984,
   "id": "315fcdf6",
   "metadata": {},
   "outputs": [],
   "source": [
    "corrmat = heartDisease.corr()\n",
    "top_corr_features = corrmat.index"
   ]
  },
  {
   "cell_type": "markdown",
   "id": "83046451",
   "metadata": {},
   "source": [
    "### 3. Show the heatmap."
   ]
  },
  {
   "cell_type": "code",
   "execution_count": 985,
   "id": "82770f3b",
   "metadata": {},
   "outputs": [
    {
     "data": {
      "image/png": "[encoded data removed]",
      "text/plain": [
       "<Figure size 1600x900 with 2 Axes>"
      ]
     },
     "metadata": {},
     "output_type": "display_data"
    }
   ],
   "source": [
    "plt.figure(figsize = (16, 9))\n",
    "g = sns.heatmap(heartDisease[top_corr_features].corr(), annot = True, cmap = \"RdYlGn\")\n",
    "plt.show()"
   ]
  },
  {
   "cell_type": "markdown",
   "id": "05caac5d",
   "metadata": {},
   "source": [
    "## Method B: Univariate Selection"
   ]
  },
  {
   "cell_type": "markdown",
   "id": "a5558ef0",
   "metadata": {},
   "source": [
    "### 1. Import libraries."
   ]
  },
  {
   "cell_type": "code",
   "execution_count": 986,
   "id": "53163567",
   "metadata": {},
   "outputs": [],
   "source": [
    "from sklearn.feature_selection import SelectKBest\n",
    "from sklearn.feature_selection import chi2"
   ]
  },
  {
   "cell_type": "markdown",
   "id": "3b4aabfc",
   "metadata": {},
   "source": [
    "### 2. Apply SelectKBest class to extract top 13 best features."
   ]
  },
  {
   "cell_type": "code",
   "execution_count": 987,
   "id": "4b904f52",
   "metadata": {},
   "outputs": [],
   "source": [
    "bestfeatures = SelectKBest(score_func = chi2, k = 13)\n",
    "fit = bestfeatures.fit(feature, target)\n",
    "dfscores = pd.DataFrame(fit.scores_)\n",
    "dfcolumns = pd.DataFrame(feature.columns)"
   ]
  },
  {
   "cell_type": "code",
   "execution_count": 988,
   "id": "7b9ed60a",
   "metadata": {},
   "outputs": [
    {
     "name": "stdout",
     "output_type": "stream",
     "text": [
      "Show dfscores: \n"
     ]
    },
    {
     "data": {
      "text/html": [
       "<div>\n",
       "<style scoped>\n",
       "    .dataframe tbody tr th:only-of-type {\n",
       "        vertical-align: middle;\n",
       "    }\n",
       "\n",
       "    .dataframe tbody tr th {\n",
       "        vertical-align: top;\n",
       "    }\n",
       "\n",
       "    .dataframe thead th {\n",
       "        text-align: right;\n",
       "    }\n",
       "</style>\n",
       "<table border=\"1\" class=\"dataframe\">\n",
       "  <thead>\n",
       "    <tr style=\"text-align: right;\">\n",
       "      <th></th>\n",
       "      <th>0</th>\n",
       "    </tr>\n",
       "  </thead>\n",
       "  <tbody>\n",
       "    <tr>\n",
       "      <th>0</th>\n",
       "      <td>22.210517</td>\n",
       "    </tr>\n",
       "    <tr>\n",
       "      <th>1</th>\n",
       "      <td>7.721690</td>\n",
       "    </tr>\n",
       "    <tr>\n",
       "      <th>2</th>\n",
       "      <td>62.116086</td>\n",
       "    </tr>\n",
       "    <tr>\n",
       "      <th>3</th>\n",
       "      <td>15.094591</td>\n",
       "    </tr>\n",
       "    <tr>\n",
       "      <th>4</th>\n",
       "      <td>21.690747</td>\n",
       "    </tr>\n",
       "    <tr>\n",
       "      <th>5</th>\n",
       "      <td>0.184946</td>\n",
       "    </tr>\n",
       "    <tr>\n",
       "      <th>6</th>\n",
       "      <td>2.877743</td>\n",
       "    </tr>\n",
       "    <tr>\n",
       "      <th>7</th>\n",
       "      <td>186.180286</td>\n",
       "    </tr>\n",
       "    <tr>\n",
       "      <th>8</th>\n",
       "      <td>38.518849</td>\n",
       "    </tr>\n",
       "    <tr>\n",
       "      <th>9</th>\n",
       "      <td>71.692782</td>\n",
       "    </tr>\n",
       "    <tr>\n",
       "      <th>10</th>\n",
       "      <td>9.677715</td>\n",
       "    </tr>\n",
       "    <tr>\n",
       "      <th>11</th>\n",
       "      <td>71.020719</td>\n",
       "    </tr>\n",
       "    <tr>\n",
       "      <th>12</th>\n",
       "      <td>5.753030</td>\n",
       "    </tr>\n",
       "  </tbody>\n",
       "</table>\n",
       "</div>"
      ],
      "text/plain": [
       "             0\n",
       "0    22.210517\n",
       "1     7.721690\n",
       "2    62.116086\n",
       "3    15.094591\n",
       "4    21.690747\n",
       "5     0.184946\n",
       "6     2.877743\n",
       "7   186.180286\n",
       "8    38.518849\n",
       "9    71.692782\n",
       "10    9.677715\n",
       "11   71.020719\n",
       "12    5.753030"
      ]
     },
     "execution_count": 988,
     "metadata": {},
     "output_type": "execute_result"
    }
   ],
   "source": [
    "print(\"Show dfscores: \")\n",
    "dfscores"
   ]
  },
  {
   "cell_type": "code",
   "execution_count": 989,
   "id": "33f7f84a",
   "metadata": {},
   "outputs": [
    {
     "name": "stdout",
     "output_type": "stream",
     "text": [
      "Show dfcolumns: \n"
     ]
    },
    {
     "data": {
      "text/html": [
       "<div>\n",
       "<style scoped>\n",
       "    .dataframe tbody tr th:only-of-type {\n",
       "        vertical-align: middle;\n",
       "    }\n",
       "\n",
       "    .dataframe tbody tr th {\n",
       "        vertical-align: top;\n",
       "    }\n",
       "\n",
       "    .dataframe thead th {\n",
       "        text-align: right;\n",
       "    }\n",
       "</style>\n",
       "<table border=\"1\" class=\"dataframe\">\n",
       "  <thead>\n",
       "    <tr style=\"text-align: right;\">\n",
       "      <th></th>\n",
       "      <th>0</th>\n",
       "    </tr>\n",
       "  </thead>\n",
       "  <tbody>\n",
       "    <tr>\n",
       "      <th>0</th>\n",
       "      <td>age</td>\n",
       "    </tr>\n",
       "    <tr>\n",
       "      <th>1</th>\n",
       "      <td>sex</td>\n",
       "    </tr>\n",
       "    <tr>\n",
       "      <th>2</th>\n",
       "      <td>cp</td>\n",
       "    </tr>\n",
       "    <tr>\n",
       "      <th>3</th>\n",
       "      <td>trestbps</td>\n",
       "    </tr>\n",
       "    <tr>\n",
       "      <th>4</th>\n",
       "      <td>chol</td>\n",
       "    </tr>\n",
       "    <tr>\n",
       "      <th>5</th>\n",
       "      <td>fbs</td>\n",
       "    </tr>\n",
       "    <tr>\n",
       "      <th>6</th>\n",
       "      <td>restecg</td>\n",
       "    </tr>\n",
       "    <tr>\n",
       "      <th>7</th>\n",
       "      <td>thalach</td>\n",
       "    </tr>\n",
       "    <tr>\n",
       "      <th>8</th>\n",
       "      <td>exang</td>\n",
       "    </tr>\n",
       "    <tr>\n",
       "      <th>9</th>\n",
       "      <td>oldpeak</td>\n",
       "    </tr>\n",
       "    <tr>\n",
       "      <th>10</th>\n",
       "      <td>slope</td>\n",
       "    </tr>\n",
       "    <tr>\n",
       "      <th>11</th>\n",
       "      <td>ca</td>\n",
       "    </tr>\n",
       "    <tr>\n",
       "      <th>12</th>\n",
       "      <td>thal</td>\n",
       "    </tr>\n",
       "  </tbody>\n",
       "</table>\n",
       "</div>"
      ],
      "text/plain": [
       "           0\n",
       "0        age\n",
       "1        sex\n",
       "2         cp\n",
       "3   trestbps\n",
       "4       chol\n",
       "5        fbs\n",
       "6    restecg\n",
       "7    thalach\n",
       "8      exang\n",
       "9    oldpeak\n",
       "10     slope\n",
       "11        ca\n",
       "12      thal"
      ]
     },
     "execution_count": 989,
     "metadata": {},
     "output_type": "execute_result"
    }
   ],
   "source": [
    "print(\"Show dfcolumns: \")\n",
    "dfcolumns"
   ]
  },
  {
   "cell_type": "markdown",
   "id": "445a487f",
   "metadata": {},
   "source": [
    "### 3. Concat two data frames and show it for better visualization."
   ]
  },
  {
   "cell_type": "code",
   "execution_count": 990,
   "id": "c444f2a3",
   "metadata": {},
   "outputs": [
    {
     "data": {
      "text/html": [
       "<div>\n",
       "<style scoped>\n",
       "    .dataframe tbody tr th:only-of-type {\n",
       "        vertical-align: middle;\n",
       "    }\n",
       "\n",
       "    .dataframe tbody tr th {\n",
       "        vertical-align: top;\n",
       "    }\n",
       "\n",
       "    .dataframe thead th {\n",
       "        text-align: right;\n",
       "    }\n",
       "</style>\n",
       "<table border=\"1\" class=\"dataframe\">\n",
       "  <thead>\n",
       "    <tr style=\"text-align: right;\">\n",
       "      <th></th>\n",
       "      <th>features</th>\n",
       "      <th>score</th>\n",
       "    </tr>\n",
       "  </thead>\n",
       "  <tbody>\n",
       "    <tr>\n",
       "      <th>0</th>\n",
       "      <td>age</td>\n",
       "      <td>22.210517</td>\n",
       "    </tr>\n",
       "    <tr>\n",
       "      <th>1</th>\n",
       "      <td>sex</td>\n",
       "      <td>7.721690</td>\n",
       "    </tr>\n",
       "    <tr>\n",
       "      <th>2</th>\n",
       "      <td>cp</td>\n",
       "      <td>62.116086</td>\n",
       "    </tr>\n",
       "    <tr>\n",
       "      <th>3</th>\n",
       "      <td>trestbps</td>\n",
       "      <td>15.094591</td>\n",
       "    </tr>\n",
       "    <tr>\n",
       "      <th>4</th>\n",
       "      <td>chol</td>\n",
       "      <td>21.690747</td>\n",
       "    </tr>\n",
       "    <tr>\n",
       "      <th>5</th>\n",
       "      <td>fbs</td>\n",
       "      <td>0.184946</td>\n",
       "    </tr>\n",
       "    <tr>\n",
       "      <th>6</th>\n",
       "      <td>restecg</td>\n",
       "      <td>2.877743</td>\n",
       "    </tr>\n",
       "    <tr>\n",
       "      <th>7</th>\n",
       "      <td>thalach</td>\n",
       "      <td>186.180286</td>\n",
       "    </tr>\n",
       "    <tr>\n",
       "      <th>8</th>\n",
       "      <td>exang</td>\n",
       "      <td>38.518849</td>\n",
       "    </tr>\n",
       "    <tr>\n",
       "      <th>9</th>\n",
       "      <td>oldpeak</td>\n",
       "      <td>71.692782</td>\n",
       "    </tr>\n",
       "    <tr>\n",
       "      <th>10</th>\n",
       "      <td>slope</td>\n",
       "      <td>9.677715</td>\n",
       "    </tr>\n",
       "    <tr>\n",
       "      <th>11</th>\n",
       "      <td>ca</td>\n",
       "      <td>71.020719</td>\n",
       "    </tr>\n",
       "    <tr>\n",
       "      <th>12</th>\n",
       "      <td>thal</td>\n",
       "      <td>5.753030</td>\n",
       "    </tr>\n",
       "  </tbody>\n",
       "</table>\n",
       "</div>"
      ],
      "text/plain": [
       "    features       score\n",
       "0        age   22.210517\n",
       "1        sex    7.721690\n",
       "2         cp   62.116086\n",
       "3   trestbps   15.094591\n",
       "4       chol   21.690747\n",
       "5        fbs    0.184946\n",
       "6    restecg    2.877743\n",
       "7    thalach  186.180286\n",
       "8      exang   38.518849\n",
       "9    oldpeak   71.692782\n",
       "10     slope    9.677715\n",
       "11        ca   71.020719\n",
       "12      thal    5.753030"
      ]
     },
     "execution_count": 990,
     "metadata": {},
     "output_type": "execute_result"
    }
   ],
   "source": [
    "featureScores = pd.concat([dfcolumns, dfscores], axis = 1)\n",
    "featureScores.columns = ['features','score']\n",
    "featureScores"
   ]
  },
  {
   "cell_type": "markdown",
   "id": "49f333a3",
   "metadata": {},
   "source": [
    "### 4. Show 13 best features for the dataset by ordering the score."
   ]
  },
  {
   "cell_type": "code",
   "execution_count": 991,
   "id": "c5577da3",
   "metadata": {},
   "outputs": [
    {
     "data": {
      "text/html": [
       "<div>\n",
       "<style scoped>\n",
       "    .dataframe tbody tr th:only-of-type {\n",
       "        vertical-align: middle;\n",
       "    }\n",
       "\n",
       "    .dataframe tbody tr th {\n",
       "        vertical-align: top;\n",
       "    }\n",
       "\n",
       "    .dataframe thead th {\n",
       "        text-align: right;\n",
       "    }\n",
       "</style>\n",
       "<table border=\"1\" class=\"dataframe\">\n",
       "  <thead>\n",
       "    <tr style=\"text-align: right;\">\n",
       "      <th></th>\n",
       "      <th>features</th>\n",
       "      <th>score</th>\n",
       "    </tr>\n",
       "  </thead>\n",
       "  <tbody>\n",
       "    <tr>\n",
       "      <th>7</th>\n",
       "      <td>thalach</td>\n",
       "      <td>186.180286</td>\n",
       "    </tr>\n",
       "    <tr>\n",
       "      <th>9</th>\n",
       "      <td>oldpeak</td>\n",
       "      <td>71.692782</td>\n",
       "    </tr>\n",
       "    <tr>\n",
       "      <th>11</th>\n",
       "      <td>ca</td>\n",
       "      <td>71.020719</td>\n",
       "    </tr>\n",
       "    <tr>\n",
       "      <th>2</th>\n",
       "      <td>cp</td>\n",
       "      <td>62.116086</td>\n",
       "    </tr>\n",
       "    <tr>\n",
       "      <th>8</th>\n",
       "      <td>exang</td>\n",
       "      <td>38.518849</td>\n",
       "    </tr>\n",
       "    <tr>\n",
       "      <th>0</th>\n",
       "      <td>age</td>\n",
       "      <td>22.210517</td>\n",
       "    </tr>\n",
       "    <tr>\n",
       "      <th>4</th>\n",
       "      <td>chol</td>\n",
       "      <td>21.690747</td>\n",
       "    </tr>\n",
       "    <tr>\n",
       "      <th>3</th>\n",
       "      <td>trestbps</td>\n",
       "      <td>15.094591</td>\n",
       "    </tr>\n",
       "    <tr>\n",
       "      <th>10</th>\n",
       "      <td>slope</td>\n",
       "      <td>9.677715</td>\n",
       "    </tr>\n",
       "    <tr>\n",
       "      <th>1</th>\n",
       "      <td>sex</td>\n",
       "      <td>7.721690</td>\n",
       "    </tr>\n",
       "    <tr>\n",
       "      <th>12</th>\n",
       "      <td>thal</td>\n",
       "      <td>5.753030</td>\n",
       "    </tr>\n",
       "    <tr>\n",
       "      <th>6</th>\n",
       "      <td>restecg</td>\n",
       "      <td>2.877743</td>\n",
       "    </tr>\n",
       "    <tr>\n",
       "      <th>5</th>\n",
       "      <td>fbs</td>\n",
       "      <td>0.184946</td>\n",
       "    </tr>\n",
       "  </tbody>\n",
       "</table>\n",
       "</div>"
      ],
      "text/plain": [
       "    features       score\n",
       "7    thalach  186.180286\n",
       "9    oldpeak   71.692782\n",
       "11        ca   71.020719\n",
       "2         cp   62.116086\n",
       "8      exang   38.518849\n",
       "0        age   22.210517\n",
       "4       chol   21.690747\n",
       "3   trestbps   15.094591\n",
       "10     slope    9.677715\n",
       "1        sex    7.721690\n",
       "12      thal    5.753030\n",
       "6    restecg    2.877743\n",
       "5        fbs    0.184946"
      ]
     },
     "execution_count": 991,
     "metadata": {},
     "output_type": "execute_result"
    }
   ],
   "source": [
    "pd.DataFrame(featureScores.nlargest(13,'score'))"
   ]
  },
  {
   "cell_type": "markdown",
   "id": "5c336045",
   "metadata": {},
   "source": [
    "### 5. Put all the most relatable features in the list."
   ]
  },
  {
   "cell_type": "code",
   "execution_count": 992,
   "id": "91b575ef",
   "metadata": {},
   "outputs": [],
   "source": [
    "# 4 best features with \"Correlation Matrix with Heatmap\"\n",
    "best_CMWH_feature1 = ['cp', 'thalach', 'slope', 'restecg']\n",
    "# 6 best features with \"Correlation Matrix with Heatmap\"\n",
    "best_CMWH_feature2 = ['cp', 'thalach', 'slope', 'restecg', 'fbs', 'chol']\n",
    "# 8 best features \"Correlation Matrix with Heatmap\"\n",
    "best_CMWH_feature3 = ['cp', 'thalach', 'slope', 'restecg', 'fbs', 'chol', 'trestbps', 'age']\n",
    "\n",
    "# 4 best features with \"Univariate Selection\"\n",
    "best_US_feature1 = ['thalach', 'oldpeak', 'ca', 'cp']\n",
    "# 6 best features with \"Univariate Selection\"\n",
    "best_US_feature2 = ['thalach', 'oldpeak', 'ca', 'cp', 'exang', 'age']\n",
    "# 8 best features with \"Univariate Selection\"\n",
    "best_US_feature3 = ['thalach', 'oldpeak', 'ca', 'cp', 'exang', 'age', 'chol', 'trestbps']"
   ]
  },
  {
   "cell_type": "markdown",
   "id": "cfd6f420",
   "metadata": {},
   "source": [
    "# Step 9 - Parameter Tuning"
   ]
  },
  {
   "cell_type": "markdown",
   "id": "d29820ae",
   "metadata": {},
   "source": [
    "### 1. Import libraries."
   ]
  },
  {
   "cell_type": "code",
   "execution_count": 993,
   "id": "ce9778de",
   "metadata": {},
   "outputs": [],
   "source": [
    "from sklearn.model_selection import GridSearchCV\n",
    "from sklearn.tree import DecisionTreeClassifier"
   ]
  },
  {
   "cell_type": "markdown",
   "id": "e77765d0",
   "metadata": {},
   "source": [
    "### 2. Define the hyperparameters."
   ]
  },
  {
   "cell_type": "code",
   "execution_count": 994,
   "id": "f68da930",
   "metadata": {},
   "outputs": [],
   "source": [
    "param_grid = {\n",
    "    'criterion': [\"entropy\", \"gini\"],\n",
    "    'splitter': [\"best\", \"random\"],\n",
    "    'min_samples_split': [2, 3, 4, 5],\n",
    "    'min_samples_leaf': [2, 4, 6, 8, 10],\n",
    "    'max_depth': [None, 2, 3, 4, 5],\n",
    "    'max_features': [None, 'sqrt', 'log2', 0.2, 0.4]\n",
    "},"
   ]
  },
  {
   "cell_type": "markdown",
   "id": "0091829e",
   "metadata": {},
   "source": [
    "### 3. Find the best hyperparameters."
   ]
  },
  {
   "cell_type": "code",
   "execution_count": 995,
   "id": "b053f020",
   "metadata": {
    "scrolled": true
   },
   "outputs": [
    {
     "name": "stdout",
     "output_type": "stream",
     "text": [
      "Fitting 5 folds for each of 2000 candidates, totalling 10000 fits\n",
      "\n",
      "Parameter tuning is completed.\n",
      "\n",
      "Best hyperparameters:  {'criterion': 'gini', 'max_depth': 4, 'max_features': 0.4, 'min_samples_leaf': 10, 'min_samples_split': 2, 'splitter': 'best'}\n",
      "Best score:  0.8424319727891156\n"
     ]
    }
   ],
   "source": [
    "DTC_grid_search = GridSearchCV(DTC, param_grid, cv = 5, verbose = 1, n_jobs = -1, scoring = \"accuracy\")\n",
    "\n",
    "# Use the selected ratio - 80:20 to find the best parameters\n",
    "DTC_grid_search.fit(X_train, y_train)\n",
    "\n",
    "print(\"\\nParameter tuning is completed.\\n\\nBest hyperparameters: \", DTC_grid_search.best_params_)\n",
    "print(\"Best score: \", DTC_grid_search.best_score_)"
   ]
  },
  {
   "cell_type": "markdown",
   "id": "eff8ba88",
   "metadata": {},
   "source": [
    "### 4. Create an instance of the model to hold the trained DTC model with the best hyperparameters."
   ]
  },
  {
   "cell_type": "code",
   "execution_count": 996,
   "id": "6be92fe4",
   "metadata": {},
   "outputs": [],
   "source": [
    "best_DTC = DTC_grid_search.best_estimator_"
   ]
  },
  {
   "cell_type": "markdown",
   "id": "77cde355",
   "metadata": {},
   "source": [
    "# Step 10 - Train Model (With Different Cases)"
   ]
  },
  {
   "cell_type": "markdown",
   "id": "7b86fee8",
   "metadata": {},
   "source": [
    "## Case 1 Information:\n",
    "**Method of Feature selection:** Correlation Matrix with Heatmap\n",
    "\n",
    "**With parameter tuning ?:** NO\n",
    "\n",
    "**Number of features:** 4\n",
    "\n",
    "**Ratio:** 80:20"
   ]
  },
  {
   "cell_type": "markdown",
   "id": "1f2d952e",
   "metadata": {},
   "source": [
    "### 1. Train the data with Case 1."
   ]
  },
  {
   "cell_type": "code",
   "execution_count": 997,
   "id": "2c453900",
   "metadata": {
    "scrolled": true
   },
   "outputs": [
    {
     "data": {
      "text/html": [
       "<style>#sk-container-id-141 {color: black;background-color: white;}#sk-container-id-141 pre{padding: 0;}#sk-container-id-141 div.sk-toggleable {background-color: white;}#sk-container-id-141 label.sk-toggleable__label {cursor: pointer;display: block;width: 100%;margin-bottom: 0;padding: 0.3em;box-sizing: border-box;text-align: center;}#sk-container-id-141 label.sk-toggleable__label-arrow:before {content: \"▸\";float: left;margin-right: 0.25em;color: #696969;}#sk-container-id-141 label.sk-toggleable__label-arrow:hover:before {color: black;}#sk-container-id-141 div.sk-estimator:hover label.sk-toggleable__label-arrow:before {color: black;}#sk-container-id-141 div.sk-toggleable__content {max-height: 0;max-width: 0;overflow: hidden;text-align: left;background-color: #f0f8ff;}#sk-container-id-141 div.sk-toggleable__content pre {margin: 0.2em;color: black;border-radius: 0.25em;background-color: #f0f8ff;}#sk-container-id-141 input.sk-toggleable__control:checked~div.sk-toggleable__content {max-height: 200px;max-width: 100%;overflow: auto;}#sk-container-id-141 input.sk-toggleable__control:checked~label.sk-toggleable__label-arrow:before {content: \"▾\";}#sk-container-id-141 div.sk-estimator input.sk-toggleable__control:checked~label.sk-toggleable__label {background-color: #d4ebff;}#sk-container-id-141 div.sk-label input.sk-toggleable__control:checked~label.sk-toggleable__label {background-color: #d4ebff;}#sk-container-id-141 input.sk-hidden--visually {border: 0;clip: rect(1px 1px 1px 1px);clip: rect(1px, 1px, 1px, 1px);height: 1px;margin: -1px;overflow: hidden;padding: 0;position: absolute;width: 1px;}#sk-container-id-141 div.sk-estimator {font-family: monospace;background-color: #f0f8ff;border: 1px dotted black;border-radius: 0.25em;box-sizing: border-box;margin-bottom: 0.5em;}#sk-container-id-141 div.sk-estimator:hover {background-color: #d4ebff;}#sk-container-id-141 div.sk-parallel-item::after {content: \"\";width: 100%;border-bottom: 1px solid gray;flex-grow: 1;}#sk-container-id-141 div.sk-label:hover label.sk-toggleable__label {background-color: #d4ebff;}#sk-container-id-141 div.sk-serial::before {content: \"\";position: absolute;border-left: 1px solid gray;box-sizing: border-box;top: 0;bottom: 0;left: 50%;z-index: 0;}#sk-container-id-141 div.sk-serial {display: flex;flex-direction: column;align-items: center;background-color: white;padding-right: 0.2em;padding-left: 0.2em;position: relative;}#sk-container-id-141 div.sk-item {position: relative;z-index: 1;}#sk-container-id-141 div.sk-parallel {display: flex;align-items: stretch;justify-content: center;background-color: white;position: relative;}#sk-container-id-141 div.sk-item::before, #sk-container-id-141 div.sk-parallel-item::before {content: \"\";position: absolute;border-left: 1px solid gray;box-sizing: border-box;top: 0;bottom: 0;left: 50%;z-index: -1;}#sk-container-id-141 div.sk-parallel-item {display: flex;flex-direction: column;z-index: 1;position: relative;background-color: white;}#sk-container-id-141 div.sk-parallel-item:first-child::after {align-self: flex-end;width: 50%;}#sk-container-id-141 div.sk-parallel-item:last-child::after {align-self: flex-start;width: 50%;}#sk-container-id-141 div.sk-parallel-item:only-child::after {width: 0;}#sk-container-id-141 div.sk-dashed-wrapped {border: 1px dashed gray;margin: 0 0.4em 0.5em 0.4em;box-sizing: border-box;padding-bottom: 0.4em;background-color: white;}#sk-container-id-141 div.sk-label label {font-family: monospace;font-weight: bold;display: inline-block;line-height: 1.2em;}#sk-container-id-141 div.sk-label-container {text-align: center;}#sk-container-id-141 div.sk-container {/* jupyter's `normalize.less` sets `[hidden] { display: none; }` but bootstrap.min.css set `[hidden] { display: none !important; }` so we also need the `!important` here to be able to override the default hidden behavior on the sphinx rendered scikit-learn.org. See: https://github.com/scikit-learn/scikit-learn/issues/21755 */display: inline-block !important;position: relative;}#sk-container-id-141 div.sk-text-repr-fallback {display: none;}</style><div id=\"sk-container-id-141\" class=\"sk-top-container\"><div class=\"sk-text-repr-fallback\"><pre>DecisionTreeClassifier(random_state=0)</pre><b>In a Jupyter environment, please rerun this cell to show the HTML representation or trust the notebook. <br />On GitHub, the HTML representation is unable to render, please try loading this page with nbviewer.org.</b></div><div class=\"sk-container\" hidden><div class=\"sk-item\"><div class=\"sk-estimator sk-toggleable\"><input class=\"sk-toggleable__control sk-hidden--visually\" id=\"sk-estimator-id-141\" type=\"checkbox\" checked><label for=\"sk-estimator-id-141\" class=\"sk-toggleable__label sk-toggleable__label-arrow\">DecisionTreeClassifier</label><div class=\"sk-toggleable__content\"><pre>DecisionTreeClassifier(random_state=0)</pre></div></div></div></div></div>"
      ],
      "text/plain": [
       "DecisionTreeClassifier(random_state=0)"
      ]
     },
     "execution_count": 997,
     "metadata": {},
     "output_type": "execute_result"
    }
   ],
   "source": [
    "DTC.fit(X_train[best_CMWH_feature1], y_train)"
   ]
  },
  {
   "cell_type": "markdown",
   "id": "0303aa16",
   "metadata": {},
   "source": [
    "### 2. Make prediction with test data set."
   ]
  },
  {
   "cell_type": "code",
   "execution_count": 998,
   "id": "15f94792",
   "metadata": {
    "scrolled": true
   },
   "outputs": [
    {
     "data": {
      "text/plain": [
       "array([0, 1, 1, 1, 0, 1, 1, 1, 0, 1, 0, 1, 1, 0, 1, 1, 0, 0, 0, 0, 1, 0,\n",
       "       0, 1, 0, 1, 0, 1, 0, 1, 0, 1, 0, 0, 1, 0, 0, 1, 1, 1, 1, 0, 0, 0,\n",
       "       1, 0, 0, 1, 0, 0, 0, 0, 1, 0, 0, 0, 1, 1, 0, 1, 0], dtype=int64)"
      ]
     },
     "execution_count": 998,
     "metadata": {},
     "output_type": "execute_result"
    }
   ],
   "source": [
    "DTC_prediction4 = DTC.predict(X_test[best_CMWH_feature1])\n",
    "DTC_prediction4"
   ]
  },
  {
   "cell_type": "markdown",
   "id": "0869bbf7",
   "metadata": {},
   "source": [
    "## Case 2 Information:\n",
    "**Method of Feature selection:** Correlation Matrix with Heatmap\n",
    "\n",
    "**With parameter tuning ?:** YES\n",
    "\n",
    "**Number of features:** 4\n",
    "\n",
    "**Ratio:** 80:20"
   ]
  },
  {
   "cell_type": "markdown",
   "id": "bfcbc1c7",
   "metadata": {},
   "source": [
    "### 1. Train the data with Case 2."
   ]
  },
  {
   "cell_type": "code",
   "execution_count": 999,
   "id": "33e67521",
   "metadata": {
    "scrolled": true
   },
   "outputs": [
    {
     "data": {
      "text/html": [
       "<style>#sk-container-id-142 {color: black;background-color: white;}#sk-container-id-142 pre{padding: 0;}#sk-container-id-142 div.sk-toggleable {background-color: white;}#sk-container-id-142 label.sk-toggleable__label {cursor: pointer;display: block;width: 100%;margin-bottom: 0;padding: 0.3em;box-sizing: border-box;text-align: center;}#sk-container-id-142 label.sk-toggleable__label-arrow:before {content: \"▸\";float: left;margin-right: 0.25em;color: #696969;}#sk-container-id-142 label.sk-toggleable__label-arrow:hover:before {color: black;}#sk-container-id-142 div.sk-estimator:hover label.sk-toggleable__label-arrow:before {color: black;}#sk-container-id-142 div.sk-toggleable__content {max-height: 0;max-width: 0;overflow: hidden;text-align: left;background-color: #f0f8ff;}#sk-container-id-142 div.sk-toggleable__content pre {margin: 0.2em;color: black;border-radius: 0.25em;background-color: #f0f8ff;}#sk-container-id-142 input.sk-toggleable__control:checked~div.sk-toggleable__content {max-height: 200px;max-width: 100%;overflow: auto;}#sk-container-id-142 input.sk-toggleable__control:checked~label.sk-toggleable__label-arrow:before {content: \"▾\";}#sk-container-id-142 div.sk-estimator input.sk-toggleable__control:checked~label.sk-toggleable__label {background-color: #d4ebff;}#sk-container-id-142 div.sk-label input.sk-toggleable__control:checked~label.sk-toggleable__label {background-color: #d4ebff;}#sk-container-id-142 input.sk-hidden--visually {border: 0;clip: rect(1px 1px 1px 1px);clip: rect(1px, 1px, 1px, 1px);height: 1px;margin: -1px;overflow: hidden;padding: 0;position: absolute;width: 1px;}#sk-container-id-142 div.sk-estimator {font-family: monospace;background-color: #f0f8ff;border: 1px dotted black;border-radius: 0.25em;box-sizing: border-box;margin-bottom: 0.5em;}#sk-container-id-142 div.sk-estimator:hover {background-color: #d4ebff;}#sk-container-id-142 div.sk-parallel-item::after {content: \"\";width: 100%;border-bottom: 1px solid gray;flex-grow: 1;}#sk-container-id-142 div.sk-label:hover label.sk-toggleable__label {background-color: #d4ebff;}#sk-container-id-142 div.sk-serial::before {content: \"\";position: absolute;border-left: 1px solid gray;box-sizing: border-box;top: 0;bottom: 0;left: 50%;z-index: 0;}#sk-container-id-142 div.sk-serial {display: flex;flex-direction: column;align-items: center;background-color: white;padding-right: 0.2em;padding-left: 0.2em;position: relative;}#sk-container-id-142 div.sk-item {position: relative;z-index: 1;}#sk-container-id-142 div.sk-parallel {display: flex;align-items: stretch;justify-content: center;background-color: white;position: relative;}#sk-container-id-142 div.sk-item::before, #sk-container-id-142 div.sk-parallel-item::before {content: \"\";position: absolute;border-left: 1px solid gray;box-sizing: border-box;top: 0;bottom: 0;left: 50%;z-index: -1;}#sk-container-id-142 div.sk-parallel-item {display: flex;flex-direction: column;z-index: 1;position: relative;background-color: white;}#sk-container-id-142 div.sk-parallel-item:first-child::after {align-self: flex-end;width: 50%;}#sk-container-id-142 div.sk-parallel-item:last-child::after {align-self: flex-start;width: 50%;}#sk-container-id-142 div.sk-parallel-item:only-child::after {width: 0;}#sk-container-id-142 div.sk-dashed-wrapped {border: 1px dashed gray;margin: 0 0.4em 0.5em 0.4em;box-sizing: border-box;padding-bottom: 0.4em;background-color: white;}#sk-container-id-142 div.sk-label label {font-family: monospace;font-weight: bold;display: inline-block;line-height: 1.2em;}#sk-container-id-142 div.sk-label-container {text-align: center;}#sk-container-id-142 div.sk-container {/* jupyter's `normalize.less` sets `[hidden] { display: none; }` but bootstrap.min.css set `[hidden] { display: none !important; }` so we also need the `!important` here to be able to override the default hidden behavior on the sphinx rendered scikit-learn.org. See: https://github.com/scikit-learn/scikit-learn/issues/21755 */display: inline-block !important;position: relative;}#sk-container-id-142 div.sk-text-repr-fallback {display: none;}</style><div id=\"sk-container-id-142\" class=\"sk-top-container\"><div class=\"sk-text-repr-fallback\"><pre>DecisionTreeClassifier(max_depth=4, max_features=0.4, min_samples_leaf=10,\n",
       "                       random_state=0)</pre><b>In a Jupyter environment, please rerun this cell to show the HTML representation or trust the notebook. <br />On GitHub, the HTML representation is unable to render, please try loading this page with nbviewer.org.</b></div><div class=\"sk-container\" hidden><div class=\"sk-item\"><div class=\"sk-estimator sk-toggleable\"><input class=\"sk-toggleable__control sk-hidden--visually\" id=\"sk-estimator-id-142\" type=\"checkbox\" checked><label for=\"sk-estimator-id-142\" class=\"sk-toggleable__label sk-toggleable__label-arrow\">DecisionTreeClassifier</label><div class=\"sk-toggleable__content\"><pre>DecisionTreeClassifier(max_depth=4, max_features=0.4, min_samples_leaf=10,\n",
       "                       random_state=0)</pre></div></div></div></div></div>"
      ],
      "text/plain": [
       "DecisionTreeClassifier(max_depth=4, max_features=0.4, min_samples_leaf=10,\n",
       "                       random_state=0)"
      ]
     },
     "execution_count": 999,
     "metadata": {},
     "output_type": "execute_result"
    }
   ],
   "source": [
    "best_DTC.fit(X_train[best_CMWH_feature1], y_train)"
   ]
  },
  {
   "cell_type": "markdown",
   "id": "3c3d5cd0",
   "metadata": {},
   "source": [
    "### 2. Make prediction with test data set."
   ]
  },
  {
   "cell_type": "code",
   "execution_count": 1000,
   "id": "9309c93a",
   "metadata": {
    "scrolled": false
   },
   "outputs": [
    {
     "data": {
      "text/plain": [
       "array([0, 0, 1, 0, 1, 1, 0, 0, 0, 1, 0, 0, 1, 1, 1, 1, 1, 0, 0, 0, 1, 0,\n",
       "       0, 1, 0, 1, 0, 0, 0, 0, 0, 1, 0, 0, 0, 0, 1, 1, 1, 0, 1, 1, 1, 1,\n",
       "       1, 0, 1, 1, 0, 0, 0, 0, 0, 1, 0, 1, 0, 1, 0, 1, 0], dtype=int64)"
      ]
     },
     "execution_count": 1000,
     "metadata": {},
     "output_type": "execute_result"
    }
   ],
   "source": [
    "DTC_prediction5 = best_DTC.predict(X_test[best_CMWH_feature1])\n",
    "DTC_prediction5"
   ]
  },
  {
   "cell_type": "markdown",
   "id": "bf41d73f",
   "metadata": {},
   "source": [
    "## Case 3 Information:\n",
    "**Method of Feature selection:** Correlation Matrix with Heatmap\n",
    "\n",
    "**With parameter tuning ?:** NO\n",
    "\n",
    "**Number of features:** 6\n",
    "\n",
    "**Ratio:** 80:20"
   ]
  },
  {
   "cell_type": "markdown",
   "id": "6517966b",
   "metadata": {},
   "source": [
    "### 1. Train the data with Case 3."
   ]
  },
  {
   "cell_type": "code",
   "execution_count": 1001,
   "id": "0a61afcc",
   "metadata": {
    "scrolled": true
   },
   "outputs": [
    {
     "data": {
      "text/html": [
       "<style>#sk-container-id-143 {color: black;background-color: white;}#sk-container-id-143 pre{padding: 0;}#sk-container-id-143 div.sk-toggleable {background-color: white;}#sk-container-id-143 label.sk-toggleable__label {cursor: pointer;display: block;width: 100%;margin-bottom: 0;padding: 0.3em;box-sizing: border-box;text-align: center;}#sk-container-id-143 label.sk-toggleable__label-arrow:before {content: \"▸\";float: left;margin-right: 0.25em;color: #696969;}#sk-container-id-143 label.sk-toggleable__label-arrow:hover:before {color: black;}#sk-container-id-143 div.sk-estimator:hover label.sk-toggleable__label-arrow:before {color: black;}#sk-container-id-143 div.sk-toggleable__content {max-height: 0;max-width: 0;overflow: hidden;text-align: left;background-color: #f0f8ff;}#sk-container-id-143 div.sk-toggleable__content pre {margin: 0.2em;color: black;border-radius: 0.25em;background-color: #f0f8ff;}#sk-container-id-143 input.sk-toggleable__control:checked~div.sk-toggleable__content {max-height: 200px;max-width: 100%;overflow: auto;}#sk-container-id-143 input.sk-toggleable__control:checked~label.sk-toggleable__label-arrow:before {content: \"▾\";}#sk-container-id-143 div.sk-estimator input.sk-toggleable__control:checked~label.sk-toggleable__label {background-color: #d4ebff;}#sk-container-id-143 div.sk-label input.sk-toggleable__control:checked~label.sk-toggleable__label {background-color: #d4ebff;}#sk-container-id-143 input.sk-hidden--visually {border: 0;clip: rect(1px 1px 1px 1px);clip: rect(1px, 1px, 1px, 1px);height: 1px;margin: -1px;overflow: hidden;padding: 0;position: absolute;width: 1px;}#sk-container-id-143 div.sk-estimator {font-family: monospace;background-color: #f0f8ff;border: 1px dotted black;border-radius: 0.25em;box-sizing: border-box;margin-bottom: 0.5em;}#sk-container-id-143 div.sk-estimator:hover {background-color: #d4ebff;}#sk-container-id-143 div.sk-parallel-item::after {content: \"\";width: 100%;border-bottom: 1px solid gray;flex-grow: 1;}#sk-container-id-143 div.sk-label:hover label.sk-toggleable__label {background-color: #d4ebff;}#sk-container-id-143 div.sk-serial::before {content: \"\";position: absolute;border-left: 1px solid gray;box-sizing: border-box;top: 0;bottom: 0;left: 50%;z-index: 0;}#sk-container-id-143 div.sk-serial {display: flex;flex-direction: column;align-items: center;background-color: white;padding-right: 0.2em;padding-left: 0.2em;position: relative;}#sk-container-id-143 div.sk-item {position: relative;z-index: 1;}#sk-container-id-143 div.sk-parallel {display: flex;align-items: stretch;justify-content: center;background-color: white;position: relative;}#sk-container-id-143 div.sk-item::before, #sk-container-id-143 div.sk-parallel-item::before {content: \"\";position: absolute;border-left: 1px solid gray;box-sizing: border-box;top: 0;bottom: 0;left: 50%;z-index: -1;}#sk-container-id-143 div.sk-parallel-item {display: flex;flex-direction: column;z-index: 1;position: relative;background-color: white;}#sk-container-id-143 div.sk-parallel-item:first-child::after {align-self: flex-end;width: 50%;}#sk-container-id-143 div.sk-parallel-item:last-child::after {align-self: flex-start;width: 50%;}#sk-container-id-143 div.sk-parallel-item:only-child::after {width: 0;}#sk-container-id-143 div.sk-dashed-wrapped {border: 1px dashed gray;margin: 0 0.4em 0.5em 0.4em;box-sizing: border-box;padding-bottom: 0.4em;background-color: white;}#sk-container-id-143 div.sk-label label {font-family: monospace;font-weight: bold;display: inline-block;line-height: 1.2em;}#sk-container-id-143 div.sk-label-container {text-align: center;}#sk-container-id-143 div.sk-container {/* jupyter's `normalize.less` sets `[hidden] { display: none; }` but bootstrap.min.css set `[hidden] { display: none !important; }` so we also need the `!important` here to be able to override the default hidden behavior on the sphinx rendered scikit-learn.org. See: https://github.com/scikit-learn/scikit-learn/issues/21755 */display: inline-block !important;position: relative;}#sk-container-id-143 div.sk-text-repr-fallback {display: none;}</style><div id=\"sk-container-id-143\" class=\"sk-top-container\"><div class=\"sk-text-repr-fallback\"><pre>DecisionTreeClassifier(random_state=0)</pre><b>In a Jupyter environment, please rerun this cell to show the HTML representation or trust the notebook. <br />On GitHub, the HTML representation is unable to render, please try loading this page with nbviewer.org.</b></div><div class=\"sk-container\" hidden><div class=\"sk-item\"><div class=\"sk-estimator sk-toggleable\"><input class=\"sk-toggleable__control sk-hidden--visually\" id=\"sk-estimator-id-143\" type=\"checkbox\" checked><label for=\"sk-estimator-id-143\" class=\"sk-toggleable__label sk-toggleable__label-arrow\">DecisionTreeClassifier</label><div class=\"sk-toggleable__content\"><pre>DecisionTreeClassifier(random_state=0)</pre></div></div></div></div></div>"
      ],
      "text/plain": [
       "DecisionTreeClassifier(random_state=0)"
      ]
     },
     "execution_count": 1001,
     "metadata": {},
     "output_type": "execute_result"
    }
   ],
   "source": [
    "DTC.fit(X_train[best_CMWH_feature2], y_train)"
   ]
  },
  {
   "cell_type": "markdown",
   "id": "e5c61865",
   "metadata": {},
   "source": [
    "### 2. Make prediction with test data set."
   ]
  },
  {
   "cell_type": "code",
   "execution_count": 1002,
   "id": "2a1f0b1a",
   "metadata": {
    "scrolled": true
   },
   "outputs": [
    {
     "data": {
      "text/plain": [
       "array([0, 1, 0, 0, 1, 1, 0, 0, 0, 1, 0, 1, 1, 0, 1, 1, 0, 0, 0, 0, 0, 0,\n",
       "       0, 1, 0, 1, 0, 1, 0, 0, 0, 0, 0, 0, 0, 0, 0, 1, 1, 1, 0, 0, 1, 1,\n",
       "       1, 0, 0, 1, 0, 0, 1, 0, 1, 0, 1, 1, 1, 1, 0, 1, 0], dtype=int64)"
      ]
     },
     "execution_count": 1002,
     "metadata": {},
     "output_type": "execute_result"
    }
   ],
   "source": [
    "DTC_prediction6 = DTC.predict(X_test[best_CMWH_feature2])\n",
    "DTC_prediction6"
   ]
  },
  {
   "cell_type": "markdown",
   "id": "cadfdda4",
   "metadata": {},
   "source": [
    "## Case 4 Information:\n",
    "**Method of Feature selection:** Correlation Matrix with Heatmap\n",
    "\n",
    "**With parameter tuning ?:** YES\n",
    "\n",
    "**Number of features:** 6\n",
    "\n",
    "**Ratio:** 80:20"
   ]
  },
  {
   "cell_type": "markdown",
   "id": "8e4763e3",
   "metadata": {},
   "source": [
    "### 1. Train the data with Case 4."
   ]
  },
  {
   "cell_type": "code",
   "execution_count": 1003,
   "id": "689d2289",
   "metadata": {
    "scrolled": true
   },
   "outputs": [
    {
     "data": {
      "text/html": [
       "<style>#sk-container-id-144 {color: black;background-color: white;}#sk-container-id-144 pre{padding: 0;}#sk-container-id-144 div.sk-toggleable {background-color: white;}#sk-container-id-144 label.sk-toggleable__label {cursor: pointer;display: block;width: 100%;margin-bottom: 0;padding: 0.3em;box-sizing: border-box;text-align: center;}#sk-container-id-144 label.sk-toggleable__label-arrow:before {content: \"▸\";float: left;margin-right: 0.25em;color: #696969;}#sk-container-id-144 label.sk-toggleable__label-arrow:hover:before {color: black;}#sk-container-id-144 div.sk-estimator:hover label.sk-toggleable__label-arrow:before {color: black;}#sk-container-id-144 div.sk-toggleable__content {max-height: 0;max-width: 0;overflow: hidden;text-align: left;background-color: #f0f8ff;}#sk-container-id-144 div.sk-toggleable__content pre {margin: 0.2em;color: black;border-radius: 0.25em;background-color: #f0f8ff;}#sk-container-id-144 input.sk-toggleable__control:checked~div.sk-toggleable__content {max-height: 200px;max-width: 100%;overflow: auto;}#sk-container-id-144 input.sk-toggleable__control:checked~label.sk-toggleable__label-arrow:before {content: \"▾\";}#sk-container-id-144 div.sk-estimator input.sk-toggleable__control:checked~label.sk-toggleable__label {background-color: #d4ebff;}#sk-container-id-144 div.sk-label input.sk-toggleable__control:checked~label.sk-toggleable__label {background-color: #d4ebff;}#sk-container-id-144 input.sk-hidden--visually {border: 0;clip: rect(1px 1px 1px 1px);clip: rect(1px, 1px, 1px, 1px);height: 1px;margin: -1px;overflow: hidden;padding: 0;position: absolute;width: 1px;}#sk-container-id-144 div.sk-estimator {font-family: monospace;background-color: #f0f8ff;border: 1px dotted black;border-radius: 0.25em;box-sizing: border-box;margin-bottom: 0.5em;}#sk-container-id-144 div.sk-estimator:hover {background-color: #d4ebff;}#sk-container-id-144 div.sk-parallel-item::after {content: \"\";width: 100%;border-bottom: 1px solid gray;flex-grow: 1;}#sk-container-id-144 div.sk-label:hover label.sk-toggleable__label {background-color: #d4ebff;}#sk-container-id-144 div.sk-serial::before {content: \"\";position: absolute;border-left: 1px solid gray;box-sizing: border-box;top: 0;bottom: 0;left: 50%;z-index: 0;}#sk-container-id-144 div.sk-serial {display: flex;flex-direction: column;align-items: center;background-color: white;padding-right: 0.2em;padding-left: 0.2em;position: relative;}#sk-container-id-144 div.sk-item {position: relative;z-index: 1;}#sk-container-id-144 div.sk-parallel {display: flex;align-items: stretch;justify-content: center;background-color: white;position: relative;}#sk-container-id-144 div.sk-item::before, #sk-container-id-144 div.sk-parallel-item::before {content: \"\";position: absolute;border-left: 1px solid gray;box-sizing: border-box;top: 0;bottom: 0;left: 50%;z-index: -1;}#sk-container-id-144 div.sk-parallel-item {display: flex;flex-direction: column;z-index: 1;position: relative;background-color: white;}#sk-container-id-144 div.sk-parallel-item:first-child::after {align-self: flex-end;width: 50%;}#sk-container-id-144 div.sk-parallel-item:last-child::after {align-self: flex-start;width: 50%;}#sk-container-id-144 div.sk-parallel-item:only-child::after {width: 0;}#sk-container-id-144 div.sk-dashed-wrapped {border: 1px dashed gray;margin: 0 0.4em 0.5em 0.4em;box-sizing: border-box;padding-bottom: 0.4em;background-color: white;}#sk-container-id-144 div.sk-label label {font-family: monospace;font-weight: bold;display: inline-block;line-height: 1.2em;}#sk-container-id-144 div.sk-label-container {text-align: center;}#sk-container-id-144 div.sk-container {/* jupyter's `normalize.less` sets `[hidden] { display: none; }` but bootstrap.min.css set `[hidden] { display: none !important; }` so we also need the `!important` here to be able to override the default hidden behavior on the sphinx rendered scikit-learn.org. See: https://github.com/scikit-learn/scikit-learn/issues/21755 */display: inline-block !important;position: relative;}#sk-container-id-144 div.sk-text-repr-fallback {display: none;}</style><div id=\"sk-container-id-144\" class=\"sk-top-container\"><div class=\"sk-text-repr-fallback\"><pre>DecisionTreeClassifier(max_depth=4, max_features=0.4, min_samples_leaf=10,\n",
       "                       random_state=0)</pre><b>In a Jupyter environment, please rerun this cell to show the HTML representation or trust the notebook. <br />On GitHub, the HTML representation is unable to render, please try loading this page with nbviewer.org.</b></div><div class=\"sk-container\" hidden><div class=\"sk-item\"><div class=\"sk-estimator sk-toggleable\"><input class=\"sk-toggleable__control sk-hidden--visually\" id=\"sk-estimator-id-144\" type=\"checkbox\" checked><label for=\"sk-estimator-id-144\" class=\"sk-toggleable__label sk-toggleable__label-arrow\">DecisionTreeClassifier</label><div class=\"sk-toggleable__content\"><pre>DecisionTreeClassifier(max_depth=4, max_features=0.4, min_samples_leaf=10,\n",
       "                       random_state=0)</pre></div></div></div></div></div>"
      ],
      "text/plain": [
       "DecisionTreeClassifier(max_depth=4, max_features=0.4, min_samples_leaf=10,\n",
       "                       random_state=0)"
      ]
     },
     "execution_count": 1003,
     "metadata": {},
     "output_type": "execute_result"
    }
   ],
   "source": [
    "best_DTC.fit(X_train[best_CMWH_feature2], y_train)"
   ]
  },
  {
   "cell_type": "markdown",
   "id": "2cb74138",
   "metadata": {},
   "source": [
    "### 2. Make prediction with test data set."
   ]
  },
  {
   "cell_type": "code",
   "execution_count": 1004,
   "id": "102d5699",
   "metadata": {
    "scrolled": true
   },
   "outputs": [
    {
     "data": {
      "text/plain": [
       "array([0, 0, 1, 0, 1, 1, 1, 0, 0, 1, 0, 0, 1, 0, 1, 1, 1, 0, 0, 0, 1, 0,\n",
       "       0, 1, 0, 1, 0, 1, 0, 1, 0, 0, 1, 0, 0, 1, 1, 1, 1, 1, 1, 1, 1, 1,\n",
       "       1, 0, 0, 1, 0, 0, 1, 0, 0, 1, 1, 0, 0, 1, 0, 1, 1], dtype=int64)"
      ]
     },
     "execution_count": 1004,
     "metadata": {},
     "output_type": "execute_result"
    }
   ],
   "source": [
    "DTC_prediction7 = best_DTC.predict(X_test[best_CMWH_feature2])\n",
    "DTC_prediction7"
   ]
  },
  {
   "cell_type": "markdown",
   "id": "f39aaba5",
   "metadata": {},
   "source": [
    "## Case 5 Information:\n",
    "**Method of Feature selection:** Correlation Matrix with Heatmap\n",
    "\n",
    "**With parameter tuning ?:** NO\n",
    "\n",
    "**Number of features:** 8\n",
    "\n",
    "**Ratio:** 80:20"
   ]
  },
  {
   "cell_type": "markdown",
   "id": "2a6cb37c",
   "metadata": {},
   "source": [
    "### 1. Train the data with Case 5."
   ]
  },
  {
   "cell_type": "code",
   "execution_count": 1005,
   "id": "751a6aa5",
   "metadata": {
    "scrolled": true
   },
   "outputs": [
    {
     "data": {
      "text/html": [
       "<style>#sk-container-id-145 {color: black;background-color: white;}#sk-container-id-145 pre{padding: 0;}#sk-container-id-145 div.sk-toggleable {background-color: white;}#sk-container-id-145 label.sk-toggleable__label {cursor: pointer;display: block;width: 100%;margin-bottom: 0;padding: 0.3em;box-sizing: border-box;text-align: center;}#sk-container-id-145 label.sk-toggleable__label-arrow:before {content: \"▸\";float: left;margin-right: 0.25em;color: #696969;}#sk-container-id-145 label.sk-toggleable__label-arrow:hover:before {color: black;}#sk-container-id-145 div.sk-estimator:hover label.sk-toggleable__label-arrow:before {color: black;}#sk-container-id-145 div.sk-toggleable__content {max-height: 0;max-width: 0;overflow: hidden;text-align: left;background-color: #f0f8ff;}#sk-container-id-145 div.sk-toggleable__content pre {margin: 0.2em;color: black;border-radius: 0.25em;background-color: #f0f8ff;}#sk-container-id-145 input.sk-toggleable__control:checked~div.sk-toggleable__content {max-height: 200px;max-width: 100%;overflow: auto;}#sk-container-id-145 input.sk-toggleable__control:checked~label.sk-toggleable__label-arrow:before {content: \"▾\";}#sk-container-id-145 div.sk-estimator input.sk-toggleable__control:checked~label.sk-toggleable__label {background-color: #d4ebff;}#sk-container-id-145 div.sk-label input.sk-toggleable__control:checked~label.sk-toggleable__label {background-color: #d4ebff;}#sk-container-id-145 input.sk-hidden--visually {border: 0;clip: rect(1px 1px 1px 1px);clip: rect(1px, 1px, 1px, 1px);height: 1px;margin: -1px;overflow: hidden;padding: 0;position: absolute;width: 1px;}#sk-container-id-145 div.sk-estimator {font-family: monospace;background-color: #f0f8ff;border: 1px dotted black;border-radius: 0.25em;box-sizing: border-box;margin-bottom: 0.5em;}#sk-container-id-145 div.sk-estimator:hover {background-color: #d4ebff;}#sk-container-id-145 div.sk-parallel-item::after {content: \"\";width: 100%;border-bottom: 1px solid gray;flex-grow: 1;}#sk-container-id-145 div.sk-label:hover label.sk-toggleable__label {background-color: #d4ebff;}#sk-container-id-145 div.sk-serial::before {content: \"\";position: absolute;border-left: 1px solid gray;box-sizing: border-box;top: 0;bottom: 0;left: 50%;z-index: 0;}#sk-container-id-145 div.sk-serial {display: flex;flex-direction: column;align-items: center;background-color: white;padding-right: 0.2em;padding-left: 0.2em;position: relative;}#sk-container-id-145 div.sk-item {position: relative;z-index: 1;}#sk-container-id-145 div.sk-parallel {display: flex;align-items: stretch;justify-content: center;background-color: white;position: relative;}#sk-container-id-145 div.sk-item::before, #sk-container-id-145 div.sk-parallel-item::before {content: \"\";position: absolute;border-left: 1px solid gray;box-sizing: border-box;top: 0;bottom: 0;left: 50%;z-index: -1;}#sk-container-id-145 div.sk-parallel-item {display: flex;flex-direction: column;z-index: 1;position: relative;background-color: white;}#sk-container-id-145 div.sk-parallel-item:first-child::after {align-self: flex-end;width: 50%;}#sk-container-id-145 div.sk-parallel-item:last-child::after {align-self: flex-start;width: 50%;}#sk-container-id-145 div.sk-parallel-item:only-child::after {width: 0;}#sk-container-id-145 div.sk-dashed-wrapped {border: 1px dashed gray;margin: 0 0.4em 0.5em 0.4em;box-sizing: border-box;padding-bottom: 0.4em;background-color: white;}#sk-container-id-145 div.sk-label label {font-family: monospace;font-weight: bold;display: inline-block;line-height: 1.2em;}#sk-container-id-145 div.sk-label-container {text-align: center;}#sk-container-id-145 div.sk-container {/* jupyter's `normalize.less` sets `[hidden] { display: none; }` but bootstrap.min.css set `[hidden] { display: none !important; }` so we also need the `!important` here to be able to override the default hidden behavior on the sphinx rendered scikit-learn.org. See: https://github.com/scikit-learn/scikit-learn/issues/21755 */display: inline-block !important;position: relative;}#sk-container-id-145 div.sk-text-repr-fallback {display: none;}</style><div id=\"sk-container-id-145\" class=\"sk-top-container\"><div class=\"sk-text-repr-fallback\"><pre>DecisionTreeClassifier(random_state=0)</pre><b>In a Jupyter environment, please rerun this cell to show the HTML representation or trust the notebook. <br />On GitHub, the HTML representation is unable to render, please try loading this page with nbviewer.org.</b></div><div class=\"sk-container\" hidden><div class=\"sk-item\"><div class=\"sk-estimator sk-toggleable\"><input class=\"sk-toggleable__control sk-hidden--visually\" id=\"sk-estimator-id-145\" type=\"checkbox\" checked><label for=\"sk-estimator-id-145\" class=\"sk-toggleable__label sk-toggleable__label-arrow\">DecisionTreeClassifier</label><div class=\"sk-toggleable__content\"><pre>DecisionTreeClassifier(random_state=0)</pre></div></div></div></div></div>"
      ],
      "text/plain": [
       "DecisionTreeClassifier(random_state=0)"
      ]
     },
     "execution_count": 1005,
     "metadata": {},
     "output_type": "execute_result"
    }
   ],
   "source": [
    "DTC.fit(X_train[best_CMWH_feature3], y_train)"
   ]
  },
  {
   "cell_type": "markdown",
   "id": "7b526e6b",
   "metadata": {},
   "source": [
    "### 2. Make prediction with test data set."
   ]
  },
  {
   "cell_type": "code",
   "execution_count": 1006,
   "id": "57442440",
   "metadata": {
    "scrolled": true
   },
   "outputs": [
    {
     "data": {
      "text/plain": [
       "array([0, 0, 0, 1, 1, 0, 1, 1, 0, 1, 0, 1, 1, 0, 1, 1, 1, 0, 0, 0, 0, 1,\n",
       "       0, 1, 1, 1, 0, 1, 0, 0, 0, 0, 0, 0, 1, 1, 1, 1, 1, 1, 1, 0, 1, 1,\n",
       "       1, 0, 0, 1, 0, 0, 1, 0, 1, 1, 1, 0, 0, 1, 0, 0, 0], dtype=int64)"
      ]
     },
     "execution_count": 1006,
     "metadata": {},
     "output_type": "execute_result"
    }
   ],
   "source": [
    "DTC_prediction8 = DTC.predict(X_test[best_CMWH_feature3])\n",
    "DTC_prediction8"
   ]
  },
  {
   "cell_type": "markdown",
   "id": "ab5763c4",
   "metadata": {},
   "source": [
    "## Case 6 Information:\n",
    "**Method of Feature selection:** Correlation Matrix with Heatmap\n",
    "\n",
    "**With parameter tuning ?:** YES\n",
    "\n",
    "**Number of features:** 8\n",
    "\n",
    "**Ratio:** 80:20"
   ]
  },
  {
   "cell_type": "markdown",
   "id": "4d3a5005",
   "metadata": {},
   "source": [
    "### 1. Train the data with Case 6."
   ]
  },
  {
   "cell_type": "code",
   "execution_count": 1007,
   "id": "04ff4f0f",
   "metadata": {
    "scrolled": true
   },
   "outputs": [
    {
     "data": {
      "text/html": [
       "<style>#sk-container-id-146 {color: black;background-color: white;}#sk-container-id-146 pre{padding: 0;}#sk-container-id-146 div.sk-toggleable {background-color: white;}#sk-container-id-146 label.sk-toggleable__label {cursor: pointer;display: block;width: 100%;margin-bottom: 0;padding: 0.3em;box-sizing: border-box;text-align: center;}#sk-container-id-146 label.sk-toggleable__label-arrow:before {content: \"▸\";float: left;margin-right: 0.25em;color: #696969;}#sk-container-id-146 label.sk-toggleable__label-arrow:hover:before {color: black;}#sk-container-id-146 div.sk-estimator:hover label.sk-toggleable__label-arrow:before {color: black;}#sk-container-id-146 div.sk-toggleable__content {max-height: 0;max-width: 0;overflow: hidden;text-align: left;background-color: #f0f8ff;}#sk-container-id-146 div.sk-toggleable__content pre {margin: 0.2em;color: black;border-radius: 0.25em;background-color: #f0f8ff;}#sk-container-id-146 input.sk-toggleable__control:checked~div.sk-toggleable__content {max-height: 200px;max-width: 100%;overflow: auto;}#sk-container-id-146 input.sk-toggleable__control:checked~label.sk-toggleable__label-arrow:before {content: \"▾\";}#sk-container-id-146 div.sk-estimator input.sk-toggleable__control:checked~label.sk-toggleable__label {background-color: #d4ebff;}#sk-container-id-146 div.sk-label input.sk-toggleable__control:checked~label.sk-toggleable__label {background-color: #d4ebff;}#sk-container-id-146 input.sk-hidden--visually {border: 0;clip: rect(1px 1px 1px 1px);clip: rect(1px, 1px, 1px, 1px);height: 1px;margin: -1px;overflow: hidden;padding: 0;position: absolute;width: 1px;}#sk-container-id-146 div.sk-estimator {font-family: monospace;background-color: #f0f8ff;border: 1px dotted black;border-radius: 0.25em;box-sizing: border-box;margin-bottom: 0.5em;}#sk-container-id-146 div.sk-estimator:hover {background-color: #d4ebff;}#sk-container-id-146 div.sk-parallel-item::after {content: \"\";width: 100%;border-bottom: 1px solid gray;flex-grow: 1;}#sk-container-id-146 div.sk-label:hover label.sk-toggleable__label {background-color: #d4ebff;}#sk-container-id-146 div.sk-serial::before {content: \"\";position: absolute;border-left: 1px solid gray;box-sizing: border-box;top: 0;bottom: 0;left: 50%;z-index: 0;}#sk-container-id-146 div.sk-serial {display: flex;flex-direction: column;align-items: center;background-color: white;padding-right: 0.2em;padding-left: 0.2em;position: relative;}#sk-container-id-146 div.sk-item {position: relative;z-index: 1;}#sk-container-id-146 div.sk-parallel {display: flex;align-items: stretch;justify-content: center;background-color: white;position: relative;}#sk-container-id-146 div.sk-item::before, #sk-container-id-146 div.sk-parallel-item::before {content: \"\";position: absolute;border-left: 1px solid gray;box-sizing: border-box;top: 0;bottom: 0;left: 50%;z-index: -1;}#sk-container-id-146 div.sk-parallel-item {display: flex;flex-direction: column;z-index: 1;position: relative;background-color: white;}#sk-container-id-146 div.sk-parallel-item:first-child::after {align-self: flex-end;width: 50%;}#sk-container-id-146 div.sk-parallel-item:last-child::after {align-self: flex-start;width: 50%;}#sk-container-id-146 div.sk-parallel-item:only-child::after {width: 0;}#sk-container-id-146 div.sk-dashed-wrapped {border: 1px dashed gray;margin: 0 0.4em 0.5em 0.4em;box-sizing: border-box;padding-bottom: 0.4em;background-color: white;}#sk-container-id-146 div.sk-label label {font-family: monospace;font-weight: bold;display: inline-block;line-height: 1.2em;}#sk-container-id-146 div.sk-label-container {text-align: center;}#sk-container-id-146 div.sk-container {/* jupyter's `normalize.less` sets `[hidden] { display: none; }` but bootstrap.min.css set `[hidden] { display: none !important; }` so we also need the `!important` here to be able to override the default hidden behavior on the sphinx rendered scikit-learn.org. See: https://github.com/scikit-learn/scikit-learn/issues/21755 */display: inline-block !important;position: relative;}#sk-container-id-146 div.sk-text-repr-fallback {display: none;}</style><div id=\"sk-container-id-146\" class=\"sk-top-container\"><div class=\"sk-text-repr-fallback\"><pre>DecisionTreeClassifier(max_depth=4, max_features=0.4, min_samples_leaf=10,\n",
       "                       random_state=0)</pre><b>In a Jupyter environment, please rerun this cell to show the HTML representation or trust the notebook. <br />On GitHub, the HTML representation is unable to render, please try loading this page with nbviewer.org.</b></div><div class=\"sk-container\" hidden><div class=\"sk-item\"><div class=\"sk-estimator sk-toggleable\"><input class=\"sk-toggleable__control sk-hidden--visually\" id=\"sk-estimator-id-146\" type=\"checkbox\" checked><label for=\"sk-estimator-id-146\" class=\"sk-toggleable__label sk-toggleable__label-arrow\">DecisionTreeClassifier</label><div class=\"sk-toggleable__content\"><pre>DecisionTreeClassifier(max_depth=4, max_features=0.4, min_samples_leaf=10,\n",
       "                       random_state=0)</pre></div></div></div></div></div>"
      ],
      "text/plain": [
       "DecisionTreeClassifier(max_depth=4, max_features=0.4, min_samples_leaf=10,\n",
       "                       random_state=0)"
      ]
     },
     "execution_count": 1007,
     "metadata": {},
     "output_type": "execute_result"
    }
   ],
   "source": [
    "best_DTC.fit(X_train[best_CMWH_feature3], y_train)"
   ]
  },
  {
   "cell_type": "markdown",
   "id": "cbe3277f",
   "metadata": {},
   "source": [
    "### 2. Make prediction with test data set."
   ]
  },
  {
   "cell_type": "code",
   "execution_count": 1008,
   "id": "279a2b64",
   "metadata": {
    "scrolled": true
   },
   "outputs": [
    {
     "data": {
      "text/plain": [
       "array([0, 1, 0, 0, 1, 0, 1, 1, 0, 1, 0, 0, 1, 0, 1, 1, 1, 0, 0, 0, 1, 0,\n",
       "       0, 1, 1, 1, 0, 1, 0, 1, 0, 0, 0, 1, 0, 1, 1, 1, 1, 1, 1, 0, 1, 1,\n",
       "       1, 0, 1, 1, 0, 0, 0, 0, 0, 1, 0, 1, 0, 1, 0, 1, 1], dtype=int64)"
      ]
     },
     "execution_count": 1008,
     "metadata": {},
     "output_type": "execute_result"
    }
   ],
   "source": [
    "DTC_prediction9 = best_DTC.predict(X_test[best_CMWH_feature3])\n",
    "DTC_prediction9"
   ]
  },
  {
   "cell_type": "markdown",
   "id": "714d4dd4",
   "metadata": {},
   "source": [
    "## Case 7 Information:\n",
    "**Method of Feature selection:** Univariate Selection\n",
    "\n",
    "**With parameter tuning ?:** NO\n",
    "\n",
    "**Number of features:** 4\n",
    "\n",
    "**Ratio:** 80:20"
   ]
  },
  {
   "cell_type": "markdown",
   "id": "b9ae0d01",
   "metadata": {},
   "source": [
    "### 1. Train the data with Case 7."
   ]
  },
  {
   "cell_type": "code",
   "execution_count": 1009,
   "id": "bff48558",
   "metadata": {
    "scrolled": true
   },
   "outputs": [
    {
     "data": {
      "text/html": [
       "<style>#sk-container-id-147 {color: black;background-color: white;}#sk-container-id-147 pre{padding: 0;}#sk-container-id-147 div.sk-toggleable {background-color: white;}#sk-container-id-147 label.sk-toggleable__label {cursor: pointer;display: block;width: 100%;margin-bottom: 0;padding: 0.3em;box-sizing: border-box;text-align: center;}#sk-container-id-147 label.sk-toggleable__label-arrow:before {content: \"▸\";float: left;margin-right: 0.25em;color: #696969;}#sk-container-id-147 label.sk-toggleable__label-arrow:hover:before {color: black;}#sk-container-id-147 div.sk-estimator:hover label.sk-toggleable__label-arrow:before {color: black;}#sk-container-id-147 div.sk-toggleable__content {max-height: 0;max-width: 0;overflow: hidden;text-align: left;background-color: #f0f8ff;}#sk-container-id-147 div.sk-toggleable__content pre {margin: 0.2em;color: black;border-radius: 0.25em;background-color: #f0f8ff;}#sk-container-id-147 input.sk-toggleable__control:checked~div.sk-toggleable__content {max-height: 200px;max-width: 100%;overflow: auto;}#sk-container-id-147 input.sk-toggleable__control:checked~label.sk-toggleable__label-arrow:before {content: \"▾\";}#sk-container-id-147 div.sk-estimator input.sk-toggleable__control:checked~label.sk-toggleable__label {background-color: #d4ebff;}#sk-container-id-147 div.sk-label input.sk-toggleable__control:checked~label.sk-toggleable__label {background-color: #d4ebff;}#sk-container-id-147 input.sk-hidden--visually {border: 0;clip: rect(1px 1px 1px 1px);clip: rect(1px, 1px, 1px, 1px);height: 1px;margin: -1px;overflow: hidden;padding: 0;position: absolute;width: 1px;}#sk-container-id-147 div.sk-estimator {font-family: monospace;background-color: #f0f8ff;border: 1px dotted black;border-radius: 0.25em;box-sizing: border-box;margin-bottom: 0.5em;}#sk-container-id-147 div.sk-estimator:hover {background-color: #d4ebff;}#sk-container-id-147 div.sk-parallel-item::after {content: \"\";width: 100%;border-bottom: 1px solid gray;flex-grow: 1;}#sk-container-id-147 div.sk-label:hover label.sk-toggleable__label {background-color: #d4ebff;}#sk-container-id-147 div.sk-serial::before {content: \"\";position: absolute;border-left: 1px solid gray;box-sizing: border-box;top: 0;bottom: 0;left: 50%;z-index: 0;}#sk-container-id-147 div.sk-serial {display: flex;flex-direction: column;align-items: center;background-color: white;padding-right: 0.2em;padding-left: 0.2em;position: relative;}#sk-container-id-147 div.sk-item {position: relative;z-index: 1;}#sk-container-id-147 div.sk-parallel {display: flex;align-items: stretch;justify-content: center;background-color: white;position: relative;}#sk-container-id-147 div.sk-item::before, #sk-container-id-147 div.sk-parallel-item::before {content: \"\";position: absolute;border-left: 1px solid gray;box-sizing: border-box;top: 0;bottom: 0;left: 50%;z-index: -1;}#sk-container-id-147 div.sk-parallel-item {display: flex;flex-direction: column;z-index: 1;position: relative;background-color: white;}#sk-container-id-147 div.sk-parallel-item:first-child::after {align-self: flex-end;width: 50%;}#sk-container-id-147 div.sk-parallel-item:last-child::after {align-self: flex-start;width: 50%;}#sk-container-id-147 div.sk-parallel-item:only-child::after {width: 0;}#sk-container-id-147 div.sk-dashed-wrapped {border: 1px dashed gray;margin: 0 0.4em 0.5em 0.4em;box-sizing: border-box;padding-bottom: 0.4em;background-color: white;}#sk-container-id-147 div.sk-label label {font-family: monospace;font-weight: bold;display: inline-block;line-height: 1.2em;}#sk-container-id-147 div.sk-label-container {text-align: center;}#sk-container-id-147 div.sk-container {/* jupyter's `normalize.less` sets `[hidden] { display: none; }` but bootstrap.min.css set `[hidden] { display: none !important; }` so we also need the `!important` here to be able to override the default hidden behavior on the sphinx rendered scikit-learn.org. See: https://github.com/scikit-learn/scikit-learn/issues/21755 */display: inline-block !important;position: relative;}#sk-container-id-147 div.sk-text-repr-fallback {display: none;}</style><div id=\"sk-container-id-147\" class=\"sk-top-container\"><div class=\"sk-text-repr-fallback\"><pre>DecisionTreeClassifier(random_state=0)</pre><b>In a Jupyter environment, please rerun this cell to show the HTML representation or trust the notebook. <br />On GitHub, the HTML representation is unable to render, please try loading this page with nbviewer.org.</b></div><div class=\"sk-container\" hidden><div class=\"sk-item\"><div class=\"sk-estimator sk-toggleable\"><input class=\"sk-toggleable__control sk-hidden--visually\" id=\"sk-estimator-id-147\" type=\"checkbox\" checked><label for=\"sk-estimator-id-147\" class=\"sk-toggleable__label sk-toggleable__label-arrow\">DecisionTreeClassifier</label><div class=\"sk-toggleable__content\"><pre>DecisionTreeClassifier(random_state=0)</pre></div></div></div></div></div>"
      ],
      "text/plain": [
       "DecisionTreeClassifier(random_state=0)"
      ]
     },
     "execution_count": 1009,
     "metadata": {},
     "output_type": "execute_result"
    }
   ],
   "source": [
    "DTC.fit(X_train[best_US_feature1], y_train)"
   ]
  },
  {
   "cell_type": "markdown",
   "id": "a7d9aa7c",
   "metadata": {},
   "source": [
    "### 2. Make prediction with test data set."
   ]
  },
  {
   "cell_type": "code",
   "execution_count": 1010,
   "id": "27b7bea8",
   "metadata": {
    "scrolled": true
   },
   "outputs": [
    {
     "data": {
      "text/plain": [
       "array([0, 0, 1, 1, 1, 1, 1, 0, 0, 0, 1, 0, 1, 0, 1, 1, 1, 0, 0, 0, 0, 1,\n",
       "       0, 1, 0, 1, 1, 1, 0, 0, 0, 0, 0, 0, 1, 0, 1, 1, 1, 1, 1, 1, 1, 1,\n",
       "       1, 0, 1, 1, 0, 0, 0, 0, 1, 1, 0, 0, 1, 1, 0, 0, 0], dtype=int64)"
      ]
     },
     "execution_count": 1010,
     "metadata": {},
     "output_type": "execute_result"
    }
   ],
   "source": [
    "DTC_prediction10 = DTC.predict(X_test[best_US_feature1])\n",
    "DTC_prediction10"
   ]
  },
  {
   "cell_type": "markdown",
   "id": "d221a29b",
   "metadata": {},
   "source": [
    "## Case 8 Information:\n",
    "**Method of Feature selection:** Univariate Selection\n",
    "\n",
    "**With parameter tuning ?:** YES\n",
    "\n",
    "**Number of features:** 4\n",
    "\n",
    "**Ratio:** 80:20"
   ]
  },
  {
   "cell_type": "markdown",
   "id": "42f6e64b",
   "metadata": {},
   "source": [
    "### 1. Train the data with Case 8."
   ]
  },
  {
   "cell_type": "code",
   "execution_count": 1011,
   "id": "7e95e4e5",
   "metadata": {
    "scrolled": true
   },
   "outputs": [
    {
     "data": {
      "text/html": [
       "<style>#sk-container-id-148 {color: black;background-color: white;}#sk-container-id-148 pre{padding: 0;}#sk-container-id-148 div.sk-toggleable {background-color: white;}#sk-container-id-148 label.sk-toggleable__label {cursor: pointer;display: block;width: 100%;margin-bottom: 0;padding: 0.3em;box-sizing: border-box;text-align: center;}#sk-container-id-148 label.sk-toggleable__label-arrow:before {content: \"▸\";float: left;margin-right: 0.25em;color: #696969;}#sk-container-id-148 label.sk-toggleable__label-arrow:hover:before {color: black;}#sk-container-id-148 div.sk-estimator:hover label.sk-toggleable__label-arrow:before {color: black;}#sk-container-id-148 div.sk-toggleable__content {max-height: 0;max-width: 0;overflow: hidden;text-align: left;background-color: #f0f8ff;}#sk-container-id-148 div.sk-toggleable__content pre {margin: 0.2em;color: black;border-radius: 0.25em;background-color: #f0f8ff;}#sk-container-id-148 input.sk-toggleable__control:checked~div.sk-toggleable__content {max-height: 200px;max-width: 100%;overflow: auto;}#sk-container-id-148 input.sk-toggleable__control:checked~label.sk-toggleable__label-arrow:before {content: \"▾\";}#sk-container-id-148 div.sk-estimator input.sk-toggleable__control:checked~label.sk-toggleable__label {background-color: #d4ebff;}#sk-container-id-148 div.sk-label input.sk-toggleable__control:checked~label.sk-toggleable__label {background-color: #d4ebff;}#sk-container-id-148 input.sk-hidden--visually {border: 0;clip: rect(1px 1px 1px 1px);clip: rect(1px, 1px, 1px, 1px);height: 1px;margin: -1px;overflow: hidden;padding: 0;position: absolute;width: 1px;}#sk-container-id-148 div.sk-estimator {font-family: monospace;background-color: #f0f8ff;border: 1px dotted black;border-radius: 0.25em;box-sizing: border-box;margin-bottom: 0.5em;}#sk-container-id-148 div.sk-estimator:hover {background-color: #d4ebff;}#sk-container-id-148 div.sk-parallel-item::after {content: \"\";width: 100%;border-bottom: 1px solid gray;flex-grow: 1;}#sk-container-id-148 div.sk-label:hover label.sk-toggleable__label {background-color: #d4ebff;}#sk-container-id-148 div.sk-serial::before {content: \"\";position: absolute;border-left: 1px solid gray;box-sizing: border-box;top: 0;bottom: 0;left: 50%;z-index: 0;}#sk-container-id-148 div.sk-serial {display: flex;flex-direction: column;align-items: center;background-color: white;padding-right: 0.2em;padding-left: 0.2em;position: relative;}#sk-container-id-148 div.sk-item {position: relative;z-index: 1;}#sk-container-id-148 div.sk-parallel {display: flex;align-items: stretch;justify-content: center;background-color: white;position: relative;}#sk-container-id-148 div.sk-item::before, #sk-container-id-148 div.sk-parallel-item::before {content: \"\";position: absolute;border-left: 1px solid gray;box-sizing: border-box;top: 0;bottom: 0;left: 50%;z-index: -1;}#sk-container-id-148 div.sk-parallel-item {display: flex;flex-direction: column;z-index: 1;position: relative;background-color: white;}#sk-container-id-148 div.sk-parallel-item:first-child::after {align-self: flex-end;width: 50%;}#sk-container-id-148 div.sk-parallel-item:last-child::after {align-self: flex-start;width: 50%;}#sk-container-id-148 div.sk-parallel-item:only-child::after {width: 0;}#sk-container-id-148 div.sk-dashed-wrapped {border: 1px dashed gray;margin: 0 0.4em 0.5em 0.4em;box-sizing: border-box;padding-bottom: 0.4em;background-color: white;}#sk-container-id-148 div.sk-label label {font-family: monospace;font-weight: bold;display: inline-block;line-height: 1.2em;}#sk-container-id-148 div.sk-label-container {text-align: center;}#sk-container-id-148 div.sk-container {/* jupyter's `normalize.less` sets `[hidden] { display: none; }` but bootstrap.min.css set `[hidden] { display: none !important; }` so we also need the `!important` here to be able to override the default hidden behavior on the sphinx rendered scikit-learn.org. See: https://github.com/scikit-learn/scikit-learn/issues/21755 */display: inline-block !important;position: relative;}#sk-container-id-148 div.sk-text-repr-fallback {display: none;}</style><div id=\"sk-container-id-148\" class=\"sk-top-container\"><div class=\"sk-text-repr-fallback\"><pre>DecisionTreeClassifier(max_depth=4, max_features=0.4, min_samples_leaf=10,\n",
       "                       random_state=0)</pre><b>In a Jupyter environment, please rerun this cell to show the HTML representation or trust the notebook. <br />On GitHub, the HTML representation is unable to render, please try loading this page with nbviewer.org.</b></div><div class=\"sk-container\" hidden><div class=\"sk-item\"><div class=\"sk-estimator sk-toggleable\"><input class=\"sk-toggleable__control sk-hidden--visually\" id=\"sk-estimator-id-148\" type=\"checkbox\" checked><label for=\"sk-estimator-id-148\" class=\"sk-toggleable__label sk-toggleable__label-arrow\">DecisionTreeClassifier</label><div class=\"sk-toggleable__content\"><pre>DecisionTreeClassifier(max_depth=4, max_features=0.4, min_samples_leaf=10,\n",
       "                       random_state=0)</pre></div></div></div></div></div>"
      ],
      "text/plain": [
       "DecisionTreeClassifier(max_depth=4, max_features=0.4, min_samples_leaf=10,\n",
       "                       random_state=0)"
      ]
     },
     "execution_count": 1011,
     "metadata": {},
     "output_type": "execute_result"
    }
   ],
   "source": [
    "best_DTC.fit(X_train[best_US_feature1], y_train)"
   ]
  },
  {
   "cell_type": "markdown",
   "id": "42aa9457",
   "metadata": {},
   "source": [
    "### 2. Make prediction with test data set."
   ]
  },
  {
   "cell_type": "code",
   "execution_count": 1012,
   "id": "cba904d9",
   "metadata": {
    "scrolled": true
   },
   "outputs": [
    {
     "data": {
      "text/plain": [
       "array([0, 1, 1, 1, 1, 1, 1, 0, 0, 1, 1, 0, 1, 0, 1, 1, 1, 0, 0, 0, 1, 1,\n",
       "       1, 1, 1, 1, 0, 1, 0, 1, 0, 0, 0, 0, 0, 0, 0, 1, 1, 1, 1, 1, 1, 0,\n",
       "       1, 0, 1, 1, 0, 0, 0, 0, 1, 1, 0, 0, 0, 1, 0, 0, 0], dtype=int64)"
      ]
     },
     "execution_count": 1012,
     "metadata": {},
     "output_type": "execute_result"
    }
   ],
   "source": [
    "DTC_prediction11 = best_DTC.predict(X_test[best_US_feature1])\n",
    "DTC_prediction11"
   ]
  },
  {
   "cell_type": "markdown",
   "id": "31991437",
   "metadata": {},
   "source": [
    "## Case 9 Information:\n",
    "**Method of Feature selection:** Univariate Selection\n",
    "\n",
    "**With parameter tuning ?:** NO\n",
    "\n",
    "**Number of features:** 6\n",
    "\n",
    "**Ratio:** 80:20"
   ]
  },
  {
   "cell_type": "markdown",
   "id": "65bd75fe",
   "metadata": {},
   "source": [
    "### 1. Train the data with Case 9."
   ]
  },
  {
   "cell_type": "code",
   "execution_count": 1013,
   "id": "cfaecd20",
   "metadata": {
    "scrolled": true
   },
   "outputs": [
    {
     "data": {
      "text/html": [
       "<style>#sk-container-id-149 {color: black;background-color: white;}#sk-container-id-149 pre{padding: 0;}#sk-container-id-149 div.sk-toggleable {background-color: white;}#sk-container-id-149 label.sk-toggleable__label {cursor: pointer;display: block;width: 100%;margin-bottom: 0;padding: 0.3em;box-sizing: border-box;text-align: center;}#sk-container-id-149 label.sk-toggleable__label-arrow:before {content: \"▸\";float: left;margin-right: 0.25em;color: #696969;}#sk-container-id-149 label.sk-toggleable__label-arrow:hover:before {color: black;}#sk-container-id-149 div.sk-estimator:hover label.sk-toggleable__label-arrow:before {color: black;}#sk-container-id-149 div.sk-toggleable__content {max-height: 0;max-width: 0;overflow: hidden;text-align: left;background-color: #f0f8ff;}#sk-container-id-149 div.sk-toggleable__content pre {margin: 0.2em;color: black;border-radius: 0.25em;background-color: #f0f8ff;}#sk-container-id-149 input.sk-toggleable__control:checked~div.sk-toggleable__content {max-height: 200px;max-width: 100%;overflow: auto;}#sk-container-id-149 input.sk-toggleable__control:checked~label.sk-toggleable__label-arrow:before {content: \"▾\";}#sk-container-id-149 div.sk-estimator input.sk-toggleable__control:checked~label.sk-toggleable__label {background-color: #d4ebff;}#sk-container-id-149 div.sk-label input.sk-toggleable__control:checked~label.sk-toggleable__label {background-color: #d4ebff;}#sk-container-id-149 input.sk-hidden--visually {border: 0;clip: rect(1px 1px 1px 1px);clip: rect(1px, 1px, 1px, 1px);height: 1px;margin: -1px;overflow: hidden;padding: 0;position: absolute;width: 1px;}#sk-container-id-149 div.sk-estimator {font-family: monospace;background-color: #f0f8ff;border: 1px dotted black;border-radius: 0.25em;box-sizing: border-box;margin-bottom: 0.5em;}#sk-container-id-149 div.sk-estimator:hover {background-color: #d4ebff;}#sk-container-id-149 div.sk-parallel-item::after {content: \"\";width: 100%;border-bottom: 1px solid gray;flex-grow: 1;}#sk-container-id-149 div.sk-label:hover label.sk-toggleable__label {background-color: #d4ebff;}#sk-container-id-149 div.sk-serial::before {content: \"\";position: absolute;border-left: 1px solid gray;box-sizing: border-box;top: 0;bottom: 0;left: 50%;z-index: 0;}#sk-container-id-149 div.sk-serial {display: flex;flex-direction: column;align-items: center;background-color: white;padding-right: 0.2em;padding-left: 0.2em;position: relative;}#sk-container-id-149 div.sk-item {position: relative;z-index: 1;}#sk-container-id-149 div.sk-parallel {display: flex;align-items: stretch;justify-content: center;background-color: white;position: relative;}#sk-container-id-149 div.sk-item::before, #sk-container-id-149 div.sk-parallel-item::before {content: \"\";position: absolute;border-left: 1px solid gray;box-sizing: border-box;top: 0;bottom: 0;left: 50%;z-index: -1;}#sk-container-id-149 div.sk-parallel-item {display: flex;flex-direction: column;z-index: 1;position: relative;background-color: white;}#sk-container-id-149 div.sk-parallel-item:first-child::after {align-self: flex-end;width: 50%;}#sk-container-id-149 div.sk-parallel-item:last-child::after {align-self: flex-start;width: 50%;}#sk-container-id-149 div.sk-parallel-item:only-child::after {width: 0;}#sk-container-id-149 div.sk-dashed-wrapped {border: 1px dashed gray;margin: 0 0.4em 0.5em 0.4em;box-sizing: border-box;padding-bottom: 0.4em;background-color: white;}#sk-container-id-149 div.sk-label label {font-family: monospace;font-weight: bold;display: inline-block;line-height: 1.2em;}#sk-container-id-149 div.sk-label-container {text-align: center;}#sk-container-id-149 div.sk-container {/* jupyter's `normalize.less` sets `[hidden] { display: none; }` but bootstrap.min.css set `[hidden] { display: none !important; }` so we also need the `!important` here to be able to override the default hidden behavior on the sphinx rendered scikit-learn.org. See: https://github.com/scikit-learn/scikit-learn/issues/21755 */display: inline-block !important;position: relative;}#sk-container-id-149 div.sk-text-repr-fallback {display: none;}</style><div id=\"sk-container-id-149\" class=\"sk-top-container\"><div class=\"sk-text-repr-fallback\"><pre>DecisionTreeClassifier(random_state=0)</pre><b>In a Jupyter environment, please rerun this cell to show the HTML representation or trust the notebook. <br />On GitHub, the HTML representation is unable to render, please try loading this page with nbviewer.org.</b></div><div class=\"sk-container\" hidden><div class=\"sk-item\"><div class=\"sk-estimator sk-toggleable\"><input class=\"sk-toggleable__control sk-hidden--visually\" id=\"sk-estimator-id-149\" type=\"checkbox\" checked><label for=\"sk-estimator-id-149\" class=\"sk-toggleable__label sk-toggleable__label-arrow\">DecisionTreeClassifier</label><div class=\"sk-toggleable__content\"><pre>DecisionTreeClassifier(random_state=0)</pre></div></div></div></div></div>"
      ],
      "text/plain": [
       "DecisionTreeClassifier(random_state=0)"
      ]
     },
     "execution_count": 1013,
     "metadata": {},
     "output_type": "execute_result"
    }
   ],
   "source": [
    "DTC.fit(X_train[best_US_feature2], y_train)"
   ]
  },
  {
   "cell_type": "markdown",
   "id": "ef722b87",
   "metadata": {},
   "source": [
    "### 2. Make prediction with test data set."
   ]
  },
  {
   "cell_type": "code",
   "execution_count": 1014,
   "id": "f8860f14",
   "metadata": {
    "scrolled": true
   },
   "outputs": [
    {
     "data": {
      "text/plain": [
       "array([0, 1, 0, 1, 1, 0, 1, 0, 0, 1, 1, 1, 1, 0, 1, 1, 1, 0, 0, 0, 0, 0,\n",
       "       1, 1, 1, 0, 0, 1, 0, 1, 0, 0, 1, 0, 1, 0, 0, 0, 1, 1, 1, 0, 1, 0,\n",
       "       1, 0, 0, 1, 0, 0, 0, 0, 1, 0, 0, 0, 0, 1, 0, 1, 0], dtype=int64)"
      ]
     },
     "execution_count": 1014,
     "metadata": {},
     "output_type": "execute_result"
    }
   ],
   "source": [
    "DTC_prediction12 = DTC.predict(X_test[best_US_feature2])\n",
    "DTC_prediction12"
   ]
  },
  {
   "cell_type": "markdown",
   "id": "b1c7a169",
   "metadata": {},
   "source": [
    "## Case 10 Information:\n",
    "**Method of Feature selection:** Univariate Selection\n",
    "\n",
    "**With parameter tuning ?:** YES\n",
    "\n",
    "**Number of features:** 6\n",
    "\n",
    "**Ratio:** 80:20"
   ]
  },
  {
   "cell_type": "markdown",
   "id": "7af95ff7",
   "metadata": {},
   "source": [
    "### 1. Train the data with Case 10."
   ]
  },
  {
   "cell_type": "code",
   "execution_count": 1015,
   "id": "60ebde3e",
   "metadata": {
    "scrolled": true
   },
   "outputs": [
    {
     "data": {
      "text/html": [
       "<style>#sk-container-id-150 {color: black;background-color: white;}#sk-container-id-150 pre{padding: 0;}#sk-container-id-150 div.sk-toggleable {background-color: white;}#sk-container-id-150 label.sk-toggleable__label {cursor: pointer;display: block;width: 100%;margin-bottom: 0;padding: 0.3em;box-sizing: border-box;text-align: center;}#sk-container-id-150 label.sk-toggleable__label-arrow:before {content: \"▸\";float: left;margin-right: 0.25em;color: #696969;}#sk-container-id-150 label.sk-toggleable__label-arrow:hover:before {color: black;}#sk-container-id-150 div.sk-estimator:hover label.sk-toggleable__label-arrow:before {color: black;}#sk-container-id-150 div.sk-toggleable__content {max-height: 0;max-width: 0;overflow: hidden;text-align: left;background-color: #f0f8ff;}#sk-container-id-150 div.sk-toggleable__content pre {margin: 0.2em;color: black;border-radius: 0.25em;background-color: #f0f8ff;}#sk-container-id-150 input.sk-toggleable__control:checked~div.sk-toggleable__content {max-height: 200px;max-width: 100%;overflow: auto;}#sk-container-id-150 input.sk-toggleable__control:checked~label.sk-toggleable__label-arrow:before {content: \"▾\";}#sk-container-id-150 div.sk-estimator input.sk-toggleable__control:checked~label.sk-toggleable__label {background-color: #d4ebff;}#sk-container-id-150 div.sk-label input.sk-toggleable__control:checked~label.sk-toggleable__label {background-color: #d4ebff;}#sk-container-id-150 input.sk-hidden--visually {border: 0;clip: rect(1px 1px 1px 1px);clip: rect(1px, 1px, 1px, 1px);height: 1px;margin: -1px;overflow: hidden;padding: 0;position: absolute;width: 1px;}#sk-container-id-150 div.sk-estimator {font-family: monospace;background-color: #f0f8ff;border: 1px dotted black;border-radius: 0.25em;box-sizing: border-box;margin-bottom: 0.5em;}#sk-container-id-150 div.sk-estimator:hover {background-color: #d4ebff;}#sk-container-id-150 div.sk-parallel-item::after {content: \"\";width: 100%;border-bottom: 1px solid gray;flex-grow: 1;}#sk-container-id-150 div.sk-label:hover label.sk-toggleable__label {background-color: #d4ebff;}#sk-container-id-150 div.sk-serial::before {content: \"\";position: absolute;border-left: 1px solid gray;box-sizing: border-box;top: 0;bottom: 0;left: 50%;z-index: 0;}#sk-container-id-150 div.sk-serial {display: flex;flex-direction: column;align-items: center;background-color: white;padding-right: 0.2em;padding-left: 0.2em;position: relative;}#sk-container-id-150 div.sk-item {position: relative;z-index: 1;}#sk-container-id-150 div.sk-parallel {display: flex;align-items: stretch;justify-content: center;background-color: white;position: relative;}#sk-container-id-150 div.sk-item::before, #sk-container-id-150 div.sk-parallel-item::before {content: \"\";position: absolute;border-left: 1px solid gray;box-sizing: border-box;top: 0;bottom: 0;left: 50%;z-index: -1;}#sk-container-id-150 div.sk-parallel-item {display: flex;flex-direction: column;z-index: 1;position: relative;background-color: white;}#sk-container-id-150 div.sk-parallel-item:first-child::after {align-self: flex-end;width: 50%;}#sk-container-id-150 div.sk-parallel-item:last-child::after {align-self: flex-start;width: 50%;}#sk-container-id-150 div.sk-parallel-item:only-child::after {width: 0;}#sk-container-id-150 div.sk-dashed-wrapped {border: 1px dashed gray;margin: 0 0.4em 0.5em 0.4em;box-sizing: border-box;padding-bottom: 0.4em;background-color: white;}#sk-container-id-150 div.sk-label label {font-family: monospace;font-weight: bold;display: inline-block;line-height: 1.2em;}#sk-container-id-150 div.sk-label-container {text-align: center;}#sk-container-id-150 div.sk-container {/* jupyter's `normalize.less` sets `[hidden] { display: none; }` but bootstrap.min.css set `[hidden] { display: none !important; }` so we also need the `!important` here to be able to override the default hidden behavior on the sphinx rendered scikit-learn.org. See: https://github.com/scikit-learn/scikit-learn/issues/21755 */display: inline-block !important;position: relative;}#sk-container-id-150 div.sk-text-repr-fallback {display: none;}</style><div id=\"sk-container-id-150\" class=\"sk-top-container\"><div class=\"sk-text-repr-fallback\"><pre>DecisionTreeClassifier(max_depth=4, max_features=0.4, min_samples_leaf=10,\n",
       "                       random_state=0)</pre><b>In a Jupyter environment, please rerun this cell to show the HTML representation or trust the notebook. <br />On GitHub, the HTML representation is unable to render, please try loading this page with nbviewer.org.</b></div><div class=\"sk-container\" hidden><div class=\"sk-item\"><div class=\"sk-estimator sk-toggleable\"><input class=\"sk-toggleable__control sk-hidden--visually\" id=\"sk-estimator-id-150\" type=\"checkbox\" checked><label for=\"sk-estimator-id-150\" class=\"sk-toggleable__label sk-toggleable__label-arrow\">DecisionTreeClassifier</label><div class=\"sk-toggleable__content\"><pre>DecisionTreeClassifier(max_depth=4, max_features=0.4, min_samples_leaf=10,\n",
       "                       random_state=0)</pre></div></div></div></div></div>"
      ],
      "text/plain": [
       "DecisionTreeClassifier(max_depth=4, max_features=0.4, min_samples_leaf=10,\n",
       "                       random_state=0)"
      ]
     },
     "execution_count": 1015,
     "metadata": {},
     "output_type": "execute_result"
    }
   ],
   "source": [
    "best_DTC.fit(X_train[best_US_feature2], y_train)"
   ]
  },
  {
   "cell_type": "markdown",
   "id": "32016e96",
   "metadata": {},
   "source": [
    "### 2. Make prediction with test data set."
   ]
  },
  {
   "cell_type": "code",
   "execution_count": 1016,
   "id": "89217f82",
   "metadata": {
    "scrolled": true
   },
   "outputs": [
    {
     "data": {
      "text/plain": [
       "array([0, 1, 0, 1, 1, 1, 1, 0, 0, 0, 0, 0, 1, 1, 1, 1, 1, 0, 0, 0, 1, 0,\n",
       "       0, 0, 1, 1, 0, 1, 0, 1, 0, 0, 0, 0, 0, 0, 0, 0, 1, 1, 0, 1, 1, 0,\n",
       "       1, 0, 1, 1, 0, 0, 0, 0, 1, 0, 1, 0, 0, 1, 0, 0, 0], dtype=int64)"
      ]
     },
     "execution_count": 1016,
     "metadata": {},
     "output_type": "execute_result"
    }
   ],
   "source": [
    "DTC_prediction13 = best_DTC.predict(X_test[best_US_feature2])\n",
    "DTC_prediction13"
   ]
  },
  {
   "cell_type": "markdown",
   "id": "acfcfb94",
   "metadata": {},
   "source": [
    "## Case 11 Information:\n",
    "**Method of Feature selection:** Univariate Selection\n",
    "\n",
    "**With parameter tuning ?:** NO\n",
    "\n",
    "**Number of features:** 8\n",
    "\n",
    "**Ratio:** 80:20"
   ]
  },
  {
   "cell_type": "markdown",
   "id": "195e29e0",
   "metadata": {},
   "source": [
    "### 1. Train the data with Case 11."
   ]
  },
  {
   "cell_type": "code",
   "execution_count": 1017,
   "id": "d05efab6",
   "metadata": {
    "scrolled": true
   },
   "outputs": [
    {
     "data": {
      "text/html": [
       "<style>#sk-container-id-151 {color: black;background-color: white;}#sk-container-id-151 pre{padding: 0;}#sk-container-id-151 div.sk-toggleable {background-color: white;}#sk-container-id-151 label.sk-toggleable__label {cursor: pointer;display: block;width: 100%;margin-bottom: 0;padding: 0.3em;box-sizing: border-box;text-align: center;}#sk-container-id-151 label.sk-toggleable__label-arrow:before {content: \"▸\";float: left;margin-right: 0.25em;color: #696969;}#sk-container-id-151 label.sk-toggleable__label-arrow:hover:before {color: black;}#sk-container-id-151 div.sk-estimator:hover label.sk-toggleable__label-arrow:before {color: black;}#sk-container-id-151 div.sk-toggleable__content {max-height: 0;max-width: 0;overflow: hidden;text-align: left;background-color: #f0f8ff;}#sk-container-id-151 div.sk-toggleable__content pre {margin: 0.2em;color: black;border-radius: 0.25em;background-color: #f0f8ff;}#sk-container-id-151 input.sk-toggleable__control:checked~div.sk-toggleable__content {max-height: 200px;max-width: 100%;overflow: auto;}#sk-container-id-151 input.sk-toggleable__control:checked~label.sk-toggleable__label-arrow:before {content: \"▾\";}#sk-container-id-151 div.sk-estimator input.sk-toggleable__control:checked~label.sk-toggleable__label {background-color: #d4ebff;}#sk-container-id-151 div.sk-label input.sk-toggleable__control:checked~label.sk-toggleable__label {background-color: #d4ebff;}#sk-container-id-151 input.sk-hidden--visually {border: 0;clip: rect(1px 1px 1px 1px);clip: rect(1px, 1px, 1px, 1px);height: 1px;margin: -1px;overflow: hidden;padding: 0;position: absolute;width: 1px;}#sk-container-id-151 div.sk-estimator {font-family: monospace;background-color: #f0f8ff;border: 1px dotted black;border-radius: 0.25em;box-sizing: border-box;margin-bottom: 0.5em;}#sk-container-id-151 div.sk-estimator:hover {background-color: #d4ebff;}#sk-container-id-151 div.sk-parallel-item::after {content: \"\";width: 100%;border-bottom: 1px solid gray;flex-grow: 1;}#sk-container-id-151 div.sk-label:hover label.sk-toggleable__label {background-color: #d4ebff;}#sk-container-id-151 div.sk-serial::before {content: \"\";position: absolute;border-left: 1px solid gray;box-sizing: border-box;top: 0;bottom: 0;left: 50%;z-index: 0;}#sk-container-id-151 div.sk-serial {display: flex;flex-direction: column;align-items: center;background-color: white;padding-right: 0.2em;padding-left: 0.2em;position: relative;}#sk-container-id-151 div.sk-item {position: relative;z-index: 1;}#sk-container-id-151 div.sk-parallel {display: flex;align-items: stretch;justify-content: center;background-color: white;position: relative;}#sk-container-id-151 div.sk-item::before, #sk-container-id-151 div.sk-parallel-item::before {content: \"\";position: absolute;border-left: 1px solid gray;box-sizing: border-box;top: 0;bottom: 0;left: 50%;z-index: -1;}#sk-container-id-151 div.sk-parallel-item {display: flex;flex-direction: column;z-index: 1;position: relative;background-color: white;}#sk-container-id-151 div.sk-parallel-item:first-child::after {align-self: flex-end;width: 50%;}#sk-container-id-151 div.sk-parallel-item:last-child::after {align-self: flex-start;width: 50%;}#sk-container-id-151 div.sk-parallel-item:only-child::after {width: 0;}#sk-container-id-151 div.sk-dashed-wrapped {border: 1px dashed gray;margin: 0 0.4em 0.5em 0.4em;box-sizing: border-box;padding-bottom: 0.4em;background-color: white;}#sk-container-id-151 div.sk-label label {font-family: monospace;font-weight: bold;display: inline-block;line-height: 1.2em;}#sk-container-id-151 div.sk-label-container {text-align: center;}#sk-container-id-151 div.sk-container {/* jupyter's `normalize.less` sets `[hidden] { display: none; }` but bootstrap.min.css set `[hidden] { display: none !important; }` so we also need the `!important` here to be able to override the default hidden behavior on the sphinx rendered scikit-learn.org. See: https://github.com/scikit-learn/scikit-learn/issues/21755 */display: inline-block !important;position: relative;}#sk-container-id-151 div.sk-text-repr-fallback {display: none;}</style><div id=\"sk-container-id-151\" class=\"sk-top-container\"><div class=\"sk-text-repr-fallback\"><pre>DecisionTreeClassifier(random_state=0)</pre><b>In a Jupyter environment, please rerun this cell to show the HTML representation or trust the notebook. <br />On GitHub, the HTML representation is unable to render, please try loading this page with nbviewer.org.</b></div><div class=\"sk-container\" hidden><div class=\"sk-item\"><div class=\"sk-estimator sk-toggleable\"><input class=\"sk-toggleable__control sk-hidden--visually\" id=\"sk-estimator-id-151\" type=\"checkbox\" checked><label for=\"sk-estimator-id-151\" class=\"sk-toggleable__label sk-toggleable__label-arrow\">DecisionTreeClassifier</label><div class=\"sk-toggleable__content\"><pre>DecisionTreeClassifier(random_state=0)</pre></div></div></div></div></div>"
      ],
      "text/plain": [
       "DecisionTreeClassifier(random_state=0)"
      ]
     },
     "execution_count": 1017,
     "metadata": {},
     "output_type": "execute_result"
    }
   ],
   "source": [
    "DTC.fit(X_train[best_US_feature3], y_train)"
   ]
  },
  {
   "cell_type": "markdown",
   "id": "39dc3221",
   "metadata": {},
   "source": [
    "### 2. Make prediction with test data set."
   ]
  },
  {
   "cell_type": "code",
   "execution_count": 1018,
   "id": "3a239296",
   "metadata": {
    "scrolled": true
   },
   "outputs": [
    {
     "data": {
      "text/plain": [
       "array([0, 0, 0, 1, 1, 0, 1, 0, 0, 1, 1, 0, 1, 0, 1, 1, 1, 0, 0, 0, 1, 0,\n",
       "       1, 1, 1, 0, 0, 1, 0, 0, 0, 0, 0, 0, 1, 0, 0, 1, 1, 1, 1, 1, 1, 0,\n",
       "       1, 0, 0, 1, 0, 0, 0, 0, 1, 0, 0, 0, 0, 1, 0, 0, 0], dtype=int64)"
      ]
     },
     "execution_count": 1018,
     "metadata": {},
     "output_type": "execute_result"
    }
   ],
   "source": [
    "DTC_prediction14 = DTC.predict(X_test[best_US_feature3])\n",
    "DTC_prediction14"
   ]
  },
  {
   "cell_type": "markdown",
   "id": "7c594c14",
   "metadata": {},
   "source": [
    "## Case 12 Information:\n",
    "**Method of Feature selection:** Univariate Selection\n",
    "\n",
    "**With parameter tuning ?:** YES\n",
    "\n",
    "**Number of features:** 8\n",
    "\n",
    "**Ratio:** 80:20"
   ]
  },
  {
   "cell_type": "markdown",
   "id": "eddbbf65",
   "metadata": {},
   "source": [
    "### 1. Train the data with Case 12."
   ]
  },
  {
   "cell_type": "code",
   "execution_count": 1019,
   "id": "58eb18cf",
   "metadata": {
    "scrolled": true
   },
   "outputs": [
    {
     "data": {
      "text/html": [
       "<style>#sk-container-id-152 {color: black;background-color: white;}#sk-container-id-152 pre{padding: 0;}#sk-container-id-152 div.sk-toggleable {background-color: white;}#sk-container-id-152 label.sk-toggleable__label {cursor: pointer;display: block;width: 100%;margin-bottom: 0;padding: 0.3em;box-sizing: border-box;text-align: center;}#sk-container-id-152 label.sk-toggleable__label-arrow:before {content: \"▸\";float: left;margin-right: 0.25em;color: #696969;}#sk-container-id-152 label.sk-toggleable__label-arrow:hover:before {color: black;}#sk-container-id-152 div.sk-estimator:hover label.sk-toggleable__label-arrow:before {color: black;}#sk-container-id-152 div.sk-toggleable__content {max-height: 0;max-width: 0;overflow: hidden;text-align: left;background-color: #f0f8ff;}#sk-container-id-152 div.sk-toggleable__content pre {margin: 0.2em;color: black;border-radius: 0.25em;background-color: #f0f8ff;}#sk-container-id-152 input.sk-toggleable__control:checked~div.sk-toggleable__content {max-height: 200px;max-width: 100%;overflow: auto;}#sk-container-id-152 input.sk-toggleable__control:checked~label.sk-toggleable__label-arrow:before {content: \"▾\";}#sk-container-id-152 div.sk-estimator input.sk-toggleable__control:checked~label.sk-toggleable__label {background-color: #d4ebff;}#sk-container-id-152 div.sk-label input.sk-toggleable__control:checked~label.sk-toggleable__label {background-color: #d4ebff;}#sk-container-id-152 input.sk-hidden--visually {border: 0;clip: rect(1px 1px 1px 1px);clip: rect(1px, 1px, 1px, 1px);height: 1px;margin: -1px;overflow: hidden;padding: 0;position: absolute;width: 1px;}#sk-container-id-152 div.sk-estimator {font-family: monospace;background-color: #f0f8ff;border: 1px dotted black;border-radius: 0.25em;box-sizing: border-box;margin-bottom: 0.5em;}#sk-container-id-152 div.sk-estimator:hover {background-color: #d4ebff;}#sk-container-id-152 div.sk-parallel-item::after {content: \"\";width: 100%;border-bottom: 1px solid gray;flex-grow: 1;}#sk-container-id-152 div.sk-label:hover label.sk-toggleable__label {background-color: #d4ebff;}#sk-container-id-152 div.sk-serial::before {content: \"\";position: absolute;border-left: 1px solid gray;box-sizing: border-box;top: 0;bottom: 0;left: 50%;z-index: 0;}#sk-container-id-152 div.sk-serial {display: flex;flex-direction: column;align-items: center;background-color: white;padding-right: 0.2em;padding-left: 0.2em;position: relative;}#sk-container-id-152 div.sk-item {position: relative;z-index: 1;}#sk-container-id-152 div.sk-parallel {display: flex;align-items: stretch;justify-content: center;background-color: white;position: relative;}#sk-container-id-152 div.sk-item::before, #sk-container-id-152 div.sk-parallel-item::before {content: \"\";position: absolute;border-left: 1px solid gray;box-sizing: border-box;top: 0;bottom: 0;left: 50%;z-index: -1;}#sk-container-id-152 div.sk-parallel-item {display: flex;flex-direction: column;z-index: 1;position: relative;background-color: white;}#sk-container-id-152 div.sk-parallel-item:first-child::after {align-self: flex-end;width: 50%;}#sk-container-id-152 div.sk-parallel-item:last-child::after {align-self: flex-start;width: 50%;}#sk-container-id-152 div.sk-parallel-item:only-child::after {width: 0;}#sk-container-id-152 div.sk-dashed-wrapped {border: 1px dashed gray;margin: 0 0.4em 0.5em 0.4em;box-sizing: border-box;padding-bottom: 0.4em;background-color: white;}#sk-container-id-152 div.sk-label label {font-family: monospace;font-weight: bold;display: inline-block;line-height: 1.2em;}#sk-container-id-152 div.sk-label-container {text-align: center;}#sk-container-id-152 div.sk-container {/* jupyter's `normalize.less` sets `[hidden] { display: none; }` but bootstrap.min.css set `[hidden] { display: none !important; }` so we also need the `!important` here to be able to override the default hidden behavior on the sphinx rendered scikit-learn.org. See: https://github.com/scikit-learn/scikit-learn/issues/21755 */display: inline-block !important;position: relative;}#sk-container-id-152 div.sk-text-repr-fallback {display: none;}</style><div id=\"sk-container-id-152\" class=\"sk-top-container\"><div class=\"sk-text-repr-fallback\"><pre>DecisionTreeClassifier(max_depth=4, max_features=0.4, min_samples_leaf=10,\n",
       "                       random_state=0)</pre><b>In a Jupyter environment, please rerun this cell to show the HTML representation or trust the notebook. <br />On GitHub, the HTML representation is unable to render, please try loading this page with nbviewer.org.</b></div><div class=\"sk-container\" hidden><div class=\"sk-item\"><div class=\"sk-estimator sk-toggleable\"><input class=\"sk-toggleable__control sk-hidden--visually\" id=\"sk-estimator-id-152\" type=\"checkbox\" checked><label for=\"sk-estimator-id-152\" class=\"sk-toggleable__label sk-toggleable__label-arrow\">DecisionTreeClassifier</label><div class=\"sk-toggleable__content\"><pre>DecisionTreeClassifier(max_depth=4, max_features=0.4, min_samples_leaf=10,\n",
       "                       random_state=0)</pre></div></div></div></div></div>"
      ],
      "text/plain": [
       "DecisionTreeClassifier(max_depth=4, max_features=0.4, min_samples_leaf=10,\n",
       "                       random_state=0)"
      ]
     },
     "execution_count": 1019,
     "metadata": {},
     "output_type": "execute_result"
    }
   ],
   "source": [
    "best_DTC.fit(X_train[best_US_feature3], y_train)"
   ]
  },
  {
   "cell_type": "markdown",
   "id": "4d6f8cbe",
   "metadata": {},
   "source": [
    "### 2. Make prediction with test data set."
   ]
  },
  {
   "cell_type": "code",
   "execution_count": 1020,
   "id": "a1a46e0d",
   "metadata": {
    "scrolled": true
   },
   "outputs": [
    {
     "data": {
      "text/plain": [
       "array([0, 1, 1, 1, 1, 1, 1, 0, 0, 1, 1, 0, 1, 0, 1, 1, 1, 0, 0, 0, 1, 0,\n",
       "       0, 1, 1, 1, 0, 1, 0, 1, 0, 0, 0, 0, 0, 0, 0, 1, 1, 1, 1, 1, 1, 0,\n",
       "       1, 0, 0, 1, 0, 0, 0, 0, 1, 1, 0, 0, 0, 1, 0, 0, 0], dtype=int64)"
      ]
     },
     "execution_count": 1020,
     "metadata": {},
     "output_type": "execute_result"
    }
   ],
   "source": [
    "DTC_prediction15 = best_DTC.predict(X_test[best_US_feature3])\n",
    "DTC_prediction15"
   ]
  },
  {
   "cell_type": "markdown",
   "id": "a49b529f",
   "metadata": {},
   "source": [
    "# Step 11 - Model Evaluation (With Different Cases)"
   ]
  },
  {
   "cell_type": "markdown",
   "id": "24ee2b13",
   "metadata": {},
   "source": [
    "### 1. Import library."
   ]
  },
  {
   "cell_type": "code",
   "execution_count": 1021,
   "id": "9e0655cc",
   "metadata": {},
   "outputs": [],
   "source": [
    "from sklearn.metrics import accuracy_score, precision_score, recall_score, f1_score, confusion_matrix"
   ]
  },
  {
   "cell_type": "markdown",
   "id": "638dd4ef",
   "metadata": {},
   "source": [
    "## Case 1 Information:\n",
    "**Method of Feature selection:** Correlation Matrix with Heatmap\n",
    "\n",
    "**With parameter tuning ?:** NO\n",
    "\n",
    "**Number of features:** 4\n",
    "\n",
    "**Ratio:** 80:20"
   ]
  },
  {
   "cell_type": "markdown",
   "id": "c6eb664d",
   "metadata": {},
   "source": [
    "### 1. Show the evaluation results of Case 1."
   ]
  },
  {
   "cell_type": "code",
   "execution_count": 1022,
   "id": "47d05a7c",
   "metadata": {
    "scrolled": false
   },
   "outputs": [
    {
     "name": "stdout",
     "output_type": "stream",
     "text": [
      "Case 1 - Decision Tree Evaluation Results\n",
      "=========================================\n",
      "Accuracy:  0.704918\n",
      "Precision:  0.75\n",
      "Recall:  0.65625\n",
      "F1 Score:  0.7\n",
      "Confusion matrix: \n",
      "[[22  7]\n",
      " [11 21]]\n"
     ]
    }
   ],
   "source": [
    "print(\"Case 1 - Decision Tree Evaluation Results\")\n",
    "print(\"=\" * 41)\n",
    "print(\"Accuracy: \", round(accuracy_score(y_test, DTC_prediction4), 6))\n",
    "print(\"Precision: \", round(precision_score(y_test, DTC_prediction4), 6))\n",
    "print(\"Recall: \", round(recall_score(y_test, DTC_prediction4), 6))\n",
    "print(\"F1 Score: \", round(f1_score(y_test, DTC_prediction4), 6))\n",
    "DTC_cfMatrix1 = confusion_matrix(y_test, DTC_prediction4)\n",
    "print(\"Confusion matrix: \")\n",
    "print(DTC_cfMatrix1)"
   ]
  },
  {
   "cell_type": "markdown",
   "id": "e521eccb",
   "metadata": {},
   "source": [
    "## Case 2 Information:\n",
    "**Method of Feature selection:** Correlation Matrix with Heatmap\n",
    "\n",
    "**With parameter tuning ?:** YES\n",
    "\n",
    "**Number of features:** 4\n",
    "\n",
    "**Ratio:** 80:20"
   ]
  },
  {
   "cell_type": "markdown",
   "id": "8d77b97d",
   "metadata": {},
   "source": [
    "### 1. Show the evaluation results of Case 2."
   ]
  },
  {
   "cell_type": "code",
   "execution_count": 1023,
   "id": "dfe20547",
   "metadata": {
    "scrolled": false
   },
   "outputs": [
    {
     "name": "stdout",
     "output_type": "stream",
     "text": [
      "Case 2 - Decision Tree Evaluation Results\n",
      "=========================================\n",
      "Accuracy:  0.721311\n",
      "Precision:  0.777778\n",
      "Recall:  0.65625\n",
      "F1 Score:  0.711864\n",
      "Confusion matrix: \n",
      "[[23  6]\n",
      " [11 21]]\n"
     ]
    }
   ],
   "source": [
    "print(\"Case 2 - Decision Tree Evaluation Results\")\n",
    "print(\"=\" * 41)\n",
    "print(\"Accuracy: \", round(accuracy_score(y_test, DTC_prediction5), 6))\n",
    "print(\"Precision: \", round(precision_score(y_test, DTC_prediction5), 6))\n",
    "print(\"Recall: \", round(recall_score(y_test, DTC_prediction5), 6))\n",
    "print(\"F1 Score: \", round(f1_score(y_test, DTC_prediction5), 6))\n",
    "DTC_cfMatrix2 = confusion_matrix(y_test, DTC_prediction5)\n",
    "print(\"Confusion matrix: \")\n",
    "print(DTC_cfMatrix2)"
   ]
  },
  {
   "cell_type": "markdown",
   "id": "fc61bab4",
   "metadata": {},
   "source": [
    "## Case 3 Information:\n",
    "**Method of Feature selection:** Correlation Matrix with Heatmap\n",
    "\n",
    "**With parameter tuning ?:** NO\n",
    "\n",
    "**Number of features:** 6\n",
    "\n",
    "**Ratio:** 80:20"
   ]
  },
  {
   "cell_type": "markdown",
   "id": "587b68b6",
   "metadata": {},
   "source": [
    "### 1. Show the evaluation results of Case 3."
   ]
  },
  {
   "cell_type": "code",
   "execution_count": 1024,
   "id": "f9bb2abe",
   "metadata": {
    "scrolled": false
   },
   "outputs": [
    {
     "name": "stdout",
     "output_type": "stream",
     "text": [
      "Case 3 - Decision Tree Evaluation Results\n",
      "=========================================\n",
      "Accuracy:  0.655738\n",
      "Precision:  0.72\n",
      "Recall:  0.5625\n",
      "F1 Score:  0.631579\n",
      "Confusion matrix: \n",
      "[[22  7]\n",
      " [14 18]]\n"
     ]
    }
   ],
   "source": [
    "print(\"Case 3 - Decision Tree Evaluation Results\")\n",
    "print(\"=\" * 41)\n",
    "print(\"Accuracy: \", round(accuracy_score(y_test, DTC_prediction6), 6))\n",
    "print(\"Precision: \", round(precision_score(y_test, DTC_prediction6), 6))\n",
    "print(\"Recall: \", round(recall_score(y_test, DTC_prediction6), 6))\n",
    "print(\"F1 Score: \", round(f1_score(y_test, DTC_prediction6), 6))\n",
    "DTC_cfMatrix3 = confusion_matrix(y_test, DTC_prediction6)\n",
    "print(\"Confusion matrix: \")\n",
    "print(DTC_cfMatrix3)"
   ]
  },
  {
   "cell_type": "markdown",
   "id": "01647cff",
   "metadata": {},
   "source": [
    "## Case 4 Information:\n",
    "**Method of Feature selection:** Correlation Matrix with Heatmap\n",
    "\n",
    "**With parameter tuning ?:** YES\n",
    "\n",
    "**Number of features:** 6\n",
    "\n",
    "**Ratio:** 80:20"
   ]
  },
  {
   "cell_type": "markdown",
   "id": "0b417c54",
   "metadata": {},
   "source": [
    "### 1. Show the evaluation results of Case 4."
   ]
  },
  {
   "cell_type": "code",
   "execution_count": 1025,
   "id": "64d8b877",
   "metadata": {
    "scrolled": false
   },
   "outputs": [
    {
     "name": "stdout",
     "output_type": "stream",
     "text": [
      "Case 4 - Decision Tree Evaluation Results\n",
      "=========================================\n",
      "Accuracy:  0.770492\n",
      "Precision:  0.78125\n",
      "Recall:  0.78125\n",
      "F1 Score:  0.78125\n",
      "Confusion matrix: \n",
      "[[22  7]\n",
      " [ 7 25]]\n"
     ]
    }
   ],
   "source": [
    "print(\"Case 4 - Decision Tree Evaluation Results\")\n",
    "print(\"=\" * 41)\n",
    "print(\"Accuracy: \", round(accuracy_score(y_test, DTC_prediction7), 6))\n",
    "print(\"Precision: \", round(precision_score(y_test, DTC_prediction7), 6))\n",
    "print(\"Recall: \", round(recall_score(y_test, DTC_prediction7), 6))\n",
    "print(\"F1 Score: \", round(f1_score(y_test, DTC_prediction7), 6))\n",
    "DTC_cfMatrix4 = confusion_matrix(y_test, DTC_prediction7)\n",
    "print(\"Confusion matrix: \")\n",
    "print(DTC_cfMatrix4)"
   ]
  },
  {
   "cell_type": "markdown",
   "id": "dbe589ee",
   "metadata": {},
   "source": [
    "## Case 5 Information:\n",
    "**Method of Feature selection:** Correlation Matrix with Heatmap\n",
    "\n",
    "**With parameter tuning ?:** NO\n",
    "\n",
    "**Number of features:** 8\n",
    "\n",
    "**Ratio:** 80:20"
   ]
  },
  {
   "cell_type": "markdown",
   "id": "a8865b0c",
   "metadata": {},
   "source": [
    "### 1. Show the evaluation results of Case 5."
   ]
  },
  {
   "cell_type": "code",
   "execution_count": 1026,
   "id": "3bbf25fa",
   "metadata": {
    "scrolled": false
   },
   "outputs": [
    {
     "name": "stdout",
     "output_type": "stream",
     "text": [
      "Case 5 - Decision Tree Evaluation Results\n",
      "=========================================\n",
      "Accuracy:  0.754098\n",
      "Precision:  0.774194\n",
      "Recall:  0.75\n",
      "F1 Score:  0.761905\n",
      "Confusion matrix: \n",
      "[[22  7]\n",
      " [ 8 24]]\n"
     ]
    }
   ],
   "source": [
    "print(\"Case 5 - Decision Tree Evaluation Results\")\n",
    "print(\"=\" * 41)\n",
    "print(\"Accuracy: \", round(accuracy_score(y_test, DTC_prediction8), 6))\n",
    "print(\"Precision: \", round(precision_score(y_test, DTC_prediction8), 6))\n",
    "print(\"Recall: \", round(recall_score(y_test, DTC_prediction8), 6))\n",
    "print(\"F1 Score: \", round(f1_score(y_test, DTC_prediction8), 6))\n",
    "DTC_cfMatrix5 = confusion_matrix(y_test, DTC_prediction8)\n",
    "print(\"Confusion matrix: \")\n",
    "print(DTC_cfMatrix5)"
   ]
  },
  {
   "cell_type": "markdown",
   "id": "cecc0ed8",
   "metadata": {},
   "source": [
    "## Case 6 Information:\n",
    "**Method of Feature selection:** Correlation Matrix with Heatmap\n",
    "\n",
    "**With parameter tuning ?:** YES\n",
    "\n",
    "**Number of features:** 8\n",
    "\n",
    "**Ratio:** 80:20"
   ]
  },
  {
   "cell_type": "markdown",
   "id": "14e92b37",
   "metadata": {},
   "source": [
    "### 1. Show the evaluation results of Case 6."
   ]
  },
  {
   "cell_type": "code",
   "execution_count": 1027,
   "id": "48411138",
   "metadata": {
    "scrolled": false
   },
   "outputs": [
    {
     "name": "stdout",
     "output_type": "stream",
     "text": [
      "Case 6 - Decision Tree Evaluation Results\n",
      "=========================================\n",
      "Accuracy:  0.737705\n",
      "Precision:  0.75\n",
      "Recall:  0.75\n",
      "F1 Score:  0.75\n",
      "Confusion matrix: \n",
      "[[21  8]\n",
      " [ 8 24]]\n"
     ]
    }
   ],
   "source": [
    "print(\"Case 6 - Decision Tree Evaluation Results\")\n",
    "print(\"=\" * 41)\n",
    "print(\"Accuracy: \", round(accuracy_score(y_test, DTC_prediction9), 6))\n",
    "print(\"Precision: \", round(precision_score(y_test, DTC_prediction9), 6))\n",
    "print(\"Recall: \", round(recall_score(y_test, DTC_prediction9), 6))\n",
    "print(\"F1 Score: \", round(f1_score(y_test, DTC_prediction9), 6))\n",
    "DTC_cfMatrix6 = confusion_matrix(y_test, DTC_prediction9)\n",
    "print(\"Confusion matrix: \")\n",
    "print(DTC_cfMatrix6)"
   ]
  },
  {
   "cell_type": "markdown",
   "id": "1c3d8d5f",
   "metadata": {},
   "source": [
    "## Case 7 Information:\n",
    "**Method of Feature selection:** Univariate Selection\n",
    "\n",
    "**With parameter tuning ?:** NO\n",
    "\n",
    "**Number of features:** 4\n",
    "\n",
    "**Ratio:** 80:20"
   ]
  },
  {
   "cell_type": "markdown",
   "id": "9a8004ce",
   "metadata": {},
   "source": [
    "### 1. Show the evaluation results of Case 7."
   ]
  },
  {
   "cell_type": "code",
   "execution_count": 1028,
   "id": "54a5ce73",
   "metadata": {
    "scrolled": false
   },
   "outputs": [
    {
     "name": "stdout",
     "output_type": "stream",
     "text": [
      "Case 7 - Decision Tree Evaluation Results\n",
      "=========================================\n",
      "Accuracy:  0.786885\n",
      "Precision:  0.806452\n",
      "Recall:  0.78125\n",
      "F1 Score:  0.793651\n",
      "Confusion matrix: \n",
      "[[23  6]\n",
      " [ 7 25]]\n"
     ]
    }
   ],
   "source": [
    "print(\"Case 7 - Decision Tree Evaluation Results\")\n",
    "print(\"=\" * 41)\n",
    "print(\"Accuracy: \", round(accuracy_score(y_test, DTC_prediction10), 6))\n",
    "print(\"Precision: \", round(precision_score(y_test, DTC_prediction10), 6))\n",
    "print(\"Recall: \", round(recall_score(y_test, DTC_prediction10), 6))\n",
    "print(\"F1 Score: \", round(f1_score(y_test, DTC_prediction10), 6))\n",
    "DTC_cfMatrix7 = confusion_matrix(y_test, DTC_prediction10)\n",
    "print(\"Confusion matrix: \")\n",
    "print(DTC_cfMatrix7)"
   ]
  },
  {
   "cell_type": "markdown",
   "id": "c31603cb",
   "metadata": {},
   "source": [
    "## Case 8 Information:\n",
    "**Method of Feature selection:** Univariate Selection\n",
    "\n",
    "**With parameter tuning ?:** YES\n",
    "\n",
    "**Number of features:** 4\n",
    "\n",
    "**Ratio:** 80:20"
   ]
  },
  {
   "cell_type": "markdown",
   "id": "663e3361",
   "metadata": {},
   "source": [
    "### 1. Show the evaluation results of Case 8."
   ]
  },
  {
   "cell_type": "code",
   "execution_count": 1029,
   "id": "585b47da",
   "metadata": {
    "scrolled": false
   },
   "outputs": [
    {
     "name": "stdout",
     "output_type": "stream",
     "text": [
      "Case 8 - Decision Tree Evaluation Results\n",
      "=========================================\n",
      "Accuracy:  0.803279\n",
      "Precision:  0.8125\n",
      "Recall:  0.8125\n",
      "F1 Score:  0.8125\n",
      "Confusion matrix: \n",
      "[[23  6]\n",
      " [ 6 26]]\n"
     ]
    }
   ],
   "source": [
    "print(\"Case 8 - Decision Tree Evaluation Results\")\n",
    "print(\"=\" * 41)\n",
    "print(\"Accuracy: \", round(accuracy_score(y_test, DTC_prediction11), 6))\n",
    "print(\"Precision: \", round(precision_score(y_test, DTC_prediction11), 6))\n",
    "print(\"Recall: \", round(recall_score(y_test, DTC_prediction11), 6))\n",
    "print(\"F1 Score: \", round(f1_score(y_test, DTC_prediction11), 6))\n",
    "DTC_cfMatrix8 = confusion_matrix(y_test, DTC_prediction11)\n",
    "print(\"Confusion matrix: \")\n",
    "print(DTC_cfMatrix8)"
   ]
  },
  {
   "cell_type": "markdown",
   "id": "da4c7a7f",
   "metadata": {},
   "source": [
    "## Case 9 Information:\n",
    "**Method of Feature selection:** Univariate Selection\n",
    "\n",
    "**With parameter tuning ?:** NO\n",
    "\n",
    "**Number of features:** 6\n",
    "\n",
    "**Ratio:** 80:20"
   ]
  },
  {
   "cell_type": "markdown",
   "id": "c50bf8eb",
   "metadata": {},
   "source": [
    "### 1. Show the evaluation results of Case 9."
   ]
  },
  {
   "cell_type": "code",
   "execution_count": 1030,
   "id": "2e0b25cc",
   "metadata": {
    "scrolled": false
   },
   "outputs": [
    {
     "name": "stdout",
     "output_type": "stream",
     "text": [
      "Case 9 - Decision Tree Evaluation Results\n",
      "=========================================\n",
      "Accuracy:  0.754098\n",
      "Precision:  0.814815\n",
      "Recall:  0.6875\n",
      "F1 Score:  0.745763\n",
      "Confusion matrix: \n",
      "[[24  5]\n",
      " [10 22]]\n"
     ]
    }
   ],
   "source": [
    "print(\"Case 9 - Decision Tree Evaluation Results\")\n",
    "print(\"=\" * 41)\n",
    "print(\"Accuracy: \", round(accuracy_score(y_test, DTC_prediction12), 6))\n",
    "print(\"Precision: \", round(precision_score(y_test, DTC_prediction12), 6))\n",
    "print(\"Recall: \", round(recall_score(y_test, DTC_prediction12), 6))\n",
    "print(\"F1 Score: \", round(f1_score(y_test, DTC_prediction12), 6))\n",
    "DTC_cfMatrix9 = confusion_matrix(y_test, DTC_prediction12)\n",
    "print(\"Confusion matrix: \")\n",
    "print(DTC_cfMatrix9)"
   ]
  },
  {
   "cell_type": "markdown",
   "id": "15117439",
   "metadata": {},
   "source": [
    "## Case 10 Information:\n",
    "**Method of Feature selection:** Univariate Selection\n",
    "\n",
    "**With parameter tuning ?:** YES\n",
    "\n",
    "**Number of features:** 6\n",
    "\n",
    "**Ratio:** 80:20"
   ]
  },
  {
   "cell_type": "markdown",
   "id": "365b037d",
   "metadata": {},
   "source": [
    "### 1. Show the evaluation results of Case 10."
   ]
  },
  {
   "cell_type": "code",
   "execution_count": 1031,
   "id": "652aeb75",
   "metadata": {
    "scrolled": false
   },
   "outputs": [
    {
     "name": "stdout",
     "output_type": "stream",
     "text": [
      "Case 10 - Decision Tree Evaluation Results\n",
      "==========================================\n",
      "Accuracy:  0.688525\n",
      "Precision:  0.76\n",
      "Recall:  0.59375\n",
      "F1 Score:  0.666667\n",
      "Confusion matrix: \n",
      "[[23  6]\n",
      " [13 19]]\n"
     ]
    }
   ],
   "source": [
    "print(\"Case 10 - Decision Tree Evaluation Results\")\n",
    "print(\"=\" * 42)\n",
    "print(\"Accuracy: \", round(accuracy_score(y_test, DTC_prediction13), 6))\n",
    "print(\"Precision: \", round(precision_score(y_test, DTC_prediction13), 6))\n",
    "print(\"Recall: \", round(recall_score(y_test, DTC_prediction13), 6))\n",
    "print(\"F1 Score: \", round(f1_score(y_test, DTC_prediction13), 6))\n",
    "DTC_cfMatrix10 = confusion_matrix(y_test, DTC_prediction13)\n",
    "print(\"Confusion matrix: \")\n",
    "print(DTC_cfMatrix10)"
   ]
  },
  {
   "cell_type": "markdown",
   "id": "c41fbf7a",
   "metadata": {},
   "source": [
    "## Case 11 Information:\n",
    "**Method of Feature selection:** Univariate Selection\n",
    "\n",
    "**With parameter tuning ?:** NO\n",
    "\n",
    "**Number of features:** 8\n",
    "\n",
    "**Ratio:** 80:20"
   ]
  },
  {
   "cell_type": "markdown",
   "id": "1c7cde05",
   "metadata": {},
   "source": [
    "### 1. Show the evaluation results of Case 11."
   ]
  },
  {
   "cell_type": "code",
   "execution_count": 1032,
   "id": "79ebb44d",
   "metadata": {
    "scrolled": false
   },
   "outputs": [
    {
     "name": "stdout",
     "output_type": "stream",
     "text": [
      "Case 11 - Decision Tree Evaluation Results\n",
      "==========================================\n",
      "Accuracy:  0.819672\n",
      "Precision:  0.92\n",
      "Recall:  0.71875\n",
      "F1 Score:  0.807018\n",
      "Confusion matrix: \n",
      "[[27  2]\n",
      " [ 9 23]]\n"
     ]
    }
   ],
   "source": [
    "print(\"Case 11 - Decision Tree Evaluation Results\")\n",
    "print(\"=\" * 42)\n",
    "print(\"Accuracy: \", round(accuracy_score(y_test, DTC_prediction14), 6))\n",
    "print(\"Precision: \", round(precision_score(y_test, DTC_prediction14), 6))\n",
    "print(\"Recall: \", round(recall_score(y_test, DTC_prediction14), 6))\n",
    "print(\"F1 Score: \", round(f1_score(y_test, DTC_prediction14), 6))\n",
    "DTC_cfMatrix11 = confusion_matrix(y_test, DTC_prediction14)\n",
    "print(\"Confusion matrix: \")\n",
    "print(DTC_cfMatrix11)"
   ]
  },
  {
   "cell_type": "markdown",
   "id": "d47f569a",
   "metadata": {},
   "source": [
    "## Case 12 Information:\n",
    "**Method of Feature selection:** Univariate Selection\n",
    "\n",
    "**With parameter tuning ?:** YES\n",
    "\n",
    "**Number of features:** 8\n",
    "\n",
    "**Ratio:** 80:20"
   ]
  },
  {
   "cell_type": "markdown",
   "id": "ca276777",
   "metadata": {},
   "source": [
    "### 1. Show the evaluation results of Case 12."
   ]
  },
  {
   "cell_type": "code",
   "execution_count": 1033,
   "id": "ed73760a",
   "metadata": {
    "scrolled": false
   },
   "outputs": [
    {
     "name": "stdout",
     "output_type": "stream",
     "text": [
      "Case 12 - Decision Tree Evaluation Results\n",
      "==========================================\n",
      "Accuracy:  0.852459\n",
      "Precision:  0.896552\n",
      "Recall:  0.8125\n",
      "F1 Score:  0.852459\n",
      "Confusion matrix: \n",
      "[[26  3]\n",
      " [ 6 26]]\n"
     ]
    }
   ],
   "source": [
    "print(\"Case 12 - Decision Tree Evaluation Results\")\n",
    "print(\"=\" * 42)\n",
    "print(\"Accuracy: \", round(accuracy_score(y_test, DTC_prediction15), 6))\n",
    "print(\"Precision: \", round(precision_score(y_test, DTC_prediction15), 6))\n",
    "print(\"Recall: \", round(recall_score(y_test, DTC_prediction15), 6))\n",
    "print(\"F1 Score: \", round(f1_score(y_test, DTC_prediction15), 6))\n",
    "DTC_cfMatrix12 = confusion_matrix(y_test, DTC_prediction15)\n",
    "print(\"Confusion matrix: \")\n",
    "print(DTC_cfMatrix12)"
   ]
  },
  {
   "cell_type": "markdown",
   "id": "4bf240aa",
   "metadata": {},
   "source": [
    "# Step 12 - Final Decision\n",
    "By comparing the 12 different cases, we manage to find the **most suitable case** to find the **best results** for **Decision Tree**. \n",
    "\n",
    "#### Here is the best result:\n",
    "Best case - **CASE 12**\n",
    "\n",
    "| Method of feature selection | With parameter tuning ? | Number of features | Ratio |\n",
    "| :-: | :-: | :-: | :-: |\n",
    "| Univariate Selection | YES | 8 | 80:20 |\n",
    "***\n",
    "#### The highest results that we record:\n",
    "| Accuracy | Precision | Recall | F1 Score |\n",
    "| :-: | :-: | :-: | :-: |\n",
    "| 0.852459 | 0.896552 | 0.8125 | 0.852459 |\n",
    "***\n",
    "#### Comparision between the target and prediction by showing the first 15 rows:"
   ]
  },
  {
   "cell_type": "code",
   "execution_count": 1034,
   "id": "da611272",
   "metadata": {},
   "outputs": [
    {
     "data": {
      "text/html": [
       "<div>\n",
       "<style scoped>\n",
       "    .dataframe tbody tr th:only-of-type {\n",
       "        vertical-align: middle;\n",
       "    }\n",
       "\n",
       "    .dataframe tbody tr th {\n",
       "        vertical-align: top;\n",
       "    }\n",
       "\n",
       "    .dataframe thead th {\n",
       "        text-align: right;\n",
       "    }\n",
       "</style>\n",
       "<table border=\"1\" class=\"dataframe\">\n",
       "  <thead>\n",
       "    <tr style=\"text-align: right;\">\n",
       "      <th></th>\n",
       "      <th>target</th>\n",
       "      <th>prediction</th>\n",
       "    </tr>\n",
       "  </thead>\n",
       "  <tbody>\n",
       "    <tr>\n",
       "      <th>180</th>\n",
       "      <td>0</td>\n",
       "      <td>0</td>\n",
       "    </tr>\n",
       "    <tr>\n",
       "      <th>229</th>\n",
       "      <td>0</td>\n",
       "      <td>1</td>\n",
       "    </tr>\n",
       "    <tr>\n",
       "      <th>111</th>\n",
       "      <td>1</td>\n",
       "      <td>1</td>\n",
       "    </tr>\n",
       "    <tr>\n",
       "      <th>247</th>\n",
       "      <td>0</td>\n",
       "      <td>1</td>\n",
       "    </tr>\n",
       "    <tr>\n",
       "      <th>60</th>\n",
       "      <td>1</td>\n",
       "      <td>1</td>\n",
       "    </tr>\n",
       "    <tr>\n",
       "      <th>9</th>\n",
       "      <td>1</td>\n",
       "      <td>1</td>\n",
       "    </tr>\n",
       "    <tr>\n",
       "      <th>119</th>\n",
       "      <td>1</td>\n",
       "      <td>1</td>\n",
       "    </tr>\n",
       "    <tr>\n",
       "      <th>224</th>\n",
       "      <td>0</td>\n",
       "      <td>0</td>\n",
       "    </tr>\n",
       "    <tr>\n",
       "      <th>268</th>\n",
       "      <td>0</td>\n",
       "      <td>0</td>\n",
       "    </tr>\n",
       "    <tr>\n",
       "      <th>33</th>\n",
       "      <td>1</td>\n",
       "      <td>1</td>\n",
       "    </tr>\n",
       "    <tr>\n",
       "      <th>5</th>\n",
       "      <td>1</td>\n",
       "      <td>1</td>\n",
       "    </tr>\n",
       "    <tr>\n",
       "      <th>101</th>\n",
       "      <td>1</td>\n",
       "      <td>0</td>\n",
       "    </tr>\n",
       "    <tr>\n",
       "      <th>45</th>\n",
       "      <td>1</td>\n",
       "      <td>1</td>\n",
       "    </tr>\n",
       "    <tr>\n",
       "      <th>176</th>\n",
       "      <td>0</td>\n",
       "      <td>0</td>\n",
       "    </tr>\n",
       "    <tr>\n",
       "      <th>118</th>\n",
       "      <td>1</td>\n",
       "      <td>1</td>\n",
       "    </tr>\n",
       "  </tbody>\n",
       "</table>\n",
       "</div>"
      ],
      "text/plain": [
       "     target  prediction\n",
       "180       0           0\n",
       "229       0           1\n",
       "111       1           1\n",
       "247       0           1\n",
       "60        1           1\n",
       "9         1           1\n",
       "119       1           1\n",
       "224       0           0\n",
       "268       0           0\n",
       "33        1           1\n",
       "5         1           1\n",
       "101       1           0\n",
       "45        1           1\n",
       "176       0           0\n",
       "118       1           1"
      ]
     },
     "execution_count": 1034,
     "metadata": {},
     "output_type": "execute_result"
    }
   ],
   "source": [
    "comparision = pd.DataFrame(y_test)\n",
    "comparision['prediction'] = DTC_prediction15\n",
    "comparision.head(15)"
   ]
  }
 ],
 "metadata": {
  "kernelspec": {
   "display_name": "Python 3 (ipykernel)",
   "language": "python",
   "name": "python3"
  },
  "language_info": {
   "codemirror_mode": {
    "name": "ipython",
    "version": 3
   },
   "file_extension": ".py",
   "mimetype": "text/x-python",
   "name": "python",
   "nbconvert_exporter": "python",
   "pygments_lexer": "ipython3",
   "version": "3.10.9"
  }
 },
 "nbformat": 4,
 "nbformat_minor": 5
}
